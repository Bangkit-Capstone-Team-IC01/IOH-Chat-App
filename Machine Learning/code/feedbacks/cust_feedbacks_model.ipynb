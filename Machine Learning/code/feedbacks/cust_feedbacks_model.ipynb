{
  "nbformat": 4,
  "nbformat_minor": 0,
  "metadata": {
    "colab": {
      "name": "cust_feedbacks_model.ipynb",
      "provenance": [],
      "collapsed_sections": []
    },
    "kernelspec": {
      "name": "python3",
      "display_name": "Python 3"
    },
    "language_info": {
      "name": "python"
    }
  },
  "cells": [
    {
      "cell_type": "markdown",
      "source": [
        "# **Importing Libraries**"
      ],
      "metadata": {
        "id": "Q9_UTI7p4pGg"
      }
    },
    {
      "cell_type": "code",
      "source": [
        "import numpy as np\n",
        "import pandas as pd\n",
        "import seaborn as sns\n",
        "\n",
        "import tensorflow as tf\n",
        "import tensorflow_hub as hub\n",
        "\n",
        "import matplotlib.pyplot as plt\n",
        "\n",
        "#for text pre-processing\n",
        "import re, string\n",
        "import nltk\n",
        "from nltk.tokenize import word_tokenize\n",
        "from nltk.corpus import stopwords\n",
        "from nltk.tokenize import word_tokenize\n",
        "from nltk.stem import SnowballStemmer\n",
        "from nltk.corpus import wordnet\n",
        "from nltk.stem import WordNetLemmatizer\n",
        "nltk.download('stopwords')\n",
        "nltk.download('punkt')\n",
        "nltk.download('averaged_perceptron_tagger')\n",
        "nltk.download('wordnet')\n",
        "\n",
        "#for model-building\n",
        "from sklearn.model_selection import train_test_split\n",
        "from sklearn.linear_model import LogisticRegression\n",
        "from sklearn.naive_bayes import MultinomialNB\n",
        "from sklearn.metrics import classification_report, f1_score, accuracy_score, confusion_matrix\n",
        "from sklearn.metrics import roc_curve, auc, roc_auc_score\n",
        "\n",
        "# bag of words\n",
        "from sklearn.feature_extraction.text import TfidfVectorizer\n",
        "from sklearn.feature_extraction.text import CountVectorizer\n",
        "\n",
        "#for word embedding\n",
        "import gensim\n",
        "from gensim.models import Word2Vec\n"
      ],
      "metadata": {
        "colab": {
          "base_uri": "https://localhost:8080/"
        },
        "id": "Dx-wHDxJ4shl",
        "outputId": "2f4a334d-3712-4cfa-fc4f-dce340d0e9ad"
      },
      "execution_count": 209,
      "outputs": [
        {
          "output_type": "stream",
          "name": "stdout",
          "text": [
            "[nltk_data] Downloading package stopwords to /root/nltk_data...\n",
            "[nltk_data]   Package stopwords is already up-to-date!\n",
            "[nltk_data] Downloading package punkt to /root/nltk_data...\n",
            "[nltk_data]   Package punkt is already up-to-date!\n",
            "[nltk_data] Downloading package averaged_perceptron_tagger to\n",
            "[nltk_data]     /root/nltk_data...\n",
            "[nltk_data]   Package averaged_perceptron_tagger is already up-to-\n",
            "[nltk_data]       date!\n",
            "[nltk_data] Downloading package wordnet to /root/nltk_data...\n",
            "[nltk_data]   Package wordnet is already up-to-date!\n"
          ]
        }
      ]
    },
    {
      "cell_type": "markdown",
      "source": [
        "# **Importing Dataset**"
      ],
      "metadata": {
        "id": "7c7skk_7BJfd"
      }
    },
    {
      "cell_type": "code",
      "source": [
        "#panggil dataset yang telah disimpan di Google Drive pribadi\n",
        "from google.colab import drive\n",
        "drive.mount('/content/drive')"
      ],
      "metadata": {
        "colab": {
          "base_uri": "https://localhost:8080/"
        },
        "id": "v3o3KR5o4_i8",
        "outputId": "e9ef8102-0e3a-413a-9f07-be2e8350c932"
      },
      "execution_count": 210,
      "outputs": [
        {
          "output_type": "stream",
          "name": "stdout",
          "text": [
            "Drive already mounted at /content/drive; to attempt to forcibly remount, call drive.mount(\"/content/drive\", force_remount=True).\n"
          ]
        }
      ]
    },
    {
      "cell_type": "code",
      "source": [
        "#explore the dataset\n",
        "df = pd.read_excel('/content/drive/MyDrive/Pribadi/data_feedbacks.xlsx')\n",
        "df"
      ],
      "metadata": {
        "colab": {
          "base_uri": "https://localhost:8080/",
          "height": 424
        },
        "id": "vi4DSoHD5RcA",
        "outputId": "bc3907c9-f08f-46b7-f45b-78ae470d5181"
      },
      "execution_count": 211,
      "outputs": [
        {
          "output_type": "execute_result",
          "data": {
            "text/plain": [
              "     label                                             ulasan\n",
              "0        1  Secara keseluruhan saya menyukai aplikasi ini,...\n",
              "1        1    sebenarnya adalah aplikasi yang sangat bagus...\n",
              "2        1  Jujur luar biasa. Saya menganggap ini platform...\n",
              "3        1  Saya beri 4 bintang karena versi PC memiliki f...\n",
              "4        0  1. Autoscroll ke bawah tidak dapat dinonaktifk...\n",
              "..     ...                                                ...\n",
              "195      1  Terima kasih telah memperhatikan pengguna Inte...\n",
              "196      0  Performa yang sangat tidak dapat diandalkan un...\n",
              "197      0  Dibandingkan dengan  : hanya 2 bintang! Sangat...\n",
              "198      0  Setelah update terbaru,   terus berpindah fold...\n",
              "199      0  Banyak kekurangannya, selama ini saya merasa m...\n",
              "\n",
              "[200 rows x 2 columns]"
            ],
            "text/html": [
              "\n",
              "  <div id=\"df-c50ef510-776b-4eb0-b625-1aea78dd9419\">\n",
              "    <div class=\"colab-df-container\">\n",
              "      <div>\n",
              "<style scoped>\n",
              "    .dataframe tbody tr th:only-of-type {\n",
              "        vertical-align: middle;\n",
              "    }\n",
              "\n",
              "    .dataframe tbody tr th {\n",
              "        vertical-align: top;\n",
              "    }\n",
              "\n",
              "    .dataframe thead th {\n",
              "        text-align: right;\n",
              "    }\n",
              "</style>\n",
              "<table border=\"1\" class=\"dataframe\">\n",
              "  <thead>\n",
              "    <tr style=\"text-align: right;\">\n",
              "      <th></th>\n",
              "      <th>label</th>\n",
              "      <th>ulasan</th>\n",
              "    </tr>\n",
              "  </thead>\n",
              "  <tbody>\n",
              "    <tr>\n",
              "      <th>0</th>\n",
              "      <td>1</td>\n",
              "      <td>Secara keseluruhan saya menyukai aplikasi ini,...</td>\n",
              "    </tr>\n",
              "    <tr>\n",
              "      <th>1</th>\n",
              "      <td>1</td>\n",
              "      <td>sebenarnya adalah aplikasi yang sangat bagus...</td>\n",
              "    </tr>\n",
              "    <tr>\n",
              "      <th>2</th>\n",
              "      <td>1</td>\n",
              "      <td>Jujur luar biasa. Saya menganggap ini platform...</td>\n",
              "    </tr>\n",
              "    <tr>\n",
              "      <th>3</th>\n",
              "      <td>1</td>\n",
              "      <td>Saya beri 4 bintang karena versi PC memiliki f...</td>\n",
              "    </tr>\n",
              "    <tr>\n",
              "      <th>4</th>\n",
              "      <td>0</td>\n",
              "      <td>1. Autoscroll ke bawah tidak dapat dinonaktifk...</td>\n",
              "    </tr>\n",
              "    <tr>\n",
              "      <th>...</th>\n",
              "      <td>...</td>\n",
              "      <td>...</td>\n",
              "    </tr>\n",
              "    <tr>\n",
              "      <th>195</th>\n",
              "      <td>1</td>\n",
              "      <td>Terima kasih telah memperhatikan pengguna Inte...</td>\n",
              "    </tr>\n",
              "    <tr>\n",
              "      <th>196</th>\n",
              "      <td>0</td>\n",
              "      <td>Performa yang sangat tidak dapat diandalkan un...</td>\n",
              "    </tr>\n",
              "    <tr>\n",
              "      <th>197</th>\n",
              "      <td>0</td>\n",
              "      <td>Dibandingkan dengan  : hanya 2 bintang! Sangat...</td>\n",
              "    </tr>\n",
              "    <tr>\n",
              "      <th>198</th>\n",
              "      <td>0</td>\n",
              "      <td>Setelah update terbaru,   terus berpindah fold...</td>\n",
              "    </tr>\n",
              "    <tr>\n",
              "      <th>199</th>\n",
              "      <td>0</td>\n",
              "      <td>Banyak kekurangannya, selama ini saya merasa m...</td>\n",
              "    </tr>\n",
              "  </tbody>\n",
              "</table>\n",
              "<p>200 rows × 2 columns</p>\n",
              "</div>\n",
              "      <button class=\"colab-df-convert\" onclick=\"convertToInteractive('df-c50ef510-776b-4eb0-b625-1aea78dd9419')\"\n",
              "              title=\"Convert this dataframe to an interactive table.\"\n",
              "              style=\"display:none;\">\n",
              "        \n",
              "  <svg xmlns=\"http://www.w3.org/2000/svg\" height=\"24px\"viewBox=\"0 0 24 24\"\n",
              "       width=\"24px\">\n",
              "    <path d=\"M0 0h24v24H0V0z\" fill=\"none\"/>\n",
              "    <path d=\"M18.56 5.44l.94 2.06.94-2.06 2.06-.94-2.06-.94-.94-2.06-.94 2.06-2.06.94zm-11 1L8.5 8.5l.94-2.06 2.06-.94-2.06-.94L8.5 2.5l-.94 2.06-2.06.94zm10 10l.94 2.06.94-2.06 2.06-.94-2.06-.94-.94-2.06-.94 2.06-2.06.94z\"/><path d=\"M17.41 7.96l-1.37-1.37c-.4-.4-.92-.59-1.43-.59-.52 0-1.04.2-1.43.59L10.3 9.45l-7.72 7.72c-.78.78-.78 2.05 0 2.83L4 21.41c.39.39.9.59 1.41.59.51 0 1.02-.2 1.41-.59l7.78-7.78 2.81-2.81c.8-.78.8-2.07 0-2.86zM5.41 20L4 18.59l7.72-7.72 1.47 1.35L5.41 20z\"/>\n",
              "  </svg>\n",
              "      </button>\n",
              "      \n",
              "  <style>\n",
              "    .colab-df-container {\n",
              "      display:flex;\n",
              "      flex-wrap:wrap;\n",
              "      gap: 12px;\n",
              "    }\n",
              "\n",
              "    .colab-df-convert {\n",
              "      background-color: #E8F0FE;\n",
              "      border: none;\n",
              "      border-radius: 50%;\n",
              "      cursor: pointer;\n",
              "      display: none;\n",
              "      fill: #1967D2;\n",
              "      height: 32px;\n",
              "      padding: 0 0 0 0;\n",
              "      width: 32px;\n",
              "    }\n",
              "\n",
              "    .colab-df-convert:hover {\n",
              "      background-color: #E2EBFA;\n",
              "      box-shadow: 0px 1px 2px rgba(60, 64, 67, 0.3), 0px 1px 3px 1px rgba(60, 64, 67, 0.15);\n",
              "      fill: #174EA6;\n",
              "    }\n",
              "\n",
              "    [theme=dark] .colab-df-convert {\n",
              "      background-color: #3B4455;\n",
              "      fill: #D2E3FC;\n",
              "    }\n",
              "\n",
              "    [theme=dark] .colab-df-convert:hover {\n",
              "      background-color: #434B5C;\n",
              "      box-shadow: 0px 1px 3px 1px rgba(0, 0, 0, 0.15);\n",
              "      filter: drop-shadow(0px 1px 2px rgba(0, 0, 0, 0.3));\n",
              "      fill: #FFFFFF;\n",
              "    }\n",
              "  </style>\n",
              "\n",
              "      <script>\n",
              "        const buttonEl =\n",
              "          document.querySelector('#df-c50ef510-776b-4eb0-b625-1aea78dd9419 button.colab-df-convert');\n",
              "        buttonEl.style.display =\n",
              "          google.colab.kernel.accessAllowed ? 'block' : 'none';\n",
              "\n",
              "        async function convertToInteractive(key) {\n",
              "          const element = document.querySelector('#df-c50ef510-776b-4eb0-b625-1aea78dd9419');\n",
              "          const dataTable =\n",
              "            await google.colab.kernel.invokeFunction('convertToInteractive',\n",
              "                                                     [key], {});\n",
              "          if (!dataTable) return;\n",
              "\n",
              "          const docLinkHtml = 'Like what you see? Visit the ' +\n",
              "            '<a target=\"_blank\" href=https://colab.research.google.com/notebooks/data_table.ipynb>data table notebook</a>'\n",
              "            + ' to learn more about interactive tables.';\n",
              "          element.innerHTML = '';\n",
              "          dataTable['output_type'] = 'display_data';\n",
              "          await google.colab.output.renderOutput(dataTable, element);\n",
              "          const docLink = document.createElement('div');\n",
              "          docLink.innerHTML = docLinkHtml;\n",
              "          element.appendChild(docLink);\n",
              "        }\n",
              "      </script>\n",
              "    </div>\n",
              "  </div>\n",
              "  "
            ]
          },
          "metadata": {},
          "execution_count": 211
        }
      ]
    },
    {
      "cell_type": "code",
      "source": [
        "x=df['label'].value_counts()\n",
        "print(x)\n",
        "sns.barplot(x.index,x)"
      ],
      "metadata": {
        "colab": {
          "base_uri": "https://localhost:8080/",
          "height": 389
        },
        "id": "VBjkJEVb8SwB",
        "outputId": "2e3cbbff-f9d0-4c71-ae88-88106729e8db"
      },
      "execution_count": 212,
      "outputs": [
        {
          "output_type": "stream",
          "name": "stdout",
          "text": [
            "1    103\n",
            "0     97\n",
            "Name: label, dtype: int64\n"
          ]
        },
        {
          "output_type": "stream",
          "name": "stderr",
          "text": [
            "/usr/local/lib/python3.7/dist-packages/seaborn/_decorators.py:43: FutureWarning: Pass the following variables as keyword args: x, y. From version 0.12, the only valid positional argument will be `data`, and passing other arguments without an explicit keyword will result in an error or misinterpretation.\n",
            "  FutureWarning\n"
          ]
        },
        {
          "output_type": "execute_result",
          "data": {
            "text/plain": [
              "<matplotlib.axes._subplots.AxesSubplot at 0x7f8a4805c6d0>"
            ]
          },
          "metadata": {},
          "execution_count": 212
        },
        {
          "output_type": "display_data",
          "data": {
            "text/plain": [
              "<Figure size 432x288 with 1 Axes>"
            ],
            "image/png": "[encoded data removed]"
          },
          "metadata": {
            "needs_background": "light"
          }
        }
      ]
    },
    {
      "cell_type": "code",
      "source": [
        "df.isna().sum()"
      ],
      "metadata": {
        "colab": {
          "base_uri": "https://localhost:8080/"
        },
        "id": "oR0h-tJVMF7l",
        "outputId": "f017519c-a9c1-4786-f1b0-fbd6ad0c159b"
      },
      "execution_count": 213,
      "outputs": [
        {
          "output_type": "execute_result",
          "data": {
            "text/plain": [
              "label     0\n",
              "ulasan    0\n",
              "dtype: int64"
            ]
          },
          "metadata": {},
          "execution_count": 213
        }
      ]
    },
    {
      "cell_type": "code",
      "source": [
        "df['word_count'] = df['ulasan'].apply(lambda x: len(str(x).split()))\n",
        "print(df[df['label']==1]['word_count'].mean()) #Positive feedbacks\n",
        "print(df[df['label']==0]['word_count'].mean()) #Negative feedbacks"
      ],
      "metadata": {
        "colab": {
          "base_uri": "https://localhost:8080/"
        },
        "id": "ZUH9wbClMNb6",
        "outputId": "78881d57-8d90-4bde-c159-01df39c61754"
      },
      "execution_count": 214,
      "outputs": [
        {
          "output_type": "stream",
          "name": "stdout",
          "text": [
            "51.96116504854369\n",
            "50.02061855670103\n"
          ]
        }
      ]
    },
    {
      "cell_type": "code",
      "source": [
        "# PLOTTING WORD-COUNT\n",
        "fig,(ax1,ax2)=plt.subplots(1,2,figsize=(10,4))\n",
        "train_words=df[df['label']==1]['word_count']\n",
        "ax1.hist(train_words,color='green')\n",
        "ax1.set_title('Positive feedbacks')\n",
        "train_words=df[df['label']==0]['word_count']\n",
        "ax2.hist(train_words,color='red')\n",
        "ax2.set_title('Negative feedbacks')\n",
        "fig.suptitle('Words per feedbacks')\n",
        "plt.show()"
      ],
      "metadata": {
        "colab": {
          "base_uri": "https://localhost:8080/",
          "height": 294
        },
        "id": "NG6W_nzaMcDT",
        "outputId": "951665f2-603b-45e7-b32c-b7addb56fe54"
      },
      "execution_count": 215,
      "outputs": [
        {
          "output_type": "display_data",
          "data": {
            "text/plain": [
              "<Figure size 720x288 with 2 Axes>"
            ],
            "image/png": "[encoded data removed]"
          },
          "metadata": {
            "needs_background": "light"
          }
        }
      ]
    },
    {
      "cell_type": "code",
      "source": [
        "# CHARACTER-COUNT\n",
        "df['char_count'] = df['ulasan'].apply(lambda x: len(str(x)))\n",
        "print(df[df['label']==1]['char_count'].mean()) #Positive feedbacks\n",
        "print(df[df['label']==0]['char_count'].mean()) #Negative feedbacks"
      ],
      "metadata": {
        "colab": {
          "base_uri": "https://localhost:8080/"
        },
        "id": "LCR8ynRUM1RN",
        "outputId": "b54baf9c-6011-422c-a5ef-e02d5bd757ee"
      },
      "execution_count": 216,
      "outputs": [
        {
          "output_type": "stream",
          "name": "stdout",
          "text": [
            "355.9611650485437\n",
            "351.54639175257734\n"
          ]
        }
      ]
    },
    {
      "cell_type": "markdown",
      "source": [
        "# **Data Cleaning**"
      ],
      "metadata": {
        "id": "XvHq0OCqBQBT"
      }
    },
    {
      "cell_type": "markdown",
      "source": [
        "## **Preprocessing**"
      ],
      "metadata": {
        "id": "o7BjiRRjNJCz"
      }
    },
    {
      "cell_type": "code",
      "source": [
        "#convert to lowercase, strip and remove punctuations\n",
        "def preprocess(ulasan):\n",
        "    ulasan = ulasan.lower() \n",
        "    ulasan = ulasan.strip()  \n",
        "    ulasan = re.compile('<.*?>').sub('', ulasan) \n",
        "    ulasan = re.compile('[%s]' % re.escape(string.punctuation)).sub(' ', ulasan)  \n",
        "    ulasan = re.sub('\\s+', ' ', ulasan)  \n",
        "    ulasan = re.sub(r'\\[[0-9]*\\]',' ',ulasan) \n",
        "    ulasan = re.sub(r'[^\\w\\s]', '', str(ulasan).lower().strip())\n",
        "    ulasan = re.sub(r'\\d',' ',ulasan) \n",
        "    ulasan = re.sub(r'\\s+',' ',ulasan) \n",
        "    return ulasan"
      ],
      "metadata": {
        "id": "mKn8RPCoNMQo"
      },
      "execution_count": 217,
      "outputs": []
    },
    {
      "cell_type": "code",
      "source": [
        "# STOPWORD REMOVAL\n",
        "def stopword(string):\n",
        "    a= [i for i in string.split() if i not in stopwords.words('english')]\n",
        "    return ' '.join(a)"
      ],
      "metadata": {
        "id": "rjiaRH6aNZhw"
      },
      "execution_count": 218,
      "outputs": []
    },
    {
      "cell_type": "code",
      "source": [
        "# Initialize the lemmatizer\n",
        "wl = WordNetLemmatizer()\n",
        " \n",
        "# This is a helper function to map NTLK position tags\n",
        "def get_wordnet_pos(tag):\n",
        "    if tag.startswith('J'):\n",
        "        return wordnet.ADJ\n",
        "    elif tag.startswith('V'):\n",
        "        return wordnet.VERB\n",
        "    elif tag.startswith('N'):\n",
        "        return wordnet.NOUN\n",
        "    elif tag.startswith('R'):\n",
        "        return wordnet.ADV\n",
        "    else:\n",
        "        return wordnet.NOUN\n",
        "# Tokenize the sentence\n",
        "def lemmatizer(string):\n",
        "    word_pos_tags = nltk.pos_tag(word_tokenize(string)) # Get position tags\n",
        "    a=[wl.lemmatize(tag[0], get_wordnet_pos(tag[1])) for idx, tag in enumerate(word_pos_tags)] # Map the position tag and lemmatize the word/token\n",
        "    return \" \".join(a)"
      ],
      "metadata": {
        "id": "lAMOEMX-NdsD"
      },
      "execution_count": 219,
      "outputs": []
    },
    {
      "cell_type": "markdown",
      "source": [
        "# **Final Preprocessing**"
      ],
      "metadata": {
        "id": "8MBLnHRBOl87"
      }
    },
    {
      "cell_type": "code",
      "source": [
        "def finalpreprocess(string):\n",
        "    return lemmatizer(stopword(preprocess(string)))"
      ],
      "metadata": {
        "id": "LOszJHZPOk5l"
      },
      "execution_count": 220,
      "outputs": []
    },
    {
      "cell_type": "code",
      "source": [
        "df['clean_text'] = df['ulasan'].apply(lambda x: finalpreprocess(x))\n",
        "df.head()"
      ],
      "metadata": {
        "colab": {
          "base_uri": "https://localhost:8080/",
          "height": 206
        },
        "id": "TjXkBmUHHQgq",
        "outputId": "18cf58d3-934c-4bd2-9f53-132a0befcca2"
      },
      "execution_count": 221,
      "outputs": [
        {
          "output_type": "execute_result",
          "data": {
            "text/plain": [
              "   label                                             ulasan  word_count  \\\n",
              "0      1  Secara keseluruhan saya menyukai aplikasi ini,...          53   \n",
              "1      1    sebenarnya adalah aplikasi yang sangat bagus...          58   \n",
              "2      1  Jujur luar biasa. Saya menganggap ini platform...          48   \n",
              "3      1  Saya beri 4 bintang karena versi PC memiliki f...          50   \n",
              "4      0  1. Autoscroll ke bawah tidak dapat dinonaktifk...          48   \n",
              "\n",
              "   char_count                                         clean_text  \n",
              "0         385  secara keseluruhan saya menyukai aplikasi ini ...  \n",
              "1         403  sebenarnya adalah aplikasi yang sangat bagus d...  \n",
              "2         346  jujur luar biasa saya menganggap ini platform ...  \n",
              "3         319  saya beri bintang karena versi pc memiliki fit...  \n",
              "4         325  autoscroll ke bawah tidak dapat dinonaktifkan ...  "
            ],
            "text/html": [
              "\n",
              "  <div id=\"df-980589e5-f09e-4edb-9acc-5e0bba0b70a5\">\n",
              "    <div class=\"colab-df-container\">\n",
              "      <div>\n",
              "<style scoped>\n",
              "    .dataframe tbody tr th:only-of-type {\n",
              "        vertical-align: middle;\n",
              "    }\n",
              "\n",
              "    .dataframe tbody tr th {\n",
              "        vertical-align: top;\n",
              "    }\n",
              "\n",
              "    .dataframe thead th {\n",
              "        text-align: right;\n",
              "    }\n",
              "</style>\n",
              "<table border=\"1\" class=\"dataframe\">\n",
              "  <thead>\n",
              "    <tr style=\"text-align: right;\">\n",
              "      <th></th>\n",
              "      <th>label</th>\n",
              "      <th>ulasan</th>\n",
              "      <th>word_count</th>\n",
              "      <th>char_count</th>\n",
              "      <th>clean_text</th>\n",
              "    </tr>\n",
              "  </thead>\n",
              "  <tbody>\n",
              "    <tr>\n",
              "      <th>0</th>\n",
              "      <td>1</td>\n",
              "      <td>Secara keseluruhan saya menyukai aplikasi ini,...</td>\n",
              "      <td>53</td>\n",
              "      <td>385</td>\n",
              "      <td>secara keseluruhan saya menyukai aplikasi ini ...</td>\n",
              "    </tr>\n",
              "    <tr>\n",
              "      <th>1</th>\n",
              "      <td>1</td>\n",
              "      <td>sebenarnya adalah aplikasi yang sangat bagus...</td>\n",
              "      <td>58</td>\n",
              "      <td>403</td>\n",
              "      <td>sebenarnya adalah aplikasi yang sangat bagus d...</td>\n",
              "    </tr>\n",
              "    <tr>\n",
              "      <th>2</th>\n",
              "      <td>1</td>\n",
              "      <td>Jujur luar biasa. Saya menganggap ini platform...</td>\n",
              "      <td>48</td>\n",
              "      <td>346</td>\n",
              "      <td>jujur luar biasa saya menganggap ini platform ...</td>\n",
              "    </tr>\n",
              "    <tr>\n",
              "      <th>3</th>\n",
              "      <td>1</td>\n",
              "      <td>Saya beri 4 bintang karena versi PC memiliki f...</td>\n",
              "      <td>50</td>\n",
              "      <td>319</td>\n",
              "      <td>saya beri bintang karena versi pc memiliki fit...</td>\n",
              "    </tr>\n",
              "    <tr>\n",
              "      <th>4</th>\n",
              "      <td>0</td>\n",
              "      <td>1. Autoscroll ke bawah tidak dapat dinonaktifk...</td>\n",
              "      <td>48</td>\n",
              "      <td>325</td>\n",
              "      <td>autoscroll ke bawah tidak dapat dinonaktifkan ...</td>\n",
              "    </tr>\n",
              "  </tbody>\n",
              "</table>\n",
              "</div>\n",
              "      <button class=\"colab-df-convert\" onclick=\"convertToInteractive('df-980589e5-f09e-4edb-9acc-5e0bba0b70a5')\"\n",
              "              title=\"Convert this dataframe to an interactive table.\"\n",
              "              style=\"display:none;\">\n",
              "        \n",
              "  <svg xmlns=\"http://www.w3.org/2000/svg\" height=\"24px\"viewBox=\"0 0 24 24\"\n",
              "       width=\"24px\">\n",
              "    <path d=\"M0 0h24v24H0V0z\" fill=\"none\"/>\n",
              "    <path d=\"M18.56 5.44l.94 2.06.94-2.06 2.06-.94-2.06-.94-.94-2.06-.94 2.06-2.06.94zm-11 1L8.5 8.5l.94-2.06 2.06-.94-2.06-.94L8.5 2.5l-.94 2.06-2.06.94zm10 10l.94 2.06.94-2.06 2.06-.94-2.06-.94-.94-2.06-.94 2.06-2.06.94z\"/><path d=\"M17.41 7.96l-1.37-1.37c-.4-.4-.92-.59-1.43-.59-.52 0-1.04.2-1.43.59L10.3 9.45l-7.72 7.72c-.78.78-.78 2.05 0 2.83L4 21.41c.39.39.9.59 1.41.59.51 0 1.02-.2 1.41-.59l7.78-7.78 2.81-2.81c.8-.78.8-2.07 0-2.86zM5.41 20L4 18.59l7.72-7.72 1.47 1.35L5.41 20z\"/>\n",
              "  </svg>\n",
              "      </button>\n",
              "      \n",
              "  <style>\n",
              "    .colab-df-container {\n",
              "      display:flex;\n",
              "      flex-wrap:wrap;\n",
              "      gap: 12px;\n",
              "    }\n",
              "\n",
              "    .colab-df-convert {\n",
              "      background-color: #E8F0FE;\n",
              "      border: none;\n",
              "      border-radius: 50%;\n",
              "      cursor: pointer;\n",
              "      display: none;\n",
              "      fill: #1967D2;\n",
              "      height: 32px;\n",
              "      padding: 0 0 0 0;\n",
              "      width: 32px;\n",
              "    }\n",
              "\n",
              "    .colab-df-convert:hover {\n",
              "      background-color: #E2EBFA;\n",
              "      box-shadow: 0px 1px 2px rgba(60, 64, 67, 0.3), 0px 1px 3px 1px rgba(60, 64, 67, 0.15);\n",
              "      fill: #174EA6;\n",
              "    }\n",
              "\n",
              "    [theme=dark] .colab-df-convert {\n",
              "      background-color: #3B4455;\n",
              "      fill: #D2E3FC;\n",
              "    }\n",
              "\n",
              "    [theme=dark] .colab-df-convert:hover {\n",
              "      background-color: #434B5C;\n",
              "      box-shadow: 0px 1px 3px 1px rgba(0, 0, 0, 0.15);\n",
              "      filter: drop-shadow(0px 1px 2px rgba(0, 0, 0, 0.3));\n",
              "      fill: #FFFFFF;\n",
              "    }\n",
              "  </style>\n",
              "\n",
              "      <script>\n",
              "        const buttonEl =\n",
              "          document.querySelector('#df-980589e5-f09e-4edb-9acc-5e0bba0b70a5 button.colab-df-convert');\n",
              "        buttonEl.style.display =\n",
              "          google.colab.kernel.accessAllowed ? 'block' : 'none';\n",
              "\n",
              "        async function convertToInteractive(key) {\n",
              "          const element = document.querySelector('#df-980589e5-f09e-4edb-9acc-5e0bba0b70a5');\n",
              "          const dataTable =\n",
              "            await google.colab.kernel.invokeFunction('convertToInteractive',\n",
              "                                                     [key], {});\n",
              "          if (!dataTable) return;\n",
              "\n",
              "          const docLinkHtml = 'Like what you see? Visit the ' +\n",
              "            '<a target=\"_blank\" href=https://colab.research.google.com/notebooks/data_table.ipynb>data table notebook</a>'\n",
              "            + ' to learn more about interactive tables.';\n",
              "          element.innerHTML = '';\n",
              "          dataTable['output_type'] = 'display_data';\n",
              "          await google.colab.output.renderOutput(dataTable, element);\n",
              "          const docLink = document.createElement('div');\n",
              "          docLink.innerHTML = docLinkHtml;\n",
              "          element.appendChild(docLink);\n",
              "        }\n",
              "      </script>\n",
              "    </div>\n",
              "  </div>\n",
              "  "
            ]
          },
          "metadata": {},
          "execution_count": 221
        }
      ]
    },
    {
      "cell_type": "code",
      "source": [
        "X=df['ulasan'].values"
      ],
      "metadata": {
        "id": "GAWbNIFtGr-G"
      },
      "execution_count": 222,
      "outputs": []
    },
    {
      "cell_type": "code",
      "source": [
        "Y=df['label'].values"
      ],
      "metadata": {
        "id": "qdqD4KlcGveG"
      },
      "execution_count": 223,
      "outputs": []
    },
    {
      "cell_type": "code",
      "source": [
        "#SPLITTING THE TRAINING DATASET INTO TRAIN AND TEST\n",
        "X_train, X_test, Y_train, Y_test = train_test_split(X,Y,test_size=0.2,shuffle=True)"
      ],
      "metadata": {
        "id": "fn6iM1UbN_Ok"
      },
      "execution_count": 224,
      "outputs": []
    },
    {
      "cell_type": "markdown",
      "source": [
        "# **Count Vectorizer**"
      ],
      "metadata": {
        "id": "r6xHlqaQC8qt"
      }
    },
    {
      "cell_type": "code",
      "source": [
        "vec = CountVectorizer()"
      ],
      "metadata": {
        "id": "OCMaWxDNCn-c"
      },
      "execution_count": 225,
      "outputs": []
    },
    {
      "cell_type": "code",
      "source": [
        "vec.fit(X_train)"
      ],
      "metadata": {
        "colab": {
          "base_uri": "https://localhost:8080/"
        },
        "id": "fMcI5kL2Ewqp",
        "outputId": "131e02c7-f0cf-450f-96d3-3f522596090f"
      },
      "execution_count": 226,
      "outputs": [
        {
          "output_type": "execute_result",
          "data": {
            "text/plain": [
              "CountVectorizer()"
            ]
          },
          "metadata": {},
          "execution_count": 226
        }
      ]
    },
    {
      "cell_type": "code",
      "source": [
        "x_train=vec.transform(X_train)"
      ],
      "metadata": {
        "id": "VefoRNkAEx3d"
      },
      "execution_count": 227,
      "outputs": []
    },
    {
      "cell_type": "code",
      "source": [
        "x_test=vec.transform(X_test)"
      ],
      "metadata": {
        "id": "S1ClZEP2E1Du"
      },
      "execution_count": 228,
      "outputs": []
    },
    {
      "cell_type": "code",
      "source": [
        "x_train"
      ],
      "metadata": {
        "colab": {
          "base_uri": "https://localhost:8080/"
        },
        "id": "9C2ubpGsGFbb",
        "outputId": "f4566046-84d2-4a3a-9417-91b60b0e8462"
      },
      "execution_count": 229,
      "outputs": [
        {
          "output_type": "execute_result",
          "data": {
            "text/plain": [
              "<160x1306 sparse matrix of type '<class 'numpy.int64'>'\n",
              "\twith 6429 stored elements in Compressed Sparse Row format>"
            ]
          },
          "metadata": {},
          "execution_count": 229
        }
      ]
    },
    {
      "cell_type": "code",
      "source": [
        "from tensorflow.keras.models import Sequential\n",
        "from tensorflow.keras.layers import Dense\n",
        "from tensorflow.keras.optimizers import Adam\n",
        "model = Sequential()\n",
        "model.add(Dense(16, input_dim=x_train.shape[1], activation='relu'))\n",
        "model.add(Dense(16, activation='relu'))\n",
        "model.add(Dense(1, activation='sigmoid'))\n",
        "model.compile(loss='binary_crossentropy',optimizer='Adam',metrics=['accuracy'])"
      ],
      "metadata": {
        "id": "IgWTAt7QOH-F"
      },
      "execution_count": 230,
      "outputs": []
    },
    {
      "cell_type": "code",
      "source": [
        "model.summary()"
      ],
      "metadata": {
        "colab": {
          "base_uri": "https://localhost:8080/"
        },
        "id": "Z2VREjkwE8TZ",
        "outputId": "8d13299c-2700-4ad9-e495-a07ad7dd0f17"
      },
      "execution_count": 231,
      "outputs": [
        {
          "output_type": "stream",
          "name": "stdout",
          "text": [
            "Model: \"sequential_12\"\n",
            "_________________________________________________________________\n",
            " Layer (type)                Output Shape              Param #   \n",
            "=================================================================\n",
            " dense_36 (Dense)            (None, 16)                20912     \n",
            "                                                                 \n",
            " dense_37 (Dense)            (None, 16)                272       \n",
            "                                                                 \n",
            " dense_38 (Dense)            (None, 1)                 17        \n",
            "                                                                 \n",
            "=================================================================\n",
            "Total params: 21,201\n",
            "Trainable params: 21,201\n",
            "Non-trainable params: 0\n",
            "_________________________________________________________________\n"
          ]
        }
      ]
    },
    {
      "cell_type": "code",
      "source": [
        "history = model.fit(x_train, Y_train,epochs=100,verbose=True,batch_size=16)"
      ],
      "metadata": {
        "colab": {
          "base_uri": "https://localhost:8080/"
        },
        "id": "YwHXIZeYE92h",
        "outputId": "d1e2764d-e0c7-49a1-9e30-c5bfbb59b7fd"
      },
      "execution_count": 232,
      "outputs": [
        {
          "output_type": "stream",
          "name": "stdout",
          "text": [
            "Epoch 1/100\n"
          ]
        },
        {
          "output_type": "stream",
          "name": "stderr",
          "text": [
            "/usr/local/lib/python3.7/dist-packages/tensorflow/python/framework/indexed_slices.py:446: UserWarning: Converting sparse IndexedSlices(IndexedSlices(indices=Tensor(\"gradient_tape/sequential_12/dense_36/embedding_lookup_sparse/Reshape_1:0\", shape=(None,), dtype=int32), values=Tensor(\"gradient_tape/sequential_12/dense_36/embedding_lookup_sparse/Reshape:0\", shape=(None, 16), dtype=float32), dense_shape=Tensor(\"gradient_tape/sequential_12/dense_36/embedding_lookup_sparse/Cast:0\", shape=(2,), dtype=int32))) to a dense Tensor of unknown shape. This may consume a large amount of memory.\n",
            "  \"shape. This may consume a large amount of memory.\" % value)\n"
          ]
        },
        {
          "output_type": "stream",
          "name": "stdout",
          "text": [
            "10/10 [==============================] - 1s 3ms/step - loss: 0.6959 - accuracy: 0.4812\n",
            "Epoch 2/100\n",
            "10/10 [==============================] - 0s 3ms/step - loss: 0.6587 - accuracy: 0.5813\n",
            "Epoch 3/100\n",
            "10/10 [==============================] - 0s 3ms/step - loss: 0.6272 - accuracy: 0.6938\n",
            "Epoch 4/100\n",
            "10/10 [==============================] - 0s 4ms/step - loss: 0.5943 - accuracy: 0.7875\n",
            "Epoch 5/100\n",
            "10/10 [==============================] - 0s 2ms/step - loss: 0.5574 - accuracy: 0.8375\n",
            "Epoch 6/100\n",
            "10/10 [==============================] - 0s 4ms/step - loss: 0.5126 - accuracy: 0.8813\n",
            "Epoch 7/100\n",
            "10/10 [==============================] - 0s 3ms/step - loss: 0.4629 - accuracy: 0.9438\n",
            "Epoch 8/100\n",
            "10/10 [==============================] - 0s 3ms/step - loss: 0.4077 - accuracy: 0.9688\n",
            "Epoch 9/100\n",
            "10/10 [==============================] - 0s 3ms/step - loss: 0.3442 - accuracy: 0.9875\n",
            "Epoch 10/100\n",
            "10/10 [==============================] - 0s 3ms/step - loss: 0.2739 - accuracy: 0.9937\n",
            "Epoch 11/100\n",
            "10/10 [==============================] - 0s 3ms/step - loss: 0.2029 - accuracy: 0.9937\n",
            "Epoch 12/100\n",
            "10/10 [==============================] - 0s 3ms/step - loss: 0.1359 - accuracy: 0.9937\n",
            "Epoch 13/100\n",
            "10/10 [==============================] - 0s 3ms/step - loss: 0.0901 - accuracy: 0.9937\n",
            "Epoch 14/100\n",
            "10/10 [==============================] - 0s 3ms/step - loss: 0.0610 - accuracy: 0.9937\n",
            "Epoch 15/100\n",
            "10/10 [==============================] - 0s 3ms/step - loss: 0.0421 - accuracy: 1.0000\n",
            "Epoch 16/100\n",
            "10/10 [==============================] - 0s 3ms/step - loss: 0.0303 - accuracy: 1.0000\n",
            "Epoch 17/100\n",
            "10/10 [==============================] - 0s 3ms/step - loss: 0.0231 - accuracy: 1.0000\n",
            "Epoch 18/100\n",
            "10/10 [==============================] - 0s 3ms/step - loss: 0.0183 - accuracy: 1.0000\n",
            "Epoch 19/100\n",
            "10/10 [==============================] - 0s 3ms/step - loss: 0.0152 - accuracy: 1.0000\n",
            "Epoch 20/100\n",
            "10/10 [==============================] - 0s 3ms/step - loss: 0.0121 - accuracy: 1.0000\n",
            "Epoch 21/100\n",
            "10/10 [==============================] - 0s 3ms/step - loss: 0.0103 - accuracy: 1.0000\n",
            "Epoch 22/100\n",
            "10/10 [==============================] - 0s 3ms/step - loss: 0.0088 - accuracy: 1.0000\n",
            "Epoch 23/100\n",
            "10/10 [==============================] - 0s 3ms/step - loss: 0.0076 - accuracy: 1.0000\n",
            "Epoch 24/100\n",
            "10/10 [==============================] - 0s 3ms/step - loss: 0.0066 - accuracy: 1.0000\n",
            "Epoch 25/100\n",
            "10/10 [==============================] - 0s 3ms/step - loss: 0.0059 - accuracy: 1.0000\n",
            "Epoch 26/100\n",
            "10/10 [==============================] - 0s 3ms/step - loss: 0.0052 - accuracy: 1.0000\n",
            "Epoch 27/100\n",
            "10/10 [==============================] - 0s 3ms/step - loss: 0.0048 - accuracy: 1.0000\n",
            "Epoch 28/100\n",
            "10/10 [==============================] - 0s 3ms/step - loss: 0.0043 - accuracy: 1.0000\n",
            "Epoch 29/100\n",
            "10/10 [==============================] - 0s 3ms/step - loss: 0.0039 - accuracy: 1.0000\n",
            "Epoch 30/100\n",
            "10/10 [==============================] - 0s 3ms/step - loss: 0.0036 - accuracy: 1.0000\n",
            "Epoch 31/100\n",
            "10/10 [==============================] - 0s 3ms/step - loss: 0.0033 - accuracy: 1.0000\n",
            "Epoch 32/100\n",
            "10/10 [==============================] - 0s 3ms/step - loss: 0.0030 - accuracy: 1.0000\n",
            "Epoch 33/100\n",
            "10/10 [==============================] - 0s 3ms/step - loss: 0.0028 - accuracy: 1.0000\n",
            "Epoch 34/100\n",
            "10/10 [==============================] - 0s 3ms/step - loss: 0.0026 - accuracy: 1.0000\n",
            "Epoch 35/100\n",
            "10/10 [==============================] - 0s 2ms/step - loss: 0.0024 - accuracy: 1.0000\n",
            "Epoch 36/100\n",
            "10/10 [==============================] - 0s 3ms/step - loss: 0.0023 - accuracy: 1.0000\n",
            "Epoch 37/100\n",
            "10/10 [==============================] - 0s 3ms/step - loss: 0.0021 - accuracy: 1.0000\n",
            "Epoch 38/100\n",
            "10/10 [==============================] - 0s 3ms/step - loss: 0.0020 - accuracy: 1.0000\n",
            "Epoch 39/100\n",
            "10/10 [==============================] - 0s 3ms/step - loss: 0.0019 - accuracy: 1.0000\n",
            "Epoch 40/100\n",
            "10/10 [==============================] - 0s 3ms/step - loss: 0.0018 - accuracy: 1.0000\n",
            "Epoch 41/100\n",
            "10/10 [==============================] - 0s 3ms/step - loss: 0.0017 - accuracy: 1.0000\n",
            "Epoch 42/100\n",
            "10/10 [==============================] - 0s 3ms/step - loss: 0.0016 - accuracy: 1.0000\n",
            "Epoch 43/100\n",
            "10/10 [==============================] - 0s 3ms/step - loss: 0.0015 - accuracy: 1.0000\n",
            "Epoch 44/100\n",
            "10/10 [==============================] - 0s 3ms/step - loss: 0.0014 - accuracy: 1.0000\n",
            "Epoch 45/100\n",
            "10/10 [==============================] - 0s 3ms/step - loss: 0.0014 - accuracy: 1.0000\n",
            "Epoch 46/100\n",
            "10/10 [==============================] - 0s 3ms/step - loss: 0.0013 - accuracy: 1.0000\n",
            "Epoch 47/100\n",
            "10/10 [==============================] - 0s 3ms/step - loss: 0.0012 - accuracy: 1.0000\n",
            "Epoch 48/100\n",
            "10/10 [==============================] - 0s 3ms/step - loss: 0.0012 - accuracy: 1.0000\n",
            "Epoch 49/100\n",
            "10/10 [==============================] - 0s 3ms/step - loss: 0.0011 - accuracy: 1.0000\n",
            "Epoch 50/100\n",
            "10/10 [==============================] - 0s 3ms/step - loss: 0.0011 - accuracy: 1.0000\n",
            "Epoch 51/100\n",
            "10/10 [==============================] - 0s 3ms/step - loss: 0.0010 - accuracy: 1.0000\n",
            "Epoch 52/100\n",
            "10/10 [==============================] - 0s 3ms/step - loss: 9.6678e-04 - accuracy: 1.0000\n",
            "Epoch 53/100\n",
            "10/10 [==============================] - 0s 3ms/step - loss: 9.2397e-04 - accuracy: 1.0000\n",
            "Epoch 54/100\n",
            "10/10 [==============================] - 0s 3ms/step - loss: 8.8496e-04 - accuracy: 1.0000\n",
            "Epoch 55/100\n",
            "10/10 [==============================] - 0s 3ms/step - loss: 8.4827e-04 - accuracy: 1.0000\n",
            "Epoch 56/100\n",
            "10/10 [==============================] - 0s 3ms/step - loss: 8.1368e-04 - accuracy: 1.0000\n",
            "Epoch 57/100\n",
            "10/10 [==============================] - 0s 3ms/step - loss: 7.8196e-04 - accuracy: 1.0000\n",
            "Epoch 58/100\n",
            "10/10 [==============================] - 0s 3ms/step - loss: 7.5221e-04 - accuracy: 1.0000\n",
            "Epoch 59/100\n",
            "10/10 [==============================] - 0s 3ms/step - loss: 7.2377e-04 - accuracy: 1.0000\n",
            "Epoch 60/100\n",
            "10/10 [==============================] - 0s 3ms/step - loss: 6.9659e-04 - accuracy: 1.0000\n",
            "Epoch 61/100\n",
            "10/10 [==============================] - 0s 3ms/step - loss: 6.7317e-04 - accuracy: 1.0000\n",
            "Epoch 62/100\n",
            "10/10 [==============================] - 0s 3ms/step - loss: 6.4881e-04 - accuracy: 1.0000\n",
            "Epoch 63/100\n",
            "10/10 [==============================] - 0s 3ms/step - loss: 6.2600e-04 - accuracy: 1.0000\n",
            "Epoch 64/100\n",
            "10/10 [==============================] - 0s 4ms/step - loss: 6.0467e-04 - accuracy: 1.0000\n",
            "Epoch 65/100\n",
            "10/10 [==============================] - 0s 3ms/step - loss: 5.8285e-04 - accuracy: 1.0000\n",
            "Epoch 66/100\n",
            "10/10 [==============================] - 0s 3ms/step - loss: 5.6318e-04 - accuracy: 1.0000\n",
            "Epoch 67/100\n",
            "10/10 [==============================] - 0s 3ms/step - loss: 5.4428e-04 - accuracy: 1.0000\n",
            "Epoch 68/100\n",
            "10/10 [==============================] - 0s 3ms/step - loss: 5.2647e-04 - accuracy: 1.0000\n",
            "Epoch 69/100\n",
            "10/10 [==============================] - 0s 3ms/step - loss: 5.0995e-04 - accuracy: 1.0000\n",
            "Epoch 70/100\n",
            "10/10 [==============================] - 0s 3ms/step - loss: 4.9332e-04 - accuracy: 1.0000\n",
            "Epoch 71/100\n",
            "10/10 [==============================] - 0s 3ms/step - loss: 4.7780e-04 - accuracy: 1.0000\n",
            "Epoch 72/100\n",
            "10/10 [==============================] - 0s 3ms/step - loss: 4.6421e-04 - accuracy: 1.0000\n",
            "Epoch 73/100\n",
            "10/10 [==============================] - 0s 3ms/step - loss: 4.5038e-04 - accuracy: 1.0000\n",
            "Epoch 74/100\n",
            "10/10 [==============================] - 0s 3ms/step - loss: 4.3721e-04 - accuracy: 1.0000\n",
            "Epoch 75/100\n",
            "10/10 [==============================] - 0s 3ms/step - loss: 4.2454e-04 - accuracy: 1.0000\n",
            "Epoch 76/100\n",
            "10/10 [==============================] - 0s 3ms/step - loss: 4.1341e-04 - accuracy: 1.0000\n",
            "Epoch 77/100\n",
            "10/10 [==============================] - 0s 3ms/step - loss: 4.0154e-04 - accuracy: 1.0000\n",
            "Epoch 78/100\n",
            "10/10 [==============================] - 0s 3ms/step - loss: 3.9028e-04 - accuracy: 1.0000\n",
            "Epoch 79/100\n",
            "10/10 [==============================] - 0s 3ms/step - loss: 3.7954e-04 - accuracy: 1.0000\n",
            "Epoch 80/100\n",
            "10/10 [==============================] - 0s 3ms/step - loss: 3.6952e-04 - accuracy: 1.0000\n",
            "Epoch 81/100\n",
            "10/10 [==============================] - 0s 3ms/step - loss: 3.6000e-04 - accuracy: 1.0000\n",
            "Epoch 82/100\n",
            "10/10 [==============================] - 0s 3ms/step - loss: 3.5026e-04 - accuracy: 1.0000\n",
            "Epoch 83/100\n",
            "10/10 [==============================] - 0s 3ms/step - loss: 3.4134e-04 - accuracy: 1.0000\n",
            "Epoch 84/100\n",
            "10/10 [==============================] - 0s 3ms/step - loss: 3.3275e-04 - accuracy: 1.0000\n",
            "Epoch 85/100\n",
            "10/10 [==============================] - 0s 3ms/step - loss: 3.2438e-04 - accuracy: 1.0000\n",
            "Epoch 86/100\n",
            "10/10 [==============================] - 0s 3ms/step - loss: 3.1594e-04 - accuracy: 1.0000\n",
            "Epoch 87/100\n",
            "10/10 [==============================] - 0s 3ms/step - loss: 3.0829e-04 - accuracy: 1.0000\n",
            "Epoch 88/100\n",
            "10/10 [==============================] - 0s 3ms/step - loss: 3.0087e-04 - accuracy: 1.0000\n",
            "Epoch 89/100\n",
            "10/10 [==============================] - 0s 3ms/step - loss: 2.9377e-04 - accuracy: 1.0000\n",
            "Epoch 90/100\n",
            "10/10 [==============================] - 0s 3ms/step - loss: 2.8703e-04 - accuracy: 1.0000\n",
            "Epoch 91/100\n",
            "10/10 [==============================] - 0s 3ms/step - loss: 2.7995e-04 - accuracy: 1.0000\n",
            "Epoch 92/100\n",
            "10/10 [==============================] - 0s 3ms/step - loss: 2.7376e-04 - accuracy: 1.0000\n",
            "Epoch 93/100\n",
            "10/10 [==============================] - 0s 5ms/step - loss: 2.6769e-04 - accuracy: 1.0000\n",
            "Epoch 94/100\n",
            "10/10 [==============================] - 0s 3ms/step - loss: 2.6149e-04 - accuracy: 1.0000\n",
            "Epoch 95/100\n",
            "10/10 [==============================] - 0s 3ms/step - loss: 2.5561e-04 - accuracy: 1.0000\n",
            "Epoch 96/100\n",
            "10/10 [==============================] - 0s 3ms/step - loss: 2.4979e-04 - accuracy: 1.0000\n",
            "Epoch 97/100\n",
            "10/10 [==============================] - 0s 3ms/step - loss: 2.4460e-04 - accuracy: 1.0000\n",
            "Epoch 98/100\n",
            "10/10 [==============================] - 0s 3ms/step - loss: 2.3913e-04 - accuracy: 1.0000\n",
            "Epoch 99/100\n",
            "10/10 [==============================] - 0s 3ms/step - loss: 2.3407e-04 - accuracy: 1.0000\n",
            "Epoch 100/100\n",
            "10/10 [==============================] - 0s 3ms/step - loss: 2.2911e-04 - accuracy: 1.0000\n"
          ]
        }
      ]
    },
    {
      "cell_type": "code",
      "source": [
        "model.evaluate(x_train,Y_train)"
      ],
      "metadata": {
        "colab": {
          "base_uri": "https://localhost:8080/"
        },
        "id": "AvOmFpD3HeM0",
        "outputId": "63a295d1-5dbc-4612-891d-e3987a02f805"
      },
      "execution_count": 233,
      "outputs": [
        {
          "output_type": "stream",
          "name": "stdout",
          "text": [
            "5/5 [==============================] - 0s 3ms/step - loss: 2.2613e-04 - accuracy: 1.0000\n"
          ]
        },
        {
          "output_type": "execute_result",
          "data": {
            "text/plain": [
              "[0.00022612600878346711, 1.0]"
            ]
          },
          "metadata": {},
          "execution_count": 233
        }
      ]
    },
    {
      "cell_type": "code",
      "source": [
        "model.evaluate(x_test,Y_test)"
      ],
      "metadata": {
        "colab": {
          "base_uri": "https://localhost:8080/"
        },
        "id": "nWmdjDYSHkZ0",
        "outputId": "1afe6c8b-ebd3-4ba3-b1f3-d9a1ddc2f00d"
      },
      "execution_count": 234,
      "outputs": [
        {
          "output_type": "stream",
          "name": "stdout",
          "text": [
            "2/2 [==============================] - 0s 4ms/step - loss: 1.0110 - accuracy: 0.6500\n"
          ]
        },
        {
          "output_type": "execute_result",
          "data": {
            "text/plain": [
              "[1.0110445022583008, 0.6499999761581421]"
            ]
          },
          "metadata": {},
          "execution_count": 234
        }
      ]
    },
    {
      "cell_type": "code",
      "source": [
        "#Done"
      ],
      "metadata": {
        "id": "Q6BrAQVGH_gi"
      },
      "execution_count": 235,
      "outputs": []
    },
    {
      "cell_type": "markdown",
      "source": [
        "# **TF-IDF Vectorizer**"
      ],
      "metadata": {
        "id": "ANl6jmk9DDLr"
      }
    },
    {
      "cell_type": "code",
      "source": [
        "vec = TfidfVectorizer()"
      ],
      "metadata": {
        "id": "UcvhNO4JOLo9"
      },
      "execution_count": 236,
      "outputs": []
    },
    {
      "cell_type": "code",
      "source": [
        "vec.fit(X_train)"
      ],
      "metadata": {
        "colab": {
          "base_uri": "https://localhost:8080/"
        },
        "id": "0069Lyu3Eb2_",
        "outputId": "d488a9e4-0965-4980-be60-45300d7ba634"
      },
      "execution_count": 237,
      "outputs": [
        {
          "output_type": "execute_result",
          "data": {
            "text/plain": [
              "TfidfVectorizer()"
            ]
          },
          "metadata": {},
          "execution_count": 237
        }
      ]
    },
    {
      "cell_type": "code",
      "source": [
        "x_train=vec.transform(X_train)\n",
        "x_test=vec.transform(X_test)"
      ],
      "metadata": {
        "id": "K2W_xOXWEeFF"
      },
      "execution_count": 238,
      "outputs": []
    },
    {
      "cell_type": "code",
      "source": [
        "x_train"
      ],
      "metadata": {
        "colab": {
          "base_uri": "https://localhost:8080/"
        },
        "id": "vbNdovWCEkPd",
        "outputId": "34209dd9-158a-4d38-b15c-78c828aa006d"
      },
      "execution_count": 239,
      "outputs": [
        {
          "output_type": "execute_result",
          "data": {
            "text/plain": [
              "<160x1306 sparse matrix of type '<class 'numpy.float64'>'\n",
              "\twith 6429 stored elements in Compressed Sparse Row format>"
            ]
          },
          "metadata": {},
          "execution_count": 239
        }
      ]
    },
    {
      "cell_type": "code",
      "source": [
        "from sklearn.linear_model import LogisticRegression\n",
        "lr = LogisticRegression()\n",
        "lr.fit(x_train, Y_train)"
      ],
      "metadata": {
        "colab": {
          "base_uri": "https://localhost:8080/"
        },
        "id": "Qq6BsnzkDJhN",
        "outputId": "78ce8f4a-fa16-40f2-8cf4-cec796a31a6c"
      },
      "execution_count": 240,
      "outputs": [
        {
          "output_type": "execute_result",
          "data": {
            "text/plain": [
              "LogisticRegression()"
            ]
          },
          "metadata": {},
          "execution_count": 240
        }
      ]
    },
    {
      "cell_type": "code",
      "source": [
        "score_test = lr.score(x_test, Y_test)"
      ],
      "metadata": {
        "id": "-yWhy9qYXTxW"
      },
      "execution_count": 241,
      "outputs": []
    },
    {
      "cell_type": "code",
      "source": [
        "score_test"
      ],
      "metadata": {
        "colab": {
          "base_uri": "https://localhost:8080/"
        },
        "id": "kVh7tYmDH0Zd",
        "outputId": "ab522f39-f84e-415d-96f3-0e5d03265758"
      },
      "execution_count": 242,
      "outputs": [
        {
          "output_type": "execute_result",
          "data": {
            "text/plain": [
              "0.75"
            ]
          },
          "metadata": {},
          "execution_count": 242
        }
      ]
    },
    {
      "cell_type": "code",
      "source": [
        "score_train = lr.score(x_train, Y_train)"
      ],
      "metadata": {
        "id": "oRvL7USvH3mF"
      },
      "execution_count": 243,
      "outputs": []
    },
    {
      "cell_type": "code",
      "source": [
        "score_train"
      ],
      "metadata": {
        "colab": {
          "base_uri": "https://localhost:8080/"
        },
        "id": "TZPVt8g8H50m",
        "outputId": "ce8a62cd-7ba9-4855-c82a-3bb1bb69e8f0"
      },
      "execution_count": 244,
      "outputs": [
        {
          "output_type": "execute_result",
          "data": {
            "text/plain": [
              "0.96875"
            ]
          },
          "metadata": {},
          "execution_count": 244
        }
      ]
    },
    {
      "cell_type": "code",
      "source": [
        "#Done"
      ],
      "metadata": {
        "id": "UFtQusziH9qc"
      },
      "execution_count": 245,
      "outputs": []
    },
    {
      "cell_type": "markdown",
      "source": [
        "# **Building Model**"
      ],
      "metadata": {
        "id": "MOs5Y7vzKlI4"
      }
    },
    {
      "cell_type": "markdown",
      "source": [
        "# **Running ML Algorithms**"
      ],
      "metadata": {
        "id": "mc3pDYGxL7In"
      }
    }
  ]
}