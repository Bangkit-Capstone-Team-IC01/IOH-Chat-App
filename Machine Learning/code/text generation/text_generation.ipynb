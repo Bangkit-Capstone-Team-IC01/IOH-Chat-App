{
  "nbformat": 4,
  "nbformat_minor": 0,
  "metadata": {
    "colab": {
      "name": "Untitled1.ipynb",
      "provenance": [],
      "authorship_tag": "ABX9TyMZix5cG2fLSJk67jMy+1EM"
    },
    "kernelspec": {
      "name": "python3",
      "display_name": "Python 3"
    },
    "language_info": {
      "name": "python"
    }
  },
  "cells": [
    {
      "cell_type": "code",
      "execution_count": 71,
      "metadata": {
        "id": "OjluUuUh9fOj"
      },
      "outputs": [],
      "source": [
        "import tensorflow as tf\n",
        "import numpy as np \n",
        "import pandas as pd\n",
        "import os\n",
        "import subprocess\n",
        "from tensorflow.keras import layers\n",
        "from tensorflow.keras.preprocessing.sequence import pad_sequences\n",
        "from tensorflow.keras.preprocessing.text import Tokenizer"
      ]
    },
    {
      "cell_type": "code",
      "source": [
        "GIT_DIR = \"IOH-Chat-App/\"\n",
        "GIT_URL = \"https://github.com/Bangkit-Capstone-Team/IOH-Chat-App.git\"\n",
        "\n",
        "if not os.path.exists(GIT_DIR):\n",
        "  subprocess.call([\"git\", \"clone\", GIT_URL])"
      ],
      "metadata": {
        "id": "F_byA8g--7gZ"
      },
      "execution_count": 3,
      "outputs": []
    },
    {
      "cell_type": "code",
      "source": [
        "def read_data(file_dir):\n",
        "  sentences = list()\n",
        "  with open(file_dir) as f:\n",
        "    for sentence in f.readlines():\n",
        "      sentences.append(sentence.replace(\"\\n\", \"\"))\n",
        "\n",
        "  return sentences"
      ],
      "metadata": {
        "id": "qeJ1OLNf_MI6"
      },
      "execution_count": 10,
      "outputs": []
    },
    {
      "cell_type": "code",
      "source": [
        "SENTENCE_DIR = \"/content/IOH-Chat-App/Machine Learning/datasets/text generation/sentence.txt\"\n",
        "\n",
        "corpus = read_data(SENTENCE_DIR)\n",
        "\n",
        "print(f\"Sentence example: {corpus[0]}\")\n",
        "print(f\"Num of data: {len(corpus)}\")"
      ],
      "metadata": {
        "colab": {
          "base_uri": "https://localhost:8080/"
        },
        "id": "huJslWt6_9np",
        "outputId": "69c5eb43-d845-4240-b024-66fab3f2cb4d"
      },
      "execution_count": 53,
      "outputs": [
        {
          "output_type": "stream",
          "name": "stdout",
          "text": [
            "Sentence example: Aku bilang aku akan bicara pada Tom tentang hal itu.\n",
            "Num of data: 588\n"
          ]
        }
      ]
    },
    {
      "cell_type": "code",
      "source": [
        "NUM_WORDS = 2500\n",
        "\n",
        "tokenizer = Tokenizer(num_words=NUM_WORDS)\n",
        "tokenizer.fit_on_texts(corpus)\n",
        "total_words = len(tokenizer.index_word) + 1\n",
        "\n",
        "print(f\"Max Length: {total_words}\")\n",
        "print(tokenizer.index_word)"
      ],
      "metadata": {
        "colab": {
          "base_uri": "https://localhost:8080/"
        },
        "id": "3FUQ90ciAhVD",
        "outputId": "dee833c5-2cdd-4318-ba4f-4ee63780aa34"
      },
      "execution_count": 54,
      "outputs": [
        {
          "output_type": "stream",
          "name": "stdout",
          "text": [
            "Max Length: 1761\n",
            "{1: 'saya', 2: 'yang', 3: 'tidak', 4: 'di', 5: 'dan', 6: 'untuk', 7: 'ini', 8: 'dengan', 9: 'aku', 10: 'tom', 11: 'aplikasi', 12: 'itu', 13: 'akan', 14: 'bisa', 15: 'apa', 16: 'ada', 17: 'kamu', 18: 'anda', 19: 'dia', 20: 'lebih', 21: 'tetapi', 22: 'adalah', 23: 'banyak', 24: 'ke', 25: 'dari', 26: 'pada', 27: 'sangat', 28: 'tahu', 29: 'benar', 30: 'dapat', 31: 'telah', 32: 'orang', 33: 'baru', 34: 'dalam', 35: 'masalah', 36: 'bahwa', 37: 'bagus', 38: 'hal', 39: 'memiliki', 40: 'beberapa', 41: 'saat', 42: 'waktu', 43: 'suka', 44: 'baik', 45: 'ketika', 46: 'satu', 47: 'kalau', 48: 'kami', 49: 'jika', 50: 'kita', 51: 'tapi', 52: 'teman', 53: 'ia', 54: 'mary', 55: 'sudah', 56: 'karena', 57: 'pergi', 58: 'setiap', 59: 'anak', 60: 'harus', 61: 'pesan', 62: 'kau', 63: 'hari', 64: 'setelah', 65: 'melakukan', 66: 'melihat', 67: 'fitur', 68: 'panggilan', 69: 'semua', 70: 'mungkin', 71: 'atau', 72: 'tahun', 73: 'seperti', 74: 'membuat', 75: 'ingin', 76: 'selama', 77: 'pernah', 78: 'suara', 79: 'pembaruan', 80: 'hanya', 81: 'kali', 82: 'lagi', 83: 'lama', 84: 'mereka', 85: 'saja', 86: 'sekarang', 87: 'cara', 88: 'lain', 89: 'luar', 90: 'secara', 91: 'akhir', 92: 'salah', 93: 'masih', 94: 'bug', 95: 'mengapa', 96: 'mengirim', 97: 'bekerja', 98: 'terakhir', 99: 'biasa', 100: 'menggunakan', 101: 'video', 102: 'sini', 103: 'rumah', 104: 'lakukan', 105: 'makan', 106: 'juga', 107: 'apakah', 108: 'berbicara', 109: 'mana', 110: 'menunggu', 111: 'mencoba', 112: 'hebat', 113: 'tentang', 114: 'menjadi', 115: 'begitu', 116: 'namun', 117: 'memberi', 118: 'mau', 119: 'tiga', 120: 'dua', 121: 'bahkan', 122: 'jadi', 123: 'cukup', 124: 'menemukan', 125: 'kecil', 126: 'gambar', 127: 'besar', 128: 'terus', 129: 'mudah', 130: 'bahasa', 131: 'berada', 132: 'musim', 133: 'perlu', 134: 'pun', 135: 'terjadi', 136: 'masuk', 137: 'bukan', 138: 'jam', 139: 'kembali', 140: 'terlalu', 141: 'ponsel', 142: 'berfungsi', 143: 'belajar', 144: 'depan', 145: 'minggu', 146: 'sejak', 147: 'sampai', 148: 'tanpa', 149: 'panas', 150: 'berpikir', 151: 'sebuah', 152: '2', 153: 'meskipun', 154: 'terhubung', 155: 'menggunakannya', 156: 'mengalami', 157: 'bilang', 158: 'buku', 159: 'sedang', 160: 'senang', 161: 'laki', 162: 'sendiri', 163: '1', 164: 'sering', 165: 'seseorang', 166: 'pengguna', 167: 'obrolan', 168: 'atas', 169: 'padaku', 170: 'kepada', 171: 'malam', 172: 'menit', 173: 'buruk', 174: 'sama', 175: 'sekali', 176: 'membeli', 177: 'mobil', 178: 'mengatakan', 179: 'bagaimana', 180: 'terbaik', 181: 'menyukai', 182: 'membantu', 183: 'sebelum', 184: 'kamera', 185: 'bagi', 186: 'lalu', 187: 'jepang', 188: '5', 189: 'selalu', 190: 'versi', 191: 'perpesanan', 192: 'meminta', 193: 'sana', 194: 'daripada', 195: 'seorang', 196: 'kemudian', 197: 'sebenarnya', 198: 'bawah', 199: 'bulan', 200: 'kemacetan', 201: 'membuka', 202: 'pertama', 203: 'sulit', 204: 'boston', 205: 'belum', 206: 'cepat', 207: 'menyelesaikan', 208: 'sesuatu', 209: 'terkadang', 210: 'media', 211: 'opsi', 212: 'akun', 213: 'koneksi', 214: 'snap', 215: 'inggris', 216: 'oleh', 217: 'punya', 218: 'dulu', 219: 'katakan', 220: 'datang', 221: 'pikir', 222: 'berapa', 223: 'tempat', 224: 'sebelumnya', 225: 'diri', 226: 'dunia', 227: 'akhirnya', 228: '4', 229: 'membaca', 230: 'ulang', 231: 'bersama', 232: 'berhasil', 233: 'merasa', 234: 'bintang', 235: 'satunya', 236: 'melalui', 237: 'peringatan', 238: 'bertahun', 239: 'pengalaman', 240: 'fungsi', 241: 'muncul', 242: 'digunakan', 243: 'server', 244: 'layar', 245: 'menjengkelkan', 246: 'audio', 247: 'internet', 248: 'file', 249: 'menghapus', 250: 'kenapa', 251: 'memilih', 252: 'tetap', 253: 'pukul', 254: 'dingin', 255: 'tolong', 256: 'bertemu', 257: 'tiba', 258: 'terbakar', 259: 'alasan', 260: 'mari', 261: 'melakukannya', 262: 'seharusnya', 263: 'musik', 264: 'kemampuan', 265: 'tadi', 266: 'hingga', 267: 'uang', 268: 'rapat', 269: 'tepat', 270: 'tinggal', 271: 'hampir', 272: 'kota', 273: 'paling', 274: 'berbeda', 275: 'siapa', 276: 'mulai', 277: 'membutuhkan', 278: 'berubah', 279: 'amerika', 280: 'pagi', 281: 'sedikit', 282: 'dikatakan', 283: 'sosial', 284: 'mengganggu', 285: 'perangkat', 286: 'saluran', 287: 'menyenangkan', 288: 'notifikasi', 289: 'tertentu', 290: 'sebagian', 291: 'aplikasinya', 292: 'pemberitahuan', 293: 'foto', 294: 'otomatis', 295: 'android', 296: 'menerus', 297: 'folder', 298: 'terbaru', 299: 'bicara', 300: 'minta', 301: 'maaf', 302: 'harap', 303: 'duduk', 304: 'belas', 305: 'maka', 306: 'tak', 307: 'siang', 308: 'mati', 309: 'kasih', 310: 'besok', 311: 'rasa', 312: 'apapun', 313: 'masa', 314: 'sakit', 315: 'bermain', 316: 'lihat', 317: 'kedua', 318: 'jangan', 319: 'inginkan', 320: 'sekolah', 321: 'minum', 322: 'mencari', 323: 'berikutnya', 324: 'caranya', 325: 'tua', 326: 'toko', 327: 'barang', 328: 'berhenti', 329: 'menerima', 330: 'ingat', 331: 'tersebut', 332: 'sepanjang', 333: 'jenis', 334: 'memberitahuku', 335: '30', 336: 'mobilnya', 337: 'memperbaiki', 338: 'kemarin', 339: 'dibandingkan', 340: 'menyukainya', 341: 'semuanya', 342: 'sejauh', 343: 'berfikir', 344: 'keluarga', 345: 'keluar', 346: 'hidup', 347: 'nyaman', 348: 'sebentar', 349: 'langsung', 350: 'tidur', 351: 'kadang', 352: 'memainkan', 353: 'mengambil', 354: 'mengerti', 355: 'mendapatkan', 356: 'kemungkinan', 357: 'titik', 358: 'keseluruhan', 359: 'oke', 360: 'berkomunikasi', 361: 'dibutuhkan', 362: 'temukan', 363: 'iklan', 364: 'kontak', 365: 'gangguan', 366: 'ui', 367: 'diterima', 368: 'kualitas', 369: 'halo', 370: 'dikirim', 371: 'mengedit', 372: 'nomor', 373: 'telepon', 374: 'menginstal', 375: 'kira', 376: 'baca', 377: 'tujuh', 378: 'terlambat', 379: 'memutuskan', 380: 'surat', 381: 'petugas', 382: 'dahulu', 383: '10', 384: 'stasiun', 385: 'berjalan', 386: 'bantuan', 387: 'sengaja', 388: 'pikirkan', 389: 'awalnya', 390: 'warna', 391: 'merah', 392: 'yakin', 393: 'kucing', 394: 'marah', 395: 'akibat', 396: 'bangun', 397: 'parah', 398: 'sejujurnya', 399: 'mendengar', 400: 'cerita', 401: 'sehingga', 402: 'penting', 403: 'segera', 404: 'bus', 405: 'jalan', 406: 'bagiku', 407: 'terkejut', 408: 'mengetahui', 409: 'menghabiskan', 410: 'kenyataan', 411: 'puluh', 412: 'murid', 413: 'lanjut', 414: 'pekerjaan', 415: 'memberitahu', 416: 'menikah', 417: 'usia', 418: 'bertanya', 419: 'berarti', 420: 'kereta', 421: 'biasanya', 422: 'perempuan', 423: 'mengunjungi', 424: 'berniat', 425: 'kecelakaan', 426: 'lintas', 427: 'umumnya', 428: 'sebagai', 429: 'melewati', 430: 'bohong', 431: 'enam', 432: 'para', 433: 'lagu', 434: 'merupakan', 435: 'bebas', 436: 'penjara', 437: 'ibunya', 438: 'tangan', 439: 'setidaknya', 440: 'bila', 441: 'menambahkan', 442: 'kurangnya', 443: 'berhati', 444: 'hati', 445: 'awal', 446: 'hutan', 447: 'mematikan', 448: 'seluruh', 449: 'bisakah', 450: 'semakin', 451: 'aneh', 452: 'mendengarkan', 453: 'berguna', 454: 'platform', 455: 'mengobrol', 456: 'berharap', 457: 'misalnya', 458: 'membeku', 459: 'dasarnya', 460: 'bagian', 461: 'rusak', 462: 'iphone', 463: 'mode', 464: 'pengaturan', 465: 'latar', 466: 'belakang', 467: 'terlihat', 468: 'filter', 469: 'mogok', 470: 'konstan', 471: 'menyebalkan', 472: 'perbaiki', 473: 'menampilkan', 474: 'lainnya', 475: 'bermasalah', 476: 'komentar', 477: 'grup', 478: 'penyimpanan', 479: 'komunikasi', 480: 'utama', 481: 'catatan', 482: 'terima', 483: 'samsung', 484: 'data', 485: 'diblokir', 486: 'bodoh', 487: 'pencadangan', 488: 'seorangpun', 489: 'lewat', 490: 'lima', 491: 'menyadarinya', 492: 'salju', 493: 'turun', 494: 'memberitahukan', 495: 'ide', 496: 'mengenal', 497: 'ruangan', 498: 'sepenuhnya', 499: 'tuaku', 500: 'halaman', 501: 'lipat', 502: 'hanyalah', 503: 'merasakan', 504: 'berjanji', 505: 'memaafkan', 506: 'bersenang', 507: 'kenal', 508: 'dimulai', 509: 'kaki', 510: 'es', 511: 'membedakan', 512: 'hijau', 513: 'sepertinya', 514: 'buang', 515: 'mirip', 516: 'putar', 517: 'memecahkan', 518: 'menyisihkan', 519: 'daftar', 520: 'sampah', 521: 'menghubungi', 522: 'jumlah', 523: '6', 524: 'menghadiri', 525: 'mengingat', 526: 'air', 527: 'segala', 528: 'makanan', 529: 'berbahasa', 530: 'prancis', 531: 'perusahaan', 532: 'buru', 533: 'bea', 534: 'cukai', 535: 'kepadamu', 536: 'meninggal', 537: 'mengecilkan', 538: 'mendengarnya', 539: 'hujan', 540: 'terdapat', 541: 'new', 542: 'york', 543: 'penasaran', 544: 'taksi', 545: 'sedikitnya', 546: 'usaha', 547: 'sanggup', 548: 'muda', 549: 'taman', 550: 'senin', 551: 'menolongnya', 552: 'menyadari', 553: 'boleh', 554: 'tengah', 555: 'ibu', 556: 'terlebih', 557: 'lucu', 558: 'butuhkan', 559: 'pertanyaan', 560: 'soal', 561: 'biaya', 562: 'dihabiskan', 563: 'tempurung', 564: 'kepalanya', 565: 'sebanyak', 566: 'kurang', 567: '3', 568: 'tiup', 569: 'ku', 570: 'melanjutkan', 571: 'anjing', 572: 'hewan', 573: 'jelas', 574: 'entah', 575: 'hitam', 576: 'putih', 577: 'tikus', 578: 'april', 579: 'bagimu', 580: 'rencana', 581: 'pikiran', 582: 'sibuk', 583: 'kecuali', 584: 'sehari', 585: 'menurutmu', 586: 'lancar', 587: 'menuju', 588: 'murah', 589: 'membuatku', 590: 'hadir', 591: 'jujur', 592: 'kopi', 593: 'tampaknya', 594: 'sinar', 595: 'jauh', 596: 'dibanding', 597: 'bukanlah', 598: 'terhindar', 599: 'kebanyakan', 600: 'ketimbang', 601: 'matahari', 602: 'remaja', 603: 'tv', 604: 'percaya', 605: 'membiarkan', 606: 'bangunan', 607: 'operasi', 608: 'bom', 609: 'bandara', 610: 'menonton', 611: 'pasti', 612: 'cuaca', 613: 'denganku', 614: 'kesempatan', 615: 'kantor', 616: 'bangsa', 617: 'viking', 618: 'benua', 619: 'columbus', 620: 'menyembunyikan', 621: 'agar', 622: 'terbuka', 623: 'dilakukan', 624: 'pulang', 625: 'berbagai', 626: 'berencana', 627: 'memenuhi', 628: 'pemeriksaan', 629: 'sistem', 630: 'malah', 631: 'mendapat', 632: 'mengatakannya', 633: 'gaya', 634: 'kebijakan', 635: 'kerja', 636: 'gerbang', 637: 'kesalahan', 638: 'untuknya', 639: 'naik', 640: 'semenjak', 641: 'menghindari', 642: 'mengemudi', 643: 'membiarkannya', 644: 'petunjuk', 645: 'tubuh', 646: 'nanti', 647: 'berikan', 648: 'keras', 649: 'menjaga', 650: 'perilakunya', 651: 'memberikannya', 652: 'kalian', 653: 'layanan', 654: 'menaruh', 655: 'barangnya', 656: 'perut', 657: 'dimaksud', 658: 'pemuda', 659: 'terganggu', 660: 'berturut', 661: 'turut', 662: 'manusia', 663: 'mengerikan', 664: 'pencurian', 665: 'studi', 666: 'universitas', 667: 'asli', 668: 'selesai', 669: 'mencapai', 670: 'spoiler', 671: 'keamanan', 672: 'berpindah', 673: 'instan', 674: 'riwayat', 675: 'berbagi', 676: 'membagikan', 677: 'mengatur', 678: 'bergabung', 679: 'game', 680: 'agak', 681: 'kehidupan', 682: 'jarak', 683: 'diperbaiki', 684: 'berhubungan', 685: 'disimpan', 686: 'galeri', 687: 'serta', 688: 'saudara', 689: 'sempurna', 690: 'gelap', 691: 'diakses', 692: 'me', 693: 'restart', 694: 'menontonnya', 695: 'chat', 696: 'baterai', 697: 'silakan', 698: 'hilang', 699: 'acak', 700: 'melihatnya', 701: 'maksud', 702: 'ikon', 703: 'macet', 704: 'perhatikan', 705: 'pribadi', 706: 'seringkali', 707: 'tersedia', 708: 'menghadapi', 709: 'unduh', 710: 'streaming', 711: 'konten', 712: 'animasi', 713: 'kan', 714: 'menghilang', 715: 'sentuhan', 716: 'memutar', 717: 'teks', 718: 'memungkinkan', 719: 'menggeser', 720: 'info', 721: 'alamat', 722: 'memberikan', 723: 'utas', 724: 'dekat', 725: 'peningkatan', 726: 'tambahkan', 727: 'dibuka', 728: 'kode', 729: 'sederhana', 730: 'web', 731: 'berjam', 732: 'fakta', 733: 'ujung', 734: 'status', 735: 'memperhatikan', 736: 'diandalkan', 737: 'matematika', 738: 'giat', 739: 'segiat', 740: 'memperbaikinya', 741: 'diperbuat', 742: 'beritahu', 743: 'pekan', 744: 'deras', 745: 'london', 746: 'didik', 747: 'nonton', 748: 'konser', 749: 'berkata', 750: 'berterima', 751: 'keluarkan', 752: 'beritahukan', 753: 'padamu', 754: 'suratnya', 755: 'tertulis', 756: 'menulis', 757: 'kampung', 758: 'batu', 759: 'berat', 760: 'menandatangani', 761: 'nama', 762: 'tertular', 763: 'gejala', 764: 'pemadam', 765: 'kebakaran', 766: 'menerobos', 767: 'berakit', 768: 'rakit', 769: 'hulu', 770: 'berenang', 771: 'renang', 772: 'tepian', 773: 'bersakit', 774: 'boling', 775: 'berdiri', 776: 'jembatan', 777: 'memperkirakan', 778: 'adat', 779: 'kebiasaan', 780: 'jaman', 781: 'kolonial', 782: 'membayar', 783: '50', 784: 'seminggu', 785: 'sewa', 786: 'membantumu', 787: 'memerlukan', 788: 'krim', 789: 'jari', 790: 'menyentuh', 791: 'wajan', 792: 'penggorengan', 793: 'bebicara', 794: 'surel', 795: 'buta', 796: 'membuang', 797: 'ternyata', 798: 'pemain', 799: 'golf', 800: 'sebaik', 801: 'sadar', 802: 'tergesa', 803: 'gesa', 804: 'sesuaikan', 805: 'susu', 806: 'meja', 807: 'vas', 808: 'ming', 809: 'cina', 810: 'milik', 811: 'mahal', 812: 'uangnya', 813: 'mendorong', 814: 'tindakan', 815: 'kepadaku', 816: 'akal', 817: 'usianya', 818: 'februari', 819: 'bir', 820: 'laku', 821: 'tawar', 822: 'menawar', 823: 'berandai', 824: 'andai', 825: 'sisi', 826: 'memang', 827: 'ragu', 828: 'bukankah', 829: 'dimana', 830: 'mengajarimu', 831: 'ski', 832: 'silahkan', 833: 'nikmati', 834: 'macam', 835: 'lemari', 836: 'perintahkan', 837: 'koper', 838: 'koin', 839: 'antik', 840: 'memikirkan', 841: 'istri', 842: 'mengurusnya', 843: 'suaranya', 844: 'berjani', 845: 'kemari', 846: 'jalanan', 847: 'lubang', 848: 'tergenang', 849: 'sabar', 850: 'menyempurnakan', 851: 'rinciannya', 852: 'tango', 853: 'desa', 854: 'lenyap', 855: 'kabut', 856: 'berderak', 857: 'derak', 858: 'melaju', 859: 'bergelombang', 860: 'melarikan', 861: 'menunda', 862: 'dapatkah', 863: 'mencarikan', 864: 'berbelanja', 865: 'semahal', 866: 'kakiku', 867: 'bengkak', 868: 'berpolusi', 869: 'pendekatan', 870: 'terhadap', 871: 'sudut', 872: 'melindungi', 873: 'gemuk', 874: 'jelek', 875: 'langsing', 876: 'seksi', 877: 'pencuci', 878: 'mulut', 879: 'makananmu', 880: 'terkunci', 881: 'menemui', 882: 'kebetulan', 883: 'langka', 884: 'bekas', 885: 'remnya', 886: 'lelucon', 887: 'tiri', 888: 'sesuai', 889: 'pedih', 890: 'rasanya', 891: 'menderita', 892: 'kelaparan', 893: 'afrika', 894: 'belakangan', 895: 'sejenis', 896: 'pula', 897: 'dengannya', 898: 'sendirian', 899: 'meninggalkanmu', 900: 'lakimu', 901: 'menyapaku', 902: 'sopan', 903: 'bima', 904: 'sakti', 905: 'kalinya', 906: 'mengenai', 907: 'diberikan', 908: 'tahunnya', 909: 'menghasilkan', 910: 'hasilkan', 911: 'menggosok', 912: 'gigi', 913: 'sesungguhnya', 914: 'pandai', 915: 'perancis', 916: 'mesin', 917: 'berasal', 918: 'lahir', 919: 'negara', 920: 'jatuh', 921: 'sepeda', 922: 'retak', 923: 'wangi', 924: 'bunga', 925: 'mawar', 926: 'lilin', 927: 'diatas', 928: 'kue', 929: 'diperiksa', 930: 'badan', 931: 'bandar', 932: 'udara', 933: 'ketahui', 934: 'esperanto', 935: 'pasangan', 936: 'menghormati', 937: 'mempelajari', 938: 'liar', 939: 'mngikutinya', 940: 'berusaha', 941: 'sekeras', 942: 'pindah', 943: 'merindukanmu', 944: 'seekor', 945: 'menangkap', 946: 'jawaban', 947: 'faks', 948: 'tanggal', 949: 'hendak', 950: 'namamu', 951: 'menerjemahkan', 952: 'tesis', 953: 'mintalah', 954: 'mengunjunginya', 955: 'meyakinkan', 956: 'memperlambat', 957: 'kedatangan', 958: 'parkir', 959: 'berwarna', 960: 'membunuh', 961: 'menggambar', 962: 'peta', 963: 'serikat', 964: 'lari', 965: '200', 966: 'kilometer', 967: 'melaksanakannya', 968: 'tokyo', 969: 'memakan', 970: 'pantai', 971: 'ketinggalan', 972: 'bergegas', 973: 'belanda', 974: 'kincir', 975: 'angin', 976: 'mabuk', 977: 'mengemudikan', 978: 'rumahnya', 979: 'harga', 980: 'perlukan', 981: 'sekalipun', 982: 'lupa', 983: 'hadiah', 984: 'ayahnya', 985: 'rembulan', 986: 'romantis', 987: 'mengakhiri', 988: 'kencan', 989: 'hei', 990: 'tinggi', 991: 'melihatmu', 992: 'menyetujui', 993: 'proyek', 994: 'memuaskan', 995: 'semarah', 996: 'cuma', 997: 'kakakku', 998: 'kagoshima', 999: 'belok', 1000: 'kesepian', 1001: 'kenalan', 1002: 'kesana', 1003: 'disana', 1004: 'ramai', 1005: 'rasi', 1006: 'diketahui', 1007: 'biduk', 1008: 'australia', 1009: 'mengira', 1010: 'chicago', 1011: 'walaupun', 1012: 'harinya', 1013: 'tuamu', 1014: 'kesini', 1015: 'kukira', 1016: 'kabutnya', 1017: 'tebal', 1018: 'kemana', 1019: 'bandingkan', 1020: 'diperangkap', 1021: 'jebakan', 1022: 'potongan', 1023: 'keju', 1024: 'penampilan', 1025: 'hidungnya', 1026: 'plastik', 1027: 'segelas', 1028: 'jus', 1029: 'jeruk', 1030: 'pendamping', 1031: 'meledak', 1032: 'menewaskan', 1033: 'aturan', 1034: 'televisi', 1035: 'sembilan', 1036: 'badai', 1037: 'kamus', 1038: 'kanji', 1039: 'membelinya', 1040: 'perjalanan', 1041: 'buat', 1042: 'sedingin', 1043: 'panggilkan', 1044: 'punggungku', 1045: 'kambuh', 1046: 'pestanya', 1047: 'koizumi', 1048: 'terbuat', 1049: 'kayu', 1050: 'rentan', 1051: 'mukamu', 1052: 'tau', 1053: 'mempunyai', 1054: 'berita', 1055: 'kirimkan', 1056: 'pos', 1057: 'sakitnya', 1058: 'pemelihara', 1059: 'anjingnya', 1060: 'mencukupi', 1061: 'dirinya', 1062: 'berliannya', 1063: 'tuanya', 1064: 'tugas', 1065: 'keberatan', 1066: 'burj', 1067: 'khalifa', 1068: 'pencakar', 1069: 'langit', 1070: 'tertinggi', 1071: 'kamar', 1072: 'pinggiran', 1073: 'kuandalkan', 1074: 'keadaan', 1075: 'membujuknya', 1076: 'bersamaku', 1077: 'mengecat', 1078: 'lumbungnya', 1079: 'tersenyum', 1080: 'tiket', 1081: 'religi', 1082: 'ladino', 1083: 'terjemahan', 1084: 'ibrani', 1085: 'protes', 1086: 'masyarakat', 1087: 'terpelihara', 1088: 'inventarisasi', 1089: 'saldo', 1090: 'bersih', 1091: 'sebesar', 1092: 'ratus', 1093: 'peso', 1094: 'ketinggian', 1095: 'lapar', 1096: 'membuatmu', 1097: 'memahami', 1098: 'betapa', 1099: 'sulitnya', 1100: 'istrimu', 1101: 'mengantarmu', 1102: 'takjub', 1103: 'rasakan', 1104: 'diperuntukkan', 1105: 'siswa', 1106: 'emosi', 1107: 'john', 1108: 'kurasa', 1109: 'waktunya', 1110: 'anakku', 1111: 'tidaknya', 1112: 'kreatif', 1113: 'benda', 1114: 'menarik', 1115: 'memasak', 1116: 'masakan', 1117: 'tionghoa', 1118: 'mantan', 1119: 'kekasihnya', 1120: 'terjebak', 1121: 'pasokan', 1122: 'produk', 1123: 'permintaan', 1124: 'lokal', 1125: 'los', 1126: 'angeles', 1127: 'ikut', 1128: 'memancing', 1129: 'sesantai', 1130: 'terlibat', 1131: 'pabean', 1132: 'semalam', 1133: 'pemanasnya', 1134: 'giliran', 1135: 'ibuku', 1136: 'kuatir', 1137: 'penulis', 1138: 'bab', 1139: 'novel', 1140: 'sopir', 1141: 'berdebat', 1142: 'hidupnya', 1143: 'steik', 1144: 'memakannya', 1145: 'menduga', 1146: 'berbohong', 1147: 'seakan', 1148: 'dirumah', 1149: 'diluar', 1150: 'ekonomi', 1151: 'dipengaruhi', 1152: 'tenaga', 1153: 'bradenburg', 1154: 'tengaran', 1155: 'terkenal', 1156: 'jerman', 1157: 'ukulelenya', 1158: 'alice', 1159: 'merespon', 1160: 'berima', 1161: 'memintaku', 1162: 'valentine', 1163: 'berakhir', 1164: 'kuberikan', 1165: 'padanya', 1166: 'gajinya', 1167: 'menurutku', 1168: 'pistol', 1169: 'berpeluru', 1170: 'menemuimu', 1171: 'memberitahukannya', 1172: 'kedatanganmu', 1173: 'didengar', 1174: 'pizzaro', 1175: 'imperium', 1176: 'inca', 1177: 'adanya', 1178: 'pria', 1179: 'tertabrak', 1180: 'dilarikan', 1181: 'membersihkan', 1182: 'garasinya', 1183: 'dibersihkan', 1184: 'meninggalkan', 1185: 'beranggapan', 1186: 'tenis', 1187: 'sempat', 1188: 'pacarku', 1189: 'setuju', 1190: 'denganmu', 1191: 'oak', 1192: 'menanganinya', 1193: 'peti', 1194: 'kayunya', 1195: 'linggis', 1196: 'sebatang', 1197: 'dinamit', 1198: 'konsernya', 1199: 'membosankan', 1200: 'mempercayai', 1201: 'menolong', 1202: 'selamat', 1203: 'sempit', 1204: 'mustahil', 1205: 'menambah', 1206: 'perabotan', 1207: 'pintu', 1208: 'isi', 1209: 'hadapan', 1210: 'hukum', 1211: 'sejajar', 1212: 'kaya', 1213: 'keuntungan', 1214: 'tepuk', 1215: 'mereda', 1216: 'mengumumkan', 1217: 'selanjutnya', 1218: 'tertidur', 1219: 'melambat', 1220: 'suhu', 1221: 'menurun', 1222: 'keberangkatannya', 1223: 'ayahku', 1224: 'pensiun', 1225: 'cocok', 1226: 'menjelaskan', 1227: 'revolusi', 1228: 'industri', 1229: 'populasi', 1230: 'dokter', 1231: 'bedah', 1232: 'menangani', 1233: 'berpengalaman', 1234: 'dihormati', 1235: 'tanya', 1236: 'anaknya', 1237: 'ayah', 1238: 'ayahmu', 1239: 'lampunya', 1240: 'museum', 1241: 'jutaan', 1242: 'berduka', 1243: 'meninggalnya', 1244: 'nelson', 1245: 'mandela', 1246: 'memperlihatkan', 1247: 'hancur', 1248: 'pukulan', 1249: 'sim', 1250: 'menjalani', 1251: 'tes', 1252: 'sendirinya', 1253: 'bilamana', 1254: 'memperhatikannya', 1255: 'kejahatan', 1256: 'perbuat', 1257: 'mengaku', 1258: 'bantuanmu', 1259: 'mampu', 1260: 'menjalankan', 1261: 'keretakan', 1262: 'tangga', 1263: 'dipahami', 1264: 'rumahku', 1265: 'luas', 1266: 'mengundang', 1267: 'pesta', 1268: 'tahunku', 1269: 'utara', 1270: 'berpegang', 1271: 'prinsip', 1272: 'pelanggan', 1273: 'urusan', 1274: 'ruang', 1275: 'seharian', 1276: 'sekilas', 1277: 'lukisan', 1278: 'dinding', 1279: 'kapkek', 1280: 'coklat', 1281: 'taburan', 1282: 'vanila', 1283: 'konyol', 1284: 'mengotori', 1285: 'musnah', 1286: 'kecepatan', 1287: 'sepuluh', 1288: 'ribu', 1289: 'hektar', 1290: 'per', 1291: 'menginginkan', 1292: \"'sport'\", 1293: 'tertarik', 1294: 'sekelasku', 1295: 'saling', 1296: 'meledakkan', 1297: 'berkeping', 1298: 'keping', 1299: 'untungnya', 1300: 'termasuk', 1301: 'pembayaran', 1302: 'profesional', 1303: 'survei', 1304: 'suatu', 1305: 'menyuruhnya', 1306: 'garasi', 1307: 'lambat', 1308: 'harta', 1309: 'warisannya', 1310: 'berjudi', 1311: 'teknis', 1312: 'filmnya', 1313: 'ditayangkan', 1314: 'diumumkan', 1315: 'diet', 1316: 'senam', 1317: 'lantai', 1318: 'crunch', 1319: 'buncit', 1320: 'berjerawat', 1321: 'wajahku', 1322: 'mixi', 1323: 'keributan', 1324: 'satpam', 1325: 'mengamankan', 1326: 'ketahuan', 1327: 'mengutil', 1328: 'pikiranmu', 1329: 'kedai', 1330: 'pertandingan', 1331: 'gulat', 1332: 'dibebaskan', 1333: 'pekerjaaan', 1334: 'mayoritas', 1335: 'pekerja', 1336: 'libur', 1337: 'kudengar', 1338: 'jejak', 1339: 'pegunungan', 1340: 'himalaya', 1341: 'roger', 1342: 'miller', 1343: 'gitar', 1344: 'biola', 1345: 'drum', 1346: 'menghitung', 1347: 'lelah', 1348: 'terjerumus', 1349: 'pergaulan', 1350: 'ditangkap', 1351: 'kasus', 1352: 'ranjangnya', 1353: 'beranjak', 1354: 'dapur', 1355: 'meletakkan', 1356: 'potong', 1357: 'roti', 1358: 'pemanggang', 1359: 'berminggu', 1360: 'memeras', 1361: 'keringat', 1362: 'proyeknya', 1363: 'terang', 1364: 'usahanya', 1365: 'penjelasan', 1366: 'pak', 1367: 'guru', 1368: 'memahaminya', 1369: 'persendiaanya', 1370: 'kaku', 1371: 'posisi', 1372: 'cetakan', 1373: 'asuransinya', 1374: 'tuntutannya', 1375: 'disertakan', 1376: 'informasinya', 1377: 'untukmu', 1378: 'mahasiswa', 1379: 'sekurang', 1380: 'pakai', 1381: 'tabir', 1382: 'surya', 1383: 'ya', 1384: 'terserah', 1385: 'mengeluh', 1386: 'kulitmu', 1387: 'menyetrika', 1388: 'setrika', 1389: 'mencabut', 1390: 'kabelnya', 1391: 'stopkontak', 1392: 'mendingin', 1393: 'irene', 1394: 'pepperberg', 1395: 'peneliti', 1396: 'northwestern', 1397: 'burung', 1398: 'beo', 1399: 'menirukan', 1400: 'perkataan', 1401: 'berkesempatan', 1402: 'menguasai', 1403: 'diinginkannya', 1404: 'menginjak', 1405: 'dewasa', 1406: 'tingkatan', 1407: 'antaranya', 1408: 'memasang', 1409: 'layak', 1410: 'peringkat', 1411: 'menganggap', 1412: 'beri', 1413: 'pc', 1414: 'cp', 1415: 'autoscroll', 1416: 'dinonaktifkan', 1417: 'sementara', 1418: 'dioptimalkan', 1419: 'galaxy', 1420: 'tab', 1421: 's7', 1422: 'antarmuka', 1423: 'smartphone', 1424: 'sebagaimana', 1425: 'sesi', 1426: 'perlahan', 1427: 'lahan', 1428: 'menurunkan', 1429: 'kinerjanya', 1430: 'percakapan', 1431: 'terkait', 1432: 'komunitas', 1433: 'rumit', 1434: 'membingungkan', 1435: 'integral', 1436: 'itulah', 1437: 'sebabnya', 1438: 'kesal', 1439: 'menjelajahi', 1440: 'emote', 1441: 'ketik', 1442: 'habiskan', 1443: '23', 1444: 'didapatkan', 1445: 'irl', 1446: 'relatif', 1447: 'detik', 1448: 'berkeliling', 1449: 'dll', 1450: 'mendaftarkan', 1451: 'konsumsi', 1452: 'datanya', 1453: 'dikurangi', 1454: 'dibuat', 1455: '99', 1456: 'browser', 1457: 'menabrak', 1458: 'jarang', 1459: 'faktanya', 1460: 'peredam', 1461: 'bising', 1462: 'pengurangan', 1463: 'perselisihan', 1464: 'sukai', 1465: 'dimiliki', 1466: 'desktop', 1467: 'bf', 1468: 'jauhnya', 1469: 'pengembang', 1470: 'merespons', 1471: 'kustomisasinya', 1472: 'bosan', 1473: 'mengelola', 1474: 'mikro', 1475: 'push', 1476: 'keren', 1477: 'terburuk', 1478: 'diperparah', 1479: 'kebisingan', 1480: 'dihilangkan', 1481: 'headphone', 1482: 'berbulan', 1483: 'rekan', 1484: 'miliki', 1485: 'rol', 1486: 'discover', 1487: 'menonaktifkannya', 1488: 'menurut', 1489: 'informatif', 1490: 'menahan', 1491: 'berlangganan', 1492: 'kedengarannya', 1493: 'pengeditan', 1494: 'mengirimi', 1495: 'mendownload', 1496: 'story', 1497: 'block', 1498: 'membatalkan', 1499: 'penambahan', 1500: 'tentu', 1501: 'mengatasinya', 1502: 'buggy', 1503: 'rentetan', 1504: 'privasi', 1505: 'invasif', 1506: 'wastafel', 1507: 'intuitif', 1508: 'disangkal', 1509: 'buram', 1510: 'menyambungkan', 1511: 'terputus', 1512: 'sambungkan', 1513: 'dimuat', 1514: 'ubah', 1515: 'flash', 1516: 'dibanjiri', 1517: 'mengeposkan', 1518: 'menyadap', 1519: 'lag', 1520: 'tertinggal', 1521: 'mengatasi', 1522: 'mengembangkan', 1523: 'permainan', 1524: 'sorotan', 1525: 'tama', 1526: 'mengaktifkan', 1527: 'filternya', 1528: 'penurunan', 1529: 'gunakan', 1530: 'tuhan', 1531: 'hilangkan', 1532: 'gulir', 1533: 'memilikinya', 1534: 'berdering', 1535: 'diputar', 1536: 'menghentikan', 1537: 'favorit', 1538: 'khusus', 1539: 'terhapus', 1540: 'dihapus', 1541: 'bisnis', 1542: 'alat', 1543: 'pesannya', 1544: 'andal', 1545: 'desainnya', 1546: 'indah', 1547: 'grupnya', 1548: 'menonjol', 1549: 'mengoptimalkan', 1550: 'terbebani', 1551: 'saran', 1552: 'devs', 1553: 'praktis', 1554: 'disebutkan', 1555: 'memperburuk', 1556: 'tim', 1557: 'perekaman', 1558: 'proses', 1559: 'ditawarkannya', 1560: 'membagi', 1561: 'memindahkan', 1562: 'umpan', 1563: 'maupun', 1564: 'call', 1565: 'masukkan', 1566: 'tingkatkan', 1567: 'dukungan', 1568: 's', 1569: 'pen', 1570: 'input', 1571: 'pena', 1572: 'unduhan', 1573: 'pencarian', 1574: 'pemutar', 1575: 'eksternal', 1576: 'dimodifikasi', 1577: 'pihak', 1578: 'mengetuknya', 1579: 'terbaiknya', 1580: 'aman', 1581: 'fantastis', 1582: 'efektif', 1583: 'memudahkan', 1584: 'menyortir', 1585: 'menyematkan', 1586: 'menjadwalkan', 1587: 'film', 1588: 'diunduh', 1589: 'explorer', 1590: 'utilitas', 1591: 'umum', 1592: 'kustomisasi', 1593: 'im', 1594: 'ditambah', 1595: 'redup', 1596: 'gif', 1597: 'dibagikan', 1598: 'merepotkan', 1599: 'menggulir', 1600: 'pesaing', 1601: 'menonaktifkan', 1602: 'indikator', 1603: 'pengetikan', 1604: 'tanda', 1605: 'miskin', 1606: 'terlepas', 1607: 'basis', 1608: 'scammers', 1609: 'mengakhirinya', 1610: 'samping', 1611: 'ulasan', 1612: 'sebulan', 1613: 'membawa', 1614: 'panjang', 1615: 'mengetuk', 1616: 'melaporkan', 1617: 'alami', 1618: 'menghargai', 1619: 'diambil', 1620: 'sms', 1621: 'bersumpah', 1622: 'mengutuk', 1623: 'bijaksana', 1624: 'mentransfer', 1625: 'reaksi', 1626: 'balasan', 1627: 'lokasi', 1628: 'penyesuaian', 1629: 'efisien', 1630: 'hai', 1631: '2018', 1632: 'lingkungan', 1633: 'peran', 1634: 'sinyal', 1635: 'penerimaan', 1636: 'sedangkan', 1637: '21', 1638: 'instant', 1639: 'crash', 1640: 'menolak', 1641: 'aktivitas', 1642: 'spam', 1643: 'dimigrasikan', 1644: 'diberitahu', 1645: 'poin', 1646: 'kekurangan', 1647: 'mengunggah', 1648: 'sambil', 1649: 'pesona', 1650: 'mengizinkan', 1651: '64gb', 1652: 'beli', 1653: 'mengaksesnya', 1654: 'meluncurkan', 1655: 'membalas', 1656: 'diseret', 1657: 'kehilangan', 1658: 'dibaca', 1659: 'eksplorasi', 1660: 'dirilis', 1661: 'stiker', 1662: 'gratis', 1663: 'program', 1664: 'temui', 1665: 'konsep', 1666: '26', 1667: '22', 1668: 'menikmati', 1669: 'akses', 1670: 'bluetooth', 1671: 'lunak', 1672: '2021', 1673: 'masalahnya', 1674: '4gb', 1675: 'google', 1676: 'drive', 1677: 'mendukung', 1678: 'menerapkan', 1679: 'uninstall', 1680: 'menginstalnya', 1681: 'menghubungkan', 1682: 'sinkronisasi', 1683: 'pemutakhiran', 1684: 'memasuki', 1685: 'tertunda', 1686: 'dilema', 1687: 'saatnya', 1688: 'mengupgrade', 1689: 'omong', 1690: 'kosong', 1691: 'mengurangi', 1692: 'ramah', 1693: 'mengetik', 1694: 'mengklik', 1695: 'menyimpan', 1696: 'draf', 1697: 'diarsipkan', 1698: 'dipindahkan', 1699: 'meragukan', 1700: 'enkripsi', 1701: 'meningkat', 1702: 'pop', 1703: 'up', 1704: 'backup', 1705: '02', 1706: '00', 1707: 'menguninstall', 1708: \"'restore\", 1709: \"media'\", 1710: '97', 1711: 'rekaman', 1712: 'membisukan', 1713: 'pilih', 1714: 'jangka', 1715: 'berhari', 1716: 'mengunduhnya', 1717: 'verifikasi', 1718: 'kompresinya', 1719: 'berkualitas', 1720: 'rendah', 1721: 'menelepon', 1722: 'pas', 1723: 'voice', 1724: 'default', 1725: 'timur', 1726: 'merusak', 1727: 'menyamarkannya', 1728: 'beralih', 1729: '180', 1730: 'derajat', 1731: 'departemen', 1732: 'mencadangkan', 1733: 'normal', 1734: \"'hubungi\", 1735: \"kami'\", 1736: 'mengunduh', 1737: 'anggota', 1738: 'instalasi', 1739: 'laptop', 1740: 'menjawab', 1741: 'segalanya', 1742: 'coba', 1743: 'sertakan', 1744: \"'jangan\", 1745: 'mendunia', 1746: 'recent', 1747: 'invite', 1748: 'keduanya', 1749: 'kerabat', 1750: 'pilihan', 1751: 'harapan', 1752: 'berselancar', 1753: 'performa', 1754: 'desain', 1755: 'pemrograman', 1756: 'update', 1757: 'terutama', 1758: 'terkirim', 1759: 'kekurangannya', 1760: 'batasan'}\n"
          ]
        }
      ]
    },
    {
      "cell_type": "code",
      "source": [
        "def n_gram_sequences(corpus, tokenizer):\n",
        "  sequences = list()\n",
        "\n",
        "  for l in corpus:\n",
        "    tokens = tokenizer.texts_to_sequences([l])[0]\n",
        "    for i in range(2, len(tokens)):\n",
        "      n_grams = tokens[:i+1]\n",
        "      sequences.append(n_grams)\n",
        "\n",
        "  return sequences"
      ],
      "metadata": {
        "id": "S96moN6WBVHJ"
      },
      "execution_count": 55,
      "outputs": []
    },
    {
      "cell_type": "code",
      "source": [
        "sequences = n_gram_sequences(corpus, tokenizer)\n",
        "maxlen = max([len(i) for i in sequences])\n",
        "\n",
        "print(f\"Max word length: {maxlen}\")"
      ],
      "metadata": {
        "colab": {
          "base_uri": "https://localhost:8080/"
        },
        "id": "dYL6fK_YCeF_",
        "outputId": "24282ee4-aff4-441e-cc99-78fd05d3de4b"
      },
      "execution_count": 56,
      "outputs": [
        {
          "output_type": "stream",
          "name": "stdout",
          "text": [
            "Max word length: 23\n"
          ]
        }
      ]
    },
    {
      "cell_type": "code",
      "source": [
        "pad_seqs = np.array(pad_sequences(sequences, maxlen=maxlen))\n",
        "print(pad_seqs[0])"
      ],
      "metadata": {
        "id": "W4GBg6X-Da8K",
        "outputId": "6b935932-3688-4090-e9d0-2e68a8d6e459",
        "colab": {
          "base_uri": "https://localhost:8080/"
        }
      },
      "execution_count": 57,
      "outputs": [
        {
          "output_type": "stream",
          "name": "stdout",
          "text": [
            "[  0   0   0   0   0   0   0   0   0   0   0   0   0   0   0   0   0   0\n",
            "   0   0   9 157   9]\n"
          ]
        }
      ]
    },
    {
      "cell_type": "code",
      "source": [
        "def get_features_and_labels(sequences, n_classes):\n",
        "  features = sequences[:, :-1]\n",
        "  labels = sequences[:, -1]\n",
        "  one_hot_labels = tf.keras.utils.to_categorical(labels, num_classes=n_classes)\n",
        "\n",
        "  return features, one_hot_labels"
      ],
      "metadata": {
        "id": "JPJNk0jOEHaU"
      },
      "execution_count": 65,
      "outputs": []
    },
    {
      "cell_type": "code",
      "source": [
        "features, labels = get_features_and_labels(pad_seqs, total_words)\n",
        "\n",
        "print(features[0:5])"
      ],
      "metadata": {
        "id": "kfSd8iPqEvsi",
        "outputId": "4f6a8999-50ef-4945-927c-250b3076d50c",
        "colab": {
          "base_uri": "https://localhost:8080/"
        }
      },
      "execution_count": 70,
      "outputs": [
        {
          "output_type": "stream",
          "name": "stdout",
          "text": [
            "[[  0   0   0   0   0   0   0   0   0   0   0   0   0   0   0   0   0   0\n",
            "    0   0   9 157]\n",
            " [  0   0   0   0   0   0   0   0   0   0   0   0   0   0   0   0   0   0\n",
            "    0   9 157   9]\n",
            " [  0   0   0   0   0   0   0   0   0   0   0   0   0   0   0   0   0   0\n",
            "    9 157   9  13]\n",
            " [  0   0   0   0   0   0   0   0   0   0   0   0   0   0   0   0   0   9\n",
            "  157   9  13 299]\n",
            " [  0   0   0   0   0   0   0   0   0   0   0   0   0   0   0   0   9 157\n",
            "    9  13 299  26]]\n"
          ]
        }
      ]
    },
    {
      "cell_type": "code",
      "source": [
        "def build_model(n_classes, embedd_dims, maxlen):\n",
        "  model = tf.keras.Sequential()\n",
        "\n",
        "  model.add(layers.Embedding(n_classes, embedd_dims, input_length=maxlen-1))\n",
        "  model.add(layers.Dropout(0.3))\n",
        "  model.add(layers.Bidirectional(layers.GRU(128, return_sequences=True)))\n",
        "  model.add(layers.Bidirectional(layers.GRU(256, return_sequences=True)))\n",
        "  model.add(layers.Dropout(0.3))\n",
        "  model.add(layers.GlobalMaxPooling1D())\n",
        "  model.add(layers.Dense(1024, activation=tf.nn.relu))\n",
        "  model.add(layers.Dense(n_classes, activation=tf.nn.softmax))\n",
        "\n",
        "  return model"
      ],
      "metadata": {
        "id": "k-1WckLNGMxc"
      },
      "execution_count": 72,
      "outputs": []
    },
    {
      "cell_type": "code",
      "source": [
        "EPOCHS = 150\n",
        "EMBED_DIMS = 64\n",
        "LR = 0.001\n",
        "\n",
        "OPTIMIZER = tf.keras.optimizers.Adam(learning_rate=LR)\n",
        "LOSS = tf.keras.losses.categorical_crossentropy\n",
        "\n",
        "CHECKPOINT_DIR = \"/content/IOH-Chat-App/Machine Learning/datasets/text generation/training_checkpoints\"\n",
        "checkpoint_callback = model_checkpoint_callback = tf.keras.callbacks.ModelCheckpoint(\n",
        "    filepath=CHECKPOINT_DIR,\n",
        "    save_weights_only=True,\n",
        "    monitor='val_accuracy',\n",
        "    mode='max',\n",
        "    save_freq=10,\n",
        "    save_best_only=True)"
      ],
      "metadata": {
        "id": "KdR8YT0WH7Bu"
      },
      "execution_count": 73,
      "outputs": []
    },
    {
      "cell_type": "code",
      "source": [
        "model = build_model(\n",
        "    total_words, \n",
        "    EMBED_DIMS, \n",
        "    maxlen\n",
        ")\n",
        "\n",
        "model.compile(\n",
        "    optimizer=OPTIMIZER,\n",
        "    loss=LOSS,\n",
        "    metrics=[\"accuracy\"],\n",
        ")\n",
        "\n",
        "model.fit(\n",
        "    features,\n",
        "    labels,\n",
        "    epochs=EPOCHS,\n",
        "    callbacks=[checkpoint_callback],\n",
        "    verbose=1,\n",
        ")\n",
        "\n",
        "model.load_weights(CHECKPOINT_DIR)"
      ],
      "metadata": {
        "id": "soI0Z_LjKoTe",
        "outputId": "9000447c-96a1-437c-e56e-1fa62e25cbde",
        "colab": {
          "base_uri": "https://localhost:8080/"
        }
      },
      "execution_count": null,
      "outputs": [
        {
          "output_type": "stream",
          "name": "stdout",
          "text": [
            "Epoch 1/150\n",
            "  9/228 [>.............................] - ETA: 54s - loss: 7.4134 - accuracy: 0.0104WARNING:tensorflow:Can save best model only with val_accuracy available, skipping.\n",
            " 19/228 [=>............................] - ETA: 53s - loss: 7.0920 - accuracy: 0.0230WARNING:tensorflow:Can save best model only with val_accuracy available, skipping.\n",
            " 29/228 [==>...........................] - ETA: 49s - loss: 6.9487 - accuracy: 0.0302WARNING:tensorflow:Can save best model only with val_accuracy available, skipping.\n",
            " 39/228 [====>.........................] - ETA: 46s - loss: 6.8646 - accuracy: 0.0321WARNING:tensorflow:Can save best model only with val_accuracy available, skipping.\n",
            " 49/228 [=====>........................] - ETA: 44s - loss: 6.8436 - accuracy: 0.0293WARNING:tensorflow:Can save best model only with val_accuracy available, skipping.\n",
            " 59/228 [======>.......................] - ETA: 41s - loss: 6.8054 - accuracy: 0.0297WARNING:tensorflow:Can save best model only with val_accuracy available, skipping.\n",
            " 69/228 [========>.....................] - ETA: 39s - loss: 6.7710 - accuracy: 0.0312WARNING:tensorflow:Can save best model only with val_accuracy available, skipping.\n",
            " 79/228 [=========>....................] - ETA: 36s - loss: 6.7002 - accuracy: 0.0332WARNING:tensorflow:Can save best model only with val_accuracy available, skipping.\n",
            " 89/228 [==========>...................] - ETA: 34s - loss: 6.6798 - accuracy: 0.0330WARNING:tensorflow:Can save best model only with val_accuracy available, skipping.\n",
            " 99/228 [============>.................] - ETA: 31s - loss: 6.6735 - accuracy: 0.0335WARNING:tensorflow:Can save best model only with val_accuracy available, skipping.\n",
            "109/228 [=============>................] - ETA: 29s - loss: 6.6649 - accuracy: 0.0335WARNING:tensorflow:Can save best model only with val_accuracy available, skipping.\n",
            "119/228 [==============>...............] - ETA: 26s - loss: 6.6612 - accuracy: 0.0328WARNING:tensorflow:Can save best model only with val_accuracy available, skipping.\n",
            "129/228 [===============>..............] - ETA: 24s - loss: 6.6434 - accuracy: 0.0317WARNING:tensorflow:Can save best model only with val_accuracy available, skipping.\n",
            "139/228 [=================>............] - ETA: 21s - loss: 6.6194 - accuracy: 0.0315WARNING:tensorflow:Can save best model only with val_accuracy available, skipping.\n",
            "149/228 [==================>...........] - ETA: 19s - loss: 6.6062 - accuracy: 0.0321WARNING:tensorflow:Can save best model only with val_accuracy available, skipping.\n",
            "159/228 [===================>..........] - ETA: 16s - loss: 6.6027 - accuracy: 0.0320WARNING:tensorflow:Can save best model only with val_accuracy available, skipping.\n",
            "169/228 [=====================>........] - ETA: 14s - loss: 6.5855 - accuracy: 0.0324WARNING:tensorflow:Can save best model only with val_accuracy available, skipping.\n",
            "179/228 [======================>.......] - ETA: 11s - loss: 6.5874 - accuracy: 0.0330WARNING:tensorflow:Can save best model only with val_accuracy available, skipping.\n",
            "189/228 [=======================>......] - ETA: 9s - loss: 6.5776 - accuracy: 0.0336WARNING:tensorflow:Can save best model only with val_accuracy available, skipping.\n",
            "199/228 [=========================>....] - ETA: 7s - loss: 6.5702 - accuracy: 0.0347WARNING:tensorflow:Can save best model only with val_accuracy available, skipping.\n",
            "209/228 [==========================>...] - ETA: 4s - loss: 6.5620 - accuracy: 0.0350WARNING:tensorflow:Can save best model only with val_accuracy available, skipping.\n",
            "219/228 [===========================>..] - ETA: 2s - loss: 6.5602 - accuracy: 0.0341WARNING:tensorflow:Can save best model only with val_accuracy available, skipping.\n",
            "228/228 [==============================] - 63s 243ms/step - loss: 6.5577 - accuracy: 0.0348\n",
            "Epoch 2/150\n",
            "  1/228 [..............................] - ETA: 54s - loss: 6.0488 - accuracy: 0.0312WARNING:tensorflow:Can save best model only with val_accuracy available, skipping.\n",
            " 11/228 [>.............................] - ETA: 52s - loss: 6.2835 - accuracy: 0.0227WARNING:tensorflow:Can save best model only with val_accuracy available, skipping.\n",
            " 21/228 [=>............................] - ETA: 49s - loss: 6.2578 - accuracy: 0.0327WARNING:tensorflow:Can save best model only with val_accuracy available, skipping.\n",
            " 31/228 [===>..........................] - ETA: 45s - loss: 6.2129 - accuracy: 0.0343WARNING:tensorflow:Can save best model only with val_accuracy available, skipping.\n",
            " 41/228 [====>.........................] - ETA: 43s - loss: 6.1937 - accuracy: 0.0343WARNING:tensorflow:Can save best model only with val_accuracy available, skipping.\n",
            " 51/228 [=====>........................] - ETA: 41s - loss: 6.1880 - accuracy: 0.0325WARNING:tensorflow:Can save best model only with val_accuracy available, skipping.\n",
            " 61/228 [=======>......................] - ETA: 39s - loss: 6.1765 - accuracy: 0.0348WARNING:tensorflow:Can save best model only with val_accuracy available, skipping.\n",
            " 71/228 [========>.....................] - ETA: 37s - loss: 6.1916 - accuracy: 0.0348WARNING:tensorflow:Can save best model only with val_accuracy available, skipping.\n",
            " 81/228 [=========>....................] - ETA: 34s - loss: 6.1815 - accuracy: 0.0359WARNING:tensorflow:Can save best model only with val_accuracy available, skipping.\n",
            " 91/228 [==========>...................] - ETA: 32s - loss: 6.1617 - accuracy: 0.0374WARNING:tensorflow:Can save best model only with val_accuracy available, skipping.\n",
            "101/228 [============>.................] - ETA: 30s - loss: 6.1648 - accuracy: 0.0381WARNING:tensorflow:Can save best model only with val_accuracy available, skipping.\n",
            "111/228 [=============>................] - ETA: 27s - loss: 6.1678 - accuracy: 0.0380WARNING:tensorflow:Can save best model only with val_accuracy available, skipping.\n",
            "121/228 [==============>...............] - ETA: 25s - loss: 6.1684 - accuracy: 0.0364WARNING:tensorflow:Can save best model only with val_accuracy available, skipping.\n",
            "131/228 [================>.............] - ETA: 23s - loss: 6.1770 - accuracy: 0.0367WARNING:tensorflow:Can save best model only with val_accuracy available, skipping.\n",
            "141/228 [=================>............] - ETA: 20s - loss: 6.1752 - accuracy: 0.0375WARNING:tensorflow:Can save best model only with val_accuracy available, skipping.\n",
            "151/228 [==================>...........] - ETA: 18s - loss: 6.1757 - accuracy: 0.0366WARNING:tensorflow:Can save best model only with val_accuracy available, skipping.\n",
            "161/228 [====================>.........] - ETA: 15s - loss: 6.1812 - accuracy: 0.0359WARNING:tensorflow:Can save best model only with val_accuracy available, skipping.\n",
            "171/228 [=====================>........] - ETA: 13s - loss: 6.1828 - accuracy: 0.0360WARNING:tensorflow:Can save best model only with val_accuracy available, skipping.\n",
            "181/228 [======================>.......] - ETA: 11s - loss: 6.1859 - accuracy: 0.0359WARNING:tensorflow:Can save best model only with val_accuracy available, skipping.\n",
            "191/228 [========================>.....] - ETA: 8s - loss: 6.1854 - accuracy: 0.0360WARNING:tensorflow:Can save best model only with val_accuracy available, skipping.\n",
            "201/228 [=========================>....] - ETA: 6s - loss: 6.1906 - accuracy: 0.0365WARNING:tensorflow:Can save best model only with val_accuracy available, skipping.\n",
            "211/228 [==========================>...] - ETA: 4s - loss: 6.2017 - accuracy: 0.0358WARNING:tensorflow:Can save best model only with val_accuracy available, skipping.\n",
            "221/228 [============================>.] - ETA: 1s - loss: 6.2001 - accuracy: 0.0368WARNING:tensorflow:Can save best model only with val_accuracy available, skipping.\n",
            "228/228 [==============================] - 55s 241ms/step - loss: 6.1969 - accuracy: 0.0374\n",
            "Epoch 3/150\n",
            "  3/228 [..............................] - ETA: 54s - loss: 5.7279 - accuracy: 0.0625WARNING:tensorflow:Can save best model only with val_accuracy available, skipping.\n",
            " 13/228 [>.............................] - ETA: 51s - loss: 5.9528 - accuracy: 0.0577WARNING:tensorflow:Can save best model only with val_accuracy available, skipping.\n",
            " 23/228 [==>...........................] - ETA: 50s - loss: 5.9366 - accuracy: 0.0462WARNING:tensorflow:Can save best model only with val_accuracy available, skipping.\n",
            " 33/228 [===>..........................] - ETA: 47s - loss: 6.0059 - accuracy: 0.0417WARNING:tensorflow:Can save best model only with val_accuracy available, skipping.\n",
            " 43/228 [====>.........................] - ETA: 45s - loss: 6.0213 - accuracy: 0.0436WARNING:tensorflow:Can save best model only with val_accuracy available, skipping.\n",
            " 53/228 [=====>........................] - ETA: 42s - loss: 6.0214 - accuracy: 0.0478WARNING:tensorflow:Can save best model only with val_accuracy available, skipping.\n",
            " 63/228 [=======>......................] - ETA: 40s - loss: 6.0239 - accuracy: 0.0451WARNING:tensorflow:Can save best model only with val_accuracy available, skipping.\n",
            " 73/228 [========>.....................] - ETA: 38s - loss: 6.0192 - accuracy: 0.0449WARNING:tensorflow:Can save best model only with val_accuracy available, skipping.\n",
            " 83/228 [=========>....................] - ETA: 35s - loss: 6.0393 - accuracy: 0.0452WARNING:tensorflow:Can save best model only with val_accuracy available, skipping.\n",
            " 93/228 [===========>..................] - ETA: 33s - loss: 6.0468 - accuracy: 0.0450WARNING:tensorflow:Can save best model only with val_accuracy available, skipping.\n",
            "103/228 [============>.................] - ETA: 30s - loss: 6.0427 - accuracy: 0.0449WARNING:tensorflow:Can save best model only with val_accuracy available, skipping.\n",
            "113/228 [=============>................] - ETA: 28s - loss: 6.0488 - accuracy: 0.0451WARNING:tensorflow:Can save best model only with val_accuracy available, skipping.\n",
            "123/228 [===============>..............] - ETA: 25s - loss: 6.0569 - accuracy: 0.0445WARNING:tensorflow:Can save best model only with val_accuracy available, skipping.\n",
            "133/228 [================>.............] - ETA: 23s - loss: 6.0753 - accuracy: 0.0435WARNING:tensorflow:Can save best model only with val_accuracy available, skipping.\n",
            "143/228 [=================>............] - ETA: 20s - loss: 6.0738 - accuracy: 0.0444WARNING:tensorflow:Can save best model only with val_accuracy available, skipping.\n",
            "153/228 [===================>..........] - ETA: 18s - loss: 6.0692 - accuracy: 0.0449WARNING:tensorflow:Can save best model only with val_accuracy available, skipping.\n",
            "163/228 [====================>.........] - ETA: 16s - loss: 6.0783 - accuracy: 0.0441WARNING:tensorflow:Can save best model only with val_accuracy available, skipping.\n",
            "173/228 [=====================>........] - ETA: 13s - loss: 6.0817 - accuracy: 0.0448WARNING:tensorflow:Can save best model only with val_accuracy available, skipping.\n",
            "183/228 [=======================>......] - ETA: 11s - loss: 6.0741 - accuracy: 0.0444WARNING:tensorflow:Can save best model only with val_accuracy available, skipping.\n",
            "193/228 [========================>.....] - ETA: 8s - loss: 6.0669 - accuracy: 0.0440WARNING:tensorflow:Can save best model only with val_accuracy available, skipping.\n",
            "203/228 [=========================>....] - ETA: 6s - loss: 6.0736 - accuracy: 0.0442WARNING:tensorflow:Can save best model only with val_accuracy available, skipping.\n",
            "213/228 [===========================>..] - ETA: 3s - loss: 6.0826 - accuracy: 0.0439WARNING:tensorflow:Can save best model only with val_accuracy available, skipping.\n",
            "223/228 [============================>.] - ETA: 1s - loss: 6.0774 - accuracy: 0.0443WARNING:tensorflow:Can save best model only with val_accuracy available, skipping.\n",
            "228/228 [==============================] - 56s 245ms/step - loss: 6.0764 - accuracy: 0.0447\n",
            "Epoch 4/150\n",
            "  5/228 [..............................] - ETA: 55s - loss: 5.6127 - accuracy: 0.0562WARNING:tensorflow:Can save best model only with val_accuracy available, skipping.\n",
            " 15/228 [>.............................] - ETA: 52s - loss: 5.8638 - accuracy: 0.0500WARNING:tensorflow:Can save best model only with val_accuracy available, skipping.\n",
            " 25/228 [==>...........................] - ETA: 49s - loss: 5.9378 - accuracy: 0.0463WARNING:tensorflow:Can save best model only with val_accuracy available, skipping.\n",
            " 35/228 [===>..........................] - ETA: 47s - loss: 5.9431 - accuracy: 0.0509WARNING:tensorflow:Can save best model only with val_accuracy available, skipping.\n",
            " 45/228 [====>.........................] - ETA: 45s - loss: 5.9545 - accuracy: 0.0472WARNING:tensorflow:Can save best model only with val_accuracy available, skipping.\n",
            " 55/228 [======>.......................] - ETA: 42s - loss: 5.9306 - accuracy: 0.0500WARNING:tensorflow:Can save best model only with val_accuracy available, skipping.\n",
            " 65/228 [=======>......................] - ETA: 40s - loss: 5.9312 - accuracy: 0.0452WARNING:tensorflow:Can save best model only with val_accuracy available, skipping.\n",
            " 75/228 [========>.....................] - ETA: 37s - loss: 5.9243 - accuracy: 0.0463WARNING:tensorflow:Can save best model only with val_accuracy available, skipping.\n",
            " 85/228 [==========>...................] - ETA: 35s - loss: 5.9218 - accuracy: 0.0460WARNING:tensorflow:Can save best model only with val_accuracy available, skipping.\n",
            " 95/228 [===========>..................] - ETA: 32s - loss: 5.9244 - accuracy: 0.0470WARNING:tensorflow:Can save best model only with val_accuracy available, skipping.\n",
            "105/228 [============>.................] - ETA: 30s - loss: 5.9179 - accuracy: 0.0470WARNING:tensorflow:Can save best model only with val_accuracy available, skipping.\n",
            "115/228 [==============>...............] - ETA: 27s - loss: 5.9200 - accuracy: 0.0470WARNING:tensorflow:Can save best model only with val_accuracy available, skipping.\n",
            "125/228 [===============>..............] - ETA: 25s - loss: 5.9038 - accuracy: 0.0490WARNING:tensorflow:Can save best model only with val_accuracy available, skipping.\n",
            "135/228 [================>.............] - ETA: 22s - loss: 5.9028 - accuracy: 0.0486WARNING:tensorflow:Can save best model only with val_accuracy available, skipping.\n",
            "145/228 [==================>...........] - ETA: 20s - loss: 5.8930 - accuracy: 0.0498WARNING:tensorflow:Can save best model only with val_accuracy available, skipping.\n",
            "155/228 [===================>..........] - ETA: 17s - loss: 5.8911 - accuracy: 0.0486WARNING:tensorflow:Can save best model only with val_accuracy available, skipping.\n",
            "165/228 [====================>.........] - ETA: 15s - loss: 5.8834 - accuracy: 0.0481WARNING:tensorflow:Can save best model only with val_accuracy available, skipping.\n",
            "175/228 [======================>.......] - ETA: 13s - loss: 5.8756 - accuracy: 0.0480WARNING:tensorflow:Can save best model only with val_accuracy available, skipping.\n",
            "185/228 [=======================>......] - ETA: 10s - loss: 5.8697 - accuracy: 0.0492WARNING:tensorflow:Can save best model only with val_accuracy available, skipping.\n",
            "195/228 [========================>.....] - ETA: 8s - loss: 5.8697 - accuracy: 0.0500WARNING:tensorflow:Can save best model only with val_accuracy available, skipping.\n",
            "205/228 [=========================>....] - ETA: 5s - loss: 5.8744 - accuracy: 0.0491WARNING:tensorflow:Can save best model only with val_accuracy available, skipping.\n",
            "215/228 [===========================>..] - ETA: 3s - loss: 5.8802 - accuracy: 0.0499WARNING:tensorflow:Can save best model only with val_accuracy available, skipping.\n",
            "225/228 [============================>.] - ETA: 0s - loss: 5.8804 - accuracy: 0.0500WARNING:tensorflow:Can save best model only with val_accuracy available, skipping.\n",
            "228/228 [==============================] - 56s 245ms/step - loss: 5.8780 - accuracy: 0.0501\n",
            "Epoch 5/150\n",
            "  7/228 [..............................] - ETA: 53s - loss: 5.4427 - accuracy: 0.0804WARNING:tensorflow:Can save best model only with val_accuracy available, skipping.\n",
            " 17/228 [=>............................] - ETA: 50s - loss: 5.5545 - accuracy: 0.0790WARNING:tensorflow:Can save best model only with val_accuracy available, skipping.\n",
            " 27/228 [==>...........................] - ETA: 48s - loss: 5.5982 - accuracy: 0.0683WARNING:tensorflow:Can save best model only with val_accuracy available, skipping.\n",
            " 37/228 [===>..........................] - ETA: 46s - loss: 5.5883 - accuracy: 0.0650WARNING:tensorflow:Can save best model only with val_accuracy available, skipping.\n",
            " 47/228 [=====>........................] - ETA: 43s - loss: 5.5619 - accuracy: 0.0665WARNING:tensorflow:Can save best model only with val_accuracy available, skipping.\n",
            " 57/228 [======>.......................] - ETA: 41s - loss: 5.5805 - accuracy: 0.0630WARNING:tensorflow:Can save best model only with val_accuracy available, skipping.\n",
            " 67/228 [=======>......................] - ETA: 39s - loss: 5.5694 - accuracy: 0.0634WARNING:tensorflow:Can save best model only with val_accuracy available, skipping.\n",
            " 77/228 [=========>....................] - ETA: 36s - loss: 5.5864 - accuracy: 0.0641WARNING:tensorflow:Can save best model only with val_accuracy available, skipping.\n",
            " 87/228 [==========>...................] - ETA: 34s - loss: 5.5802 - accuracy: 0.0643WARNING:tensorflow:Can save best model only with val_accuracy available, skipping.\n",
            " 97/228 [===========>..................] - ETA: 31s - loss: 5.5759 - accuracy: 0.0660WARNING:tensorflow:Can save best model only with val_accuracy available, skipping.\n",
            "107/228 [=============>................] - ETA: 29s - loss: 5.5919 - accuracy: 0.0634WARNING:tensorflow:Can save best model only with val_accuracy available, skipping.\n",
            "117/228 [==============>...............] - ETA: 26s - loss: 5.5964 - accuracy: 0.0625WARNING:tensorflow:Can save best model only with val_accuracy available, skipping.\n",
            "127/228 [===============>..............] - ETA: 24s - loss: 5.5910 - accuracy: 0.0608WARNING:tensorflow:Can save best model only with val_accuracy available, skipping.\n",
            "137/228 [=================>............] - ETA: 22s - loss: 5.5767 - accuracy: 0.0609WARNING:tensorflow:Can save best model only with val_accuracy available, skipping.\n",
            "147/228 [==================>...........] - ETA: 19s - loss: 5.5718 - accuracy: 0.0625WARNING:tensorflow:Can save best model only with val_accuracy available, skipping.\n",
            "157/228 [===================>..........] - ETA: 17s - loss: 5.5881 - accuracy: 0.0633WARNING:tensorflow:Can save best model only with val_accuracy available, skipping.\n",
            "167/228 [====================>.........] - ETA: 14s - loss: 5.5882 - accuracy: 0.0632WARNING:tensorflow:Can save best model only with val_accuracy available, skipping.\n",
            "177/228 [======================>.......] - ETA: 12s - loss: 5.5916 - accuracy: 0.0625WARNING:tensorflow:Can save best model only with val_accuracy available, skipping.\n",
            "187/228 [=======================>......] - ETA: 9s - loss: 5.5963 - accuracy: 0.0620 WARNING:tensorflow:Can save best model only with val_accuracy available, skipping.\n",
            "197/228 [========================>.....] - ETA: 7s - loss: 5.5936 - accuracy: 0.0625WARNING:tensorflow:Can save best model only with val_accuracy available, skipping.\n",
            "207/228 [==========================>...] - ETA: 5s - loss: 5.5975 - accuracy: 0.0616WARNING:tensorflow:Can save best model only with val_accuracy available, skipping.\n",
            "217/228 [===========================>..] - ETA: 2s - loss: 5.6006 - accuracy: 0.0611WARNING:tensorflow:Can save best model only with val_accuracy available, skipping.\n",
            "227/228 [============================>.] - ETA: 0s - loss: 5.5966 - accuracy: 0.0624WARNING:tensorflow:Can save best model only with val_accuracy available, skipping.\n",
            "228/228 [==============================] - 55s 240ms/step - loss: 5.5961 - accuracy: 0.0624\n",
            "Epoch 6/150\n",
            "  9/228 [>.............................] - ETA: 53s - loss: 5.4344 - accuracy: 0.0729WARNING:tensorflow:Can save best model only with val_accuracy available, skipping.\n",
            " 19/228 [=>............................] - ETA: 50s - loss: 5.4410 - accuracy: 0.0707WARNING:tensorflow:Can save best model only with val_accuracy available, skipping.\n",
            " 29/228 [==>...........................] - ETA: 48s - loss: 5.3871 - accuracy: 0.0690WARNING:tensorflow:Can save best model only with val_accuracy available, skipping.\n",
            " 39/228 [====>.........................] - ETA: 46s - loss: 5.3711 - accuracy: 0.0665WARNING:tensorflow:Can save best model only with val_accuracy available, skipping.\n",
            " 49/228 [=====>........................] - ETA: 43s - loss: 5.3557 - accuracy: 0.0682WARNING:tensorflow:Can save best model only with val_accuracy available, skipping.\n",
            " 59/228 [======>.......................] - ETA: 41s - loss: 5.3701 - accuracy: 0.0657WARNING:tensorflow:Can save best model only with val_accuracy available, skipping.\n",
            " 69/228 [========>.....................] - ETA: 38s - loss: 5.3819 - accuracy: 0.0634WARNING:tensorflow:Can save best model only with val_accuracy available, skipping.\n",
            " 79/228 [=========>....................] - ETA: 36s - loss: 5.3758 - accuracy: 0.0633WARNING:tensorflow:Can save best model only with val_accuracy available, skipping.\n",
            " 89/228 [==========>...................] - ETA: 34s - loss: 5.3719 - accuracy: 0.0657WARNING:tensorflow:Can save best model only with val_accuracy available, skipping.\n",
            " 99/228 [============>.................] - ETA: 31s - loss: 5.3676 - accuracy: 0.0647WARNING:tensorflow:Can save best model only with val_accuracy available, skipping.\n",
            "109/228 [=============>................] - ETA: 28s - loss: 5.3619 - accuracy: 0.0668WARNING:tensorflow:Can save best model only with val_accuracy available, skipping.\n",
            "119/228 [==============>...............] - ETA: 26s - loss: 5.3560 - accuracy: 0.0683WARNING:tensorflow:Can save best model only with val_accuracy available, skipping.\n",
            "129/228 [===============>..............] - ETA: 23s - loss: 5.3518 - accuracy: 0.0695WARNING:tensorflow:Can save best model only with val_accuracy available, skipping.\n",
            "139/228 [=================>............] - ETA: 21s - loss: 5.3365 - accuracy: 0.0722WARNING:tensorflow:Can save best model only with val_accuracy available, skipping.\n",
            "149/228 [==================>...........] - ETA: 18s - loss: 5.3366 - accuracy: 0.0724WARNING:tensorflow:Can save best model only with val_accuracy available, skipping.\n",
            "159/228 [===================>..........] - ETA: 16s - loss: 5.3494 - accuracy: 0.0710WARNING:tensorflow:Can save best model only with val_accuracy available, skipping.\n",
            "169/228 [=====================>........] - ETA: 14s - loss: 5.3465 - accuracy: 0.0725WARNING:tensorflow:Can save best model only with val_accuracy available, skipping.\n",
            "179/228 [======================>.......] - ETA: 11s - loss: 5.3501 - accuracy: 0.0723WARNING:tensorflow:Can save best model only with val_accuracy available, skipping.\n",
            "189/228 [=======================>......] - ETA: 9s - loss: 5.3444 - accuracy: 0.0724WARNING:tensorflow:Can save best model only with val_accuracy available, skipping.\n",
            "199/228 [=========================>....] - ETA: 6s - loss: 5.3346 - accuracy: 0.0722WARNING:tensorflow:Can save best model only with val_accuracy available, skipping.\n",
            "209/228 [==========================>...] - ETA: 4s - loss: 5.3198 - accuracy: 0.0745WARNING:tensorflow:Can save best model only with val_accuracy available, skipping.\n",
            "219/228 [===========================>..] - ETA: 2s - loss: 5.3160 - accuracy: 0.0745WARNING:tensorflow:Can save best model only with val_accuracy available, skipping.\n",
            "228/228 [==============================] - 55s 239ms/step - loss: 5.3199 - accuracy: 0.0749\n",
            "Epoch 7/150\n",
            "  1/228 [..............................] - ETA: 56s - loss: 4.7167 - accuracy: 0.0938WARNING:tensorflow:Can save best model only with val_accuracy available, skipping.\n",
            " 11/228 [>.............................] - ETA: 52s - loss: 5.0887 - accuracy: 0.0881WARNING:tensorflow:Can save best model only with val_accuracy available, skipping.\n",
            " 21/228 [=>............................] - ETA: 50s - loss: 4.9515 - accuracy: 0.1101WARNING:tensorflow:Can save best model only with val_accuracy available, skipping.\n",
            " 31/228 [===>..........................] - ETA: 48s - loss: 5.0001 - accuracy: 0.0988WARNING:tensorflow:Can save best model only with val_accuracy available, skipping.\n",
            " 41/228 [====>.........................] - ETA: 45s - loss: 4.9837 - accuracy: 0.1021WARNING:tensorflow:Can save best model only with val_accuracy available, skipping.\n",
            " 51/228 [=====>........................] - ETA: 43s - loss: 4.9916 - accuracy: 0.1023WARNING:tensorflow:Can save best model only with val_accuracy available, skipping.\n",
            " 61/228 [=======>......................] - ETA: 41s - loss: 5.0073 - accuracy: 0.0968WARNING:tensorflow:Can save best model only with val_accuracy available, skipping.\n",
            " 71/228 [========>.....................] - ETA: 38s - loss: 5.0108 - accuracy: 0.0960WARNING:tensorflow:Can save best model only with val_accuracy available, skipping.\n",
            " 81/228 [=========>....................] - ETA: 36s - loss: 5.0212 - accuracy: 0.0945WARNING:tensorflow:Can save best model only with val_accuracy available, skipping.\n",
            " 91/228 [==========>...................] - ETA: 33s - loss: 5.0180 - accuracy: 0.0931WARNING:tensorflow:Can save best model only with val_accuracy available, skipping.\n",
            "101/228 [============>.................] - ETA: 31s - loss: 5.0133 - accuracy: 0.0956WARNING:tensorflow:Can save best model only with val_accuracy available, skipping.\n",
            "111/228 [=============>................] - ETA: 28s - loss: 5.0001 - accuracy: 0.0977WARNING:tensorflow:Can save best model only with val_accuracy available, skipping.\n",
            "121/228 [==============>...............] - ETA: 26s - loss: 5.0023 - accuracy: 0.0966WARNING:tensorflow:Can save best model only with val_accuracy available, skipping.\n",
            "131/228 [================>.............] - ETA: 23s - loss: 5.0204 - accuracy: 0.0952WARNING:tensorflow:Can save best model only with val_accuracy available, skipping.\n",
            "141/228 [=================>............] - ETA: 21s - loss: 5.0297 - accuracy: 0.0933WARNING:tensorflow:Can save best model only with val_accuracy available, skipping.\n",
            "151/228 [==================>...........] - ETA: 19s - loss: 5.0273 - accuracy: 0.0933WARNING:tensorflow:Can save best model only with val_accuracy available, skipping.\n",
            "161/228 [====================>.........] - ETA: 16s - loss: 5.0121 - accuracy: 0.0949WARNING:tensorflow:Can save best model only with val_accuracy available, skipping.\n",
            "171/228 [=====================>........] - ETA: 14s - loss: 5.0194 - accuracy: 0.0959WARNING:tensorflow:Can save best model only with val_accuracy available, skipping.\n",
            "181/228 [======================>.......] - ETA: 11s - loss: 5.0280 - accuracy: 0.0950WARNING:tensorflow:Can save best model only with val_accuracy available, skipping.\n",
            "191/228 [========================>.....] - ETA: 9s - loss: 5.0429 - accuracy: 0.0931WARNING:tensorflow:Can save best model only with val_accuracy available, skipping.\n",
            "201/228 [=========================>....] - ETA: 6s - loss: 5.0459 - accuracy: 0.0925WARNING:tensorflow:Can save best model only with val_accuracy available, skipping.\n",
            "211/228 [==========================>...] - ETA: 4s - loss: 5.0514 - accuracy: 0.0917WARNING:tensorflow:Can save best model only with val_accuracy available, skipping.\n",
            "221/228 [============================>.] - ETA: 1s - loss: 5.0520 - accuracy: 0.0915WARNING:tensorflow:Can save best model only with val_accuracy available, skipping.\n",
            "228/228 [==============================] - 56s 246ms/step - loss: 5.0541 - accuracy: 0.0912\n",
            "Epoch 8/150\n",
            "  3/228 [..............................] - ETA: 54s - loss: 4.5348 - accuracy: 0.1042WARNING:tensorflow:Can save best model only with val_accuracy available, skipping.\n",
            " 13/228 [>.............................] - ETA: 52s - loss: 4.6227 - accuracy: 0.1034WARNING:tensorflow:Can save best model only with val_accuracy available, skipping.\n",
            " 23/228 [==>...........................] - ETA: 49s - loss: 4.7425 - accuracy: 0.0924WARNING:tensorflow:Can save best model only with val_accuracy available, skipping.\n",
            " 33/228 [===>..........................] - ETA: 47s - loss: 4.7118 - accuracy: 0.0947WARNING:tensorflow:Can save best model only with val_accuracy available, skipping.\n",
            " 43/228 [====>.........................] - ETA: 44s - loss: 4.7224 - accuracy: 0.1025WARNING:tensorflow:Can save best model only with val_accuracy available, skipping.\n",
            " 53/228 [=====>........................] - ETA: 42s - loss: 4.7124 - accuracy: 0.1067WARNING:tensorflow:Can save best model only with val_accuracy available, skipping.\n",
            " 63/228 [=======>......................] - ETA: 40s - loss: 4.7059 - accuracy: 0.1106WARNING:tensorflow:Can save best model only with val_accuracy available, skipping.\n",
            " 73/228 [========>.....................] - ETA: 37s - loss: 4.7103 - accuracy: 0.1096WARNING:tensorflow:Can save best model only with val_accuracy available, skipping.\n",
            " 83/228 [=========>....................] - ETA: 35s - loss: 4.7220 - accuracy: 0.1069WARNING:tensorflow:Can save best model only with val_accuracy available, skipping.\n",
            " 93/228 [===========>..................] - ETA: 33s - loss: 4.7360 - accuracy: 0.1065WARNING:tensorflow:Can save best model only with val_accuracy available, skipping.\n",
            "103/228 [============>.................] - ETA: 30s - loss: 4.7317 - accuracy: 0.1080WARNING:tensorflow:Can save best model only with val_accuracy available, skipping.\n",
            "113/228 [=============>................] - ETA: 28s - loss: 4.7168 - accuracy: 0.1117WARNING:tensorflow:Can save best model only with val_accuracy available, skipping.\n",
            "123/228 [===============>..............] - ETA: 25s - loss: 4.7155 - accuracy: 0.1128WARNING:tensorflow:Can save best model only with val_accuracy available, skipping.\n",
            "133/228 [================>.............] - ETA: 23s - loss: 4.7336 - accuracy: 0.1116WARNING:tensorflow:Can save best model only with val_accuracy available, skipping.\n",
            "143/228 [=================>............] - ETA: 20s - loss: 4.7411 - accuracy: 0.1115WARNING:tensorflow:Can save best model only with val_accuracy available, skipping.\n",
            "153/228 [===================>..........] - ETA: 18s - loss: 4.7424 - accuracy: 0.1111WARNING:tensorflow:Can save best model only with val_accuracy available, skipping.\n",
            "163/228 [====================>.........] - ETA: 16s - loss: 4.7374 - accuracy: 0.1118WARNING:tensorflow:Can save best model only with val_accuracy available, skipping.\n",
            "169/228 [=====================>........] - ETA: 14s - loss: 4.7432 - accuracy: 0.1113"
          ]
        }
      ]
    }
  ]
}