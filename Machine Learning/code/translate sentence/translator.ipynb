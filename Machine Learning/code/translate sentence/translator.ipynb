{
  "cells": [
    {
      "cell_type": "code",
      "execution_count": null,
      "metadata": {
        "colab": {
          "base_uri": "https://localhost:8080/"
        },
        "id": "AHyTJejSeLb5",
        "outputId": "e0b697eb-2638-4c1a-b912-fbf974482358"
      },
      "outputs": [],
      "source": [
        "# !pip install tensorflow-addons"
      ]
    },
    {
      "cell_type": "code",
      "execution_count": null,
      "metadata": {
        "id": "56aTseK4q9ol"
      },
      "outputs": [],
      "source": [
        "import tensorflow as tf\n",
        "import tensorflow_addons as tfa\n",
        "import subprocess\n",
        "import os\n",
        "import pandas as pd\n",
        "import random\n",
        "import shutil\n",
        "import numpy as np\n",
        "\n",
        "# from google.colab import drive #if use colab\n",
        "from tensorflow.keras import layers\n",
        "from tensorflow.keras.models import Model\n",
        "from tensorflow.keras.preprocessing.text import Tokenizer\n",
        "from tensorflow.keras.preprocessing.sequence import pad_sequences"
      ]
    },
    {
      "cell_type": "code",
      "execution_count": null,
      "metadata": {
        "colab": {
          "base_uri": "https://localhost:8080/"
        },
        "id": "tz4aY7oDbyeg",
        "outputId": "e8c5f907-ebd5-41b9-c9fb-42ebcaff7a8f"
      },
      "outputs": [],
      "source": [
        "# # if use colab\n",
        "# drive.mount('/content/drive')"
      ]
    },
    {
      "cell_type": "code",
      "execution_count": null,
      "metadata": {
        "id": "2ZtMplOQv6Lz"
      },
      "outputs": [],
      "source": [
        "# #if use colab\n",
        "# git_dir = \"/content/IOH-Chat-App\"\n",
        "# git_url = \"https://github.com/Bangkit-Capstone-Team/IOH-Chat-App.git\"\n",
        "\n",
        "# if not os.path.exists(git_dir):\n",
        "#   subprocess.call([\"git\", \"clone\", git_url])"
      ]
    },
    {
      "cell_type": "code",
      "execution_count": null,
      "metadata": {},
      "outputs": [],
      "source": [
        "# filedir = \"/content/IOH-Chat-App/Machine Learning/datasets/translate sentence/result/eng-ind.csv\" # #if use colab\n",
        "filedir = \"../..//datasets/translate sentence/result/eng-ind.csv\" #if use local env"
      ]
    },
    {
      "cell_type": "code",
      "execution_count": null,
      "metadata": {
        "id": "KA5VqxGKtrWx"
      },
      "outputs": [],
      "source": [
        "class TranslatorDataset:\n",
        "  \n",
        "  def __init__(self, filedir):\n",
        "    self.filedir = filedir\n",
        "    self.input_tokenizer = None\n",
        "    self.target_tokenizer = None\n",
        "    self._load_data_from_file()\n",
        "\n",
        "  def _load_data_from_file(self):\n",
        "    df = pd.read_csv(self.filedir)\n",
        "\n",
        "    self.input_lang = df.English.tolist()\n",
        "    self.target_lang = df.Indonesia.values.tolist()\n",
        "\n",
        "  def normalize_and_preprocess(self, text):\n",
        "    text = text.lower().strip()\n",
        "    text = text.replace(\"\\t\\n\", \"\")\n",
        "\n",
        "    return text\n",
        "\n",
        "  def _create_dataset(self):\n",
        "    self.input_lang = np.array(list(map(self.normalize_and_preprocess, self.input_lang)))\n",
        "    self.target_lang = np.array(list(map(self.normalize_and_preprocess, self.target_lang)))\n",
        "    \n",
        "    return self.input_lang, self.target_lang\n",
        "\n",
        "  def _tokenize(self, sentence, num_words, maxlen):\n",
        "    tokenizer = Tokenizer(num_words=num_words)\n",
        "    tokenizer.fit_on_texts(sentence)\n",
        "\n",
        "    sequences = tokenizer.texts_to_sequences(sentence)\n",
        "    sequences = pad_sequences(sequences, maxlen, padding=\"post\")\n",
        "\n",
        "    return sequences, tokenizer\n",
        "\n",
        "  def _load_dataset(self, num_words):\n",
        "    input_lang, target_lang = self._create_dataset()\n",
        "\n",
        "    self.maxlen = max([len(i)for i in input_lang])\n",
        "\n",
        "    input_sequences, input_tokenizer = self._tokenize(input_lang, num_words,  self.maxlen)\n",
        "    target_sequences, target_tokenizer = self._tokenize(target_lang, num_words,  self.maxlen)\n",
        "\n",
        "    return (input_sequences, input_tokenizer), (target_sequences, target_tokenizer)\n",
        "  \n",
        "  def call(self, num_words, batch_size, buffer_size):\n",
        "    input, target = self._load_dataset(num_words)\n",
        "\n",
        "    input_sequences, self.input_tokenizer = input\n",
        "    target_sequences, self.target_tokenizer = target\n",
        "\n",
        "    dataset = tf.data.Dataset.from_tensor_slices((input_sequences, target_sequences))\n",
        "    dataset = dataset.shuffle(buffer_size).batch(batch_size, drop_remainder=True)\n",
        "\n",
        "    return self.input_tokenizer, self.target_tokenizer, dataset\n"
      ]
    },
    {
      "cell_type": "code",
      "execution_count": null,
      "metadata": {
        "colab": {
          "base_uri": "https://localhost:8080/"
        },
        "id": "QW7fD1GdrExy",
        "outputId": "a96c60a2-f40a-4656-dfa7-54c31610febc"
      },
      "outputs": [],
      "source": [
        "buffer_size = 8000\n",
        "batch_size = 128\n",
        "num_words = 500\n",
        "\n",
        "translator_dataset = TranslatorDataset(filedir)\n",
        "input_tokenizer, target_tokenizer, dataset = translator_dataset.call(num_words, \n",
        "                                                                     batch_size, \n",
        "                                                                     buffer_size)\n",
        "\n",
        "input_batch, target_batch = next(iter(dataset))\n",
        "input_batch.shape, target_batch.shape"
      ]
    },
    {
      "cell_type": "code",
      "execution_count": null,
      "metadata": {
        "colab": {
          "base_uri": "https://localhost:8080/"
        },
        "id": "cI-TplUE22Tk",
        "outputId": "14c8d68b-f0f7-4419-e53c-745525e13662"
      },
      "outputs": [],
      "source": [
        "input_vocab_size = len(input_tokenizer.word_index) + 1\n",
        "target_vocab_size = len(target_tokenizer.word_index) + 1\n",
        "input_maxlen = input_batch.shape[1]\n",
        "target_maxlen = target_batch.shape[1]\n",
        "\n",
        "input_maxlen, target_maxlen, input_vocab_size, target_vocab_size"
      ]
    },
    {
      "cell_type": "code",
      "execution_count": null,
      "metadata": {
        "id": "xuYpsBWmexe7"
      },
      "outputs": [],
      "source": [
        "class Seq2Seq:\n",
        "\n",
        "  def __init__(self, input_vocab_size, output_vocab_size, embedding_dim, units, batch_size, maxlen):\n",
        "    self.input_vocab_size = input_vocab_size\n",
        "    self.output_vocab_size = output_vocab_size\n",
        "    self.embedding_dim = embedding_dim\n",
        "    self.maxlen = maxlen\n",
        "    self.batch_size = batch_size\n",
        "    self.units = units\n",
        "    self.en_embedding = layers.Embedding(self.input_vocab_size, embedding_dim)\n",
        "    self.dec_embedding = layers.Embedding(self.input_vocab_size, embedding_dim)\n",
        "    self.en_gru_layer = layers.GRU(self.units,\n",
        "                                    return_sequences=True,\n",
        "                                    return_state=True,\n",
        "                                    recurrent_initializer='glorot_uniform')\n",
        "    self.dec_gru_layer = layers.GRU(self.units,\n",
        "                                    return_sequences=True,\n",
        "                                    return_state=True)\n",
        "\n",
        "  def _create_dense(self, input):\n",
        "    x = layers.Dense(512, activation=tf.nn.relu)(input)\n",
        "    x = layers.Dropout(.5)(x)\n",
        "    x = layers.Dense(1024, activation=tf.nn.relu)(x)\n",
        "    x = layers.Dropout(.5)(x)\n",
        "    outputs = layers.TimeDistributed(layers.Dense(self.output_vocab_size, activation=tf.nn.softmax))(x)\n",
        "    return outputs\n",
        "\n",
        "  def encoder(self, input):\n",
        "    embedding = self.en_embedding(input)\n",
        "    output, state = self.en_gru_layer(embedding)\n",
        "\n",
        "    return output, state\n",
        "\n",
        "  def decoder(self, input, encoder_state):\n",
        "    embedding = self.dec_embedding(input)\n",
        "    outputs, _ = self.dec_gru_layer(embedding, \n",
        "                                    initial_state=encoder_state)\n",
        "    outputs = self._create_dense(outputs)\n",
        "\n",
        "    return outputs\n"
      ]
    },
    {
      "cell_type": "code",
      "execution_count": null,
      "metadata": {
        "id": "CeQhJSGasf4P"
      },
      "outputs": [],
      "source": [
        "embed_dims = 256\n",
        "epochs = 10\n",
        "units = 512\n",
        "lr = 1e-4\n",
        "\n",
        "optimizer = tf.keras.optimizers.Adam(learning_rate=lr)\n",
        "loss = tf.keras.losses.SparseCategoricalCrossentropy(\n",
        "       from_logits=True, reduction='none')"
      ]
    },
    {
      "cell_type": "code",
      "execution_count": null,
      "metadata": {
        "id": "kvYCPy4UptZ6"
      },
      "outputs": [],
      "source": [
        "seq2seq = Seq2Seq(input_vocab_size, \n",
        "                  target_vocab_size, \n",
        "                  embed_dims, \n",
        "                  units, \n",
        "                  batch_size, \n",
        "                  input_maxlen)"
      ]
    },
    {
      "cell_type": "code",
      "execution_count": null,
      "metadata": {
        "colab": {
          "base_uri": "https://localhost:8080/"
        },
        "id": "ciAQcC-GBjal",
        "outputId": "7a56ca85-426a-4f9a-eebc-7a5c52a25e10"
      },
      "outputs": [],
      "source": [
        "en_outputs, en_state = seq2seq.encoder(input_batch)\n",
        "\n",
        "print(en_outputs.shape)\n",
        "print(en_state.shape)"
      ]
    },
    {
      "cell_type": "code",
      "execution_count": null,
      "metadata": {
        "colab": {
          "base_uri": "https://localhost:8080/"
        },
        "id": "zo43VZr2C_ZQ",
        "outputId": "2f970dbd-063d-4f06-b3fe-308b1e01e676"
      },
      "outputs": [],
      "source": [
        "dec_outputs = seq2seq.decoder(target_batch, en_state)\n",
        "\n",
        "print(dec_outputs.shape)\n"
      ]
    },
    {
      "cell_type": "code",
      "execution_count": null,
      "metadata": {
        "id": "EMWZXYLLwiwP"
      },
      "outputs": [],
      "source": [
        "def build_model(seq2seq, batch_size, shape):\n",
        "  en_inputs = layers.Input(shape=(shape[1],))\n",
        "  \n",
        "  en_outputs, en_state = seq2seq.encoder(en_inputs)\n",
        "  dec_outputs = seq2seq.decoder(en_inputs, en_state)\n",
        "\n",
        "  model = Model(en_inputs, dec_outputs)\n",
        "\n",
        "  model.compile(\n",
        "      optimizer=optimizer,\n",
        "      loss=loss,\n",
        "      metrics=[\"accuracy\"]\n",
        "  )\n",
        "\n",
        "  return model"
      ]
    },
    {
      "cell_type": "code",
      "execution_count": null,
      "metadata": {
        "colab": {
          "base_uri": "https://localhost:8080/"
        },
        "id": "2cqjvZ5Owjsm",
        "outputId": "2580ffa9-69cd-48a3-99ba-d5203479025e"
      },
      "outputs": [],
      "source": [
        "# if use colab\n",
        "# checkpoint_path = \"/content/IOH-Chat-App/Machine Learning/code/translate sentence/training_checkpoints/cp-{epoch:04d}.ckpt\"\n",
        "\n",
        "#if use local env\n",
        "checkpoint_path = \"training_checkpoints/cp-{epoch:04d}.ckpt\"\n",
        "checkpoint_dir = os.path.dirname(checkpoint_path)\n",
        "\n",
        "cp_callback = tf.keras.callbacks.ModelCheckpoint(\n",
        "    filepath=checkpoint_path, \n",
        "    save_weights_only=True,\n",
        "    save_best_only=True,\n",
        "    save_freq=10,\n",
        "    verbose=1, \n",
        ")\n",
        "model = build_model(\n",
        "    seq2seq, \n",
        "    batch_size, \n",
        "    input_batch.shape\n",
        ")\n",
        "\n",
        "model.summary()\n",
        "\n",
        "model.save_weights(checkpoint_path.format(epoch=0))\n"
      ]
    },
    {
      "cell_type": "code",
      "execution_count": null,
      "metadata": {
        "id": "HJygvxEGlUWz"
      },
      "outputs": [],
      "source": [
        "model.fit(dataset,\n",
        "          epochs=epochs,\n",
        "          callbacks=[cp_callback],\n",
        "          verbose=1)"
      ]
    },
    {
      "cell_type": "code",
      "execution_count": null,
      "metadata": {
        "id": "0QGxWYuiQPnv"
      },
      "outputs": [],
      "source": [
        "# # if use colab\n",
        "# saved_model_path = \"/content/drive/MyDrive/saved_model/transelate/translate.h5\"\n",
        "\n",
        "# if use local env\n",
        "saved_model_path = \"code/translate sentence/saved_model/translate.h5\"\n",
        "saved_model_dir = os.path.dirname(saved_model_path)\n",
        "\n",
        "if os.path.exists(saved_model_dir):\n",
        "  shutil.rmtree(saved_model_dir)\n",
        "model.save(saved_model_path)"
      ]
    },
    {
      "cell_type": "code",
      "execution_count": null,
      "metadata": {
        "id": "1YmcvYUyzqLd"
      },
      "outputs": [],
      "source": [
        "class Translator(TranslatorDataset):\n",
        "  def __init__(self, modelpath):\n",
        "    self.saved_model_path = modelpath\n",
        "    self._load_seq2seq()\n",
        "\n",
        "  def _load_seq2seq(self):\n",
        "    model = tf.keras.models.load_model(self.saved_model_path)\n",
        "\n",
        "    enc_outputs, enc_state = model.layers[3].output\n",
        "    self.enc_model = Model(model.input, enc_state)\n",
        "\n",
        "    dec_input = layers.Input(shape=(512,))\n",
        "\n",
        "    dec_lstm = model.layers[4]\n",
        "    dec_outputs, dec_state = dec_lstm(model.input,\n",
        "                                        initial_state=dec_inputs)\n",
        "    \n",
        "    x = model.layers[5](dec_outputs)\n",
        "    x = model.layers[6](x)\n",
        "    x = model.layers[7](x)\n",
        "    x = model.layers[8](x)\n",
        "    dense = model.layers[9](x)\n",
        "\n",
        "    self.dec_model = Model([model.input] + dec_input,\n",
        "                            [dense] + dec_state)\n",
        "\n",
        "  def translate(self, text):\n",
        "    words = list()\n",
        "\n",
        "    sequences = self.input_tokenizer.texts_to_sequences([text])\n",
        "    sequences = tf.convert_to_tensor(pad_sequences(sequences, \n",
        "                                                   self.maxlen, \n",
        "                                                   padding=\"post\"))\n",
        "    input = self.enc_model.predict(sequences)\n",
        "    target_seq = np.zeros((1, 1))\n",
        "\n",
        "    for i in sequences:\n",
        "        output_chars, h, c = self.dec_model.predict([target_seq] + input)\n",
        "        char_index = np.argmax(output_chars)\n",
        "        text_char = self.target_tokenizer.index_word[char_index]\n",
        "        words.append(text_char)\n",
        "\n",
        "        target_seq = np.zeros((1, 1))\n",
        "        target_seq[0, 0] = char_index\n",
        "        states_value = [h, c]\n",
        "\n",
        "    sentence = \" \".join(words)\n",
        "    return sentence\n"
      ]
    },
    {
      "cell_type": "code",
      "execution_count": null,
      "metadata": {
        "colab": {
          "base_uri": "https://localhost:8080/",
          "height": 501
        },
        "id": "kPaH88FL3MYk",
        "outputId": "ef83003c-ec35-4827-e16d-ff80f67f303d"
      },
      "outputs": [],
      "source": [
        "translator = Translator()\n",
        "translator.translate(\"Good bye!\")"
      ]
    }
  ],
  "metadata": {
    "accelerator": "GPU",
    "colab": {
      "collapsed_sections": [],
      "name": "translator amin.ipynb",
      "provenance": []
    },
    "interpreter": {
      "hash": "765233bfe060b87a8be23ec8f17030d468ac6435ae34b0ad14370b4cb734ac81"
    },
    "kernelspec": {
      "display_name": "Python 3.9.7 ('base')",
      "language": "python",
      "name": "python3"
    },
    "language_info": {
      "codemirror_mode": {
        "name": "ipython",
        "version": 3
      },
      "file_extension": ".py",
      "mimetype": "text/x-python",
      "name": "python",
      "nbconvert_exporter": "python",
      "pygments_lexer": "ipython3",
      "version": "3.9.7"
    }
  },
  "nbformat": 4,
  "nbformat_minor": 0
}
