{
  "cells": [
    {
      "cell_type": "markdown",
      "metadata": {
        "id": "view-in-github",
        "colab_type": "text"
      },
      "source": [
        "<a href=\"https://colab.research.google.com/github/bangkit-team/IOH-chat-app/blob/main/Machine%20Learning/code/translator/translator.ipynb\" target=\"_parent\"><img src=\"https://colab.research.google.com/assets/colab-badge.svg\" alt=\"Open In Colab\"/></a>"
      ]
    },
    {
      "cell_type": "code",
      "execution_count": null,
      "metadata": {
        "id": "56aTseK4q9ol"
      },
      "outputs": [],
      "source": [
        "import tensorflow as tf\n",
        "import subprocess\n",
        "import os\n",
        "import pandas as pd\n",
        "import random\n",
        "import shutil\n",
        "import numpy as np\n",
        "\n",
        "from google.colab import drive #if use colab\n",
        "from tensorflow.nn import relu, tanh, softmax\n",
        "from tensorflow.keras import layers\n",
        "from tensorflow.keras.models import Model\n",
        "from tensorflow.keras.preprocessing.text import Tokenizer\n",
        "from tensorflow.keras.preprocessing.sequence import pad_sequences"
      ]
    },
    {
      "cell_type": "code",
      "execution_count": null,
      "metadata": {
        "colab": {
          "base_uri": "https://localhost:8080/"
        },
        "id": "tz4aY7oDbyeg",
        "outputId": "83bb57b5-9e6b-4375-ee12-af4ca5d50e05"
      },
      "outputs": [
        {
          "output_type": "stream",
          "name": "stdout",
          "text": [
            "Drive already mounted at /content/drive; to attempt to forcibly remount, call drive.mount(\"/content/drive\", force_remount=True).\n"
          ]
        }
      ],
      "source": [
        "# if use colab\n",
        "drive.mount('/content/drive')"
      ]
    },
    {
      "cell_type": "code",
      "execution_count": null,
      "metadata": {
        "id": "2ZtMplOQv6Lz"
      },
      "outputs": [],
      "source": [
        "#if use colab\n",
        "git_dir = \"/content/IOH-Chat-App\"\n",
        "git_url = \"https://github.com/bangkit-team/IOH-chat-app.git\"\n",
        "\n",
        "if not os.path.exists(git_dir):\n",
        "  subprocess.call([\"git\", \"clone\", git_url])"
      ]
    },
    {
      "cell_type": "code",
      "execution_count": null,
      "metadata": {
        "id": "pN2M4PirLEQB"
      },
      "outputs": [],
      "source": [
        "filedir1 = \"/content/IOH-chat-app/Machine Learning/datasets/translation/result/eng-ind.csv\" # #if use colab\n",
        "# filedir2 = \"/content/IOH-chat-app/Machine Learning/datasets/spam/emails.csv\" # #if use colab\n",
        "# filedir = \"../../datasets/translate sentence/result/eng-ind.csv\" #if use local env\n",
        "# filedir = \"../../datasets/spam/emails.csv\" #if use local env"
      ]
    },
    {
      "cell_type": "code",
      "source": [
        "df = pd.read_csv(filedir1)\n",
        "df"
      ],
      "metadata": {
        "colab": {
          "base_uri": "https://localhost:8080/",
          "height": 424
        },
        "id": "CTSHYGqdTyPk",
        "outputId": "2f8f9a66-9fd8-4822-9c64-0e2087799ef2"
      },
      "execution_count": null,
      "outputs": [
        {
          "output_type": "execute_result",
          "data": {
            "text/plain": [
              "                                                English  \\\n",
              "0                                                  Run!   \n",
              "1                                                  Who?   \n",
              "2                                                  Wow!   \n",
              "3                                                 Help!   \n",
              "4                                                 Jump!   \n",
              "...                                                 ...   \n",
              "8814  Every student who has graduated from our unive...   \n",
              "8815  If you don't want to put on sunscreen, that's ...   \n",
              "8816  When she was finished ironing, Mary switched o...   \n",
              "8817  Irene Pepperberg, a researcher at Northwestern...   \n",
              "8818  If a person has not had a chance to acquire hi...   \n",
              "\n",
              "                                              Indonesia  \n",
              "0                                                 Lari!  \n",
              "1                                                Siapa?  \n",
              "2                                                  Wow!  \n",
              "3                                               Tolong!  \n",
              "4                                               Lompat!  \n",
              "...                                                 ...  \n",
              "8814  Semua mahasiswa yang telah menyelesaikan studi...  \n",
              "8815  Kalau kamu tidak mau pakai tabir surya, ya, te...  \n",
              "8816  Ketika dia sudah selesai menyetrika, Mary mema...  \n",
              "8817  Irene Pepperberg, seorang peneliti di Universi...  \n",
              "8818  Jika seseorang tidak berkesempatan untuk mengu...  \n",
              "\n",
              "[8819 rows x 2 columns]"
            ],
            "text/html": [
              "\n",
              "  <div id=\"df-c67fa852-9443-49e6-b4b5-6eb7e0fd3f90\">\n",
              "    <div class=\"colab-df-container\">\n",
              "      <div>\n",
              "<style scoped>\n",
              "    .dataframe tbody tr th:only-of-type {\n",
              "        vertical-align: middle;\n",
              "    }\n",
              "\n",
              "    .dataframe tbody tr th {\n",
              "        vertical-align: top;\n",
              "    }\n",
              "\n",
              "    .dataframe thead th {\n",
              "        text-align: right;\n",
              "    }\n",
              "</style>\n",
              "<table border=\"1\" class=\"dataframe\">\n",
              "  <thead>\n",
              "    <tr style=\"text-align: right;\">\n",
              "      <th></th>\n",
              "      <th>English</th>\n",
              "      <th>Indonesia</th>\n",
              "    </tr>\n",
              "  </thead>\n",
              "  <tbody>\n",
              "    <tr>\n",
              "      <th>0</th>\n",
              "      <td>Run!</td>\n",
              "      <td>Lari!</td>\n",
              "    </tr>\n",
              "    <tr>\n",
              "      <th>1</th>\n",
              "      <td>Who?</td>\n",
              "      <td>Siapa?</td>\n",
              "    </tr>\n",
              "    <tr>\n",
              "      <th>2</th>\n",
              "      <td>Wow!</td>\n",
              "      <td>Wow!</td>\n",
              "    </tr>\n",
              "    <tr>\n",
              "      <th>3</th>\n",
              "      <td>Help!</td>\n",
              "      <td>Tolong!</td>\n",
              "    </tr>\n",
              "    <tr>\n",
              "      <th>4</th>\n",
              "      <td>Jump!</td>\n",
              "      <td>Lompat!</td>\n",
              "    </tr>\n",
              "    <tr>\n",
              "      <th>...</th>\n",
              "      <td>...</td>\n",
              "      <td>...</td>\n",
              "    </tr>\n",
              "    <tr>\n",
              "      <th>8814</th>\n",
              "      <td>Every student who has graduated from our unive...</td>\n",
              "      <td>Semua mahasiswa yang telah menyelesaikan studi...</td>\n",
              "    </tr>\n",
              "    <tr>\n",
              "      <th>8815</th>\n",
              "      <td>If you don't want to put on sunscreen, that's ...</td>\n",
              "      <td>Kalau kamu tidak mau pakai tabir surya, ya, te...</td>\n",
              "    </tr>\n",
              "    <tr>\n",
              "      <th>8816</th>\n",
              "      <td>When she was finished ironing, Mary switched o...</td>\n",
              "      <td>Ketika dia sudah selesai menyetrika, Mary mema...</td>\n",
              "    </tr>\n",
              "    <tr>\n",
              "      <th>8817</th>\n",
              "      <td>Irene Pepperberg, a researcher at Northwestern...</td>\n",
              "      <td>Irene Pepperberg, seorang peneliti di Universi...</td>\n",
              "    </tr>\n",
              "    <tr>\n",
              "      <th>8818</th>\n",
              "      <td>If a person has not had a chance to acquire hi...</td>\n",
              "      <td>Jika seseorang tidak berkesempatan untuk mengu...</td>\n",
              "    </tr>\n",
              "  </tbody>\n",
              "</table>\n",
              "<p>8819 rows × 2 columns</p>\n",
              "</div>\n",
              "      <button class=\"colab-df-convert\" onclick=\"convertToInteractive('df-c67fa852-9443-49e6-b4b5-6eb7e0fd3f90')\"\n",
              "              title=\"Convert this dataframe to an interactive table.\"\n",
              "              style=\"display:none;\">\n",
              "        \n",
              "  <svg xmlns=\"http://www.w3.org/2000/svg\" height=\"24px\"viewBox=\"0 0 24 24\"\n",
              "       width=\"24px\">\n",
              "    <path d=\"M0 0h24v24H0V0z\" fill=\"none\"/>\n",
              "    <path d=\"M18.56 5.44l.94 2.06.94-2.06 2.06-.94-2.06-.94-.94-2.06-.94 2.06-2.06.94zm-11 1L8.5 8.5l.94-2.06 2.06-.94-2.06-.94L8.5 2.5l-.94 2.06-2.06.94zm10 10l.94 2.06.94-2.06 2.06-.94-2.06-.94-.94-2.06-.94 2.06-2.06.94z\"/><path d=\"M17.41 7.96l-1.37-1.37c-.4-.4-.92-.59-1.43-.59-.52 0-1.04.2-1.43.59L10.3 9.45l-7.72 7.72c-.78.78-.78 2.05 0 2.83L4 21.41c.39.39.9.59 1.41.59.51 0 1.02-.2 1.41-.59l7.78-7.78 2.81-2.81c.8-.78.8-2.07 0-2.86zM5.41 20L4 18.59l7.72-7.72 1.47 1.35L5.41 20z\"/>\n",
              "  </svg>\n",
              "      </button>\n",
              "      \n",
              "  <style>\n",
              "    .colab-df-container {\n",
              "      display:flex;\n",
              "      flex-wrap:wrap;\n",
              "      gap: 12px;\n",
              "    }\n",
              "\n",
              "    .colab-df-convert {\n",
              "      background-color: #E8F0FE;\n",
              "      border: none;\n",
              "      border-radius: 50%;\n",
              "      cursor: pointer;\n",
              "      display: none;\n",
              "      fill: #1967D2;\n",
              "      height: 32px;\n",
              "      padding: 0 0 0 0;\n",
              "      width: 32px;\n",
              "    }\n",
              "\n",
              "    .colab-df-convert:hover {\n",
              "      background-color: #E2EBFA;\n",
              "      box-shadow: 0px 1px 2px rgba(60, 64, 67, 0.3), 0px 1px 3px 1px rgba(60, 64, 67, 0.15);\n",
              "      fill: #174EA6;\n",
              "    }\n",
              "\n",
              "    [theme=dark] .colab-df-convert {\n",
              "      background-color: #3B4455;\n",
              "      fill: #D2E3FC;\n",
              "    }\n",
              "\n",
              "    [theme=dark] .colab-df-convert:hover {\n",
              "      background-color: #434B5C;\n",
              "      box-shadow: 0px 1px 3px 1px rgba(0, 0, 0, 0.15);\n",
              "      filter: drop-shadow(0px 1px 2px rgba(0, 0, 0, 0.3));\n",
              "      fill: #FFFFFF;\n",
              "    }\n",
              "  </style>\n",
              "\n",
              "      <script>\n",
              "        const buttonEl =\n",
              "          document.querySelector('#df-c67fa852-9443-49e6-b4b5-6eb7e0fd3f90 button.colab-df-convert');\n",
              "        buttonEl.style.display =\n",
              "          google.colab.kernel.accessAllowed ? 'block' : 'none';\n",
              "\n",
              "        async function convertToInteractive(key) {\n",
              "          const element = document.querySelector('#df-c67fa852-9443-49e6-b4b5-6eb7e0fd3f90');\n",
              "          const dataTable =\n",
              "            await google.colab.kernel.invokeFunction('convertToInteractive',\n",
              "                                                     [key], {});\n",
              "          if (!dataTable) return;\n",
              "\n",
              "          const docLinkHtml = 'Like what you see? Visit the ' +\n",
              "            '<a target=\"_blank\" href=https://colab.research.google.com/notebooks/data_table.ipynb>data table notebook</a>'\n",
              "            + ' to learn more about interactive tables.';\n",
              "          element.innerHTML = '';\n",
              "          dataTable['output_type'] = 'display_data';\n",
              "          await google.colab.output.renderOutput(dataTable, element);\n",
              "          const docLink = document.createElement('div');\n",
              "          docLink.innerHTML = docLinkHtml;\n",
              "          element.appendChild(docLink);\n",
              "        }\n",
              "      </script>\n",
              "    </div>\n",
              "  </div>\n",
              "  "
            ]
          },
          "metadata": {},
          "execution_count": 81
        }
      ]
    },
    {
      "cell_type": "code",
      "source": [
        "# df2 = pd.read_csv(filedir2)\n",
        "# df2 = df2.rename(columns={\"text\": \"English\", \"teks\": \"Indonesia\"})\n",
        "# df2 = df2.drop(\"spam\", axis=1)\n",
        "# df2"
      ],
      "metadata": {
        "id": "-eQatoc7bG2r"
      },
      "execution_count": null,
      "outputs": []
    },
    {
      "cell_type": "code",
      "source": [
        "# df2_len = len(df2)\n",
        "# df = pd.concat([df1, df2[:df2_len//2]])\n",
        "# df"
      ],
      "metadata": {
        "id": "VLgct1pkbhn4"
      },
      "execution_count": null,
      "outputs": []
    },
    {
      "cell_type": "code",
      "execution_count": null,
      "metadata": {
        "id": "RgUUgmronChh"
      },
      "outputs": [],
      "source": [
        "start_mark = '<start>'\n",
        "end_mark = '<end>'"
      ]
    },
    {
      "cell_type": "code",
      "execution_count": null,
      "metadata": {
        "id": "KA5VqxGKtrWx"
      },
      "outputs": [],
      "source": [
        "class TranslatorDataset:\n",
        "  def __init__(self, dataframe):\n",
        "    self.dataframe = dataframe\n",
        "    self.input_tokenizer = None\n",
        "    self.target_tokenizer = None\n",
        "    self._load_data_from_file()\n",
        "\n",
        "  def _load_data_from_file(self):\n",
        "    df = self.dataframe\n",
        "\n",
        "    input_lang = df.English.values\n",
        "    target_lang = df.Indonesia.values\n",
        "\n",
        "    return input_lang, target_lang\n",
        "\n",
        "  def _normalize_and_preprocess(self, text, use_mark=False):\n",
        "    if use_mark:\n",
        "      text = text.lower().strip()\n",
        "      text = \" \".join([start_mark, text, end_mark])\n",
        "    else:\n",
        "      text = text.lower().strip()\n",
        "\n",
        "    return text\n",
        "\n",
        "  def _tokenize(self, sentences, num_words, maxlen):\n",
        "    punctuation = '!\"#$%&()*+,-./:;=?@[\\\\]^_`{|}~\\t\\n'\n",
        "\n",
        "    tokenizer = Tokenizer(num_words=num_words, filters=punctuation, lower=False)\n",
        "    tokenizer.fit_on_texts(sentences)\n",
        "\n",
        "    sequences = tokenizer.texts_to_sequences(sentences)\n",
        "    sequences = pad_sequences(sequences, maxlen=maxlen, padding=\"post\")\n",
        "\n",
        "    return sequences, tokenizer\n",
        "\n",
        "  def _create_dataset(self):\n",
        "    input_lang, target_lang = self._load_data_from_file()\n",
        "\n",
        "    input_sentence = np.array(\n",
        "        list(map(lambda x: self._normalize_and_preprocess(x, False), input_lang)))\n",
        "    \n",
        "    target_sentence = np.array(\n",
        "        list(map(lambda y: self._normalize_and_preprocess(y, True), target_lang)))\n",
        "    \n",
        "    return input_sentence, target_sentence\n",
        "\n",
        "  def _load_dataset(self, num_words):\n",
        "    input_lang, target_lang = self._create_dataset()\n",
        "\n",
        "    self.maxlen = max([len(i)for i in input_lang]) // 5\n",
        "    self.buffer_size = len(input_lang)\n",
        "\n",
        "    input_sequences, input_tokenizer = self._tokenize(\n",
        "        input_lang, num_words, self.maxlen)\n",
        "    \n",
        "    target_sequences, target_tokenizer = self._tokenize(\n",
        "        target_lang, num_words, self.maxlen,)\n",
        "\n",
        "    return (input_sequences, input_tokenizer), (target_sequences, target_tokenizer)\n",
        "  \n",
        "  def get(self, num_words, batch_size):\n",
        "    input, target = self._load_dataset(num_words)\n",
        "\n",
        "    input_sequences, self.input_tokenizer = input\n",
        "    target_sequences, self.target_tokenizer = target\n",
        "\n",
        "    dataset = tf.data.Dataset.from_tensor_slices((input_sequences, target_sequences))\n",
        "    dataset = dataset.shuffle(self.buffer_size).batch(batch_size, drop_remainder=True)\n",
        "\n",
        "    return self.input_tokenizer, self.target_tokenizer, dataset"
      ]
    },
    {
      "cell_type": "code",
      "execution_count": null,
      "metadata": {
        "id": "8lYoZZjqXF__"
      },
      "outputs": [],
      "source": [
        "num_words = 8000\n",
        "batch_size = 64"
      ]
    },
    {
      "cell_type": "code",
      "execution_count": null,
      "metadata": {
        "id": "QW7fD1GdrExy"
      },
      "outputs": [],
      "source": [
        "translator_dataset = TranslatorDataset(df)\n",
        "input_tokenizer, target_tokenizer, dataset = translator_dataset.get(num_words, batch_size)"
      ]
    },
    {
      "cell_type": "code",
      "execution_count": null,
      "metadata": {
        "id": "3lQitbaJXt4O"
      },
      "outputs": [],
      "source": [
        "input_batch, target_batch = next(iter(dataset))"
      ]
    },
    {
      "cell_type": "code",
      "execution_count": null,
      "metadata": {
        "colab": {
          "base_uri": "https://localhost:8080/"
        },
        "id": "2j91LroJX50x",
        "outputId": "d4c6143e-849a-4557-b67c-e56adf9286da"
      },
      "outputs": [
        {
          "output_type": "execute_result",
          "data": {
            "text/plain": [
              "(TensorShape([64, 32]), TensorShape([64, 32]))"
            ]
          },
          "metadata": {},
          "execution_count": 95
        }
      ],
      "source": [
        "input_batch.shape, target_batch.shape"
      ]
    },
    {
      "cell_type": "code",
      "execution_count": null,
      "metadata": {
        "colab": {
          "base_uri": "https://localhost:8080/"
        },
        "id": "cI-TplUE22Tk",
        "outputId": "27d40452-1647-43d0-8a7a-9a8bf12e8767"
      },
      "outputs": [
        {
          "output_type": "execute_result",
          "data": {
            "text/plain": [
              "(32, 32, 4091, 4876)"
            ]
          },
          "metadata": {},
          "execution_count": 96
        }
      ],
      "source": [
        "input_vocab_size = len(input_tokenizer.index_word) + 1\n",
        "target_vocab_size = len(target_tokenizer.index_word) + 1\n",
        "input_maxlen = input_batch.shape[1]\n",
        "target_maxlen = target_batch.shape[1]\n",
        "\n",
        "input_maxlen, target_maxlen, input_vocab_size, target_vocab_size"
      ]
    },
    {
      "cell_type": "code",
      "execution_count": null,
      "metadata": {
        "colab": {
          "base_uri": "https://localhost:8080/"
        },
        "id": "cPp4UAxdxemM",
        "outputId": "3cf343f6-bc7e-41fb-85f6-5d316e9b1aa8"
      },
      "outputs": [
        {
          "output_type": "execute_result",
          "data": {
            "text/plain": [
              "<tf.Tensor: shape=(32,), dtype=int32, numpy=\n",
              "array([  1,  89, 192,  24, 132,   0,   0,   0,   0,   0,   0,   0,   0,\n",
              "         0,   0,   0,   0,   0,   0,   0,   0,   0,   0,   0,   0,   0,\n",
              "         0,   0,   0,   0,   0,   0], dtype=int32)>"
            ]
          },
          "metadata": {},
          "execution_count": 97
        }
      ],
      "source": [
        "input_example = input_batch[-1]\n",
        "input_example"
      ]
    },
    {
      "cell_type": "code",
      "execution_count": null,
      "metadata": {
        "colab": {
          "base_uri": "https://localhost:8080/"
        },
        "id": "1r5qpp8Hxjzk",
        "outputId": "9206254e-21ab-429b-ac02-4ef9ceafde6e"
      },
      "outputs": [
        {
          "output_type": "execute_result",
          "data": {
            "text/plain": [
              "<tf.Tensor: shape=(32,), dtype=int32, numpy=\n",
              "array([  1,  15, 237,  19, 132,   2,   0,   0,   0,   0,   0,   0,   0,\n",
              "         0,   0,   0,   0,   0,   0,   0,   0,   0,   0,   0,   0,   0,\n",
              "         0,   0,   0,   0,   0,   0], dtype=int32)>"
            ]
          },
          "metadata": {},
          "execution_count": 98
        }
      ],
      "source": [
        "target_example = target_batch[-1]\n",
        "target_example"
      ]
    },
    {
      "cell_type": "code",
      "execution_count": null,
      "metadata": {
        "colab": {
          "base_uri": "https://localhost:8080/"
        },
        "id": "ulo132GvOX0l",
        "outputId": "5bee19d5-759c-4731-ad8b-769136fd152d"
      },
      "outputs": [
        {
          "output_type": "execute_result",
          "data": {
            "text/plain": [
              "['you were late for work']"
            ]
          },
          "metadata": {},
          "execution_count": 99
        }
      ],
      "source": [
        "input_sentence = input_tokenizer.sequences_to_texts([input_example.numpy()])\n",
        "input_sentence"
      ]
    },
    {
      "cell_type": "code",
      "execution_count": null,
      "metadata": {
        "colab": {
          "base_uri": "https://localhost:8080/"
        },
        "id": "X59pOM0qOtyb",
        "outputId": "3eec86bd-1b65-4a9d-dbb4-3659bb0e7aae"
      },
      "outputs": [
        {
          "output_type": "execute_result",
          "data": {
            "text/plain": [
              "['<start> kau terlambat untuk bekerja <end>']"
            ]
          },
          "metadata": {},
          "execution_count": 100
        }
      ],
      "source": [
        "target_sentence = target_tokenizer.sequences_to_texts([target_example.numpy()])\n",
        "target_sentence"
      ]
    },
    {
      "cell_type": "code",
      "execution_count": null,
      "metadata": {
        "id": "CeQhJSGasf4P"
      },
      "outputs": [],
      "source": [
        "embed_dims = 128\n",
        "units = 512"
      ]
    },
    {
      "cell_type": "code",
      "execution_count": null,
      "metadata": {
        "id": "fc2nYdHM0Xv0"
      },
      "outputs": [],
      "source": [
        "class Encoder():\n",
        "  def __init__(self, input_vocab_size, embedding_dims, units):\n",
        "    self.units = units\n",
        "    self.input_vocab_size = input_vocab_size\n",
        "    self.embedding_dims = embedding_dims\n",
        "\n",
        "    self.embedding = layers.Embedding(self.input_vocab_size, self.embedding_dims)\n",
        "    self.lstm_layer = layers.LSTM(self.units,\n",
        "                                 return_sequences=True,\n",
        "                                 return_state=True,\n",
        "                                 recurrent_initializer='glorot_uniform')\n",
        "\n",
        "  def call(self, inputs):\n",
        "    embedding = self.embedding(inputs)\n",
        "    encoder = self.lstm_layer(embedding, initial_state=None)\n",
        "\n",
        "    return encoder"
      ]
    },
    {
      "cell_type": "code",
      "execution_count": null,
      "metadata": {
        "id": "TFONKQDzUdmw"
      },
      "outputs": [],
      "source": [
        "class BahdanauAttention(layers.Layer):\n",
        "  def __init__(self, units):\n",
        "    super(BahdanauAttention, self).__init__()\n",
        "    self.w1 = layers.Dense(units, use_bias=True) \n",
        "    self.w2 = layers.Dense(units, use_bias=True) \n",
        "    self.fd = layers.Dense(1)\n",
        "\n",
        "  def call(self, query, values):\n",
        "    query_with_time_axis = tf.expand_dims(query, 1)\n",
        "    \n",
        "    score = self.fd(tf.nn.tanh(\n",
        "        self.w1(query_with_time_axis) + self.w2(values)))\n",
        "\n",
        "    attention_weights = softmax(score, axis=1)\n",
        "\n",
        "    context_vector = attention_weights * values\n",
        "    context_vector = tf.reduce_sum(context_vector, axis=1)\n",
        "\n",
        "    return context_vector, attention_weights"
      ]
    },
    {
      "cell_type": "code",
      "execution_count": null,
      "metadata": {
        "id": "8ayl_3A_1-IT"
      },
      "outputs": [],
      "source": [
        "class Decoder():\n",
        "  def __init__(self, output_vocab_size, embedding_dims, units):\n",
        "    self.units = units\n",
        "    self.output_vocab_size = output_vocab_size\n",
        "    self.embedding_dims = embedding_dims\n",
        "\n",
        "    self.embedding = layers.Embedding(self.output_vocab_size, self.embedding_dims)\n",
        "    self.lstm_layer = layers.LSTM(self.units,\n",
        "                                 return_sequences=True,\n",
        "                                 return_state=True,\n",
        "                                 recurrent_initializer='glorot_uniform')\n",
        "    self.attention = BahdanauAttention(self.units)\n",
        "    self.dense1 = layers.Dense(self.units, activation=tanh)\n",
        "    self.dense2 = layers.Dense(self.output_vocab_size)\n",
        "\n",
        "  def call(self, inputs, en_outputs, state):\n",
        "    embedding = self.embedding(inputs)\n",
        "    dec_outputs, dec_h_state, dec_c_state = self.lstm_layer(embedding, initial_state=state)\n",
        "    context_vector, attention_weights = self.attention.call(\n",
        "        query=dec_outputs, values=en_outputs)\n",
        "    \n",
        "    context_and_rnn_output = tf.concat([context_vector, dec_outputs], axis=-1)\n",
        "\n",
        "    attention_vector = self.dense1(context_and_rnn_output)\n",
        "    outputs = self.dense2(attention_vector)\n",
        "\n",
        "    return outputs"
      ]
    },
    {
      "cell_type": "code",
      "execution_count": null,
      "metadata": {
        "colab": {
          "base_uri": "https://localhost:8080/"
        },
        "id": "Kio22M03Yp9S",
        "outputId": "6d707ea8-1305-41c4-a26e-98818cc5b58d"
      },
      "outputs": [
        {
          "output_type": "execute_result",
          "data": {
            "text/plain": [
              "(TensorShape([64, 32, 512]), TensorShape([64, 512]), TensorShape([64, 512]))"
            ]
          },
          "metadata": {},
          "execution_count": 119
        }
      ],
      "source": [
        "encoder = Encoder(input_vocab_size, embed_dims, units)\n",
        "en_outputs, en_h_state, en_c_state = encoder.call(input_batch)\n",
        "\n",
        "en_outputs.shape, en_h_state.shape, en_c_state.shape"
      ]
    },
    {
      "cell_type": "code",
      "execution_count": null,
      "metadata": {
        "colab": {
          "base_uri": "https://localhost:8080/"
        },
        "id": "x_7A5-GTadcM",
        "outputId": "8f38eb26-a3f8-4deb-efb8-7f65f3c78545"
      },
      "outputs": [
        {
          "output_type": "execute_result",
          "data": {
            "text/plain": [
              "TensorShape([64, 32, 4876])"
            ]
          },
          "metadata": {},
          "execution_count": 120
        }
      ],
      "source": [
        "decoder = Decoder(target_vocab_size, embed_dims, units)\n",
        "dec_outputs= decoder.call(target_batch, en_outputs, [en_h_state, en_c_state])\n",
        "\n",
        "dec_outputs.shape"
      ]
    },
    {
      "cell_type": "code",
      "execution_count": null,
      "metadata": {
        "id": "OdJEFRmxg0zW"
      },
      "outputs": [],
      "source": [
        "lr = 1e-3\n",
        "epochs = 30\n",
        "\n",
        "optimizer = tf.keras.optimizers.Adam(learning_rate=lr)\n",
        "loss = tf.keras.losses.SparseCategoricalCrossentropy(\n",
        "       from_logits=True, reduction='none')"
      ]
    },
    {
      "cell_type": "code",
      "execution_count": null,
      "metadata": {
        "id": "-ifmblhR4X8i"
      },
      "outputs": [],
      "source": [
        "class TranslatorModel:\n",
        "  def __init__(self, input_vocab_size, \n",
        "               target_vocab_size, \n",
        "               embed_dims, \n",
        "               units):\n",
        "    self.input_vocab_size = input_vocab_size\n",
        "    self.target_vocab_size = target_vocab_size\n",
        "    self.embed_dims = embed_dims\n",
        "    self.units = units\n",
        "\n",
        "    self.encoder = Encoder(self.input_vocab_size, self.embed_dims, self.units)\n",
        "    self.decoder = Decoder(self.target_vocab_size, self.embed_dims, self.units)\n",
        "\n",
        "  def get_encoder(self):\n",
        "    return self.encoder\n",
        "\n",
        "  def get_decoder(self):\n",
        "    return self.decoder\n",
        "  \n",
        "  def build_model(self):\n",
        "    en_inputs = layers.Input(shape=(None,))\n",
        "    en_output, en_h_state, en_c_state = self.encoder.call(en_inputs)\n",
        "\n",
        "    dec_outputs = self.decoder.call(en_inputs, en_output, [en_h_state, en_c_state])\n",
        "\n",
        "    model = Model(inputs=[en_inputs], \n",
        "                  outputs=[dec_outputs])\n",
        "    return model"
      ]
    },
    {
      "cell_type": "code",
      "execution_count": null,
      "metadata": {
        "id": "SsTiGR8daD4K"
      },
      "outputs": [],
      "source": [
        "translator_model = TranslatorModel(\n",
        "    input_vocab_size,\n",
        "    target_vocab_size,\n",
        "    embed_dims,\n",
        "    units,\n",
        ")\n",
        "model = translator_model.build_model()\n",
        "\n",
        "model.compile(\n",
        "    optimizer=optimizer,\n",
        "    loss=loss,\n",
        "    metrics=[\"accuracy\"]\n",
        ")"
      ]
    },
    {
      "cell_type": "code",
      "execution_count": null,
      "metadata": {
        "colab": {
          "base_uri": "https://localhost:8080/"
        },
        "id": "VOUD1xKgIDH3",
        "outputId": "96350b86-0714-421e-c163-05367db670e4"
      },
      "outputs": [
        {
          "output_type": "stream",
          "name": "stdout",
          "text": [
            "Model: \"model_4\"\n",
            "__________________________________________________________________________________________________\n",
            " Layer (type)                   Output Shape         Param #     Connected to                     \n",
            "==================================================================================================\n",
            " input_6 (InputLayer)           [(None, None)]       0           []                               \n",
            "                                                                                                  \n",
            " embedding_24 (Embedding)       (None, None, 128)    523648      ['input_6[0][0]']                \n",
            "                                                                                                  \n",
            " embedding_25 (Embedding)       (None, None, 128)    624128      ['input_6[0][0]']                \n",
            "                                                                                                  \n",
            " lstm_15 (LSTM)                 [(None, None, 512),  1312768     ['embedding_24[0][0]']           \n",
            "                                 (None, 512),                                                     \n",
            "                                 (None, 512)]                                                     \n",
            "                                                                                                  \n",
            " lstm_16 (LSTM)                 [(None, None, 512),  1312768     ['embedding_25[0][0]',           \n",
            "                                 (None, 512),                     'lstm_15[0][1]',                \n",
            "                                 (None, 512)]                     'lstm_15[0][2]']                \n",
            "                                                                                                  \n",
            " tf.expand_dims_4 (TFOpLambda)  (None, 1, None, 512  0           ['lstm_16[0][0]']                \n",
            "                                )                                                                 \n",
            "                                                                                                  \n",
            " dense_65 (Dense)               (None, 1, None, 512  262656      ['tf.expand_dims_4[0][0]']       \n",
            "                                )                                                                 \n",
            "                                                                                                  \n",
            " dense_66 (Dense)               (None, None, 512)    262656      ['lstm_15[0][0]']                \n",
            "                                                                                                  \n",
            " tf.__operators__.add_4 (TFOpLa  (None, None, None,   0          ['dense_65[0][0]',               \n",
            " mbda)                          512)                              'dense_66[0][0]']               \n",
            "                                                                                                  \n",
            " tf.math.tanh_4 (TFOpLambda)    (None, None, None,   0           ['tf.__operators__.add_4[0][0]'] \n",
            "                                512)                                                              \n",
            "                                                                                                  \n",
            " dense_67 (Dense)               (None, None, None,   513         ['tf.math.tanh_4[0][0]']         \n",
            "                                1)                                                                \n",
            "                                                                                                  \n",
            " tf.nn.softmax_4 (TFOpLambda)   (None, None, None,   0           ['dense_67[0][0]']               \n",
            "                                1)                                                                \n",
            "                                                                                                  \n",
            " tf.math.multiply_4 (TFOpLambda  (None, None, None,   0          ['tf.nn.softmax_4[0][0]',        \n",
            " )                              512)                              'lstm_15[0][0]']                \n",
            "                                                                                                  \n",
            " tf.math.reduce_sum_4 (TFOpLamb  (None, None, 512)   0           ['tf.math.multiply_4[0][0]']     \n",
            " da)                                                                                              \n",
            "                                                                                                  \n",
            " tf.concat_4 (TFOpLambda)       (None, None, 1024)   0           ['tf.math.reduce_sum_4[0][0]',   \n",
            "                                                                  'lstm_16[0][0]']                \n",
            "                                                                                                  \n",
            " dense_68 (Dense)               (None, None, 512)    524800      ['tf.concat_4[0][0]']            \n",
            "                                                                                                  \n",
            " dense_69 (Dense)               (None, None, 4876)   2501388     ['dense_68[0][0]']               \n",
            "                                                                                                  \n",
            "==================================================================================================\n",
            "Total params: 7,325,325\n",
            "Trainable params: 7,325,325\n",
            "Non-trainable params: 0\n",
            "__________________________________________________________________________________________________\n"
          ]
        }
      ],
      "source": [
        "checkpoint_path = \"/content/drive/MyDrive/translate/checkpoint/cp-{epoch:04d}.ckpt\"\n",
        "checkpoint_dir = os.path.dirname(checkpoint_path)\n",
        "\n",
        "callback_early_stopping = tf.keras.callbacks.EarlyStopping(\n",
        "    monitor='loss',\n",
        "    patience=3, \n",
        "    verbose=1)\n",
        "\n",
        "callback_checkpoint = tf.keras.callbacks.ModelCheckpoint(\n",
        "    filepath=checkpoint_path, \n",
        "    monitor='loss', \n",
        "    verbose=1, \n",
        "    save_weights_only=True, \n",
        "    save_best_only=True)\n",
        "\n",
        "callbacks = [callback_early_stopping,\n",
        "             callback_checkpoint]\n",
        "\n",
        "model.compile(\n",
        "    optimizer=optimizer,\n",
        "    loss=loss,\n",
        "    metrics=[\"accuracy\"]\n",
        ")\n",
        "\n",
        "model.summary()"
      ]
    },
    {
      "cell_type": "code",
      "execution_count": null,
      "metadata": {
        "colab": {
          "base_uri": "https://localhost:8080/"
        },
        "id": "daAENyOqwdjZ",
        "outputId": "3f554956-6439-4eae-9ef5-aa12ab4c5287"
      },
      "outputs": [
        {
          "output_type": "stream",
          "name": "stdout",
          "text": [
            "Epoch 1/30\n",
            "137/137 [==============================] - ETA: 0s - loss: 1.5101 - accuracy: 0.8051\n",
            "Epoch 1: loss improved from inf to 1.51005, saving model to /content/drive/MyDrive/translate/checkpoint/cp-0001.ckpt\n",
            "137/137 [==============================] - 14s 83ms/step - loss: 1.5101 - accuracy: 0.8051\n",
            "Epoch 2/30\n",
            "137/137 [==============================] - ETA: 0s - loss: 1.1500 - accuracy: 0.8224\n",
            "Epoch 2: loss improved from 1.51005 to 1.15000, saving model to /content/drive/MyDrive/translate/checkpoint/cp-0002.ckpt\n",
            "137/137 [==============================] - 11s 82ms/step - loss: 1.1500 - accuracy: 0.8224\n",
            "Epoch 3/30\n",
            "137/137 [==============================] - ETA: 0s - loss: 1.0727 - accuracy: 0.8310\n",
            "Epoch 3: loss improved from 1.15000 to 1.07273, saving model to /content/drive/MyDrive/translate/checkpoint/cp-0003.ckpt\n",
            "137/137 [==============================] - 11s 82ms/step - loss: 1.0727 - accuracy: 0.8310\n",
            "Epoch 4/30\n",
            "137/137 [==============================] - ETA: 0s - loss: 1.0127 - accuracy: 0.8369\n",
            "Epoch 4: loss improved from 1.07273 to 1.01273, saving model to /content/drive/MyDrive/translate/checkpoint/cp-0004.ckpt\n",
            "137/137 [==============================] - 11s 80ms/step - loss: 1.0127 - accuracy: 0.8369\n",
            "Epoch 5/30\n",
            "137/137 [==============================] - ETA: 0s - loss: 0.9578 - accuracy: 0.8428\n",
            "Epoch 5: loss improved from 1.01273 to 0.95781, saving model to /content/drive/MyDrive/translate/checkpoint/cp-0005.ckpt\n",
            "137/137 [==============================] - 11s 81ms/step - loss: 0.9578 - accuracy: 0.8428\n",
            "Epoch 6/30\n",
            "137/137 [==============================] - ETA: 0s - loss: 0.9071 - accuracy: 0.8463\n",
            "Epoch 6: loss improved from 0.95781 to 0.90711, saving model to /content/drive/MyDrive/translate/checkpoint/cp-0006.ckpt\n",
            "137/137 [==============================] - 11s 82ms/step - loss: 0.9071 - accuracy: 0.8463\n",
            "Epoch 7/30\n",
            "137/137 [==============================] - ETA: 0s - loss: 0.8517 - accuracy: 0.8517\n",
            "Epoch 7: loss improved from 0.90711 to 0.85174, saving model to /content/drive/MyDrive/translate/checkpoint/cp-0007.ckpt\n",
            "137/137 [==============================] - 11s 81ms/step - loss: 0.8517 - accuracy: 0.8517\n",
            "Epoch 8/30\n",
            "137/137 [==============================] - ETA: 0s - loss: 0.7950 - accuracy: 0.8561\n",
            "Epoch 8: loss improved from 0.85174 to 0.79505, saving model to /content/drive/MyDrive/translate/checkpoint/cp-0008.ckpt\n",
            "137/137 [==============================] - 11s 81ms/step - loss: 0.7950 - accuracy: 0.8561\n",
            "Epoch 9/30\n",
            "137/137 [==============================] - ETA: 0s - loss: 0.7447 - accuracy: 0.8601\n",
            "Epoch 9: loss improved from 0.79505 to 0.74469, saving model to /content/drive/MyDrive/translate/checkpoint/cp-0009.ckpt\n",
            "137/137 [==============================] - 11s 81ms/step - loss: 0.7447 - accuracy: 0.8601\n",
            "Epoch 10/30\n",
            "137/137 [==============================] - ETA: 0s - loss: 0.6921 - accuracy: 0.8648\n",
            "Epoch 10: loss improved from 0.74469 to 0.69208, saving model to /content/drive/MyDrive/translate/checkpoint/cp-0010.ckpt\n",
            "137/137 [==============================] - 11s 84ms/step - loss: 0.6921 - accuracy: 0.8648\n",
            "Epoch 11/30\n",
            "137/137 [==============================] - ETA: 0s - loss: 0.6443 - accuracy: 0.8699\n",
            "Epoch 11: loss improved from 0.69208 to 0.64434, saving model to /content/drive/MyDrive/translate/checkpoint/cp-0011.ckpt\n",
            "137/137 [==============================] - 11s 80ms/step - loss: 0.6443 - accuracy: 0.8699\n",
            "Epoch 12/30\n",
            "137/137 [==============================] - ETA: 0s - loss: 0.5968 - accuracy: 0.8751\n",
            "Epoch 12: loss improved from 0.64434 to 0.59681, saving model to /content/drive/MyDrive/translate/checkpoint/cp-0012.ckpt\n",
            "137/137 [==============================] - 11s 81ms/step - loss: 0.5968 - accuracy: 0.8751\n",
            "Epoch 13/30\n",
            "137/137 [==============================] - ETA: 0s - loss: 0.5525 - accuracy: 0.8812\n",
            "Epoch 13: loss improved from 0.59681 to 0.55253, saving model to /content/drive/MyDrive/translate/checkpoint/cp-0013.ckpt\n",
            "137/137 [==============================] - 12s 84ms/step - loss: 0.5525 - accuracy: 0.8812\n",
            "Epoch 14/30\n",
            "137/137 [==============================] - ETA: 0s - loss: 0.5102 - accuracy: 0.8885\n",
            "Epoch 14: loss improved from 0.55253 to 0.51016, saving model to /content/drive/MyDrive/translate/checkpoint/cp-0014.ckpt\n",
            "137/137 [==============================] - 11s 83ms/step - loss: 0.5102 - accuracy: 0.8885\n",
            "Epoch 15/30\n",
            "137/137 [==============================] - ETA: 0s - loss: 0.4714 - accuracy: 0.8940\n",
            "Epoch 15: loss improved from 0.51016 to 0.47145, saving model to /content/drive/MyDrive/translate/checkpoint/cp-0015.ckpt\n",
            "137/137 [==============================] - 11s 82ms/step - loss: 0.4714 - accuracy: 0.8940\n",
            "Epoch 16/30\n",
            "137/137 [==============================] - ETA: 0s - loss: 0.4359 - accuracy: 0.9003\n",
            "Epoch 16: loss improved from 0.47145 to 0.43594, saving model to /content/drive/MyDrive/translate/checkpoint/cp-0016.ckpt\n",
            "137/137 [==============================] - 11s 84ms/step - loss: 0.4359 - accuracy: 0.9003\n",
            "Epoch 17/30\n",
            "137/137 [==============================] - ETA: 0s - loss: 0.4033 - accuracy: 0.9055\n",
            "Epoch 17: loss improved from 0.43594 to 0.40330, saving model to /content/drive/MyDrive/translate/checkpoint/cp-0017.ckpt\n",
            "137/137 [==============================] - 11s 81ms/step - loss: 0.4033 - accuracy: 0.9055\n",
            "Epoch 18/30\n",
            "137/137 [==============================] - ETA: 0s - loss: 0.3739 - accuracy: 0.9115\n",
            "Epoch 18: loss improved from 0.40330 to 0.37389, saving model to /content/drive/MyDrive/translate/checkpoint/cp-0018.ckpt\n",
            "137/137 [==============================] - 11s 80ms/step - loss: 0.3739 - accuracy: 0.9115\n",
            "Epoch 19/30\n",
            "137/137 [==============================] - ETA: 0s - loss: 0.3467 - accuracy: 0.9168\n",
            "Epoch 19: loss improved from 0.37389 to 0.34669, saving model to /content/drive/MyDrive/translate/checkpoint/cp-0019.ckpt\n",
            "137/137 [==============================] - 11s 81ms/step - loss: 0.3467 - accuracy: 0.9168\n",
            "Epoch 20/30\n",
            "137/137 [==============================] - ETA: 0s - loss: 0.3205 - accuracy: 0.9221\n",
            "Epoch 20: loss improved from 0.34669 to 0.32048, saving model to /content/drive/MyDrive/translate/checkpoint/cp-0020.ckpt\n",
            "137/137 [==============================] - 11s 82ms/step - loss: 0.3205 - accuracy: 0.9221\n",
            "Epoch 21/30\n",
            "137/137 [==============================] - ETA: 0s - loss: 0.2970 - accuracy: 0.9270\n",
            "Epoch 21: loss improved from 0.32048 to 0.29698, saving model to /content/drive/MyDrive/translate/checkpoint/cp-0021.ckpt\n",
            "137/137 [==============================] - 11s 81ms/step - loss: 0.2970 - accuracy: 0.9270\n",
            "Epoch 22/30\n",
            "137/137 [==============================] - ETA: 0s - loss: 0.2752 - accuracy: 0.9314\n",
            "Epoch 22: loss improved from 0.29698 to 0.27523, saving model to /content/drive/MyDrive/translate/checkpoint/cp-0022.ckpt\n",
            "137/137 [==============================] - 11s 81ms/step - loss: 0.2752 - accuracy: 0.9314\n",
            "Epoch 23/30\n",
            "137/137 [==============================] - ETA: 0s - loss: 0.2526 - accuracy: 0.9369\n",
            "Epoch 23: loss improved from 0.27523 to 0.25265, saving model to /content/drive/MyDrive/translate/checkpoint/cp-0023.ckpt\n",
            "137/137 [==============================] - 11s 82ms/step - loss: 0.2526 - accuracy: 0.9369\n",
            "Epoch 24/30\n",
            "137/137 [==============================] - ETA: 0s - loss: 0.2330 - accuracy: 0.9413\n",
            "Epoch 24: loss improved from 0.25265 to 0.23305, saving model to /content/drive/MyDrive/translate/checkpoint/cp-0024.ckpt\n",
            "137/137 [==============================] - 11s 82ms/step - loss: 0.2330 - accuracy: 0.9413\n",
            "Epoch 25/30\n",
            "137/137 [==============================] - ETA: 0s - loss: 0.2150 - accuracy: 0.9452\n",
            "Epoch 25: loss improved from 0.23305 to 0.21497, saving model to /content/drive/MyDrive/translate/checkpoint/cp-0025.ckpt\n",
            "137/137 [==============================] - 11s 82ms/step - loss: 0.2150 - accuracy: 0.9452\n",
            "Epoch 26/30\n",
            "137/137 [==============================] - ETA: 0s - loss: 0.1990 - accuracy: 0.9490\n",
            "Epoch 26: loss improved from 0.21497 to 0.19895, saving model to /content/drive/MyDrive/translate/checkpoint/cp-0026.ckpt\n",
            "137/137 [==============================] - 11s 82ms/step - loss: 0.1990 - accuracy: 0.9490\n",
            "Epoch 27/30\n",
            "137/137 [==============================] - ETA: 0s - loss: 0.1838 - accuracy: 0.9530\n",
            "Epoch 27: loss improved from 0.19895 to 0.18382, saving model to /content/drive/MyDrive/translate/checkpoint/cp-0027.ckpt\n",
            "137/137 [==============================] - 11s 81ms/step - loss: 0.1838 - accuracy: 0.9530\n",
            "Epoch 28/30\n",
            "137/137 [==============================] - ETA: 0s - loss: 0.1674 - accuracy: 0.9569\n",
            "Epoch 28: loss improved from 0.18382 to 0.16740, saving model to /content/drive/MyDrive/translate/checkpoint/cp-0028.ckpt\n",
            "137/137 [==============================] - 11s 81ms/step - loss: 0.1674 - accuracy: 0.9569\n",
            "Epoch 29/30\n",
            "137/137 [==============================] - ETA: 0s - loss: 0.1537 - accuracy: 0.9601\n",
            "Epoch 29: loss improved from 0.16740 to 0.15367, saving model to /content/drive/MyDrive/translate/checkpoint/cp-0029.ckpt\n",
            "137/137 [==============================] - 11s 80ms/step - loss: 0.1537 - accuracy: 0.9601\n",
            "Epoch 30/30\n",
            "137/137 [==============================] - ETA: 0s - loss: 0.1422 - accuracy: 0.9629\n",
            "Epoch 30: loss improved from 0.15367 to 0.14217, saving model to /content/drive/MyDrive/translate/checkpoint/cp-0030.ckpt\n",
            "137/137 [==============================] - 11s 81ms/step - loss: 0.1422 - accuracy: 0.9629\n"
          ]
        },
        {
          "output_type": "execute_result",
          "data": {
            "text/plain": [
              "<keras.callbacks.History at 0x7f93be067f90>"
            ]
          },
          "metadata": {},
          "execution_count": 128
        }
      ],
      "source": [
        "model.fit(dataset,\n",
        "          epochs=epochs,\n",
        "          callbacks=callbacks,\n",
        "          verbose=1)"
      ]
    },
    {
      "cell_type": "code",
      "execution_count": null,
      "metadata": {
        "id": "0QGxWYuiQPnv"
      },
      "outputs": [],
      "source": [
        "# if use colab\n",
        "saved_model_path = \"/content/drive/MyDrive/translate/saved_model/translator.h5\"\n",
        "\n",
        "# if use local env\n",
        "# saved_model_path = \"code/translate sentence/saved_model/translate.h5\"\n",
        "saved_model_dir = os.path.dirname(saved_model_path)\n",
        "\n",
        "if os.path.exists(saved_model_dir):\n",
        "  shutil.rmtree(saved_model_dir)\n",
        "model.save(saved_model_path)"
      ]
    },
    {
      "cell_type": "code",
      "execution_count": null,
      "metadata": {
        "id": "1YmcvYUyzqLd"
      },
      "outputs": [],
      "source": [
        "class Translator(tf.Module):\n",
        "  def __init__(self, model_path, input_tokenizer, target_tokenizer, maxlen):\n",
        "    self.input_tokenizer = input_tokenizer\n",
        "    self.target_tokenizer = target_tokenizer\n",
        "    self.maxlen = maxlen\n",
        "    self.model_path = model_path\n",
        "\n",
        "    self._load_model()\n",
        "\n",
        "  def _load_model(self):\n",
        "    self.model = tf.keras.models.load_model(self.model_path)\n",
        "\n",
        "  def _normalize_and_preprocess(self, text):\n",
        "    punctuation = '!\"#$%&()*+,-./:;<=>?@[\\\\]^_`{|}~\\t\\n'\n",
        "    \n",
        "    text = text.lower().strip()\n",
        "    text = text.replace(punctuation, \"\")\n",
        "\n",
        "    return text\n",
        "    \n",
        "  def translate(self, sentence):\n",
        "    normalize_sentence = self._normalize_and_preprocess(sentence)\n",
        "\n",
        "    sequences = input_tokenizer.texts_to_sequences([normalize_sentence])\n",
        "    sequences = pad_sequences(sequences, maxlen=self.maxlen, padding=\"post\")\n",
        "    \n",
        "    predictions = self.model.predict(sequences)\n",
        "\n",
        "    index_prediction = list()\n",
        "\n",
        "    for i in predictions[0]:\n",
        "      index_prediction.append(np.argmax(i))\n",
        "\n",
        "    marks = [start_mark, end_mark]\n",
        "    result = target_tokenizer.sequences_to_texts([index_prediction])[0]\n",
        "    result = \" \".join([word for word in result.split(\" \") if word not in marks])\n",
        "\n",
        "    return result"
      ]
    },
    {
      "cell_type": "code",
      "execution_count": null,
      "metadata": {
        "colab": {
          "base_uri": "https://localhost:8080/",
          "height": 36
        },
        "id": "NkNd7WY3LSvJ",
        "outputId": "ef5666e3-a1b1-423b-9f72-33b623c6ae36"
      },
      "outputs": [
        {
          "output_type": "execute_result",
          "data": {
            "text/plain": [
              "'aku bercanda'"
            ],
            "application/vnd.google.colaboratory.intrinsic+json": {
              "type": "string"
            }
          },
          "metadata": {},
          "execution_count": 135
        }
      ],
      "source": [
        "translator = Translator(\n",
        "    saved_model_path,\n",
        "    input_tokenizer, \n",
        "    target_tokenizer,\n",
        "    input_maxlen,\n",
        ")\n",
        "\n",
        "translate = translator.translate(\"i'm joking\")\n",
        "translate"
      ]
    }
  ],
  "metadata": {
    "accelerator": "GPU",
    "colab": {
      "collapsed_sections": [],
      "name": "translator.ipynb",
      "provenance": [],
      "include_colab_link": true
    },
    "interpreter": {
      "hash": "765233bfe060b87a8be23ec8f17030d468ac6435ae34b0ad14370b4cb734ac81"
    },
    "kernelspec": {
      "display_name": "Python 3.9.7 ('base')",
      "language": "python",
      "name": "python3"
    },
    "language_info": {
      "codemirror_mode": {
        "name": "ipython",
        "version": 3
      },
      "file_extension": ".py",
      "mimetype": "text/x-python",
      "name": "python",
      "nbconvert_exporter": "python",
      "pygments_lexer": "ipython3",
      "version": "3.9.7"
    }
  },
  "nbformat": 4,
  "nbformat_minor": 0
}