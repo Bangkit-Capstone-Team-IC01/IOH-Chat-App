{
  "cells": [
    {
      "cell_type": "code",
      "execution_count": 1,
      "metadata": {
        "id": "diq8TM-70-aR"
      },
      "outputs": [],
      "source": [
        "# !pip install datasets\n",
        "# !pip install librosa"
      ]
    },
    {
      "cell_type": "code",
      "source": [
        "import IPython.display as pds\n",
        "import numpy as np\n",
        "import pandas as pd\n",
        "import warnings\n",
        "import random\n",
        "import zipfile\n",
        "import librosa\n",
        "import os\n",
        "import re\n",
        "import json\n",
        "import tensorflow as tf\n",
        "warnings.filterwarnings(\"ignore\")\n",
        "\n",
        "from tensorflow.keras import layers\n",
        "from sklearn.model_selection import train_test_split\n",
        "from scipy import signal"
      ],
      "metadata": {
        "id": "xoIdJCioHsOy"
      },
      "execution_count": 180,
      "outputs": []
    },
    {
      "cell_type": "code",
      "source": [
        "!git clone https://github.com/Bangkit-Capstone-Team/IOH-Chat-App.git"
      ],
      "metadata": {
        "id": "ZsbpCP8w1qpy",
        "colab": {
          "base_uri": "https://localhost:8080/"
        },
        "outputId": "68ff727a-2b50-434f-d388-cc45c7642fc8"
      },
      "execution_count": 3,
      "outputs": [
        {
          "output_type": "stream",
          "name": "stdout",
          "text": [
            "fatal: destination path 'IOH-Chat-App' already exists and is not an empty directory.\n"
          ]
        }
      ]
    },
    {
      "cell_type": "code",
      "source": [
        "SPEECH_DATA_DIR = \"/content/IOH-Chat-App/Machine Learning/datasets/speech/audio.zip\"\n",
        "\n",
        "zf = zipfile.ZipFile(SPEECH_DATA_DIR)\n",
        "zf.extractall(\"/tmp\")\n",
        "zf.close()"
      ],
      "metadata": {
        "id": "XNb75eUX13GO"
      },
      "execution_count": 4,
      "outputs": []
    },
    {
      "cell_type": "code",
      "source": [
        "DATASET_PATH = \"/tmp/audio/\""
      ],
      "metadata": {
        "id": "_cvR8rlt2TYj"
      },
      "execution_count": 146,
      "outputs": []
    },
    {
      "cell_type": "code",
      "source": [
        "def decode_audio(audio_path):\n",
        "  audio, _ = librosa.load(audio_path)\n",
        "  return audio\n",
        "\n",
        "def get_label(file_path):\n",
        "  string_split = os.path.split(file_path)\n",
        "  result = re.findall(r\"^\\w*\", string_split[-1])[0]\n",
        "  return result\n",
        "\n",
        "def audio_signal_and_label(file_path):\n",
        "  label = get_label(file_path)\n",
        "  feature = decode_audio(file_path)\n",
        "  return feature, label\n",
        "\n",
        "def prepare_dataset(dataset_path):\n",
        "  json_data = {\n",
        "      \"labels\": list(),\n",
        "      \"features\": list(),\n",
        "      \"one_hot_labels\": list(),\n",
        "  }\n",
        "\n",
        "  filenames = os.listdir(dataset_path)\n",
        "  audio_path = [os.path.join(dataset_path, filename) for filename in filenames]\n",
        "\n",
        "  for i, path in enumerate(audio_path):\n",
        "    if os.path.getsize(path) != 0:\n",
        "      features, labels = audio_signal_and_label(path)\n",
        "\n",
        "      json_data[\"labels\"].append(labels)\n",
        "      json_data[\"features\"].append(features)\n",
        "      json_data[\"one_hot_labels\"].append(i)\n",
        "\n",
        "      i =+ 1\n",
        "\n",
        "  return json_data"
      ],
      "metadata": {
        "id": "WvlHtVWDHy-j"
      },
      "execution_count": 190,
      "outputs": []
    },
    {
      "cell_type": "code",
      "source": [
        "dataset = prepare_dataset(DATASET_PATH)"
      ],
      "metadata": {
        "id": "gvejV3ZoJ6cT"
      },
      "execution_count": null,
      "outputs": []
    },
    {
      "cell_type": "code",
      "source": [
        "df = pd.DataFrame(dataset)\n",
        "df.head()"
      ],
      "metadata": {
        "id": "hOad3d3eYPZR",
        "colab": {
          "base_uri": "https://localhost:8080/",
          "height": 206
        },
        "outputId": "f65acfc2-6537-415b-db42-83fd12e6429e"
      },
      "execution_count": 227,
      "outputs": [
        {
          "output_type": "execute_result",
          "data": {
            "text/plain": [
              "   labels                                           features  one_hot_labels\n",
              "0     100  [[-565.8677368164062, 26.238544464111328, 22.8...               0\n",
              "1  100000  [[-583.0913696289062, 16.86783218383789, 14.79...               1\n",
              "2      15  [[-518.384765625, 29.100135803222656, 26.38721...               2\n",
              "3      16  [[-553.1329956054688, 0.0, 0.0, 0.0, 0.0, 0.0,...               3\n",
              "4      17  [[-541.1782836914062, 12.078079223632812, 11.7...               4"
            ],
            "text/html": [
              "\n",
              "  <div id=\"df-3ec1e1b9-5c0e-4d22-af35-331b0d35ed4a\">\n",
              "    <div class=\"colab-df-container\">\n",
              "      <div>\n",
              "<style scoped>\n",
              "    .dataframe tbody tr th:only-of-type {\n",
              "        vertical-align: middle;\n",
              "    }\n",
              "\n",
              "    .dataframe tbody tr th {\n",
              "        vertical-align: top;\n",
              "    }\n",
              "\n",
              "    .dataframe thead th {\n",
              "        text-align: right;\n",
              "    }\n",
              "</style>\n",
              "<table border=\"1\" class=\"dataframe\">\n",
              "  <thead>\n",
              "    <tr style=\"text-align: right;\">\n",
              "      <th></th>\n",
              "      <th>labels</th>\n",
              "      <th>features</th>\n",
              "      <th>one_hot_labels</th>\n",
              "    </tr>\n",
              "  </thead>\n",
              "  <tbody>\n",
              "    <tr>\n",
              "      <th>0</th>\n",
              "      <td>100</td>\n",
              "      <td>[[-565.8677368164062, 26.238544464111328, 22.8...</td>\n",
              "      <td>0</td>\n",
              "    </tr>\n",
              "    <tr>\n",
              "      <th>1</th>\n",
              "      <td>100000</td>\n",
              "      <td>[[-583.0913696289062, 16.86783218383789, 14.79...</td>\n",
              "      <td>1</td>\n",
              "    </tr>\n",
              "    <tr>\n",
              "      <th>2</th>\n",
              "      <td>15</td>\n",
              "      <td>[[-518.384765625, 29.100135803222656, 26.38721...</td>\n",
              "      <td>2</td>\n",
              "    </tr>\n",
              "    <tr>\n",
              "      <th>3</th>\n",
              "      <td>16</td>\n",
              "      <td>[[-553.1329956054688, 0.0, 0.0, 0.0, 0.0, 0.0,...</td>\n",
              "      <td>3</td>\n",
              "    </tr>\n",
              "    <tr>\n",
              "      <th>4</th>\n",
              "      <td>17</td>\n",
              "      <td>[[-541.1782836914062, 12.078079223632812, 11.7...</td>\n",
              "      <td>4</td>\n",
              "    </tr>\n",
              "  </tbody>\n",
              "</table>\n",
              "</div>\n",
              "      <button class=\"colab-df-convert\" onclick=\"convertToInteractive('df-3ec1e1b9-5c0e-4d22-af35-331b0d35ed4a')\"\n",
              "              title=\"Convert this dataframe to an interactive table.\"\n",
              "              style=\"display:none;\">\n",
              "        \n",
              "  <svg xmlns=\"http://www.w3.org/2000/svg\" height=\"24px\"viewBox=\"0 0 24 24\"\n",
              "       width=\"24px\">\n",
              "    <path d=\"M0 0h24v24H0V0z\" fill=\"none\"/>\n",
              "    <path d=\"M18.56 5.44l.94 2.06.94-2.06 2.06-.94-2.06-.94-.94-2.06-.94 2.06-2.06.94zm-11 1L8.5 8.5l.94-2.06 2.06-.94-2.06-.94L8.5 2.5l-.94 2.06-2.06.94zm10 10l.94 2.06.94-2.06 2.06-.94-2.06-.94-.94-2.06-.94 2.06-2.06.94z\"/><path d=\"M17.41 7.96l-1.37-1.37c-.4-.4-.92-.59-1.43-.59-.52 0-1.04.2-1.43.59L10.3 9.45l-7.72 7.72c-.78.78-.78 2.05 0 2.83L4 21.41c.39.39.9.59 1.41.59.51 0 1.02-.2 1.41-.59l7.78-7.78 2.81-2.81c.8-.78.8-2.07 0-2.86zM5.41 20L4 18.59l7.72-7.72 1.47 1.35L5.41 20z\"/>\n",
              "  </svg>\n",
              "      </button>\n",
              "      \n",
              "  <style>\n",
              "    .colab-df-container {\n",
              "      display:flex;\n",
              "      flex-wrap:wrap;\n",
              "      gap: 12px;\n",
              "    }\n",
              "\n",
              "    .colab-df-convert {\n",
              "      background-color: #E8F0FE;\n",
              "      border: none;\n",
              "      border-radius: 50%;\n",
              "      cursor: pointer;\n",
              "      display: none;\n",
              "      fill: #1967D2;\n",
              "      height: 32px;\n",
              "      padding: 0 0 0 0;\n",
              "      width: 32px;\n",
              "    }\n",
              "\n",
              "    .colab-df-convert:hover {\n",
              "      background-color: #E2EBFA;\n",
              "      box-shadow: 0px 1px 2px rgba(60, 64, 67, 0.3), 0px 1px 3px 1px rgba(60, 64, 67, 0.15);\n",
              "      fill: #174EA6;\n",
              "    }\n",
              "\n",
              "    [theme=dark] .colab-df-convert {\n",
              "      background-color: #3B4455;\n",
              "      fill: #D2E3FC;\n",
              "    }\n",
              "\n",
              "    [theme=dark] .colab-df-convert:hover {\n",
              "      background-color: #434B5C;\n",
              "      box-shadow: 0px 1px 3px 1px rgba(0, 0, 0, 0.15);\n",
              "      filter: drop-shadow(0px 1px 2px rgba(0, 0, 0, 0.3));\n",
              "      fill: #FFFFFF;\n",
              "    }\n",
              "  </style>\n",
              "\n",
              "      <script>\n",
              "        const buttonEl =\n",
              "          document.querySelector('#df-3ec1e1b9-5c0e-4d22-af35-331b0d35ed4a button.colab-df-convert');\n",
              "        buttonEl.style.display =\n",
              "          google.colab.kernel.accessAllowed ? 'block' : 'none';\n",
              "\n",
              "        async function convertToInteractive(key) {\n",
              "          const element = document.querySelector('#df-3ec1e1b9-5c0e-4d22-af35-331b0d35ed4a');\n",
              "          const dataTable =\n",
              "            await google.colab.kernel.invokeFunction('convertToInteractive',\n",
              "                                                     [key], {});\n",
              "          if (!dataTable) return;\n",
              "\n",
              "          const docLinkHtml = 'Like what you see? Visit the ' +\n",
              "            '<a target=\"_blank\" href=https://colab.research.google.com/notebooks/data_table.ipynb>data table notebook</a>'\n",
              "            + ' to learn more about interactive tables.';\n",
              "          element.innerHTML = '';\n",
              "          dataTable['output_type'] = 'display_data';\n",
              "          await google.colab.output.renderOutput(dataTable, element);\n",
              "          const docLink = document.createElement('div');\n",
              "          docLink.innerHTML = docLinkHtml;\n",
              "          element.appendChild(docLink);\n",
              "        }\n",
              "      </script>\n",
              "    </div>\n",
              "  </div>\n",
              "  "
            ]
          },
          "metadata": {},
          "execution_count": 227
        }
      ]
    },
    {
      "cell_type": "code",
      "source": [
        "features = np.array(df.features)\n",
        "labels = np.array(df.labels)\n",
        "\n",
        "x_train, y_train, x_test, y_test = train_test_split(features, labels, test_size=0.2, random_state=1)\n",
        "\n",
        "x_train = np.expand_dims(x_train, axis=1)\n",
        "x_test = np.expand_dims(x_test, axis=1)\n",
        "\n",
        "input_shape = (x_train.shape[0], x_train.shape[1], 1)"
      ],
      "metadata": {
        "colab": {
          "base_uri": "https://localhost:8080/"
        },
        "id": "n775IRt9Vy9C",
        "outputId": "dfa1b954-5c87-4809-9875-a4ef6802fe66"
      },
      "execution_count": 231,
      "outputs": [
        {
          "output_type": "stream",
          "name": "stdout",
          "text": [
            "(1527, 1, 1)\n"
          ]
        }
      ]
    },
    {
      "cell_type": "code",
      "source": [
        "def getModel(n_class, input_shape):\n",
        "  model = tf.keras.Sequential()\n",
        "\n",
        "  model.add(layers.Input(shape=input_shape))\n",
        "  model.add(layers.Resizing(32, 32))\n",
        "  \n",
        "  model.add(layers.Conv2D(32, (3, 3), activation='relu', padding=\"same\"))\n",
        "  model.add(layers.MaxPooling2D(pool_size=(2, 2), padding=\"same\"))\n",
        "\n",
        "  model.add(layers.Conv2D(64, (3, 3), activation='relu', padding=\"same\"))\n",
        "  model.add(layers.MaxPooling2D(pool_size=(2, 2), padding=\"same\"))\n",
        "  \n",
        "  model.add(layers.Conv2D(128, (3, 3), activation='relu', padding=\"same\"))\n",
        "  model.add(layers.MaxPooling2D(pool_size=(2, 2), padding=\"same\"))\n",
        "  \n",
        "  model.add(layers.Flatten())\n",
        "\n",
        "  model.add(layers.Dense(128, activation='relu'))\n",
        "  model.add(layers.Dropout(0.5))\n",
        "\n",
        "  model.add(layers.Dense(64, activation='relu'))\n",
        "  model.add(layers.Dropout(0.5))\n",
        "\n",
        "  model.add(layers.Dense(n_class, activation='softmax'))\n",
        "\n",
        "  return model"
      ],
      "metadata": {
        "id": "gVgpZjnyeenI"
      },
      "execution_count": 235,
      "outputs": []
    },
    {
      "cell_type": "code",
      "source": [
        "LR = 1e-4\n",
        "OPTIMIZER = tf.keras.optimizers.Adam(learning_rate=LR)\n",
        "LOSS = tf.keras.losses.sparse_categorical_crossentropy\n",
        "\n",
        "model = getModel(len(y_train), input_shape)\n",
        "\n",
        "model.compile(optimizer=OPTIMIZER,\n",
        "              loss=LOSS,\n",
        "              metrics=[\"accuracy\"])\n",
        "\n",
        "model.summary()"
      ],
      "metadata": {
        "id": "LPSo3xr0fRyI",
        "colab": {
          "base_uri": "https://localhost:8080/"
        },
        "outputId": "593721e2-641c-4e18-b8a3-2c4801ba3b4b"
      },
      "execution_count": 236,
      "outputs": [
        {
          "output_type": "stream",
          "name": "stdout",
          "text": [
            "Model: \"sequential_21\"\n",
            "_________________________________________________________________\n",
            " Layer (type)                Output Shape              Param #   \n",
            "=================================================================\n",
            " resizing_2 (Resizing)       (None, 32, 32, 1)         0         \n",
            "                                                                 \n",
            " conv2d_35 (Conv2D)          (None, 32, 32, 32)        320       \n",
            "                                                                 \n",
            " max_pooling2d_23 (MaxPoolin  (None, 16, 16, 32)       0         \n",
            " g2D)                                                            \n",
            "                                                                 \n",
            " conv2d_36 (Conv2D)          (None, 16, 16, 64)        18496     \n",
            "                                                                 \n",
            " max_pooling2d_24 (MaxPoolin  (None, 8, 8, 64)         0         \n",
            " g2D)                                                            \n",
            "                                                                 \n",
            " conv2d_37 (Conv2D)          (None, 8, 8, 128)         73856     \n",
            "                                                                 \n",
            " max_pooling2d_25 (MaxPoolin  (None, 4, 4, 128)        0         \n",
            " g2D)                                                            \n",
            "                                                                 \n",
            " flatten_8 (Flatten)         (None, 2048)              0         \n",
            "                                                                 \n",
            " dense_23 (Dense)            (None, 128)               262272    \n",
            "                                                                 \n",
            " dropout_15 (Dropout)        (None, 128)               0         \n",
            "                                                                 \n",
            " dense_24 (Dense)            (None, 64)                8256      \n",
            "                                                                 \n",
            " dropout_16 (Dropout)        (None, 64)                0         \n",
            "                                                                 \n",
            " dense_25 (Dense)            (None, 382)               24830     \n",
            "                                                                 \n",
            "=================================================================\n",
            "Total params: 388,030\n",
            "Trainable params: 388,030\n",
            "Non-trainable params: 0\n",
            "_________________________________________________________________\n"
          ]
        }
      ]
    },
    {
      "cell_type": "code",
      "source": [
        "EPOCHS = 15\n",
        "\n",
        "model.fit(x_train, \n",
        "          y_train, \n",
        "          epochs=EPOCHS, \n",
        "          validation_data=(x_test, y_test), \n",
        "          batch_size=128)"
      ],
      "metadata": {
        "id": "u5V7F7megJqE",
        "colab": {
          "base_uri": "https://localhost:8080/",
          "height": 345
        },
        "outputId": "596cf7bb-4fa3-4f4e-9ece-2d34eb0a8a3b"
      },
      "execution_count": 237,
      "outputs": [
        {
          "output_type": "error",
          "ename": "ValueError",
          "evalue": "ignored",
          "traceback": [
            "\u001b[0;31m---------------------------------------------------------------------------\u001b[0m",
            "\u001b[0;31mValueError\u001b[0m                                Traceback (most recent call last)",
            "\u001b[0;32m<ipython-input-237-723a30b8b91b>\u001b[0m in \u001b[0;36m<module>\u001b[0;34m()\u001b[0m\n\u001b[1;32m      5\u001b[0m           \u001b[0mepochs\u001b[0m\u001b[0;34m=\u001b[0m\u001b[0mEPOCHS\u001b[0m\u001b[0;34m,\u001b[0m\u001b[0;34m\u001b[0m\u001b[0;34m\u001b[0m\u001b[0m\n\u001b[1;32m      6\u001b[0m           \u001b[0mvalidation_data\u001b[0m\u001b[0;34m=\u001b[0m\u001b[0;34m(\u001b[0m\u001b[0mx_test\u001b[0m\u001b[0;34m,\u001b[0m \u001b[0my_test\u001b[0m\u001b[0;34m)\u001b[0m\u001b[0;34m,\u001b[0m\u001b[0;34m\u001b[0m\u001b[0;34m\u001b[0m\u001b[0m\n\u001b[0;32m----> 7\u001b[0;31m           batch_size=128)\n\u001b[0m",
            "\u001b[0;32m/usr/local/lib/python3.7/dist-packages/keras/utils/traceback_utils.py\u001b[0m in \u001b[0;36merror_handler\u001b[0;34m(*args, **kwargs)\u001b[0m\n\u001b[1;32m     65\u001b[0m     \u001b[0;32mexcept\u001b[0m \u001b[0mException\u001b[0m \u001b[0;32mas\u001b[0m \u001b[0me\u001b[0m\u001b[0;34m:\u001b[0m  \u001b[0;31m# pylint: disable=broad-except\u001b[0m\u001b[0;34m\u001b[0m\u001b[0;34m\u001b[0m\u001b[0m\n\u001b[1;32m     66\u001b[0m       \u001b[0mfiltered_tb\u001b[0m \u001b[0;34m=\u001b[0m \u001b[0m_process_traceback_frames\u001b[0m\u001b[0;34m(\u001b[0m\u001b[0me\u001b[0m\u001b[0;34m.\u001b[0m\u001b[0m__traceback__\u001b[0m\u001b[0;34m)\u001b[0m\u001b[0;34m\u001b[0m\u001b[0;34m\u001b[0m\u001b[0m\n\u001b[0;32m---> 67\u001b[0;31m       \u001b[0;32mraise\u001b[0m \u001b[0me\u001b[0m\u001b[0;34m.\u001b[0m\u001b[0mwith_traceback\u001b[0m\u001b[0;34m(\u001b[0m\u001b[0mfiltered_tb\u001b[0m\u001b[0;34m)\u001b[0m \u001b[0;32mfrom\u001b[0m \u001b[0;32mNone\u001b[0m\u001b[0;34m\u001b[0m\u001b[0;34m\u001b[0m\u001b[0m\n\u001b[0m\u001b[1;32m     68\u001b[0m     \u001b[0;32mfinally\u001b[0m\u001b[0;34m:\u001b[0m\u001b[0;34m\u001b[0m\u001b[0;34m\u001b[0m\u001b[0m\n\u001b[1;32m     69\u001b[0m       \u001b[0;32mdel\u001b[0m \u001b[0mfiltered_tb\u001b[0m\u001b[0;34m\u001b[0m\u001b[0;34m\u001b[0m\u001b[0m\n",
            "\u001b[0;32m/usr/local/lib/python3.7/dist-packages/tensorflow/python/framework/constant_op.py\u001b[0m in \u001b[0;36mconvert_to_eager_tensor\u001b[0;34m(value, ctx, dtype)\u001b[0m\n\u001b[1;32m    100\u001b[0m       \u001b[0mdtype\u001b[0m \u001b[0;34m=\u001b[0m \u001b[0mdtypes\u001b[0m\u001b[0;34m.\u001b[0m\u001b[0mas_dtype\u001b[0m\u001b[0;34m(\u001b[0m\u001b[0mdtype\u001b[0m\u001b[0;34m)\u001b[0m\u001b[0;34m.\u001b[0m\u001b[0mas_datatype_enum\u001b[0m\u001b[0;34m\u001b[0m\u001b[0;34m\u001b[0m\u001b[0m\n\u001b[1;32m    101\u001b[0m   \u001b[0mctx\u001b[0m\u001b[0;34m.\u001b[0m\u001b[0mensure_initialized\u001b[0m\u001b[0;34m(\u001b[0m\u001b[0;34m)\u001b[0m\u001b[0;34m\u001b[0m\u001b[0;34m\u001b[0m\u001b[0m\n\u001b[0;32m--> 102\u001b[0;31m   \u001b[0;32mreturn\u001b[0m \u001b[0mops\u001b[0m\u001b[0;34m.\u001b[0m\u001b[0mEagerTensor\u001b[0m\u001b[0;34m(\u001b[0m\u001b[0mvalue\u001b[0m\u001b[0;34m,\u001b[0m \u001b[0mctx\u001b[0m\u001b[0;34m.\u001b[0m\u001b[0mdevice_name\u001b[0m\u001b[0;34m,\u001b[0m \u001b[0mdtype\u001b[0m\u001b[0;34m)\u001b[0m\u001b[0;34m\u001b[0m\u001b[0;34m\u001b[0m\u001b[0m\n\u001b[0m\u001b[1;32m    103\u001b[0m \u001b[0;34m\u001b[0m\u001b[0m\n\u001b[1;32m    104\u001b[0m \u001b[0;34m\u001b[0m\u001b[0m\n",
            "\u001b[0;31mValueError\u001b[0m: Failed to convert a NumPy array to a Tensor (Unsupported object type list)."
          ]
        }
      ]
    }
  ],
  "metadata": {
    "interpreter": {
      "hash": "765233bfe060b87a8be23ec8f17030d468ac6435ae34b0ad14370b4cb734ac81"
    },
    "kernelspec": {
      "display_name": "Python 3.9.7 ('base')",
      "language": "python",
      "name": "python3"
    },
    "language_info": {
      "codemirror_mode": {
        "name": "ipython",
        "version": 3
      },
      "file_extension": ".py",
      "mimetype": "text/x-python",
      "name": "python",
      "nbconvert_exporter": "python",
      "pygments_lexer": "ipython3",
      "version": "3.9.7"
    },
    "orig_nbformat": 4,
    "colab": {
      "name": "speech_to_text.ipynb",
      "provenance": []
    }
  },
  "nbformat": 4,
  "nbformat_minor": 0
}