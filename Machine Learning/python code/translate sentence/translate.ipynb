{
  "nbformat": 4,
  "nbformat_minor": 0,
  "metadata": {
    "colab": {
      "name": "translate",
      "provenance": [],
      "collapsed_sections": []
    },
    "kernelspec": {
      "name": "python3",
      "display_name": "Python 3"
    },
    "language_info": {
      "name": "python"
    }
  },
  "cells": [
    {
      "cell_type": "code",
      "execution_count": 1,
      "metadata": {
        "id": "AxhXmDOQApMo"
      },
      "outputs": [],
      "source": [
        "import tensorflow as tf\n",
        "import numpy as np\n",
        "import csv"
      ]
    },
    {
      "cell_type": "code",
      "source": [
        "from google.colab import drive\n",
        "drive.mount('/content/drive')\n",
        "\n",
        "with open(\"/content/drive/MyDrive/data/eng-ind.csv\") as f:\n",
        "  csv_reader = csv.reader(f)\n",
        "  next(csv_reader)\n",
        "\n",
        "  input_data = list()\n",
        "  target_data = list()\n",
        "\n",
        "  for row in csv_reader:\n",
        "    input_data.append(row[0])\n",
        "    target_data.append(row[1])"
      ],
      "metadata": {
        "id": "4ID8ZvSWBDvx",
        "colab": {
          "base_uri": "https://localhost:8080/"
        },
        "outputId": "b8e670f8-1835-4447-ccba-4aa7aeebff08"
      },
      "execution_count": 2,
      "outputs": [
        {
          "output_type": "stream",
          "name": "stdout",
          "text": [
            "Drive already mounted at /content/drive; to attempt to forcibly remount, call drive.mount(\"/content/drive\", force_remount=True).\n"
          ]
        }
      ]
    },
    {
      "cell_type": "code",
      "source": [
        "BUFFER_SIZE = len(input_data)\n",
        "BATCH_SIZE = 64\n",
        "\n",
        "dataset = tf.data.Dataset.from_tensor_slices((input_data, target_data)).shuffle(BUFFER_SIZE)\n",
        "dataset = dataset.batch(BATCH_SIZE)"
      ],
      "metadata": {
        "id": "7QgEbE8DEeFG"
      },
      "execution_count": 3,
      "outputs": []
    },
    {
      "cell_type": "code",
      "source": [
        "for inp_batch, targ_batch in dataset.take(1):\n",
        "  print(inp_batch)\n",
        "  print()\n",
        "  print(targ_batch)\n",
        "  break"
      ],
      "metadata": {
        "colab": {
          "base_uri": "https://localhost:8080/"
        },
        "id": "NYgVVwDuIvL2",
        "outputId": "36382f57-8b97-4095-feef-d5c97d563996"
      },
      "execution_count": 4,
      "outputs": [
        {
          "output_type": "stream",
          "name": "stdout",
          "text": [
            "tf.Tensor(\n",
            "[b\"It's a good question.\" b\"I don't have a bicycle.\"\n",
            " b\"If you don't want to miss the train, you'd better hurry.\"\n",
            " b'We kept on working for hours without eating anything.'\n",
            " b'There were no roses in the garden.' b\"Don't move!\"\n",
            " b'I have seen that girl before.' b'Could you turn down the radio?'\n",
            " b'He has a good brain.' b'He has a hundred dollars at most.'\n",
            " b'Tom is a bartender.' b\"I still haven't learned to drive a car.\"\n",
            " b'He seems sick.' b'Tom put on my shirt.'\n",
            " b'Several gardeners look after the azaleas in the park.'\n",
            " b\"We're already planning to do that.\" b'Tom died from lack of oxygen.'\n",
            " b'Tom started playing the violin when he was thirteen.'\n",
            " b'Good traditions should be preserved.' b'I think my exam went well.'\n",
            " b\"I can't bend my right arm.\" b\"It's me.\" b\"What's a UFO?\"\n",
            " b\"Tom says he's busy today.\" b\"I don't have anything to hide.\"\n",
            " b'Tom cried.' b'Tom is nervous.' b'What do you usually do on Sundays?'\n",
            " b'You must follow school rules.' b'I ate three pieces of cake.'\n",
            " b'I went out for a walk.' b\"When my wife finds out, she won't be happy.\"\n",
            " b'Turn on the radio, please.' b\"Please don't die.\"\n",
            " b'What are you drinking?' b\"I forgot to tell Tom why I didn't do that.\"\n",
            " b'I was writing her a love letter.' b\"I can't attend the meeting.\"\n",
            " b'He is my brother.' b'Have you ever eaten sea urchins?'\n",
            " b'How could I know?' b\"Where's the nearest telephone booth?\"\n",
            " b\"We're a little worried about Tom.\"\n",
            " b'We were directly in the path of the storm.'\n",
            " b\"Something's not right here.\" b'Welcome.'\n",
            " b'Remove your shirt and lie down.' b'Tom is peeling the potatoes.'\n",
            " b\"Tom doesn't eat beef.\" b'Tom kept on talking.'\n",
            " b\"I'm going to wait until 2:30.\" b'Tom saw them.'\n",
            " b'Leave the chairs as they are.' b'Let Tom come aboard.' b'Thanks!'\n",
            " b'I think that Tom is an honest man.' b\"People don't say that anymore.\"\n",
            " b'Be careful not to drive the wrong way on a one-way street.'\n",
            " b'To love life is to love God.' b\"I want to know what's funny.\"\n",
            " b'This is the book that I told you about.'\n",
            " b\"Don't you want to know who that man is?\"\n",
            " b'Do you have something to say?' b'We go fishing from time to time.'], shape=(64,), dtype=string)\n",
            "\n",
            "tf.Tensor(\n",
            "[b'Ini pertanyaan yang bagus' b'Saya tidak punya sepeda.'\n",
            " b'Kalau kamu tidak mau ketinggalan kereta, lebih baik kamu bergegas.'\n",
            " b'Kami tetap bekerja berjam-jam tanpa makan apa pun.'\n",
            " b'Tidak ada bunga mawar di taman.' b'Jangan bergerak!'\n",
            " b'Aku pernah melihat gadis itu sebelumnya.'\n",
            " b'Bisakah kau kecilkan volume radionya?' b'Dia punya otak yang cerdas.'\n",
            " b'Dia cuma punya seratus dolar paling banyak.'\n",
            " b'Tom adalah seorang pelayan bar.'\n",
            " b'Aku masih belum belajar mengendarai mobil.' b'Dia terlihat sakit.'\n",
            " b'Tom mengenakan kemejaku.'\n",
            " b'Beberapa tukang kebun merawat bunga azalea in taman.'\n",
            " b'Kami sudah merencanakan itu.'\n",
            " b'Tom meninggal karena kekurangan oksigen.'\n",
            " b'Tom mulai bermain biola ketika dia berumur tigabelas tahun.'\n",
            " b'Tradisi-tradisi yang baik harus dipertahankan.'\n",
            " b'Aku rasa ujianku tadi berjalan lancar.'\n",
            " b'Aku tidak bisa menekuk tangan kananku.' b'Ini aku.' b'Apa itu UFO?'\n",
            " b'Tom berkata dia sibuk hari ini.'\n",
            " b'Tidak ada yang perlu aku sembunyikan.' b'Tom menangis.' b'Tom gugup.'\n",
            " b'Apa yang biasa kamu lakukan pada hari Minggu?'\n",
            " b'Kamu harus menuruti aturan sekolah.' b'Aku makan kue tiga potong.'\n",
            " b'saya pergi keluar untuk jalan-jalan.'\n",
            " b'Jika istriku tahu, dia tidak akan senang.'\n",
            " b'Bisa tolong nyalakan radionya.' b'Tolong jangan mati!'\n",
            " b'Kamu minum apa?'\n",
            " b'Saya lupa memberitahu Tom mengapa saya tidak melakukannya.'\n",
            " b'Aku menulis sebuah surat cinta untuknya.'\n",
            " b'Saya tidak bisa menghadiri rapat itu.' b'Dia adalah kakakku.'\n",
            " b'Pernahkah kamu makan bulu babi?' b'Bagaimana aku bisa mengetahuinya?'\n",
            " b'Di mana wartel terdekat?' b'Kami sedikit khawatir dengan Tom.'\n",
            " b'Kami berada tepat di jalur badai.' b'Ada sesuatu yang ga bener nih.'\n",
            " b'Selamat datang.' b'Lepas kaosmu dan berbaringlah.'\n",
            " b'Tom sedang mengupasi kentang-kentangnya.'\n",
            " b'Tom tidak makan daging sapi.' b'Tom terus berbicara.'\n",
            " b'Kutunggu sampai pukul 2:30.' b'Tom melihat mereka.'\n",
            " b'kembalikan kursinya seperti semula.' b'Biarkan Tom naik.' b'Makasih!'\n",
            " b'Saya pikir Tom adalah orang yang jujur.'\n",
            " b'Orang-orang tidak mengatakan itu lagi.'\n",
            " b'Hati-hati jangan salah jalan pada jalur satu arah.'\n",
            " b'Mencintai kehidupan adalah mencintai Tuhan.'\n",
            " b'Saya penasaran apanya yang lucu.'\n",
            " b'Ini buku yang aku ceritakan padamu.'\n",
            " b'Tidakkah kalian ingin tahu siapa pria itu?'\n",
            " b'Apa ada sesuatu yang ingin kau katakan?'\n",
            " b'Kami memancing dari waktu ke waktu.'], shape=(64,), dtype=string)\n"
          ]
        }
      ]
    }
  ]
}