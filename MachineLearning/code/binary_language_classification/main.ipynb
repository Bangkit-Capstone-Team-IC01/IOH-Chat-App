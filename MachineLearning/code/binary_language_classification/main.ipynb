{
  "cells": [
    {
      "cell_type": "code",
      "execution_count": null,
      "metadata": {
        "colab": {
          "base_uri": "https://localhost:8080/"
        },
        "id": "HRho2lb2HZNt",
        "outputId": "2b608bd5-f5ee-40f2-a0b0-3a8301ae8aaf"
      },
      "outputs": [
        {
          "output_type": "stream",
          "name": "stdout",
          "text": [
            "\u001b[?25l\r\u001b[K     |█▍                              | 10 kB 23.3 MB/s eta 0:00:01\r\u001b[K     |██▊                             | 20 kB 13.1 MB/s eta 0:00:01\r\u001b[K     |████▏                           | 30 kB 10.1 MB/s eta 0:00:01\r\u001b[K     |█████▌                          | 40 kB 8.8 MB/s eta 0:00:01\r\u001b[K     |███████                         | 51 kB 4.4 MB/s eta 0:00:01\r\u001b[K     |████████▎                       | 61 kB 5.2 MB/s eta 0:00:01\r\u001b[K     |█████████▋                      | 71 kB 5.6 MB/s eta 0:00:01\r\u001b[K     |███████████                     | 81 kB 5.8 MB/s eta 0:00:01\r\u001b[K     |████████████▍                   | 92 kB 6.4 MB/s eta 0:00:01\r\u001b[K     |█████████████▉                  | 102 kB 5.2 MB/s eta 0:00:01\r\u001b[K     |███████████████▏                | 112 kB 5.2 MB/s eta 0:00:01\r\u001b[K     |████████████████▌               | 122 kB 5.2 MB/s eta 0:00:01\r\u001b[K     |██████████████████              | 133 kB 5.2 MB/s eta 0:00:01\r\u001b[K     |███████████████████▎            | 143 kB 5.2 MB/s eta 0:00:01\r\u001b[K     |████████████████████▊           | 153 kB 5.2 MB/s eta 0:00:01\r\u001b[K     |██████████████████████          | 163 kB 5.2 MB/s eta 0:00:01\r\u001b[K     |███████████████████████▌        | 174 kB 5.2 MB/s eta 0:00:01\r\u001b[K     |████████████████████████▉       | 184 kB 5.2 MB/s eta 0:00:01\r\u001b[K     |██████████████████████████▏     | 194 kB 5.2 MB/s eta 0:00:01\r\u001b[K     |███████████████████████████▋    | 204 kB 5.2 MB/s eta 0:00:01\r\u001b[K     |█████████████████████████████   | 215 kB 5.2 MB/s eta 0:00:01\r\u001b[K     |██████████████████████████████▍ | 225 kB 5.2 MB/s eta 0:00:01\r\u001b[K     |███████████████████████████████▊| 235 kB 5.2 MB/s eta 0:00:01\r\u001b[K     |████████████████████████████████| 237 kB 5.2 MB/s \n",
            "\u001b[?25h"
          ]
        }
      ],
      "source": [
        "!pip install -q tensorflow-model-optimization"
      ]
    },
    {
      "cell_type": "code",
      "execution_count": null,
      "metadata": {
        "id": "czECAYDcdLe4"
      },
      "outputs": [],
      "source": [
        "import tensorflow as tf\n",
        "from tensorflow.keras import layers\n",
        "import numpy as np\n",
        "import csv\n",
        "from tensorflow.keras.layers import TextVectorization\n",
        "import tensorflow_model_optimization as tfmot"
      ]
    },
    {
      "cell_type": "code",
      "execution_count": null,
      "metadata": {
        "id": "FGG5_R6vdOg0"
      },
      "outputs": [],
      "source": [
        "with open(\"eng-ind.csv\") as f:\n",
        "    csvreader = csv.reader(f, delimiter=\",\")\n",
        "    next(csvreader)\n",
        "    eng_ind, label = list(),list()\n",
        "    for i in csvreader:\n",
        "        eng_ind.append(i[0])\n",
        "        label.append(0)\n",
        "        eng_ind.append(i[1])\n",
        "        label.append(1)\n",
        "        \n",
        "vectorize = TextVectorization(output_sequence_length=32)\n",
        "vectorize.adapt(tf.data.Dataset.from_tensor_slices(eng_ind))\n"
      ]
    },
    {
      "cell_type": "code",
      "execution_count": null,
      "metadata": {
        "id": "dWq8RCuX4jK4"
      },
      "outputs": [],
      "source": [
        "datas = list()\n",
        "for i in eng_ind:\n",
        "  datas.append(vectorize(i))"
      ]
    },
    {
      "cell_type": "code",
      "execution_count": null,
      "metadata": {
        "id": "QI-8h14idVGq"
      },
      "outputs": [],
      "source": [
        "dataset = tf.data.Dataset.from_tensor_slices((datas,label)).batch(8)"
      ]
    },
    {
      "cell_type": "code",
      "execution_count": null,
      "metadata": {
        "id": "apoc5BQze1fH"
      },
      "outputs": [],
      "source": [
        "train = dataset.take(int(0.9*len(dataset)))\n",
        "val = dataset.skip(int(0.9*len(dataset)))"
      ]
    },
    {
      "cell_type": "code",
      "execution_count": null,
      "metadata": {
        "colab": {
          "base_uri": "https://localhost:8080/"
        },
        "id": "ZeP5xgNRtlzI",
        "outputId": "aa3128fe-5c91-4b72-a724-e3016d0c4e93"
      },
      "outputs": [
        {
          "output_type": "execute_result",
          "data": {
            "text/plain": [
              "8838"
            ]
          },
          "metadata": {},
          "execution_count": 8
        }
      ],
      "source": [
        "len(vectorize.get_vocabulary())"
      ]
    },
    {
      "cell_type": "code",
      "source": [
        "quantize_annotate_layer = tfmot.quantization.keras.quantize_annotate_layer"
      ],
      "metadata": {
        "id": "T6Zt6FGi5qI0"
      },
      "execution_count": null,
      "outputs": []
    },
    {
      "cell_type": "code",
      "execution_count": null,
      "metadata": {
        "colab": {
          "base_uri": "https://localhost:8080/"
        },
        "id": "1maiq96gdYLi",
        "outputId": "f8e99515-9b4b-4b57-fe6d-05e33c8b1279"
      },
      "outputs": [
        {
          "output_type": "stream",
          "name": "stdout",
          "text": [
            "Model: \"sequential_4\"\n",
            "_________________________________________________________________\n",
            " Layer (type)                Output Shape              Param #   \n",
            "=================================================================\n",
            " quantize_annotate_4 (Quanti  (None, 32, 64)           64000     \n",
            " zeAnnotate)                                                     \n",
            "                                                                 \n",
            " flatten_4 (Flatten)         (None, 2048)              0         \n",
            "                                                                 \n",
            " dense_7 (Dense)             (None, 64)                131136    \n",
            "                                                                 \n",
            " dense_8 (Dense)             (None, 64)                4160      \n",
            "                                                                 \n",
            " dense_9 (Dense)             (None, 32)                2080      \n",
            "                                                                 \n",
            " dense_10 (Dense)            (None, 1)                 33        \n",
            "                                                                 \n",
            "=================================================================\n",
            "Total params: 201,409\n",
            "Trainable params: 201,409\n",
            "Non-trainable params: 0\n",
            "_________________________________________________________________\n"
          ]
        }
      ],
      "source": [
        "model = tf.keras.Sequential()\n",
        "model.add(quantize_annotate_layer(layers.Embedding(input_dim=1000, output_dim=64, input_shape=(32,))))\n",
        "model.add(layers.Flatten())\n",
        "\n",
        "model.add(layers.Dense(64, activation=\"tanh\"))\n",
        "model.add(layers.Dense(64,activation=\"tanh\"))\n",
        "model.add(layers.Dense(32,activation=\"tanh\"))\n",
        "\n",
        "model.add(layers.Dense(1, activation=\"sigmoid\"))\n",
        "\n",
        "model.compile(\n",
        "    loss = \"binary_crossentropy\",\n",
        "    optimizer = \"RMSprop\",\n",
        "    metrics = [\"accuracy\"]\n",
        ")\n",
        "\n",
        "model.summary()"
      ]
    },
    {
      "cell_type": "code",
      "execution_count": null,
      "metadata": {
        "colab": {
          "base_uri": "https://localhost:8080/"
        },
        "id": "cIVN3cMpd8o1",
        "outputId": "2737f656-c076-4d62-95a1-2901971d9ef1"
      },
      "outputs": [
        {
          "output_type": "stream",
          "name": "stdout",
          "text": [
            "Epoch 1/5\n",
            "1984/1984 [==============================] - 9s 4ms/step - loss: 0.0487 - accuracy: 0.9779 - val_loss: 0.0139 - val_accuracy: 0.9977\n",
            "Epoch 2/5\n",
            "1984/1984 [==============================] - 8s 4ms/step - loss: 0.0183 - accuracy: 0.9937 - val_loss: 0.0116 - val_accuracy: 0.9972\n",
            "Epoch 3/5\n",
            "1984/1984 [==============================] - 9s 4ms/step - loss: 0.0186 - accuracy: 0.9941 - val_loss: 0.0203 - val_accuracy: 0.9955\n",
            "Epoch 4/5\n",
            "1984/1984 [==============================] - 9s 4ms/step - loss: 0.0198 - accuracy: 0.9950 - val_loss: 0.0171 - val_accuracy: 0.9972\n",
            "Epoch 5/5\n",
            "1984/1984 [==============================] - 9s 4ms/step - loss: 0.0175 - accuracy: 0.9945 - val_loss: 0.0070 - val_accuracy: 0.9977\n"
          ]
        },
        {
          "output_type": "execute_result",
          "data": {
            "text/plain": [
              "<keras.callbacks.History at 0x7fdabcbe0310>"
            ]
          },
          "metadata": {},
          "execution_count": 52
        }
      ],
      "source": [
        "model.fit(train,\n",
        "          validation_data=val,\n",
        "          epochs=5)"
      ]
    },
    {
      "cell_type": "markdown",
      "metadata": {
        "id": "6yALay2SAhyT"
      },
      "source": [
        "## Predict"
      ]
    },
    {
      "cell_type": "markdown",
      "metadata": {
        "id": "vCj-DdatASab"
      },
      "source": [
        "## Greater than 0.5 mean Indonesian language, less than 0.5 mean English language."
      ]
    },
    {
      "cell_type": "code",
      "execution_count": null,
      "metadata": {
        "colab": {
          "base_uri": "https://localhost:8080/"
        },
        "id": "LDitEPUqd8vH",
        "outputId": "5fdb776a-9bca-4679-ae27-efc0e96de219"
      },
      "outputs": [
        {
          "output_type": "execute_result",
          "data": {
            "text/plain": [
              "array([[4.8646567e-09],\n",
              "       [5.0633657e-09],\n",
              "       [1.0000000e+00]], dtype=float32)"
            ]
          },
          "metadata": {},
          "execution_count": 53
        }
      ],
      "source": [
        "teks = tf.constant([\"i love you\",\n",
        "               \"When using this layer as the first layer in a model, provide an input_shape argument (tuple of integers or None, e.g. (10, 128) for sequences of 10 vectors of 128-dimensional vectors, or (None, 128) for variable-length sequences of 128-dimensional vectors.\",\n",
        "               \"Indonesia, dengan nama resmi Republik Indonesia atau lengkapnya Negara Kesatuan Republik Indonesia, adalah sebuah negara kepulauan di Asia Tenggara yang dilintasi garis khatulistiwa dan berada di antara daratan benua Asia dan Oseania, serta antara Samudra Pasifik dan Samudra Hindia\"])\n",
        "\n",
        "\n",
        "model.predict(vectorize(teks))"
      ]
    },
    {
      "cell_type": "markdown",
      "metadata": {
        "id": "BncRee9XAoSk"
      },
      "source": [
        "## Save model into tensorflow format"
      ]
    },
    {
      "cell_type": "code",
      "execution_count": null,
      "metadata": {
        "colab": {
          "base_uri": "https://localhost:8080/"
        },
        "id": "KvPL_34dnPZq",
        "outputId": "6d9f47a2-5a0d-4bc8-d250-be14be3d74a9"
      },
      "outputs": [
        {
          "output_type": "stream",
          "name": "stderr",
          "text": [
            "WARNING:absl:Found untraced functions such as embedding_4_layer_call_fn, embedding_4_layer_call_and_return_conditional_losses while saving (showing 2 of 2). These functions will not be directly callable after loading.\n"
          ]
        },
        {
          "output_type": "stream",
          "name": "stdout",
          "text": [
            "INFO:tensorflow:Assets written to: model/assets\n"
          ]
        },
        {
          "output_type": "stream",
          "name": "stderr",
          "text": [
            "INFO:tensorflow:Assets written to: model/assets\n"
          ]
        }
      ],
      "source": [
        "model.save(\"model\")"
      ]
    },
    {
      "cell_type": "markdown",
      "metadata": {
        "id": "1Z0KT_XfAv64"
      },
      "source": [
        "## Convert tensorflow model to tflite"
      ]
    },
    {
      "cell_type": "code",
      "execution_count": 7,
      "metadata": {
        "colab": {
          "base_uri": "https://localhost:8080/"
        },
        "id": "NXQ4CXpznRKE",
        "outputId": "9890aeee-dbc6-42ba-f1d4-6fd2e52feece"
      },
      "outputs": [
        {
          "output_type": "stream",
          "name": "stderr",
          "text": [
            "WARNING:absl:Buffer deduplication procedure will be skipped when flatbuffer library is not properly loaded\n"
          ]
        }
      ],
      "source": [
        "converter = tf.lite.TFLiteConverter.from_saved_model(\"model\")\n",
        "converter.optimizations = [tf.lite.Optimize.DEFAULT]\n",
        "tflite_model = converter.convert()\n",
        "\n",
        "with open(\"model/model.tflite\",\"wb\") as f:\n",
        "    f.write(tflite_model)"
      ]
    },
    {
      "cell_type": "markdown",
      "source": [
        "##Parse tokenizer into json"
      ],
      "metadata": {
        "id": "EsbKZUdZV2r8"
      }
    },
    {
      "cell_type": "code",
      "source": [
        "import json\n",
        "\n",
        "word_index = {}\n",
        "# index_word = {}\n",
        "\n",
        "for i,j in enumerate(vectorize.get_vocabulary()):\n",
        "  word_index[j] = i\n",
        "  # index_word[i] = j\n",
        "\n",
        "with open(\"word_index.json\",\"w\") as f:\n",
        "  json.dump(word_index,f,indent=4)\n",
        "\n",
        "# with open(\"index_word.json\",\"w\") as f:\n",
        "#   json.dump(word_index,f,indent=4)"
      ],
      "metadata": {
        "id": "tnNlA2rjVyfU"
      },
      "execution_count": null,
      "outputs": []
    },
    {
      "cell_type": "markdown",
      "source": [
        "##Predict Using tflite and keras tokenizer"
      ],
      "metadata": {
        "id": "WDNTI1sVUvPE"
      }
    },
    {
      "cell_type": "code",
      "execution_count": 111,
      "metadata": {
        "id": "fiO_Fa3qB3FO"
      },
      "outputs": [],
      "source": [
        "teks = tf.constant([\"i love you\",\n",
        "               \"When using this layer as the first layer in a model, provide an input_shape argument (tuple of integers or None, e.g. (10, 128) for sequences of 10 vectors of 128-dimensional vectors, or (None, 128) for variable-length sequences of 128-dimensional vectors.\",\n",
        "               \"Indonesia, dengan nama resmi Republik Indonesia atau lengkapnya Negara Kesatuan Republik Indonesia, adalah sebuah negara kepulauan di Asia Tenggara yang dilintasi garis khatulistiwa dan berada di antara daratan benua Asia dan Oseania, serta antara Samudra Pasifik dan Samudra Hindia\",\n",
        "               \"hi kami dari red team\",\n",
        "               \"hi we're from red team\",\n",
        "               \"mantab pak eko\",\n",
        "               \"lu cakep juga yak\"])\n"
      ]
    },
    {
      "cell_type": "code",
      "execution_count": 103,
      "metadata": {
        "colab": {
          "base_uri": "https://localhost:8080/"
        },
        "id": "hwHm4rP5noOe",
        "outputId": "84d0dc6f-a35a-437f-cd96-8816cb15e8d7"
      },
      "outputs": [
        {
          "output_type": "stream",
          "name": "stdout",
          "text": [
            "tf.Tensor(b'i love you', shape=(), dtype=string)\n",
            "[[4.86385e-09]]\n",
            "tf.Tensor(b'When using this layer as the first layer in a model, provide an input_shape argument (tuple of integers or None, e.g. (10, 128) for sequences of 10 vectors of 128-dimensional vectors, or (None, 128) for variable-length sequences of 128-dimensional vectors.', shape=(), dtype=string)\n",
            "[[5.0901594e-09]]\n",
            "tf.Tensor(b'Indonesia, dengan nama resmi Republik Indonesia atau lengkapnya Negara Kesatuan Republik Indonesia, adalah sebuah negara kepulauan di Asia Tenggara yang dilintasi garis khatulistiwa dan berada di antara daratan benua Asia dan Oseania, serta antara Samudra Pasifik dan Samudra Hindia', shape=(), dtype=string)\n",
            "[[1.]]\n",
            "tf.Tensor(b'hi kami dari red team', shape=(), dtype=string)\n",
            "[[1.]]\n",
            "tf.Tensor(b\"hi we're from red team\", shape=(), dtype=string)\n",
            "[[4.921822e-09]]\n",
            "tf.Tensor(b'mantab pak eko', shape=(), dtype=string)\n",
            "[[1.10458146e-07]]\n",
            "tf.Tensor(b'lu cakep juga yak', shape=(), dtype=string)\n",
            "[[0.99999994]]\n"
          ]
        }
      ],
      "source": [
        "interpreter = tf.lite.Interpreter(model_path=\"model/model.tflite\")\n",
        "interpreter.allocate_tensors()\n",
        "\n",
        "input_details = interpreter.get_input_details()\n",
        "output_details = interpreter.get_output_details()\n",
        "\n",
        "\n",
        "# must have 2 dimension and float32 dtype\n",
        "for i in range(len(teks)):\n",
        "  input_data = np.array([vectorize(teks[i])], dtype=np.float32)\n",
        "\n",
        "  interpreter.set_tensor(input_details[0]['index'], input_data)\n",
        "  interpreter.invoke()\n",
        "\n",
        "  predictions = interpreter.get_tensor(output_details[0]['index'])\n",
        "\n",
        "  print(teks[i])\n",
        "  print(predictions)"
      ]
    },
    {
      "cell_type": "markdown",
      "source": [
        "##Predict with tflite and json instead of tokenizer"
      ],
      "metadata": {
        "id": "T8iRdS73U6Ko"
      }
    },
    {
      "cell_type": "code",
      "source": [
        "import json\n",
        "\n",
        "with open(\"model/word_index.json\") as f:\n",
        "  kamus = json.load(f)"
      ],
      "metadata": {
        "id": "xQCGu2G9A8IL"
      },
      "execution_count": 39,
      "outputs": []
    },
    {
      "cell_type": "code",
      "source": [
        "def tf_lower_and_split_punct(text):\n",
        "  text = tf.strings.lower(text)\n",
        "  text = tf.strings.regex_replace(text, \"[!\\\"#$%&'()*+,-./:;<=>?@[\\]^_`{|}~]\", '')\n",
        "\n",
        "  text = tf.strings.strip(text)\n",
        "  text = tf.strings.split(text)\n",
        "  return text\n",
        "\n",
        "def sequenize(teks):\n",
        "  hasil = list()\n",
        "  counter = 32\n",
        "  for i in teks:\n",
        "    if i.numpy().decode() in kamus.keys():\n",
        "      hasil.append(kamus[i.numpy().decode()])\n",
        "      counter -= 1\n",
        "      if counter == 0:\n",
        "        return np.array([hasil], dtype=np.float32)\n",
        "    else:\n",
        "      hasil.append(1)\n",
        "      counter -= 1\n",
        "      if counter == 0:\n",
        "        return np.array([hasil], dtype=np.float32)\n",
        "\n",
        "  for i in range(counter):\n",
        "    hasil.append(0)\n",
        "\n",
        "  return tf.constant([hasil])"
      ],
      "metadata": {
        "id": "-P5PlMjCH7-O"
      },
      "execution_count": 123,
      "outputs": []
    },
    {
      "cell_type": "code",
      "source": [
        "test_uwu = \"saya su'ka kamu, uwu!!!!\"\n",
        "tf_lower_and_split_punct(test_uwu).numpy(), len(tf_lower_and_split_punct(test_uwu))"
      ],
      "metadata": {
        "colab": {
          "base_uri": "https://localhost:8080/"
        },
        "id": "dYNDERsOIpFq",
        "outputId": "70733e2e-f10f-44e3-dd21-263bba14a851"
      },
      "execution_count": 82,
      "outputs": [
        {
          "output_type": "execute_result",
          "data": {
            "text/plain": [
              "(array([b'saya', b'suka', b'kamu', b'uwu'], dtype=object), 4)"
            ]
          },
          "metadata": {},
          "execution_count": 82
        }
      ]
    },
    {
      "cell_type": "code",
      "source": [
        "uwu = sequenize(tf_lower_and_split_punct(test_uwu))\n",
        "uwu"
      ],
      "metadata": {
        "colab": {
          "base_uri": "https://localhost:8080/"
        },
        "id": "ku6aeZ2YKWqs",
        "outputId": "4e68fd88-a3aa-42c1-8ec3-3296a9d87de1"
      },
      "execution_count": 118,
      "outputs": [
        {
          "output_type": "execute_result",
          "data": {
            "text/plain": [
              "<tf.Tensor: shape=(1, 32), dtype=int32, numpy=\n",
              "array([[16, 84, 12,  1,  0,  0,  0,  0,  0,  0,  0,  0,  0,  0,  0,  0,\n",
              "         0,  0,  0,  0,  0,  0,  0,  0,  0,  0,  0,  0,  0,  0,  0,  0]],\n",
              "      dtype=int32)>"
            ]
          },
          "metadata": {},
          "execution_count": 118
        }
      ]
    },
    {
      "cell_type": "code",
      "source": [
        "np.array([vectorize(teks[0])], dtype=np.float32)"
      ],
      "metadata": {
        "colab": {
          "base_uri": "https://localhost:8080/"
        },
        "id": "pb4Qzf74Rp4R",
        "outputId": "aff3aabd-40fd-4683-8659-f7f1396d6183"
      },
      "execution_count": 119,
      "outputs": [
        {
          "output_type": "execute_result",
          "data": {
            "text/plain": [
              "array([[  4., 326.,   3.,   0.,   0.,   0.,   0.,   0.,   0.,   0.,   0.,\n",
              "          0.,   0.,   0.,   0.,   0.,   0.,   0.,   0.,   0.,   0.,   0.,\n",
              "          0.,   0.,   0.,   0.,   0.,   0.,   0.,   0.,   0.,   0.]],\n",
              "      dtype=float32)"
            ]
          },
          "metadata": {},
          "execution_count": 119
        }
      ]
    },
    {
      "cell_type": "code",
      "source": [
        "interpreter = tf.lite.Interpreter(model_path=\"model.tflite\")\n",
        "interpreter.allocate_tensors()\n",
        "\n",
        "input_details = interpreter.get_input_details()\n",
        "output_details = interpreter.get_output_details()\n",
        "\n",
        "\n",
        "# must have 2 dimension and float32 dtype\n",
        "for i in teks:\n",
        "  input_data = np.array(sequenize(tf_lower_and_split_punct(i)), dtype=np.float32)\n",
        "  interpreter.set_tensor(input_details[0]['index'], input_data)\n",
        "  interpreter.invoke()\n",
        "\n",
        "  predictions = interpreter.get_tensor(output_details[0]['index'])\n",
        "\n",
        "  print(i.numpy().decode())\n",
        "  print(predictions)"
      ],
      "metadata": {
        "colab": {
          "base_uri": "https://localhost:8080/"
        },
        "id": "QCNN5jrDRLvW",
        "outputId": "d2bc85ac-bbfe-4cf5-8b90-b13e31c8e3ce"
      },
      "execution_count": 122,
      "outputs": [
        {
          "output_type": "stream",
          "name": "stdout",
          "text": [
            "i love you\n",
            "[[4.86385e-09]]\n",
            "When using this layer as the first layer in a model, provide an input_shape argument (tuple of integers or None, e.g. (10, 128) for sequences of 10 vectors of 128-dimensional vectors, or (None, 128) for variable-length sequences of 128-dimensional vectors.\n",
            "[[5.0743685e-09]]\n",
            "Indonesia, dengan nama resmi Republik Indonesia atau lengkapnya Negara Kesatuan Republik Indonesia, adalah sebuah negara kepulauan di Asia Tenggara yang dilintasi garis khatulistiwa dan berada di antara daratan benua Asia dan Oseania, serta antara Samudra Pasifik dan Samudra Hindia\n",
            "[[1.]]\n",
            "hi kami dari red team\n",
            "[[1.]]\n",
            "hi we're from red team\n",
            "[[4.9175903e-09]]\n",
            "mantab pak eko\n",
            "[[0.10529777]]\n",
            "lu cakep juga yak\n",
            "[[0.99999994]]\n"
          ]
        }
      ]
    },
    {
      "cell_type": "markdown",
      "source": [
        "##Download All file needed to do inference in kotlin"
      ],
      "metadata": {
        "id": "L9_gt4E1WpXj"
      }
    },
    {
      "cell_type": "code",
      "source": [
        "!zip -r /content/file.zip model"
      ],
      "metadata": {
        "colab": {
          "base_uri": "https://localhost:8080/"
        },
        "id": "0n1ldYk88GR_",
        "outputId": "ece82e3a-6aa5-4fad-c2dd-0be7a1b662fd"
      },
      "execution_count": 125,
      "outputs": [
        {
          "output_type": "stream",
          "name": "stdout",
          "text": [
            "updating: model/ (stored 0%)\n",
            "updating: model/saved_model.pb (deflated 89%)\n",
            "updating: model/assets/ (stored 0%)\n",
            "updating: model/variables/ (stored 0%)\n",
            "updating: model/variables/variables.data-00000-of-00001 (deflated 33%)\n",
            "updating: model/variables/variables.index (deflated 64%)\n",
            "updating: model/keras_metadata.pb (deflated 90%)\n",
            "  adding: model/word_index.json (deflated 69%)\n",
            "  adding: model/model.tflite (deflated 21%)\n"
          ]
        }
      ]
    },
    {
      "cell_type": "code",
      "source": [
        "from google.colab import files\n",
        "files.download(\"/content/file.zip\")"
      ],
      "metadata": {
        "colab": {
          "base_uri": "https://localhost:8080/",
          "height": 17
        },
        "id": "Z6cM44mk8QfM",
        "outputId": "74948039-1a97-4d0e-bc00-ccfbf3f20b7f"
      },
      "execution_count": 126,
      "outputs": [
        {
          "output_type": "display_data",
          "data": {
            "text/plain": [
              "<IPython.core.display.Javascript object>"
            ],
            "application/javascript": [
              "\n",
              "    async function download(id, filename, size) {\n",
              "      if (!google.colab.kernel.accessAllowed) {\n",
              "        return;\n",
              "      }\n",
              "      const div = document.createElement('div');\n",
              "      const label = document.createElement('label');\n",
              "      label.textContent = `Downloading \"${filename}\": `;\n",
              "      div.appendChild(label);\n",
              "      const progress = document.createElement('progress');\n",
              "      progress.max = size;\n",
              "      div.appendChild(progress);\n",
              "      document.body.appendChild(div);\n",
              "\n",
              "      const buffers = [];\n",
              "      let downloaded = 0;\n",
              "\n",
              "      const channel = await google.colab.kernel.comms.open(id);\n",
              "      // Send a message to notify the kernel that we're ready.\n",
              "      channel.send({})\n",
              "\n",
              "      for await (const message of channel.messages) {\n",
              "        // Send a message to notify the kernel that we're ready.\n",
              "        channel.send({})\n",
              "        if (message.buffers) {\n",
              "          for (const buffer of message.buffers) {\n",
              "            buffers.push(buffer);\n",
              "            downloaded += buffer.byteLength;\n",
              "            progress.value = downloaded;\n",
              "          }\n",
              "        }\n",
              "      }\n",
              "      const blob = new Blob(buffers, {type: 'application/binary'});\n",
              "      const a = document.createElement('a');\n",
              "      a.href = window.URL.createObjectURL(blob);\n",
              "      a.download = filename;\n",
              "      div.appendChild(a);\n",
              "      a.click();\n",
              "      div.remove();\n",
              "    }\n",
              "  "
            ]
          },
          "metadata": {}
        },
        {
          "output_type": "display_data",
          "data": {
            "text/plain": [
              "<IPython.core.display.Javascript object>"
            ],
            "application/javascript": [
              "download(\"download_1ec38d11-54bf-48fe-8409-3e16c5b85fb7\", \"file.zip\", 1329712)"
            ]
          },
          "metadata": {}
        }
      ]
    },
    {
      "cell_type": "markdown",
      "source": [
        "## Vanny Ezhaan Nur Sandika"
      ],
      "metadata": {
        "id": "AsgCbNGpW4kd"
      }
    }
  ],
  "metadata": {
    "accelerator": "GPU",
    "colab": {
      "collapsed_sections": [],
      "name": "main.ipynb",
      "provenance": []
    },
    "kernelspec": {
      "display_name": "Python 3",
      "name": "python3"
    },
    "language_info": {
      "name": "python"
    }
  },
  "nbformat": 4,
  "nbformat_minor": 0
}