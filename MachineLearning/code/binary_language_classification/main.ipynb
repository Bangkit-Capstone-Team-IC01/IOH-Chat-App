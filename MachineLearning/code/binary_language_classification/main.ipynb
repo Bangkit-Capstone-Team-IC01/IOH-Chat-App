{
  "cells": [
    {
      "cell_type": "code",
      "execution_count": null,
      "metadata": {
        "colab": {
          "base_uri": "https://localhost:8080/"
        },
        "id": "HRho2lb2HZNt",
        "outputId": "2b608bd5-f5ee-40f2-a0b0-3a8301ae8aaf"
      },
      "outputs": [],
      "source": [
        "!pip install -q tensorflow-model-optimization"
      ]
    },
    {
      "cell_type": "code",
      "execution_count": null,
      "metadata": {
        "id": "czECAYDcdLe4"
      },
      "outputs": [],
      "source": [
        "import tensorflow as tf\n",
        "from tensorflow.keras import layers\n",
        "import numpy as np\n",
        "import csv\n",
        "from tensorflow.keras.layers import TextVectorization\n",
        "import tensorflow_model_optimization as tfmot"
      ]
    },
    {
      "cell_type": "code",
      "execution_count": null,
      "metadata": {
        "id": "FGG5_R6vdOg0"
      },
      "outputs": [],
      "source": [
        "with open(\"eng-ind.csv\") as f:\n",
        "    csvreader = csv.reader(f, delimiter=\",\")\n",
        "    next(csvreader)\n",
        "    eng_ind, label = list(),list()\n",
        "    for i in csvreader:\n",
        "        eng_ind.append(i[0])\n",
        "        label.append(0)\n",
        "        eng_ind.append(i[1])\n",
        "        label.append(1)\n",
        "        \n",
        "vectorize = TextVectorization(output_sequence_length=32)\n",
        "vectorize.adapt(tf.data.Dataset.from_tensor_slices(eng_ind))\n"
      ]
    },
    {
      "cell_type": "code",
      "execution_count": null,
      "metadata": {
        "id": "dWq8RCuX4jK4"
      },
      "outputs": [],
      "source": [
        "datas = list()\n",
        "for i in eng_ind:\n",
        "  datas.append(vectorize(i))"
      ]
    },
    {
      "cell_type": "code",
      "execution_count": null,
      "metadata": {
        "id": "QI-8h14idVGq"
      },
      "outputs": [],
      "source": [
        "dataset = tf.data.Dataset.from_tensor_slices((datas,label)).batch(8)"
      ]
    },
    {
      "cell_type": "code",
      "execution_count": null,
      "metadata": {
        "id": "apoc5BQze1fH"
      },
      "outputs": [],
      "source": [
        "train = dataset.take(int(0.9*len(dataset)))\n",
        "val = dataset.skip(int(0.9*len(dataset)))"
      ]
    },
    {
      "cell_type": "code",
      "execution_count": null,
      "metadata": {
        "colab": {
          "base_uri": "https://localhost:8080/"
        },
        "id": "ZeP5xgNRtlzI",
        "outputId": "aa3128fe-5c91-4b72-a724-e3016d0c4e93"
      },
      "outputs": [],
      "source": [
        "len(vectorize.get_vocabulary())"
      ]
    },
    {
      "cell_type": "code",
      "execution_count": null,
      "metadata": {
        "id": "T6Zt6FGi5qI0"
      },
      "outputs": [],
      "source": [
        "quantize_annotate_layer = tfmot.quantization.keras.quantize_annotate_layer"
      ]
    },
    {
      "cell_type": "code",
      "execution_count": null,
      "metadata": {
        "colab": {
          "base_uri": "https://localhost:8080/"
        },
        "id": "1maiq96gdYLi",
        "outputId": "f8e99515-9b4b-4b57-fe6d-05e33c8b1279"
      },
      "outputs": [],
      "source": [
        "model = tf.keras.Sequential()\n",
        "model.add(quantize_annotate_layer(layers.Embedding(input_dim=1000, output_dim=64, input_shape=(32,))))\n",
        "model.add(layers.Flatten())\n",
        "\n",
        "model.add(layers.Dense(64, activation=\"tanh\"))\n",
        "model.add(layers.Dense(64,activation=\"tanh\"))\n",
        "model.add(layers.Dense(32,activation=\"tanh\"))\n",
        "\n",
        "model.add(layers.Dense(1, activation=\"sigmoid\"))\n",
        "\n",
        "model.compile(\n",
        "    loss = \"binary_crossentropy\",\n",
        "    optimizer = \"RMSprop\",\n",
        "    metrics = [\"accuracy\"]\n",
        ")\n",
        "\n",
        "model.summary()"
      ]
    },
    {
      "cell_type": "code",
      "execution_count": null,
      "metadata": {
        "colab": {
          "base_uri": "https://localhost:8080/"
        },
        "id": "cIVN3cMpd8o1",
        "outputId": "2737f656-c076-4d62-95a1-2901971d9ef1"
      },
      "outputs": [],
      "source": [
        "model.fit(train,\n",
        "          validation_data=val,\n",
        "          epochs=5)"
      ]
    },
    {
      "cell_type": "markdown",
      "metadata": {
        "id": "6yALay2SAhyT"
      },
      "source": [
        "## Predict"
      ]
    },
    {
      "cell_type": "markdown",
      "metadata": {
        "id": "vCj-DdatASab"
      },
      "source": [
        "## Greater than 0.5 mean Indonesian language, less than 0.5 mean English language."
      ]
    },
    {
      "cell_type": "code",
      "execution_count": null,
      "metadata": {
        "colab": {
          "base_uri": "https://localhost:8080/"
        },
        "id": "LDitEPUqd8vH",
        "outputId": "5fdb776a-9bca-4679-ae27-efc0e96de219"
      },
      "outputs": [],
      "source": [
        "teks = tf.constant([\"i love you\",\n",
        "               \"When using this layer as the first layer in a model, provide an input_shape argument (tuple of integers or None, e.g. (10, 128) for sequences of 10 vectors of 128-dimensional vectors, or (None, 128) for variable-length sequences of 128-dimensional vectors.\",\n",
        "               \"Indonesia, dengan nama resmi Republik Indonesia atau lengkapnya Negara Kesatuan Republik Indonesia, adalah sebuah negara kepulauan di Asia Tenggara yang dilintasi garis khatulistiwa dan berada di antara daratan benua Asia dan Oseania, serta antara Samudra Pasifik dan Samudra Hindia\"])\n",
        "\n",
        "\n",
        "model.predict(vectorize(teks))"
      ]
    },
    {
      "cell_type": "markdown",
      "metadata": {
        "id": "BncRee9XAoSk"
      },
      "source": [
        "## Save model into tensorflow format"
      ]
    },
    {
      "cell_type": "code",
      "execution_count": null,
      "metadata": {
        "colab": {
          "base_uri": "https://localhost:8080/"
        },
        "id": "KvPL_34dnPZq",
        "outputId": "6d9f47a2-5a0d-4bc8-d250-be14be3d74a9"
      },
      "outputs": [],
      "source": [
        "model.save(\"model\")"
      ]
    },
    {
      "cell_type": "markdown",
      "metadata": {
        "id": "1Z0KT_XfAv64"
      },
      "source": [
        "## Convert tensorflow model to tflite"
      ]
    },
    {
      "cell_type": "code",
      "execution_count": null,
      "metadata": {
        "colab": {
          "base_uri": "https://localhost:8080/"
        },
        "id": "NXQ4CXpznRKE",
        "outputId": "9890aeee-dbc6-42ba-f1d4-6fd2e52feece"
      },
      "outputs": [],
      "source": [
        "converter = tf.lite.TFLiteConverter.from_saved_model(\"model\")\n",
        "converter.optimizations = [tf.lite.Optimize.DEFAULT]\n",
        "tflite_model = converter.convert()\n",
        "\n",
        "with open(\"model/model.tflite\",\"wb\") as f:\n",
        "    f.write(tflite_model)"
      ]
    },
    {
      "cell_type": "markdown",
      "metadata": {
        "id": "EsbKZUdZV2r8"
      },
      "source": [
        "##Parse tokenizer into json"
      ]
    },
    {
      "cell_type": "code",
      "execution_count": null,
      "metadata": {
        "id": "tnNlA2rjVyfU"
      },
      "outputs": [],
      "source": [
        "import json\n",
        "\n",
        "word_index = {}\n",
        "# index_word = {}\n",
        "\n",
        "for i,j in enumerate(vectorize.get_vocabulary()):\n",
        "  word_index[j] = i\n",
        "  # index_word[i] = j\n",
        "\n",
        "with open(\"model/word_index.json\",\"w\") as f:\n",
        "  json.dump(word_index,f,indent=4)\n",
        "\n",
        "# with open(\"index_word.json\",\"w\") as f:\n",
        "#   json.dump(word_index,f,indent=4)"
      ]
    },
    {
      "cell_type": "markdown",
      "metadata": {
        "id": "WDNTI1sVUvPE"
      },
      "source": [
        "##Predict Using tflite and keras tokenizer"
      ]
    },
    {
      "cell_type": "code",
      "execution_count": null,
      "metadata": {
        "id": "fiO_Fa3qB3FO"
      },
      "outputs": [],
      "source": [
        "teks = tf.constant([\"i love you\",\n",
        "               \"When using this layer as the first layer in a model, provide an input_shape argument (tuple of integers or None, e.g. (10, 128) for sequences of 10 vectors of 128-dimensional vectors, or (None, 128) for variable-length sequences of 128-dimensional vectors.\",\n",
        "               \"Indonesia, dengan nama resmi Republik Indonesia atau lengkapnya Negara Kesatuan Republik Indonesia, adalah sebuah negara kepulauan di Asia Tenggara yang dilintasi garis khatulistiwa dan berada di antara daratan benua Asia dan Oseania, serta antara Samudra Pasifik dan Samudra Hindia\",\n",
        "               \"hi kami dari red team\",\n",
        "               \"hi we're from red team\",\n",
        "               \"mantab pak eko\",\n",
        "               \"lu cakep juga yak\"])\n"
      ]
    },
    {
      "cell_type": "code",
      "execution_count": null,
      "metadata": {
        "colab": {
          "base_uri": "https://localhost:8080/"
        },
        "id": "hwHm4rP5noOe",
        "outputId": "84d0dc6f-a35a-437f-cd96-8816cb15e8d7"
      },
      "outputs": [],
      "source": [
        "interpreter = tf.lite.Interpreter(model_path=\"model/model.tflite\")\n",
        "interpreter.allocate_tensors()\n",
        "\n",
        "input_details = interpreter.get_input_details()\n",
        "output_details = interpreter.get_output_details()\n",
        "\n",
        "\n",
        "# must have 2 dimension and float32 dtype\n",
        "for i in range(len(teks)):\n",
        "  input_data = np.array([vectorize(teks[i])], dtype=np.float32)\n",
        "\n",
        "  interpreter.set_tensor(input_details[0]['index'], input_data)\n",
        "  interpreter.invoke()\n",
        "\n",
        "  predictions = interpreter.get_tensor(output_details[0]['index'])\n",
        "\n",
        "  print(teks[i])\n",
        "  print(predictions)"
      ]
    },
    {
      "cell_type": "markdown",
      "metadata": {
        "id": "T8iRdS73U6Ko"
      },
      "source": [
        "##Predict with tflite and json instead of tokenizer"
      ]
    },
    {
      "cell_type": "code",
      "execution_count": null,
      "metadata": {
        "id": "xQCGu2G9A8IL"
      },
      "outputs": [],
      "source": [
        "import json\n",
        "\n",
        "with open(\"model/word_index.json\") as f:\n",
        "  kamus = json.load(f)"
      ]
    },
    {
      "cell_type": "code",
      "execution_count": null,
      "metadata": {
        "id": "-P5PlMjCH7-O"
      },
      "outputs": [],
      "source": [
        "def tf_lower_and_split_punct(text):\n",
        "  text = tf.strings.lower(text)\n",
        "  text = tf.strings.regex_replace(text, \"[!\\\"#$%&'()*+,-./:;<=>?@[\\]^_`{|}~]\", '')\n",
        "\n",
        "  text = tf.strings.strip(text)\n",
        "  text = tf.strings.split(text)\n",
        "  return text\n",
        "\n",
        "\n",
        "def sequenize(teks):\n",
        "  hasil = list()\n",
        "  counter = 32\n",
        "  for i in teks:\n",
        "    if i.numpy().decode() in kamus.keys():\n",
        "      hasil.append(kamus[i.numpy().decode()])\n",
        "      counter -= 1\n",
        "      if counter == 0:\n",
        "        return tf.constant([hasil],dtype=tf.float32)\n",
        "    else:\n",
        "      hasil.append(1)\n",
        "      counter -= 1\n",
        "      if counter == 0:\n",
        "        return tf.constant([hasil],dtype=tf.float32)\n",
        "\n",
        "  for i in range(counter):\n",
        "    hasil.append(0)\n",
        "\n",
        "  return tf.constant([hasil],dtype=tf.float32)"
      ]
    },
    {
      "cell_type": "code",
      "execution_count": null,
      "metadata": {
        "colab": {
          "base_uri": "https://localhost:8080/"
        },
        "id": "dYNDERsOIpFq",
        "outputId": "70733e2e-f10f-44e3-dd21-263bba14a851"
      },
      "outputs": [],
      "source": [
        "test_uwu = \"saya su'ka kamu, uwu!!!!\"\n",
        "tf_lower_and_split_punct(test_uwu).numpy(), len(tf_lower_and_split_punct(test_uwu))"
      ]
    },
    {
      "cell_type": "code",
      "execution_count": null,
      "metadata": {
        "colab": {
          "base_uri": "https://localhost:8080/"
        },
        "id": "ku6aeZ2YKWqs",
        "outputId": "4e68fd88-a3aa-42c1-8ec3-3296a9d87de1"
      },
      "outputs": [],
      "source": [
        "uwu = sequenize(a)\n",
        "uwu.numpy()"
      ]
    },
    {
      "cell_type": "code",
      "execution_count": null,
      "metadata": {
        "colab": {
          "base_uri": "https://localhost:8080/"
        },
        "id": "pb4Qzf74Rp4R",
        "outputId": "aff3aabd-40fd-4683-8659-f7f1396d6183"
      },
      "outputs": [],
      "source": [
        "np.array([vectorize(teks[0])], dtype=np.float32)"
      ]
    },
    {
      "cell_type": "code",
      "execution_count": null,
      "metadata": {
        "colab": {
          "base_uri": "https://localhost:8080/"
        },
        "id": "QCNN5jrDRLvW",
        "outputId": "d2bc85ac-bbfe-4cf5-8b90-b13e31c8e3ce"
      },
      "outputs": [],
      "source": [
        "interpreter = tf.lite.Interpreter(model_path=\"model/model.tflite\")\n",
        "interpreter.allocate_tensors()\n",
        "\n",
        "input_details = interpreter.get_input_details()\n",
        "output_details = interpreter.get_output_details()\n",
        "\n",
        "\n",
        "# must have 2 dimension and float32 dtype\n",
        "for i in teks:\n",
        "  input_data = sequenize(tf_lower_and_split_punct(i)).numpy()\n",
        "  interpreter.set_tensor(input_details[0]['index'], input_data)\n",
        "  interpreter.invoke()\n",
        "\n",
        "  predictions = interpreter.get_tensor(output_details[0]['index'])\n",
        "\n",
        "  print(i.numpy().decode())\n",
        "  print(predictions)"
      ]
    },
    {
      "cell_type": "markdown",
      "metadata": {
        "id": "L9_gt4E1WpXj"
      },
      "source": [
        "##Download All file needed to do inference in kotlin"
      ]
    },
    {
      "cell_type": "code",
      "execution_count": null,
      "metadata": {
        "colab": {
          "base_uri": "https://localhost:8080/"
        },
        "id": "0n1ldYk88GR_",
        "outputId": "ece82e3a-6aa5-4fad-c2dd-0be7a1b662fd"
      },
      "outputs": [],
      "source": [
        "!zip -r /content/file.zip model"
      ]
    },
    {
      "cell_type": "code",
      "execution_count": null,
      "metadata": {
        "colab": {
          "base_uri": "https://localhost:8080/",
          "height": 17
        },
        "id": "Z6cM44mk8QfM",
        "outputId": "74948039-1a97-4d0e-bc00-ccfbf3f20b7f"
      },
      "outputs": [],
      "source": [
        "from google.colab import files\n",
        "files.download(\"/content/file.zip\")"
      ]
    },
    {
      "cell_type": "markdown",
      "metadata": {
        "id": "AsgCbNGpW4kd"
      },
      "source": [
        "## Vanny Ezhaan Nur Sandika"
      ]
    }
  ],
  "metadata": {
    "accelerator": "GPU",
    "colab": {
      "collapsed_sections": [],
      "name": "main.ipynb",
      "provenance": []
    },
    "interpreter": {
      "hash": "abb9a89533fcec7c1bae0824d885558ba74714a27f3f7366a4a8dd13ec966f69"
    },
    "kernelspec": {
      "display_name": "Python 3.9.12 ('IOH')",
      "language": "python",
      "name": "python3"
    },
    "language_info": {
      "codemirror_mode": {
        "name": "ipython",
        "version": 3
      },
      "file_extension": ".py",
      "mimetype": "text/x-python",
      "name": "python",
      "nbconvert_exporter": "python",
      "pygments_lexer": "ipython3",
      "version": "3.9.12"
    }
  },
  "nbformat": 4,
  "nbformat_minor": 0
}
