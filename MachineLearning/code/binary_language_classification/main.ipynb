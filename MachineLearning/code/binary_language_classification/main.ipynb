{
  "cells": [
    {
      "cell_type": "code",
      "execution_count": 125,
      "metadata": {
        "colab": {
          "base_uri": "https://localhost:8080/"
        },
        "id": "HRho2lb2HZNt",
        "outputId": "105ffbd1-bb36-4b52-dc29-a31ea8e8552d"
      },
      "outputs": [
        {
          "name": "stdout",
          "output_type": "stream",
          "text": [
            "\u001b[?25l\r\u001b[K     |█▍                              | 10 kB 27.8 MB/s eta 0:00:01\r\u001b[K     |██▊                             | 20 kB 32.8 MB/s eta 0:00:01\r\u001b[K     |████▏                           | 30 kB 14.3 MB/s eta 0:00:01\r\u001b[K     |█████▌                          | 40 kB 7.2 MB/s eta 0:00:01\r\u001b[K     |███████                         | 51 kB 7.2 MB/s eta 0:00:01\r\u001b[K     |████████▎                       | 61 kB 8.5 MB/s eta 0:00:01\r\u001b[K     |█████████▋                      | 71 kB 8.9 MB/s eta 0:00:01\r\u001b[K     |███████████                     | 81 kB 8.4 MB/s eta 0:00:01\r\u001b[K     |████████████▍                   | 92 kB 9.2 MB/s eta 0:00:01\r\u001b[K     |█████████████▉                  | 102 kB 7.9 MB/s eta 0:00:01\r\u001b[K     |███████████████▏                | 112 kB 7.9 MB/s eta 0:00:01\r\u001b[K     |████████████████▌               | 122 kB 7.9 MB/s eta 0:00:01\r\u001b[K     |██████████████████              | 133 kB 7.9 MB/s eta 0:00:01\r\u001b[K     |███████████████████▎            | 143 kB 7.9 MB/s eta 0:00:01\r\u001b[K     |████████████████████▊           | 153 kB 7.9 MB/s eta 0:00:01\r\u001b[K     |██████████████████████          | 163 kB 7.9 MB/s eta 0:00:01\r\u001b[K     |███████████████████████▌        | 174 kB 7.9 MB/s eta 0:00:01\r\u001b[K     |████████████████████████▉       | 184 kB 7.9 MB/s eta 0:00:01\r\u001b[K     |██████████████████████████▏     | 194 kB 7.9 MB/s eta 0:00:01\r\u001b[K     |███████████████████████████▋    | 204 kB 7.9 MB/s eta 0:00:01\r\u001b[K     |█████████████████████████████   | 215 kB 7.9 MB/s eta 0:00:01\r\u001b[K     |██████████████████████████████▍ | 225 kB 7.9 MB/s eta 0:00:01\r\u001b[K     |███████████████████████████████▊| 235 kB 7.9 MB/s eta 0:00:01\r\u001b[K     |████████████████████████████████| 237 kB 7.9 MB/s \n",
            "\u001b[?25h"
          ]
        }
      ],
      "source": [
        "!pip install -q tensorflow-model-optimization"
      ]
    },
    {
      "cell_type": "code",
      "execution_count": 132,
      "metadata": {
        "colab": {
          "base_uri": "https://localhost:8080/"
        },
        "id": "UkiNVQn-KNmh",
        "outputId": "976a8a25-f1d2-4117-d26e-b3a5a17560a0"
      },
      "outputs": [
        {
          "name": "stdout",
          "output_type": "stream",
          "text": [
            "Looking in indexes: https://pypi.org/simple, https://us-python.pkg.dev/colab-wheels/public/simple/\n",
            "Collecting tensorflow_addons\n",
            "  Downloading tensorflow_addons-0.17.0-cp37-cp37m-manylinux_2_17_x86_64.manylinux2014_x86_64.whl (1.1 MB)\n",
            "\u001b[K     |████████████████████████████████| 1.1 MB 7.0 MB/s \n",
            "\u001b[?25hRequirement already satisfied: typeguard>=2.7 in /usr/local/lib/python3.7/dist-packages (from tensorflow_addons) (2.7.1)\n",
            "Requirement already satisfied: packaging in /usr/local/lib/python3.7/dist-packages (from tensorflow_addons) (21.3)\n",
            "Requirement already satisfied: pyparsing!=3.0.5,>=2.0.2 in /usr/local/lib/python3.7/dist-packages (from packaging->tensorflow_addons) (3.0.9)\n",
            "Installing collected packages: tensorflow-addons\n",
            "Successfully installed tensorflow-addons-0.17.0\n"
          ]
        }
      ],
      "source": [
        "!pip install tensorflow_addons"
      ]
    },
    {
      "cell_type": "code",
      "execution_count": 134,
      "metadata": {
        "id": "czECAYDcdLe4"
      },
      "outputs": [],
      "source": [
        "import tensorflow as tf\n",
        "from tensorflow.keras import layers\n",
        "import numpy as np\n",
        "import csv\n",
        "from tensorflow.keras.layers import TextVectorization\n",
        "from tensorflow.keras import regularizers\n",
        "import tensorflow_model_optimization as tfmot\n",
        "import tensorflow_addons as tfa"
      ]
    },
    {
      "cell_type": "code",
      "execution_count": 99,
      "metadata": {
        "id": "FGG5_R6vdOg0"
      },
      "outputs": [],
      "source": [
        "with open(\"eng-ind.csv\") as f:\n",
        "    csvreader = csv.reader(f, delimiter=\",\")\n",
        "    next(csvreader)\n",
        "    eng_ind, label = list(),list()\n",
        "    for i in csvreader:\n",
        "        eng_ind.append(i[0])\n",
        "        label.append(0)\n",
        "        eng_ind.append(i[1])\n",
        "        label.append(1)\n",
        "        \n",
        "vectorize = TextVectorization(output_sequence_length=32)\n",
        "vectorize.adapt(tf.data.Dataset.from_tensor_slices(eng_ind))\n"
      ]
    },
    {
      "cell_type": "code",
      "execution_count": 100,
      "metadata": {
        "id": "dWq8RCuX4jK4"
      },
      "outputs": [],
      "source": [
        "datas = list()\n",
        "for i in eng_ind:\n",
        "  datas.append(vectorize(i))"
      ]
    },
    {
      "cell_type": "code",
      "execution_count": 101,
      "metadata": {
        "id": "QI-8h14idVGq"
      },
      "outputs": [],
      "source": [
        "dataset = tf.data.Dataset.from_tensor_slices((datas,label)).batch(8)"
      ]
    },
    {
      "cell_type": "code",
      "execution_count": 102,
      "metadata": {
        "id": "apoc5BQze1fH"
      },
      "outputs": [],
      "source": [
        "train = dataset.take(int(0.9*len(dataset)))\n",
        "val = dataset.skip(int(0.9*len(dataset)))"
      ]
    },
    {
      "cell_type": "code",
      "execution_count": 103,
      "metadata": {
        "colab": {
          "base_uri": "https://localhost:8080/"
        },
        "id": "ZeP5xgNRtlzI",
        "outputId": "c804bd20-3878-40cd-a331-71cf92d967a5"
      },
      "outputs": [
        {
          "data": {
            "text/plain": [
              "8838"
            ]
          },
          "execution_count": 103,
          "metadata": {},
          "output_type": "execute_result"
        }
      ],
      "source": [
        "len(vectorize.get_vocabulary())"
      ]
    },
    {
      "cell_type": "code",
      "execution_count": 141,
      "metadata": {
        "colab": {
          "base_uri": "https://localhost:8080/"
        },
        "id": "1maiq96gdYLi",
        "outputId": "19240dab-7704-4fac-dc79-78b5e6bb4bf7"
      },
      "outputs": [
        {
          "name": "stdout",
          "output_type": "stream",
          "text": [
            "Model: \"sequential_16\"\n",
            "_________________________________________________________________\n",
            " Layer (type)                Output Shape              Param #   \n",
            "=================================================================\n",
            " embedding_13 (Embedding)    (None, 32, 64)            64000     \n",
            "                                                                 \n",
            " flatten_6 (Flatten)         (None, 2048)              0         \n",
            "                                                                 \n",
            " dense_44 (Dense)            (None, 64)                131136    \n",
            "                                                                 \n",
            " dense_45 (Dense)            (None, 64)                4160      \n",
            "                                                                 \n",
            " dense_46 (Dense)            (None, 32)                2080      \n",
            "                                                                 \n",
            " dense_47 (Dense)            (None, 1)                 33        \n",
            "                                                                 \n",
            "=================================================================\n",
            "Total params: 201,409\n",
            "Trainable params: 201,409\n",
            "Non-trainable params: 0\n",
            "_________________________________________________________________\n"
          ]
        }
      ],
      "source": [
        "model = tf.keras.Sequential()\n",
        "\n",
        "# model.add(tfa.layers.EmbeddingBag(input_dim=1000, output_dim=64, input_shape=[32]))\n",
        "model.add(layers.Embedding(input_dim=1000, output_dim=64, input_shape=[32]))\n",
        "model.add(layers.Flatten())\n",
        "\n",
        "model.add(layers.Dense(64, activation=\"tanh\"))\n",
        "                      #  kernel_regularizer=regularizers.L1L2(l1=1e-5, l2=1e-4),\n",
        "                      # bias_regularizer=regularizers.L2(1e-4),\n",
        "                      # activity_regularizer=regularizers.L2(1e-5)))\n",
        "model.add(layers.Dense(64,activation=\"tanh\"))\n",
        "                      #  kernel_regularizer=regularizers.L1L2(l1=1e-5, l2=1e-4),\n",
        "                      # bias_regularizer=regularizers.L2(1e-4),\n",
        "                      # activity_regularizer=regularizers.L2(1e-5)))\n",
        "model.add(layers.Dense(32,activation=\"tanh\"))\n",
        "                      #  kernel_regularizer=regularizers.L1L2(l1=1e-5, l2=1e-4),\n",
        "                      # bias_regularizer=regularizers.L2(1e-4),\n",
        "                      # activity_regularizer=regularizers.L2(1e-5)))\n",
        "\n",
        "model.add(layers.Dense(1, activation=\"sigmoid\"))\n",
        "\n",
        "model.compile(\n",
        "    loss = \"binary_crossentropy\",\n",
        "    optimizer = \"RMSprop\",\n",
        "    metrics = [\"accuracy\"]\n",
        ")\n",
        "\n",
        "model.summary()"
      ]
    },
    {
      "cell_type": "code",
      "execution_count": 106,
      "metadata": {
        "colab": {
          "base_uri": "https://localhost:8080/"
        },
        "id": "cIVN3cMpd8o1",
        "outputId": "64ea5f2a-e614-4d6a-897e-c0e9a91ec4e4"
      },
      "outputs": [
        {
          "name": "stdout",
          "output_type": "stream",
          "text": [
            "Epoch 1/5\n",
            "1984/1984 [==============================] - 8s 4ms/step - loss: 0.0470 - accuracy: 0.9791 - val_loss: 0.0078 - val_accuracy: 0.9989\n",
            "Epoch 2/5\n",
            "1984/1984 [==============================] - 8s 4ms/step - loss: 0.0178 - accuracy: 0.9941 - val_loss: 0.0028 - val_accuracy: 0.9989\n",
            "Epoch 3/5\n",
            "1984/1984 [==============================] - 8s 4ms/step - loss: 0.0151 - accuracy: 0.9950 - val_loss: 0.0129 - val_accuracy: 0.9977\n",
            "Epoch 4/5\n",
            "1984/1984 [==============================] - 8s 4ms/step - loss: 0.0184 - accuracy: 0.9946 - val_loss: 0.0304 - val_accuracy: 0.9949\n",
            "Epoch 5/5\n",
            "1984/1984 [==============================] - 8s 4ms/step - loss: 0.0166 - accuracy: 0.9946 - val_loss: 0.0088 - val_accuracy: 0.9983\n"
          ]
        },
        {
          "data": {
            "text/plain": [
              "<keras.callbacks.History at 0x7f353f879190>"
            ]
          },
          "execution_count": 106,
          "metadata": {},
          "output_type": "execute_result"
        }
      ],
      "source": [
        "model.fit(train,\n",
        "          validation_data=val,\n",
        "          epochs=5)"
      ]
    },
    {
      "cell_type": "markdown",
      "metadata": {
        "id": "6yALay2SAhyT"
      },
      "source": [
        "## Predict"
      ]
    },
    {
      "cell_type": "markdown",
      "metadata": {
        "id": "vCj-DdatASab"
      },
      "source": [
        "## Greater than 0.5 mean Indonesian language, less than 0.5 mean English language."
      ]
    },
    {
      "cell_type": "code",
      "execution_count": 107,
      "metadata": {
        "colab": {
          "base_uri": "https://localhost:8080/"
        },
        "id": "LDitEPUqd8vH",
        "outputId": "e4f7cf54-6e92-4a7a-c5f5-d1ca5147df38"
      },
      "outputs": [
        {
          "data": {
            "text/plain": [
              "array([[5.3625766e-09],\n",
              "       [5.4949525e-09],\n",
              "       [1.0000000e+00]], dtype=float32)"
            ]
          },
          "execution_count": 107,
          "metadata": {},
          "output_type": "execute_result"
        }
      ],
      "source": [
        "teks = tf.constant([\"i love you\",\n",
        "               \"When using this layer as the first layer in a model, provide an input_shape argument (tuple of integers or None, e.g. (10, 128) for sequences of 10 vectors of 128-dimensional vectors, or (None, 128) for variable-length sequences of 128-dimensional vectors.\",\n",
        "               \"Indonesia, dengan nama resmi Republik Indonesia atau lengkapnya Negara Kesatuan Republik Indonesia, adalah sebuah negara kepulauan di Asia Tenggara yang dilintasi garis khatulistiwa dan berada di antara daratan benua Asia dan Oseania, serta antara Samudra Pasifik dan Samudra Hindia\"])\n",
        "\n",
        "\n",
        "model.predict(vectorize(teks))"
      ]
    },
    {
      "cell_type": "markdown",
      "metadata": {
        "id": "BncRee9XAoSk"
      },
      "source": [
        "## Save model into tensorflow format"
      ]
    },
    {
      "cell_type": "code",
      "execution_count": 108,
      "metadata": {
        "colab": {
          "base_uri": "https://localhost:8080/"
        },
        "id": "KvPL_34dnPZq",
        "outputId": "40ba01ff-e999-4f03-9a09-03f527479823"
      },
      "outputs": [
        {
          "name": "stdout",
          "output_type": "stream",
          "text": [
            "INFO:tensorflow:Assets written to: model/assets\n"
          ]
        },
        {
          "name": "stderr",
          "output_type": "stream",
          "text": [
            "INFO:tensorflow:Assets written to: model/assets\n"
          ]
        }
      ],
      "source": [
        "model.save(\"model\")"
      ]
    },
    {
      "cell_type": "markdown",
      "metadata": {
        "id": "1Z0KT_XfAv64"
      },
      "source": [
        "## Convert tensorflow model to tflite"
      ]
    },
    {
      "cell_type": "code",
      "execution_count": 109,
      "metadata": {
        "colab": {
          "base_uri": "https://localhost:8080/"
        },
        "id": "NXQ4CXpznRKE",
        "outputId": "38fdbdcb-c727-4c96-9a11-9cf700d89f20"
      },
      "outputs": [
        {
          "name": "stderr",
          "output_type": "stream",
          "text": [
            "WARNING:absl:Buffer deduplication procedure will be skipped when flatbuffer library is not properly loaded\n"
          ]
        }
      ],
      "source": [
        "converter = tf.lite.TFLiteConverter.from_saved_model(\"model\")\n",
        "tflite_model = converter.convert()\n",
        "\n",
        "with open(\"model.tflite\",\"wb\") as f:\n",
        "    f.write(tflite_model)"
      ]
    },
    {
      "cell_type": "code",
      "execution_count": 115,
      "metadata": {
        "id": "fiO_Fa3qB3FO"
      },
      "outputs": [],
      "source": [
        "teks = tf.constant([\"i love you\",\n",
        "               \"When using this layer as the first layer in a model, provide an input_shape argument (tuple of integers or None, e.g. (10, 128) for sequences of 10 vectors of 128-dimensional vectors, or (None, 128) for variable-length sequences of 128-dimensional vectors.\",\n",
        "               \"Indonesia, dengan nama resmi Republik Indonesia atau lengkapnya Negara Kesatuan Republik Indonesia, adalah sebuah negara kepulauan di Asia Tenggara yang dilintasi garis khatulistiwa dan berada di antara daratan benua Asia dan Oseania, serta antara Samudra Pasifik dan Samudra Hindia\"])\n"
      ]
    },
    {
      "cell_type": "code",
      "execution_count": 116,
      "metadata": {
        "colab": {
          "base_uri": "https://localhost:8080/"
        },
        "id": "hwHm4rP5noOe",
        "outputId": "432b48a1-e900-45eb-8b36-c8da902d6cf6"
      },
      "outputs": [
        {
          "name": "stdout",
          "output_type": "stream",
          "text": [
            "tf.Tensor(b'i love you', shape=(), dtype=string)\n",
            "[[5.3625766e-09]]\n",
            "tf.Tensor(b'When using this layer as the first layer in a model, provide an input_shape argument (tuple of integers or None, e.g. (10, 128) for sequences of 10 vectors of 128-dimensional vectors, or (None, 128) for variable-length sequences of 128-dimensional vectors.', shape=(), dtype=string)\n",
            "[[0.00478767]]\n",
            "tf.Tensor(b'Indonesia, dengan nama resmi Republik Indonesia atau lengkapnya Negara Kesatuan Republik Indonesia, adalah sebuah negara kepulauan di Asia Tenggara yang dilintasi garis khatulistiwa dan berada di antara daratan benua Asia dan Oseania, serta antara Samudra Pasifik dan Samudra Hindia', shape=(), dtype=string)\n",
            "[[0.00478767]]\n"
          ]
        }
      ],
      "source": [
        "interpreter = tf.lite.Interpreter(model_path=\"model.tflite\")\n",
        "interpreter.allocate_tensors()\n",
        "\n",
        "input_details = interpreter.get_input_details()\n",
        "output_details = interpreter.get_output_details()\n",
        "\n",
        "# print(input_details)\n",
        "# print(output_details)\n",
        "\n",
        "# must have 2 dimension and float32 dtype\n",
        "for i in range(len(teks)):\n",
        "  input_data = np.array([vectorize(teks[i])], dtype=np.float32)\n",
        "\n",
        "  interpreter.set_tensor(input_details[0]['index'], input_data)\n",
        "  interpreter.invoke()\n",
        "\n",
        "  predictions = interpreter.get_tensor(output_details[0]['index'])\n",
        "\n",
        "  print(teks[i])\n",
        "  print(predictions)"
      ]
    }
  ],
  "metadata": {
    "accelerator": "GPU",
    "colab": {
      "collapsed_sections": [],
      "name": "language classification.ipynb",
      "provenance": []
    },
    "kernelspec": {
      "display_name": "Python 3",
      "name": "python3"
    },
    "language_info": {
      "name": "python"
    }
  },
  "nbformat": 4,
  "nbformat_minor": 0
}
