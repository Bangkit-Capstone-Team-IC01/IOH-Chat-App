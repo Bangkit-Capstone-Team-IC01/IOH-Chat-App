{
  "nbformat": 4,
  "nbformat_minor": 0,
  "metadata": {
    "colab": {
      "name": "model_review.ipynb",
      "provenance": [],
      "collapsed_sections": []
    },
    "kernelspec": {
      "name": "python3",
      "display_name": "Python 3"
    },
    "language_info": {
      "name": "python"
    }
  },
  "cells": [
    {
      "cell_type": "markdown",
      "source": [
        "## **Grouping Feedback Model**"
      ],
      "metadata": {
        "id": "XL0XHStR9k6Q"
      }
    },
    {
      "cell_type": "markdown",
      "source": [
        "**Step 1. Import Library**"
      ],
      "metadata": {
        "id": "Z_rKaPqbEMJ2"
      }
    },
    {
      "cell_type": "code",
      "source": [
        "#importing the library\n",
        "import csv\n",
        "import random\n",
        "import numpy as np\n",
        "import pandas as pd\n",
        "import pickle\n",
        "import string, re\n",
        "import nltk\n",
        "from nltk.tokenize import word_tokenize\n",
        "from nltk.corpus import wordnet\n",
        "from nltk.stem import WordNetLemmatizer\n",
        "nltk.download('averaged_perceptron_tagger')\n",
        "nltk.download('wordnet')\n",
        "nltk.download('punkt')\n",
        "from tensorflow.keras.preprocessing.text import Tokenizer\n",
        "from tensorflow.keras.preprocessing.sequence import pad_sequences"
      ],
      "metadata": {
        "id": "EsU8eTWe2s-M",
        "colab": {
          "base_uri": "https://localhost:8080/"
        },
        "outputId": "0119cbb0-807b-464a-8149-025217d60fd3"
      },
      "execution_count": 1,
      "outputs": [
        {
          "output_type": "stream",
          "name": "stdout",
          "text": [
            "[nltk_data] Downloading package averaged_perceptron_tagger to\n",
            "[nltk_data]     /root/nltk_data...\n",
            "[nltk_data]   Package averaged_perceptron_tagger is already up-to-\n",
            "[nltk_data]       date!\n",
            "[nltk_data] Downloading package wordnet to /root/nltk_data...\n",
            "[nltk_data]   Package wordnet is already up-to-date!\n",
            "[nltk_data] Downloading package punkt to /root/nltk_data...\n",
            "[nltk_data]   Package punkt is already up-to-date!\n"
          ]
        }
      ]
    },
    {
      "cell_type": "markdown",
      "source": [
        "**Step 2. Reading the raw data**"
      ],
      "metadata": {
        "id": "T91QdnYi5Ca9"
      }
    },
    {
      "cell_type": "code",
      "source": [
        "#panggil dataset yang telah disimpan di Google Drive pribadi\n",
        "from google.colab import drive\n",
        "drive.mount('/content/drive')"
      ],
      "metadata": {
        "colab": {
          "base_uri": "https://localhost:8080/"
        },
        "id": "Q8sc7VUS0bla",
        "outputId": "5b1b88e6-a45a-4db2-cdd9-b7a33feb3550"
      },
      "execution_count": 2,
      "outputs": [
        {
          "output_type": "stream",
          "name": "stdout",
          "text": [
            "Drive already mounted at /content/drive; to attempt to forcibly remount, call drive.mount(\"/content/drive\", force_remount=True).\n"
          ]
        }
      ]
    },
    {
      "cell_type": "code",
      "source": [
        "SENTIMENT_CSV = \"/content/drive/MyDrive/Pribadi/data_feedbacks.csv\"\n",
        "\n",
        "with open(SENTIMENT_CSV, 'r') as csvfile:\n",
        "    print(f\"First data point looks like this:\\n\\n{csvfile.readline()}\")\n",
        "    print(f\"Second data point looks like this:\\n\\n{csvfile.readline()}\")"
      ],
      "metadata": {
        "colab": {
          "base_uri": "https://localhost:8080/"
        },
        "id": "0OHAnj6apAsf",
        "outputId": "f20c165b-6a9f-432f-c798-bbbbabcad4b7"
      },
      "execution_count": 3,
      "outputs": [
        {
          "output_type": "stream",
          "name": "stdout",
          "text": [
            "First data point looks like this:\n",
            "\n",
            "label,ulasan\n",
            "\n",
            "Second data point looks like this:\n",
            "\n",
            "1,\"Secara keseluruhan saya menyukai aplikasi ini, tetapi masih ada beberapa masalah. Beberapa di antaranya adalah ketika memasang spoiler ke media, sebagian besar masih tidak berfungsi. Yang lainnya (dan jujur, yang paling menjengkelkan) adalah ketika saya menggunakan obrolan suara,   sering secara otomatis menutup sendiri setelah beberapa waktu saat saya sedang bermain ... Full Review\"\n",
            "\n"
          ]
        }
      ]
    },
    {
      "cell_type": "markdown",
      "source": [
        "**Step 3. Pre-processing**"
      ],
      "metadata": {
        "id": "OjwE3kiJifUO"
      }
    },
    {
      "cell_type": "code",
      "source": [
        "#remove_stopwords\n",
        "def remove_stopwords(ulasan):\n",
        "    # List of stopwords\n",
        "    stopwords = [\"yang\", \"untuk\", \"pada\", \"ke\", \"para\", \"namun\", \"menurut\", \"antara\", \"dia\", \"dua\", \"ia\", \"seperti\", \n",
        "              \"jika\", \"sehingga\", \"kembali\", \"dan\", \"karena\", \"kepada\", \"oleh\", \"saat\", \"harus\", \"sementara\", \n",
        "              \"setelah\", \"belum\", \"kami\", \"sekitar\", \"bagi\", \"serta\", \"di\", \"dari\", \"telah\", \"sebagai\", \"masih\", \n",
        "              \"hal\", \"ketika\", \"adalah\", \"itu\", \"dalam\", \"bisa\", \"bahwa\", \"atau\", \"hanya\", \"kita\", \"dengan\", \"akan\", \n",
        "              \"juga\", \"ada\", \"mereka\", \"sudah\", \"saya\", \"terhadap\", \"secara\", \"agar\", \"lain\", \"anda\", \"begitu\", \"mengapa\", \n",
        "              \"kenapa\", \"yaitu\", \"yakni\", \"daripada\", \"itulah\", \"lagi\", \"maka\", \"tentang\", \"demi\", \"dimana\", \"kemana\",\n",
        "              \"pula\", \"sambil\", \"sebelum\", \"sesudah\", \"supaya\", \"guna\", \"kah\", \"pun\", \"sampai\", \"sedangkan\", \"selagi\",\n",
        "              \"sementara\", \"tetapi\", \"apakah\", \"kecuali\", \"sebab\", \"selain\", \"seolah\", \"seterusnya\", \"tanpa\", \"agak\",\n",
        "              \"boleh\", \"dapat\", \"dsb\", \"dst\", \"dll\", \"dahulu\", \"dulunya\", \"anu\", \"demikian\", \"tapi\", \"ingin\", \"juga\",\n",
        "              \"nggak\", \"mari\", \"nanti\", \"melainkan\", \"oh\", \"ok\", \"seharusnya\", \"sebetulnya\", \"setiap\", \"setidaknya\",\n",
        "              \"sesuatu\", \"pasti\", \"saja\", \"toh\", \"walau\", \"tolong\", \"tentu\", \"amat\", \"apalagi\", \"bagaimanapun\",\n",
        "              \"dengan\", \"ia\", \"bahwa\", \"oleh\"]\n",
        "\n",
        "    # Ulasan converted to lowercase-only\n",
        "    ulasan = str(ulasan).lower()\n",
        "    \n",
        "    ### START CODE HERE\n",
        "    \n",
        "    # Use this to read file content as a stream:\n",
        "    words = ulasan.split()\n",
        "    ulasan = []\n",
        "    for r in words:\n",
        "        if not r in stopwords:\n",
        "            ulasan.append(r)\n",
        "            \n",
        "    ulasan=\" \".join(ulasan)\n",
        "    ### END CODE HERE\n",
        "    return ulasan"
      ],
      "metadata": {
        "id": "TQrToAkZ8tP8"
      },
      "execution_count": 4,
      "outputs": []
    },
    {
      "cell_type": "code",
      "source": [
        "def parse_data_from_file(filename):\n",
        "    ulasan = []\n",
        "    label = []\n",
        "    with open(filename, 'r') as csvfile:\n",
        "        ### START CODE HERE\n",
        "        skip = True\n",
        "        if skip:\n",
        "            skip = False\n",
        "            reader = csv.reader(csvfile, delimiter=',')\n",
        "            next(reader)\n",
        "\n",
        "            for row in reader:\n",
        "                row[0] = remove_stopwords(row[0])\n",
        "                row[1] = remove_stopwords(row[1])\n",
        "                label.append(row[0])\n",
        "                ulasan.append(row[1])\n",
        "            \n",
        "        ### END CODE HERE\n",
        "    return ulasan, label"
      ],
      "metadata": {
        "id": "yuztjVYs5F1b"
      },
      "execution_count": 5,
      "outputs": []
    },
    {
      "cell_type": "code",
      "source": [
        "# Test function\n",
        "ulasan, label = parse_data_from_file(SENTIMENT_CSV)\n",
        "\n",
        "print(f\"dataset contains {len(ulasan)} examples\\n\")\n",
        "\n",
        "print(f\"Text of second example should look like this:\\n{ulasan[1]}\\n\")\n",
        "print(f\"Text of fourth example should look like this:\\n{ulasan[3]}\")\n",
        "\n",
        "print(f\"\\nLabels of last 5 examples should look like this:\\n{label[-5:]}\")"
      ],
      "metadata": {
        "colab": {
          "base_uri": "https://localhost:8080/"
        },
        "id": "kGqKK8ss5Qr5",
        "outputId": "6eb763e8-1cb6-4f75-9dc8-521219222eb3"
      },
      "execution_count": 6,
      "outputs": [
        {
          "output_type": "stream",
          "name": "stdout",
          "text": [
            "dataset contains 200 examples\n",
            "\n",
            "Text of second example should look like this:\n",
            "sebenarnya aplikasi sangat bagus layak. memberi peringkat 4/5 tidak mengirim catatan suara (alias vn). terkadang setengah bangun keyboard lag, tidak mengetik, berarti tidak membalas sms orang. catatan suara sebenarnya sangat berguna sebagian orang! tidak memiliki... ulasan lengkap\n",
            "\n",
            "Text of fourth example should look like this:\n",
            "beri 4 bintang versi pc memiliki fitur berpindah akun instan-- versi cp tidak. sangat nyaman digunakan berpindah akun semudah versi pc. itu, mb mengirim foto video terlalu terbatas. bahkan itu, aplikasi bagus. hanya... ulasan lengkap\n",
            "\n",
            "Labels of last 5 examples should look like this:\n",
            "['1', '0', '0', '0', '0']\n"
          ]
        }
      ]
    },
    {
      "cell_type": "code",
      "source": [
        "def preprocess(ulasan):\n",
        "    ulasan = ulasan.lower() \n",
        "    ulasan = ulasan.strip()  \n",
        "    ulasan = re.compile('<.*?>').sub('', ulasan) \n",
        "    ulasan = re.compile('[%s]' % re.escape(string.punctuation)).sub(' ', ulasan)  \n",
        "    ulasan = re.sub('\\s+', ' ', ulasan)  \n",
        "    ulasan = re.sub(r'\\[*\\]',' ',ulasan) \n",
        "    ulasan = re.sub(r'[^\\w\\s]', '', str(ulasan).lower().strip())\n",
        "    ulasan = re.sub(r'\\d',' ',ulasan) \n",
        "    ulasan = re.sub(r'\\s+',' ',ulasan) \n",
        "    return ulasan"
      ],
      "metadata": {
        "id": "PYezrSbIzaD_"
      },
      "execution_count": 7,
      "outputs": []
    },
    {
      "cell_type": "markdown",
      "source": [
        "**Step 4. Final Pre-Processing**"
      ],
      "metadata": {
        "id": "EIvc8zq3EHOH"
      }
    },
    {
      "cell_type": "code",
      "source": [
        "# Initialize the lemmatizer\n",
        "wl = WordNetLemmatizer()\n",
        " \n",
        "# This is a helper function to map NTLK position tags\n",
        "def get_wordnet_pos(tag):\n",
        "    if tag.startswith('J'):\n",
        "        return wordnet.ADJ\n",
        "    elif tag.startswith('V'):\n",
        "        return wordnet.VERB\n",
        "    elif tag.startswith('N'):\n",
        "        return wordnet.NOUN\n",
        "    elif tag.startswith('R'):\n",
        "        return wordnet.ADV\n",
        "    else:\n",
        "        return wordnet.NOUN\n",
        "\n",
        "# Tokenize the sentence\n",
        "def lemmatizer(ulasan):\n",
        "    word_pos_tags = nltk.pos_tag(word_tokenize(ulasan)) # Get position tags\n",
        "    a=[wl.lemmatize(tag[0], get_wordnet_pos(tag[1])) for idx, tag in enumerate(word_pos_tags)] # Map the position tag and lemmatize the word/token\n",
        "    return \" \".join(a)"
      ],
      "metadata": {
        "id": "mw-bJuDABnaT"
      },
      "execution_count": 8,
      "outputs": []
    },
    {
      "cell_type": "code",
      "source": [
        "def finalpreprocess(ulasan):\n",
        "    return lemmatizer(remove_stopwords(preprocess(ulasan)))"
      ],
      "metadata": {
        "id": "_z3Vf2WF08vi"
      },
      "execution_count": 9,
      "outputs": []
    },
    {
      "cell_type": "code",
      "source": [
        "df = pd.read_csv('/content/drive/MyDrive/Pribadi/data_feedbacks.csv')"
      ],
      "metadata": {
        "id": "3f9BZYtHdITS"
      },
      "execution_count": 10,
      "outputs": []
    },
    {
      "cell_type": "code",
      "source": [
        "df['clean_text'] = df['ulasan'].apply(lambda x: finalpreprocess(x))\n",
        "df.head()"
      ],
      "metadata": {
        "colab": {
          "base_uri": "https://localhost:8080/",
          "height": 206
        },
        "id": "aCUKd1a03sh-",
        "outputId": "8db9fa34-0c4f-491a-bd8d-1f7b103cbd28"
      },
      "execution_count": 11,
      "outputs": [
        {
          "output_type": "execute_result",
          "data": {
            "text/plain": [
              "   label                                             ulasan  \\\n",
              "0      1  Secara keseluruhan saya menyukai aplikasi ini,...   \n",
              "1      1    sebenarnya adalah aplikasi yang sangat bagus...   \n",
              "2      1  Jujur luar biasa. Saya menganggap ini platform...   \n",
              "3      1  Saya beri 4 bintang karena versi PC memiliki f...   \n",
              "4      0  1. Autoscroll ke bawah tidak dapat dinonaktifk...   \n",
              "\n",
              "                                          clean_text  \n",
              "0  keseluruhan menyukai aplikasi ini beberapa mas...  \n",
              "1  sebenarnya aplikasi sangat bagus layak memberi...  \n",
              "2  jujur luar biasa menganggap ini platform mediu...  \n",
              "3  beri bintang versi pc memiliki fitur berpindah...  \n",
              "4  autoscroll bawah tidak dinonaktifkan sangat me...  "
            ],
            "text/html": [
              "\n",
              "  <div id=\"df-c8bf6027-cf6e-47db-93b5-f4052c7a3e07\">\n",
              "    <div class=\"colab-df-container\">\n",
              "      <div>\n",
              "<style scoped>\n",
              "    .dataframe tbody tr th:only-of-type {\n",
              "        vertical-align: middle;\n",
              "    }\n",
              "\n",
              "    .dataframe tbody tr th {\n",
              "        vertical-align: top;\n",
              "    }\n",
              "\n",
              "    .dataframe thead th {\n",
              "        text-align: right;\n",
              "    }\n",
              "</style>\n",
              "<table border=\"1\" class=\"dataframe\">\n",
              "  <thead>\n",
              "    <tr style=\"text-align: right;\">\n",
              "      <th></th>\n",
              "      <th>label</th>\n",
              "      <th>ulasan</th>\n",
              "      <th>clean_text</th>\n",
              "    </tr>\n",
              "  </thead>\n",
              "  <tbody>\n",
              "    <tr>\n",
              "      <th>0</th>\n",
              "      <td>1</td>\n",
              "      <td>Secara keseluruhan saya menyukai aplikasi ini,...</td>\n",
              "      <td>keseluruhan menyukai aplikasi ini beberapa mas...</td>\n",
              "    </tr>\n",
              "    <tr>\n",
              "      <th>1</th>\n",
              "      <td>1</td>\n",
              "      <td>sebenarnya adalah aplikasi yang sangat bagus...</td>\n",
              "      <td>sebenarnya aplikasi sangat bagus layak memberi...</td>\n",
              "    </tr>\n",
              "    <tr>\n",
              "      <th>2</th>\n",
              "      <td>1</td>\n",
              "      <td>Jujur luar biasa. Saya menganggap ini platform...</td>\n",
              "      <td>jujur luar biasa menganggap ini platform mediu...</td>\n",
              "    </tr>\n",
              "    <tr>\n",
              "      <th>3</th>\n",
              "      <td>1</td>\n",
              "      <td>Saya beri 4 bintang karena versi PC memiliki f...</td>\n",
              "      <td>beri bintang versi pc memiliki fitur berpindah...</td>\n",
              "    </tr>\n",
              "    <tr>\n",
              "      <th>4</th>\n",
              "      <td>0</td>\n",
              "      <td>1. Autoscroll ke bawah tidak dapat dinonaktifk...</td>\n",
              "      <td>autoscroll bawah tidak dinonaktifkan sangat me...</td>\n",
              "    </tr>\n",
              "  </tbody>\n",
              "</table>\n",
              "</div>\n",
              "      <button class=\"colab-df-convert\" onclick=\"convertToInteractive('df-c8bf6027-cf6e-47db-93b5-f4052c7a3e07')\"\n",
              "              title=\"Convert this dataframe to an interactive table.\"\n",
              "              style=\"display:none;\">\n",
              "        \n",
              "  <svg xmlns=\"http://www.w3.org/2000/svg\" height=\"24px\"viewBox=\"0 0 24 24\"\n",
              "       width=\"24px\">\n",
              "    <path d=\"M0 0h24v24H0V0z\" fill=\"none\"/>\n",
              "    <path d=\"M18.56 5.44l.94 2.06.94-2.06 2.06-.94-2.06-.94-.94-2.06-.94 2.06-2.06.94zm-11 1L8.5 8.5l.94-2.06 2.06-.94-2.06-.94L8.5 2.5l-.94 2.06-2.06.94zm10 10l.94 2.06.94-2.06 2.06-.94-2.06-.94-.94-2.06-.94 2.06-2.06.94z\"/><path d=\"M17.41 7.96l-1.37-1.37c-.4-.4-.92-.59-1.43-.59-.52 0-1.04.2-1.43.59L10.3 9.45l-7.72 7.72c-.78.78-.78 2.05 0 2.83L4 21.41c.39.39.9.59 1.41.59.51 0 1.02-.2 1.41-.59l7.78-7.78 2.81-2.81c.8-.78.8-2.07 0-2.86zM5.41 20L4 18.59l7.72-7.72 1.47 1.35L5.41 20z\"/>\n",
              "  </svg>\n",
              "      </button>\n",
              "      \n",
              "  <style>\n",
              "    .colab-df-container {\n",
              "      display:flex;\n",
              "      flex-wrap:wrap;\n",
              "      gap: 12px;\n",
              "    }\n",
              "\n",
              "    .colab-df-convert {\n",
              "      background-color: #E8F0FE;\n",
              "      border: none;\n",
              "      border-radius: 50%;\n",
              "      cursor: pointer;\n",
              "      display: none;\n",
              "      fill: #1967D2;\n",
              "      height: 32px;\n",
              "      padding: 0 0 0 0;\n",
              "      width: 32px;\n",
              "    }\n",
              "\n",
              "    .colab-df-convert:hover {\n",
              "      background-color: #E2EBFA;\n",
              "      box-shadow: 0px 1px 2px rgba(60, 64, 67, 0.3), 0px 1px 3px 1px rgba(60, 64, 67, 0.15);\n",
              "      fill: #174EA6;\n",
              "    }\n",
              "\n",
              "    [theme=dark] .colab-df-convert {\n",
              "      background-color: #3B4455;\n",
              "      fill: #D2E3FC;\n",
              "    }\n",
              "\n",
              "    [theme=dark] .colab-df-convert:hover {\n",
              "      background-color: #434B5C;\n",
              "      box-shadow: 0px 1px 3px 1px rgba(0, 0, 0, 0.15);\n",
              "      filter: drop-shadow(0px 1px 2px rgba(0, 0, 0, 0.3));\n",
              "      fill: #FFFFFF;\n",
              "    }\n",
              "  </style>\n",
              "\n",
              "      <script>\n",
              "        const buttonEl =\n",
              "          document.querySelector('#df-c8bf6027-cf6e-47db-93b5-f4052c7a3e07 button.colab-df-convert');\n",
              "        buttonEl.style.display =\n",
              "          google.colab.kernel.accessAllowed ? 'block' : 'none';\n",
              "\n",
              "        async function convertToInteractive(key) {\n",
              "          const element = document.querySelector('#df-c8bf6027-cf6e-47db-93b5-f4052c7a3e07');\n",
              "          const dataTable =\n",
              "            await google.colab.kernel.invokeFunction('convertToInteractive',\n",
              "                                                     [key], {});\n",
              "          if (!dataTable) return;\n",
              "\n",
              "          const docLinkHtml = 'Like what you see? Visit the ' +\n",
              "            '<a target=\"_blank\" href=https://colab.research.google.com/notebooks/data_table.ipynb>data table notebook</a>'\n",
              "            + ' to learn more about interactive tables.';\n",
              "          element.innerHTML = '';\n",
              "          dataTable['output_type'] = 'display_data';\n",
              "          await google.colab.output.renderOutput(dataTable, element);\n",
              "          const docLink = document.createElement('div');\n",
              "          docLink.innerHTML = docLinkHtml;\n",
              "          element.appendChild(docLink);\n",
              "        }\n",
              "      </script>\n",
              "    </div>\n",
              "  </div>\n",
              "  "
            ]
          },
          "metadata": {},
          "execution_count": 11
        }
      ]
    },
    {
      "cell_type": "markdown",
      "source": [
        "**Step 5. Defining some useful global variables**"
      ],
      "metadata": {
        "id": "1y6xnUI41mfp"
      }
    },
    {
      "cell_type": "code",
      "source": [
        "EMBEDDING_DIM = 100\n",
        "MAXLEN = 16\n",
        "TRUNCATING = 'post'\n",
        "PADDING = 'post'\n",
        "OOV_TOKEN = \"<OOV>\"\n",
        "MAX_EXAMPLES = 160000\n",
        "TRAINING_SPLIT = 0.9"
      ],
      "metadata": {
        "id": "iu1tZvNj1owF"
      },
      "execution_count": 12,
      "outputs": []
    },
    {
      "cell_type": "markdown",
      "source": [
        "**Step 6. Training - Validation Split**"
      ],
      "metadata": {
        "id": "csv6YiTHseaO"
      }
    },
    {
      "cell_type": "code",
      "source": [
        "def train_val_split(ulasan, label, training_split):\n",
        "\n",
        "    train_size = int(len(ulasan)*training_split)\n",
        "\n",
        "    # Split the ulasan and label into train/validation splits\n",
        "    train_ulasan = ulasan[:train_size]\n",
        "    train_label = label[:train_size]\n",
        "\n",
        "    validation_ulasan = ulasan[train_size:]\n",
        "    validation_label = label[train_size:]\n",
        "    \n",
        "    return train_ulasan, validation_ulasan, train_label, validation_label"
      ],
      "metadata": {
        "id": "Nxj6jX2E1qz7"
      },
      "execution_count": 13,
      "outputs": []
    },
    {
      "cell_type": "code",
      "source": [
        "# Test function\n",
        "train_ulasan, val_ulasan, train_label, val_label = train_val_split(ulasan, label, TRAINING_SPLIT)\n",
        "\n",
        "print(f\"There are {len(train_ulasan)} ulasan for training.\\n\")\n",
        "print(f\"There are {len(train_label)} label for training.\\n\")\n",
        "print(f\"There are {len(val_ulasan)} ulasan for validation.\\n\")\n",
        "print(f\"There are {len(val_label)} label for validation.\")"
      ],
      "metadata": {
        "id": "6T43qtrX1s_W",
        "colab": {
          "base_uri": "https://localhost:8080/"
        },
        "outputId": "9d4c575d-eb2e-4069-8802-a7f04c453eb3"
      },
      "execution_count": 14,
      "outputs": [
        {
          "output_type": "stream",
          "name": "stdout",
          "text": [
            "There are 180 ulasan for training.\n",
            "\n",
            "There are 180 label for training.\n",
            "\n",
            "There are 20 ulasan for validation.\n",
            "\n",
            "There are 20 label for validation.\n"
          ]
        }
      ]
    },
    {
      "cell_type": "markdown",
      "source": [
        "**Step 7.Tokenization - Sequences, truncating and padding**"
      ],
      "metadata": {
        "id": "YmNKdcHO1ZKO"
      }
    },
    {
      "cell_type": "code",
      "source": [
        "def fit_tokenizer(train_ulasan, oov_token):\n",
        "\n",
        "    # Instantiate the Tokenizer class, passing in the correct values for num_words and oov_token\n",
        "    tokenizer = Tokenizer(num_words = len(train_ulasan), oov_token=\"<OOV>\")\n",
        "    \n",
        "    # Fit the tokenizer to the training sentences\n",
        "    tokenizer.fit_on_texts(train_ulasan)\n",
        "    \n",
        "    return tokenizer"
      ],
      "metadata": {
        "id": "mEMNElHQ1c9-"
      },
      "execution_count": 15,
      "outputs": []
    },
    {
      "cell_type": "code",
      "source": [
        "# Test function\n",
        "tokenizer = fit_tokenizer(train_ulasan, OOV_TOKEN)\n",
        "\n",
        "word_index = tokenizer.word_index\n",
        "VOCAB_SIZE = len(word_index)\n",
        "\n",
        "print(f\"Vocabulary contains {VOCAB_SIZE} words\\n\")\n",
        "print(\"<OOV> token included in vocabulary\" if \"<OOV>\" in word_index else \"<OOV> token NOT included in vocabulary\")\n",
        "print(f\"\\nindex of word 'i' should be {word_index['i']}\")"
      ],
      "metadata": {
        "id": "0pUBalOT1eOJ",
        "colab": {
          "base_uri": "https://localhost:8080/"
        },
        "outputId": "ed3ea0fa-b9bc-44c1-eb4d-9a7a0d7d37c6"
      },
      "execution_count": 16,
      "outputs": [
        {
          "output_type": "stream",
          "name": "stdout",
          "text": [
            "Vocabulary contains 1356 words\n",
            "\n",
            "<OOV> token included in vocabulary\n",
            "\n",
            "index of word 'i' should be 1071\n"
          ]
        }
      ]
    },
    {
      "cell_type": "code",
      "source": [
        "def seq_pad_and_trunc(sentences, tokenizer, padding, truncating, maxlen):\n",
        "\n",
        "    # Convert sentences to sequences\n",
        "    sequences = tokenizer.texts_to_sequences(sentences)\n",
        "    \n",
        "    # Pad the sequences using the correct padding, truncating and maxlen\n",
        "    pad_trunc_sequences = pad_sequences(sequences, padding='post', truncating='post', maxlen=maxlen)\n",
        "\n",
        "    return pad_trunc_sequences"
      ],
      "metadata": {
        "id": "Kaa5RYxx1xpD"
      },
      "execution_count": 17,
      "outputs": []
    },
    {
      "cell_type": "code",
      "source": [
        "# Test function\n",
        "train_pad_trunc_seq = seq_pad_and_trunc(train_ulasan, tokenizer, PADDING, TRUNCATING, MAXLEN)\n",
        "val_pad_trunc_seq = seq_pad_and_trunc(val_ulasan, tokenizer, PADDING, TRUNCATING, MAXLEN)\n",
        "\n",
        "print(f\"Padded and truncated training sequences have shape: {train_pad_trunc_seq.shape}\\n\")\n",
        "print(f\"Padded and truncated validation sequences have shape: {val_pad_trunc_seq.shape}\")"
      ],
      "metadata": {
        "id": "As0YrR2a10KD",
        "colab": {
          "base_uri": "https://localhost:8080/"
        },
        "outputId": "b8af28d7-aed7-4306-b78c-0550ae57d8ec"
      },
      "execution_count": 18,
      "outputs": [
        {
          "output_type": "stream",
          "name": "stdout",
          "text": [
            "Padded and truncated training sequences have shape: (180, 16)\n",
            "\n",
            "Padded and truncated validation sequences have shape: (20, 16)\n"
          ]
        }
      ]
    },
    {
      "cell_type": "code",
      "source": [
        "train_label = np.array(train_label, dtype='f4')\n",
        "val_label = np.array(val_label, dtype='f4')"
      ],
      "metadata": {
        "id": "NkdLy7tt12sS"
      },
      "execution_count": 19,
      "outputs": []
    },
    {
      "cell_type": "markdown",
      "source": [
        "**Step 8. Using pre-defined Embeddings**"
      ],
      "metadata": {
        "id": "E1hJjwJHtjzf"
      }
    },
    {
      "cell_type": "code",
      "source": [
        "# Define path to file containing the embeddings\n",
        "GLOVE_FILE = '/content/drive/MyDrive/Pribadi/glove.6B.100d.txt'\n",
        "\n",
        "# Initialize an empty embeddings index dictionary\n",
        "GLOVE_EMBEDDINGS = {}\n",
        "\n",
        "# Read file and fill GLOVE_EMBEDDINGS with its contents\n",
        "with open(GLOVE_FILE) as f:\n",
        "    for line in f:\n",
        "        values = line.split()\n",
        "        word = values[0]\n",
        "        coefs = np.asarray(values[1:], dtype='float32')\n",
        "        GLOVE_EMBEDDINGS[word] = coefs"
      ],
      "metadata": {
        "id": "MW_MNltTtm7I"
      },
      "execution_count": 20,
      "outputs": []
    },
    {
      "cell_type": "code",
      "source": [
        "test_word = 'dog'\n",
        "\n",
        "test_vector = GLOVE_EMBEDDINGS[test_word]\n",
        "\n",
        "print(f\"Vector representation of word {test_word} looks like this:\\n\\n{test_vector}\")"
      ],
      "metadata": {
        "id": "FI8XcNhqtv5v",
        "colab": {
          "base_uri": "https://localhost:8080/"
        },
        "outputId": "f9d9b9f3-98f2-4a5a-fc17-9199c5db9dde"
      },
      "execution_count": 21,
      "outputs": [
        {
          "output_type": "stream",
          "name": "stdout",
          "text": [
            "Vector representation of word dog looks like this:\n",
            "\n",
            "[ 0.30817    0.30938    0.52803   -0.92543   -0.73671    0.63475\n",
            "  0.44197    0.10262   -0.09142   -0.56607   -0.5327     0.2013\n",
            "  0.7704    -0.13983    0.13727    1.1128     0.89301   -0.17869\n",
            " -0.0019722  0.57289    0.59479    0.50428   -0.28991   -1.3491\n",
            "  0.42756    1.2748    -1.1613    -0.41084    0.042804   0.54866\n",
            "  0.18897    0.3759     0.58035    0.66975    0.81156    0.93864\n",
            " -0.51005   -0.070079   0.82819   -0.35346    0.21086   -0.24412\n",
            " -0.16554   -0.78358   -0.48482    0.38968   -0.86356   -0.016391\n",
            "  0.31984   -0.49246   -0.069363   0.018869  -0.098286   1.3126\n",
            " -0.12116   -1.2399    -0.091429   0.35294    0.64645    0.089642\n",
            "  0.70294    1.1244     0.38639    0.52084    0.98787    0.79952\n",
            " -0.34625    0.14095    0.80167    0.20987   -0.86007   -0.15308\n",
            "  0.074523   0.40816    0.019208   0.51587   -0.34428   -0.24525\n",
            " -0.77984    0.27425    0.22418    0.20164    0.017431  -0.014697\n",
            " -1.0235    -0.39695   -0.0056188  0.30569    0.31748    0.021404\n",
            "  0.11837   -0.11319    0.42456    0.53405   -0.16717   -0.27185\n",
            " -0.6255     0.12883    0.62529   -0.52086  ]\n"
          ]
        }
      ]
    },
    {
      "cell_type": "code",
      "source": [
        "print(f\"Each word vector has shape: {test_vector.shape}\")"
      ],
      "metadata": {
        "id": "mCizLY38uEnw",
        "colab": {
          "base_uri": "https://localhost:8080/"
        },
        "outputId": "07018106-59fa-49b1-cd43-a644012d50c4"
      },
      "execution_count": 22,
      "outputs": [
        {
          "output_type": "stream",
          "name": "stdout",
          "text": [
            "Each word vector has shape: (100,)\n"
          ]
        }
      ]
    },
    {
      "cell_type": "markdown",
      "source": [
        "**Step 9. Represent the words in your vocabulary using the embeddings**"
      ],
      "metadata": {
        "id": "3KQxlxzFuHUq"
      }
    },
    {
      "cell_type": "code",
      "source": [
        "# Initialize an empty numpy array with the appropriate size\n",
        "EMBEDDINGS_MATRIX = np.zeros((VOCAB_SIZE+1, EMBEDDING_DIM))\n",
        "\n",
        "# Iterate all of the words in the vocabulary and if the vector representation for \n",
        "# each word exists within GloVe's representations, save it in the EMBEDDINGS_MATRIX array\n",
        "for word, i in word_index.items():\n",
        "    embedding_vector = GLOVE_EMBEDDINGS.get(word)\n",
        "    if embedding_vector is not None:\n",
        "        EMBEDDINGS_MATRIX[i] = embedding_vector"
      ],
      "metadata": {
        "id": "hqe-TXeYuJF7"
      },
      "execution_count": 23,
      "outputs": []
    },
    {
      "cell_type": "markdown",
      "source": [
        "**Step 10. Define a model that does not overfit**"
      ],
      "metadata": {
        "id": "XxfAIvOZDiVU"
      }
    },
    {
      "cell_type": "code",
      "source": [
        "import tensorflow as tf"
      ],
      "metadata": {
        "id": "X0yAFqFs9Fcx"
      },
      "execution_count": 24,
      "outputs": []
    },
    {
      "cell_type": "code",
      "source": [
        "def create_model(vocab_size, embedding_dim, maxlen, embedding_matrix):\n",
        "    \n",
        "    model = tf.keras.Sequential([ \n",
        "        # This is how you need to set the Embedding layer when using pre-trained embeddings\n",
        "        tf.keras.layers.Embedding(vocab_size+1, embedding_dim, input_length=maxlen, weights=[embedding_matrix], trainable=False), \n",
        "        tf.keras.layers.Conv1D(64, 5, activation='relu'),\n",
        "        tf.keras.layers.Dropout(0.5),\n",
        "        tf.keras.layers.MaxPooling1D(pool_size=4),\n",
        "        tf.keras.layers.LSTM(64),\n",
        "        tf.keras.layers.Dense(1, activation='sigmoid')\n",
        "    ])\n",
        "    \n",
        "    model.compile(loss='binary_crossentropy',\n",
        "                  optimizer= tf.keras.optimizers.Adam(lr=0.001),\n",
        "                  metrics=['accuracy']) \n",
        "\n",
        "    return model"
      ],
      "metadata": {
        "id": "PDMpq3AjlHSt"
      },
      "execution_count": 25,
      "outputs": []
    },
    {
      "cell_type": "code",
      "source": [
        "# Create your untrained model\n",
        "model = create_model(VOCAB_SIZE, EMBEDDING_DIM, MAXLEN, EMBEDDINGS_MATRIX)\n",
        "\n",
        "# Train the model and save the training history\n",
        "history = model.fit(train_pad_trunc_seq, train_label, epochs=20, validation_data=(val_pad_trunc_seq, val_label))"
      ],
      "metadata": {
        "id": "XirV-6eylTOB",
        "colab": {
          "base_uri": "https://localhost:8080/"
        },
        "outputId": "cf861811-8c49-4ee1-eb61-af1ff7def045"
      },
      "execution_count": 26,
      "outputs": [
        {
          "output_type": "stream",
          "name": "stdout",
          "text": [
            "Epoch 1/20\n"
          ]
        },
        {
          "output_type": "stream",
          "name": "stderr",
          "text": [
            "/usr/local/lib/python3.7/dist-packages/keras/optimizer_v2/adam.py:105: UserWarning: The `lr` argument is deprecated, use `learning_rate` instead.\n",
            "  super(Adam, self).__init__(name, **kwargs)\n"
          ]
        },
        {
          "output_type": "stream",
          "name": "stdout",
          "text": [
            "6/6 [==============================] - 3s 125ms/step - loss: 0.6919 - accuracy: 0.5500 - val_loss: 0.7367 - val_accuracy: 0.3000\n",
            "Epoch 2/20\n",
            "6/6 [==============================] - 0s 12ms/step - loss: 0.6671 - accuracy: 0.5389 - val_loss: 0.7267 - val_accuracy: 0.2000\n",
            "Epoch 3/20\n",
            "6/6 [==============================] - 0s 13ms/step - loss: 0.6579 - accuracy: 0.6056 - val_loss: 0.6633 - val_accuracy: 0.6500\n",
            "Epoch 4/20\n",
            "6/6 [==============================] - 0s 13ms/step - loss: 0.6280 - accuracy: 0.7000 - val_loss: 0.6569 - val_accuracy: 0.6500\n",
            "Epoch 5/20\n",
            "6/6 [==============================] - 0s 13ms/step - loss: 0.5936 - accuracy: 0.6944 - val_loss: 0.6444 - val_accuracy: 0.6000\n",
            "Epoch 6/20\n",
            "6/6 [==============================] - 0s 12ms/step - loss: 0.5537 - accuracy: 0.7833 - val_loss: 0.5667 - val_accuracy: 0.8000\n",
            "Epoch 7/20\n",
            "6/6 [==============================] - 0s 14ms/step - loss: 0.5080 - accuracy: 0.8056 - val_loss: 0.5332 - val_accuracy: 0.8000\n",
            "Epoch 8/20\n",
            "6/6 [==============================] - 0s 13ms/step - loss: 0.4630 - accuracy: 0.8056 - val_loss: 0.4897 - val_accuracy: 0.8500\n",
            "Epoch 9/20\n",
            "6/6 [==============================] - 0s 14ms/step - loss: 0.4134 - accuracy: 0.8056 - val_loss: 0.4715 - val_accuracy: 0.8500\n",
            "Epoch 10/20\n",
            "6/6 [==============================] - 0s 16ms/step - loss: 0.3769 - accuracy: 0.8444 - val_loss: 0.4631 - val_accuracy: 0.8500\n",
            "Epoch 11/20\n",
            "6/6 [==============================] - 0s 12ms/step - loss: 0.3315 - accuracy: 0.8556 - val_loss: 0.4995 - val_accuracy: 0.7000\n",
            "Epoch 12/20\n",
            "6/6 [==============================] - 0s 12ms/step - loss: 0.3148 - accuracy: 0.8833 - val_loss: 0.4957 - val_accuracy: 0.7000\n",
            "Epoch 13/20\n",
            "6/6 [==============================] - 0s 12ms/step - loss: 0.2797 - accuracy: 0.8944 - val_loss: 0.4774 - val_accuracy: 0.7500\n",
            "Epoch 14/20\n",
            "6/6 [==============================] - 0s 12ms/step - loss: 0.2245 - accuracy: 0.9444 - val_loss: 0.5271 - val_accuracy: 0.8000\n",
            "Epoch 15/20\n",
            "6/6 [==============================] - 0s 12ms/step - loss: 0.2083 - accuracy: 0.9333 - val_loss: 0.5732 - val_accuracy: 0.7500\n",
            "Epoch 16/20\n",
            "6/6 [==============================] - 0s 13ms/step - loss: 0.1977 - accuracy: 0.9278 - val_loss: 0.5033 - val_accuracy: 0.8000\n",
            "Epoch 17/20\n",
            "6/6 [==============================] - 0s 14ms/step - loss: 0.2033 - accuracy: 0.9000 - val_loss: 0.6586 - val_accuracy: 0.7000\n",
            "Epoch 18/20\n",
            "6/6 [==============================] - 0s 13ms/step - loss: 0.1815 - accuracy: 0.9222 - val_loss: 0.5817 - val_accuracy: 0.8000\n",
            "Epoch 19/20\n",
            "6/6 [==============================] - 0s 12ms/step - loss: 0.1776 - accuracy: 0.9333 - val_loss: 0.7233 - val_accuracy: 0.7500\n",
            "Epoch 20/20\n",
            "6/6 [==============================] - 0s 12ms/step - loss: 0.1441 - accuracy: 0.9444 - val_loss: 0.6373 - val_accuracy: 0.7500\n"
          ]
        }
      ]
    },
    {
      "cell_type": "code",
      "source": [
        "import matplotlib.pyplot as plt"
      ],
      "metadata": {
        "id": "OEBFOyesmk0d"
      },
      "execution_count": 27,
      "outputs": []
    },
    {
      "cell_type": "code",
      "source": [
        "#-----------------------------------------------------------\n",
        "# Retrieve a list of list results on training and test data\n",
        "# sets for each training epoch\n",
        "#-----------------------------------------------------------\n",
        "loss = history.history['loss']\n",
        "val_loss = history.history['val_loss']\n",
        "\n",
        "epochs = [*range(20)]\n",
        "\n",
        "#------------------------------------------------\n",
        "# Plot training and validation loss per epoch\n",
        "#------------------------------------------------\n",
        "plt.plot(epochs, loss, 'r')\n",
        "plt.plot(epochs, val_loss, 'b')\n",
        "plt.title('Training and validation loss')\n",
        "plt.xlabel(\"Epochs\")\n",
        "plt.ylabel(\"Loss\")\n",
        "plt.legend([\"Loss\", \"Validation Loss\"])\n",
        "plt.show()"
      ],
      "metadata": {
        "id": "h4A636KBmhko",
        "colab": {
          "base_uri": "https://localhost:8080/",
          "height": 295
        },
        "outputId": "64d00f0d-8f35-4526-ac66-8f88d977caab"
      },
      "execution_count": 28,
      "outputs": [
        {
          "output_type": "display_data",
          "data": {
            "text/plain": [
              "<Figure size 432x288 with 1 Axes>"
            ],
            "image/png": "[encoded data removed]"
          },
          "metadata": {
            "needs_background": "light"
          }
        }
      ]
    },
    {
      "cell_type": "code",
      "source": [
        "acc = history.history['accuracy']\n",
        "val_acc = history.history['val_accuracy']\n",
        "\n",
        "#------------------------------------------------\n",
        "# Plot training and validation accuracy per epoch\n",
        "#------------------------------------------------\n",
        "plt.plot(epochs, acc, 'r')\n",
        "plt.plot(epochs, val_acc, 'b')\n",
        "plt.title('Training and validation accuracy')\n",
        "plt.xlabel(\"Epochs\")\n",
        "plt.ylabel(\"Accuracy\")\n",
        "plt.legend([\"Accuracy\", \"Validation Accuracy\"])\n",
        "plt.show()"
      ],
      "metadata": {
        "id": "458SbIafmqsc",
        "colab": {
          "base_uri": "https://localhost:8080/",
          "height": 295
        },
        "outputId": "c6a35cc0-314d-4e5b-a16a-945a94b0b172"
      },
      "execution_count": 29,
      "outputs": [
        {
          "output_type": "display_data",
          "data": {
            "text/plain": [
              "<Figure size 432x288 with 1 Axes>"
            ],
            "image/png": "[encoded data removed]"
          },
          "metadata": {
            "needs_background": "light"
          }
        }
      ]
    },
    {
      "cell_type": "markdown",
      "source": [
        "A more rigorous way of setting the passing threshold of this assignment is to use the slope of your `val_loss` curve.\n",
        "\n",
        "**To pass this model the slope of your `val_loss` curve should be 0.0005 at maximum.**"
      ],
      "metadata": {
        "id": "G3Tbx6QmvLr6"
      }
    },
    {
      "cell_type": "code",
      "source": [
        "from scipy.stats import linregress"
      ],
      "metadata": {
        "id": "wFSFD_oDmzbT"
      },
      "execution_count": 30,
      "outputs": []
    },
    {
      "cell_type": "code",
      "source": [
        "# Test the slope of your val_loss curve\n",
        "slope, *_ = linregress(epochs, val_loss)\n",
        "print(f\"The slope of your validation loss curve is {slope:.5f}\")"
      ],
      "metadata": {
        "id": "RggKv9aTmuNF",
        "colab": {
          "base_uri": "https://localhost:8080/"
        },
        "outputId": "f8b2b492-3a58-4b9d-a26e-f9f9953d42c1"
      },
      "execution_count": 31,
      "outputs": [
        {
          "output_type": "stream",
          "name": "stdout",
          "text": [
            "The slope of your validation loss curve is -0.00349\n"
          ]
        }
      ]
    },
    {
      "cell_type": "code",
      "source": [
        "with open('history.pkl', 'wb') as f:\n",
        "    pickle.dump(history.history, f)"
      ],
      "metadata": {
        "id": "H_zEGZXkvewm"
      },
      "execution_count": 32,
      "outputs": []
    },
    {
      "cell_type": "markdown",
      "source": [
        "**Step 11. Saved Model**"
      ],
      "metadata": {
        "id": "9xUWmOUUwR9S"
      }
    },
    {
      "cell_type": "code",
      "source": [
        "export_dir = '/content/drive/MyDrive/Pribadi/saved/'\n",
        "tf.saved_model.save(model, export_dir)"
      ],
      "metadata": {
        "id": "IVhyhziywTcU",
        "colab": {
          "base_uri": "https://localhost:8080/"
        },
        "outputId": "5173734a-9db0-40a4-8ec7-d72bc52b854f"
      },
      "execution_count": 33,
      "outputs": [
        {
          "output_type": "stream",
          "name": "stderr",
          "text": [
            "WARNING:absl:Found untraced functions such as lstm_cell_layer_call_fn, lstm_cell_layer_call_and_return_conditional_losses while saving (showing 2 of 2). These functions will not be directly callable after loading.\n"
          ]
        },
        {
          "output_type": "stream",
          "name": "stdout",
          "text": [
            "INFO:tensorflow:Assets written to: /content/drive/MyDrive/Pribadi/saved/assets\n"
          ]
        },
        {
          "output_type": "stream",
          "name": "stderr",
          "text": [
            "INFO:tensorflow:Assets written to: /content/drive/MyDrive/Pribadi/saved/assets\n"
          ]
        }
      ]
    },
    {
      "cell_type": "markdown",
      "source": [
        "**Step 12. Predict Text**"
      ],
      "metadata": {
        "id": "QCZ7qxkyejR1"
      }
    },
    {
      "cell_type": "code",
      "source": [
        "#call the new dataset\n",
        "df_test = pd.read_csv(\"/content/drive/MyDrive/Pribadi/dataset/data_feedbacks_test.csv\")"
      ],
      "metadata": {
        "id": "oSpiABLXjeix"
      },
      "execution_count": 34,
      "outputs": []
    },
    {
      "cell_type": "code",
      "source": [
        "#Pre-processing the new dataset\n",
        "df_test['clean_text'] = df_test['ulasan'].apply(lambda x: finalpreprocess(x)) #preprocess the data\n",
        "X_test=df_test['clean_text'][2] \n",
        "print(X_test)\n",
        "sequence = tokenizer.texts_to_sequences([X_test])\n",
        "pad_sequence = pad_sequences(sequence, padding=PADDING, truncating=TRUNCATING, maxlen=MAXLEN)\n",
        "y_predict = model.predict(pad_sequence)[0][0]       \n",
        "if y_predict > 0.6:\n",
        "  print(\"Positive\")\n",
        "else:\n",
        "  print(\"Negative\")"
      ],
      "metadata": {
        "colab": {
          "base_uri": "https://localhost:8080/"
        },
        "id": "ZXwQQyHFel2G",
        "outputId": "21daeede-0685-42ce-ca58-a094a38a561a"
      },
      "execution_count": 35,
      "outputs": [
        {
          "output_type": "stream",
          "name": "stdout",
          "text": [
            "autoscroll bawah tidak dinonaktifkan sangat mengganggu membaca riwayat obrolan mencari memilih hasil tidak daftar semua hasil pencarian mengklik tombol pencarian scoll diatur ulang ini bukan ilmu roket sebuah ulasan lengkap\n",
            "Negative\n"
          ]
        }
      ]
    }
  ]
}