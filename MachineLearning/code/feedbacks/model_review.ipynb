{
  "nbformat": 4,
  "nbformat_minor": 0,
  "metadata": {
    "colab": {
      "name": "model_review.ipynb",
      "provenance": [],
      "collapsed_sections": []
    },
    "kernelspec": {
      "name": "python3",
      "display_name": "Python 3"
    },
    "language_info": {
      "name": "python"
    }
  },
  "cells": [
    {
      "cell_type": "code",
      "source": [
        "import csv\n",
        "import matplotlib.pyplot as plt\n",
        "import random\n",
        "import numpy as np\n",
        "import pandas as pd\n",
        "import string, re\n",
        "import nltk\n",
        "import os\n",
        "import subprocess\n",
        "import shutil\n",
        "import json\n",
        "import tensorflow as tf\n",
        "import keras\n",
        "\n",
        "from google.colab import drive\n",
        "from nltk.tokenize import word_tokenize\n",
        "from nltk.corpus import wordnet\n",
        "from nltk.stem import WordNetLemmatizer\n",
        "from sklearn.model_selection import train_test_split\n",
        "from keras_preprocessing.text import tokenizer_from_json\n",
        "from tensorflow.keras.preprocessing.text import Tokenizer\n",
        "from tensorflow.keras.preprocessing.sequence import pad_sequences\n",
        "\n",
        "nltk.download('averaged_perceptron_tagger')\n",
        "nltk.download('wordnet')\n",
        "nltk.download('punkt')"
      ],
      "metadata": {
        "id": "EsU8eTWe2s-M",
        "colab": {
          "base_uri": "https://localhost:8080/"
        },
        "outputId": "92517d65-b6ed-421e-f20c-8bd62dcdf85e"
      },
      "execution_count": 79,
      "outputs": [
        {
          "output_type": "stream",
          "name": "stdout",
          "text": [
            "[nltk_data] Downloading package averaged_perceptron_tagger to\n",
            "[nltk_data]     /root/nltk_data...\n",
            "[nltk_data]   Package averaged_perceptron_tagger is already up-to-\n",
            "[nltk_data]       date!\n",
            "[nltk_data] Downloading package wordnet to /root/nltk_data...\n",
            "[nltk_data]   Package wordnet is already up-to-date!\n",
            "[nltk_data] Downloading package punkt to /root/nltk_data...\n",
            "[nltk_data]   Package punkt is already up-to-date!\n"
          ]
        },
        {
          "output_type": "execute_result",
          "data": {
            "text/plain": [
              "True"
            ]
          },
          "metadata": {},
          "execution_count": 79
        }
      ]
    },
    {
      "cell_type": "code",
      "source": [
        "git_dir = '/content/IOH-Chat-App'\n",
        "git_url = 'https://github.com/bangkit-team/IOH-chat-app.git'\n",
        "\n",
        "if not os.path.exists(git_dir):\n",
        "  subprocess.call(['git', 'clone', git_url])"
      ],
      "metadata": {
        "id": "Q8sc7VUS0bla"
      },
      "execution_count": 80,
      "outputs": []
    },
    {
      "cell_type": "code",
      "source": [
        "drive.mount('/content/drive')"
      ],
      "metadata": {
        "colab": {
          "base_uri": "https://localhost:8080/"
        },
        "id": "nYdPSeMdwaiv",
        "outputId": "f147d1bb-efae-4744-a3e0-2881c2dd0b7e"
      },
      "execution_count": 81,
      "outputs": [
        {
          "output_type": "stream",
          "name": "stdout",
          "text": [
            "Drive already mounted at /content/drive; to attempt to forcibly remount, call drive.mount(\"/content/drive\", force_remount=True).\n"
          ]
        }
      ]
    },
    {
      "cell_type": "code",
      "source": [
        "SENTIMENT_CSV = '/content/IOH-chat-app/MachineLearning/datasets/feedbacks/data_feedbacks.csv'"
      ],
      "metadata": {
        "id": "0OHAnj6apAsf"
      },
      "execution_count": 82,
      "outputs": []
    },
    {
      "cell_type": "code",
      "source": [
        "def remove_stopwords(ulasan):\n",
        "    stopwords = ['yang', 'untuk', 'pada', 'ke', 'para', 'namun', 'menurut', 'antara', 'dia', 'dua', 'ia', 'seperti', \n",
        "              'jika', 'sehingga', 'kembali', 'dan', 'karena', 'kepada', 'oleh', 'saat', 'harus', 'sementara', \n",
        "              'setelah', 'belum', 'kami', 'sekitar', 'bagi', 'serta', 'di', 'dari', 'telah', 'sebagai', 'masih', \n",
        "              'hal', 'ketika', 'adalah', 'itu', 'dalam', 'bisa', 'bahwa', 'atau', 'hanya', 'kita', 'dengan', 'akan', \n",
        "              'juga', 'ada', 'mereka', 'sudah', 'saya', 'terhadap', 'secara', 'agar', 'lain', 'anda', 'begitu', 'mengapa', \n",
        "              'kenapa', 'yaitu', 'yakni', 'daripada', 'itulah', 'lagi', 'maka', 'tentang', 'demi', 'dimana', 'kemana',\n",
        "              'pula', 'sambil', 'sebelum', 'sesudah', 'supaya', 'guna', 'kah', 'pun', 'sampai', 'sedangkan', 'selagi',\n",
        "              'sementara', 'tetapi', 'apakah', 'kecuali', 'sebab', 'selain', 'seolah', 'seterusnya', 'tanpa', 'agak',\n",
        "              'boleh', 'dapat', 'dsb', 'dst', 'dll', 'dahulu', 'dulunya', 'anu', 'demikian', 'tapi', 'ingin', 'juga',\n",
        "              'nggak', 'mari', 'nanti', 'melainkan', 'oh', 'ok', 'seharusnya', 'sebetulnya', 'setiap', 'setidaknya',\n",
        "              'sesuatu', 'pasti', 'saja', 'toh', 'walau', 'tolong', 'tentu', 'amat', 'apalagi', 'bagaimanapun',\n",
        "              'dengan', 'ia', 'bahwa', 'oleh']\n",
        "\n",
        "    ulasan = str(ulasan).lower()\n",
        "    \n",
        "    words = ulasan.split()\n",
        "    ulasan = []\n",
        "    for r in words:\n",
        "        if not r in stopwords:\n",
        "            ulasan.append(r)\n",
        "            \n",
        "    ulasan=' '.join(ulasan)\n",
        "    return ulasan"
      ],
      "metadata": {
        "id": "TQrToAkZ8tP8"
      },
      "execution_count": 83,
      "outputs": []
    },
    {
      "cell_type": "code",
      "source": [
        "def parse_data_from_file(filename):\n",
        "    ulasan = []\n",
        "    label = []\n",
        "    with open(filename, 'r') as csvfile:\n",
        "        skip = True\n",
        "        if skip:\n",
        "            skip = False\n",
        "            reader = csv.reader(csvfile, delimiter=',')\n",
        "            next(reader)\n",
        "\n",
        "            for row in reader:\n",
        "                row[0] = remove_stopwords(row[0])\n",
        "                row[1] = remove_stopwords(row[1])\n",
        "                label.append(row[0])\n",
        "                ulasan.append(row[1])\n",
        "            \n",
        "    return ulasan, label"
      ],
      "metadata": {
        "id": "yuztjVYs5F1b"
      },
      "execution_count": 84,
      "outputs": []
    },
    {
      "cell_type": "code",
      "source": [
        "ulasan, label = parse_data_from_file(SENTIMENT_CSV)\n",
        "\n",
        "print(f'Dataset contains {len(ulasan)} examples\\n')\n",
        "print(f'Example 1:\\nText: {ulasan[0]}\\nLabel :{label[0]}\\n')\n",
        "print(f'Example 2:\\nText: {ulasan[1]}\\nLabel :{label[1]}\\n')"
      ],
      "metadata": {
        "colab": {
          "base_uri": "https://localhost:8080/"
        },
        "id": "kGqKK8ss5Qr5",
        "outputId": "90561a26-a60f-4848-8f4e-5547fbad5529"
      },
      "execution_count": 85,
      "outputs": [
        {
          "output_type": "stream",
          "name": "stdout",
          "text": [
            "Dataset contains 434 examples\n",
            "\n",
            "Example 1:\n",
            "Text: keseluruhan menyukai aplikasi ini, beberapa masalah. beberapa antaranya memasang spoiler media, sebagian besar tidak berfungsi. lainnya (dan jujur, paling menjengkelkan) menggunakan obrolan suara, sering otomatis menutup sendiri beberapa waktu sedang bermain ... full review\n",
            "Label :1\n",
            "\n",
            "Example 2:\n",
            "Text: sebenarnya aplikasi sangat bagus layak. memberi peringkat 4/5 tidak mengirim catatan suara (alias vn). terkadang setengah bangun keyboard lag, tidak mengetik, berarti tidak membalas sms orang. catatan suara sebenarnya sangat berguna sebagian orang! tidak memiliki... ulasan lengkap\n",
            "Label :1\n",
            "\n"
          ]
        }
      ]
    },
    {
      "cell_type": "code",
      "source": [
        "def preprocess(ulasan):\n",
        "    ulasan = ulasan.lower() \n",
        "    ulasan = ulasan.strip()  \n",
        "    ulasan = re.compile('<.*?>').sub('', ulasan) \n",
        "    ulasan = re.compile('[%s]' % re.escape(string.punctuation)).sub(' ', ulasan)  \n",
        "    ulasan = re.sub('\\s+', ' ', ulasan)  \n",
        "    ulasan = re.sub(r'\\[*\\]',' ',ulasan) \n",
        "    ulasan = re.sub(r'[^\\w\\s]', '', str(ulasan).lower().strip())\n",
        "    ulasan = re.sub(r'\\d',' ',ulasan) \n",
        "    ulasan = re.sub(r'\\s+',' ',ulasan) \n",
        "    return ulasan"
      ],
      "metadata": {
        "id": "PYezrSbIzaD_"
      },
      "execution_count": 86,
      "outputs": []
    },
    {
      "cell_type": "code",
      "source": [
        "wl = WordNetLemmatizer()\n",
        " \n",
        "def get_wordnet_pos(tag):\n",
        "    if tag.startswith('J'):\n",
        "        return wordnet.ADJ\n",
        "    elif tag.startswith('V'):\n",
        "        return wordnet.VERB\n",
        "    elif tag.startswith('N'):\n",
        "        return wordnet.NOUN\n",
        "    elif tag.startswith('R'):\n",
        "        return wordnet.ADV\n",
        "    else:\n",
        "        return wordnet.NOUN\n",
        "\n",
        "def lemmatizer(ulasan):\n",
        "    word_pos_tags = nltk.pos_tag(word_tokenize(ulasan))\n",
        "    a=[wl.lemmatize(tag[0], get_wordnet_pos(tag[1])) for idx, tag in enumerate(word_pos_tags)]\n",
        "    return ' '.join(a)"
      ],
      "metadata": {
        "id": "mw-bJuDABnaT"
      },
      "execution_count": 87,
      "outputs": []
    },
    {
      "cell_type": "code",
      "source": [
        "def finalpreprocess(ulasan):\n",
        "    return lemmatizer(remove_stopwords(preprocess(ulasan)))"
      ],
      "metadata": {
        "id": "_z3Vf2WF08vi"
      },
      "execution_count": 88,
      "outputs": []
    },
    {
      "cell_type": "code",
      "source": [
        "df = pd.read_csv(SENTIMENT_CSV)\n",
        "df"
      ],
      "metadata": {
        "colab": {
          "base_uri": "https://localhost:8080/",
          "height": 424
        },
        "id": "bcNVwXY4rfqW",
        "outputId": "c74e1886-95d4-46b0-9f13-d9264caef661"
      },
      "execution_count": 89,
      "outputs": [
        {
          "output_type": "execute_result",
          "data": {
            "text/plain": [
              "     label                                             ulasan\n",
              "0        1  Secara keseluruhan saya menyukai aplikasi ini,...\n",
              "1        1    sebenarnya adalah aplikasi yang sangat bagus...\n",
              "2        1  Jujur luar biasa. Saya menganggap ini platform...\n",
              "3        1  Saya beri 4 bintang karena versi PC memiliki f...\n",
              "4        0  1. Autoscroll ke bawah tidak dapat dinonaktifk...\n",
              "..     ...                                                ...\n",
              "429      1             Saya mengerti mengapa saya menyukainya\n",
              "430      0                  Yang saya lihat hanyalah payudara\n",
              "431      0  Asyiknya nge-troll dan ngobrol sama teman di s...\n",
              "432      1                                              Bagus\n",
              "433      1                                 Aplikasi ini bagus\n",
              "\n",
              "[434 rows x 2 columns]"
            ],
            "text/html": [
              "\n",
              "  <div id=\"df-96fe4b09-3d96-443f-8a9f-47b17035c1df\">\n",
              "    <div class=\"colab-df-container\">\n",
              "      <div>\n",
              "<style scoped>\n",
              "    .dataframe tbody tr th:only-of-type {\n",
              "        vertical-align: middle;\n",
              "    }\n",
              "\n",
              "    .dataframe tbody tr th {\n",
              "        vertical-align: top;\n",
              "    }\n",
              "\n",
              "    .dataframe thead th {\n",
              "        text-align: right;\n",
              "    }\n",
              "</style>\n",
              "<table border=\"1\" class=\"dataframe\">\n",
              "  <thead>\n",
              "    <tr style=\"text-align: right;\">\n",
              "      <th></th>\n",
              "      <th>label</th>\n",
              "      <th>ulasan</th>\n",
              "    </tr>\n",
              "  </thead>\n",
              "  <tbody>\n",
              "    <tr>\n",
              "      <th>0</th>\n",
              "      <td>1</td>\n",
              "      <td>Secara keseluruhan saya menyukai aplikasi ini,...</td>\n",
              "    </tr>\n",
              "    <tr>\n",
              "      <th>1</th>\n",
              "      <td>1</td>\n",
              "      <td>sebenarnya adalah aplikasi yang sangat bagus...</td>\n",
              "    </tr>\n",
              "    <tr>\n",
              "      <th>2</th>\n",
              "      <td>1</td>\n",
              "      <td>Jujur luar biasa. Saya menganggap ini platform...</td>\n",
              "    </tr>\n",
              "    <tr>\n",
              "      <th>3</th>\n",
              "      <td>1</td>\n",
              "      <td>Saya beri 4 bintang karena versi PC memiliki f...</td>\n",
              "    </tr>\n",
              "    <tr>\n",
              "      <th>4</th>\n",
              "      <td>0</td>\n",
              "      <td>1. Autoscroll ke bawah tidak dapat dinonaktifk...</td>\n",
              "    </tr>\n",
              "    <tr>\n",
              "      <th>...</th>\n",
              "      <td>...</td>\n",
              "      <td>...</td>\n",
              "    </tr>\n",
              "    <tr>\n",
              "      <th>429</th>\n",
              "      <td>1</td>\n",
              "      <td>Saya mengerti mengapa saya menyukainya</td>\n",
              "    </tr>\n",
              "    <tr>\n",
              "      <th>430</th>\n",
              "      <td>0</td>\n",
              "      <td>Yang saya lihat hanyalah payudara</td>\n",
              "    </tr>\n",
              "    <tr>\n",
              "      <th>431</th>\n",
              "      <td>0</td>\n",
              "      <td>Asyiknya nge-troll dan ngobrol sama teman di s...</td>\n",
              "    </tr>\n",
              "    <tr>\n",
              "      <th>432</th>\n",
              "      <td>1</td>\n",
              "      <td>Bagus</td>\n",
              "    </tr>\n",
              "    <tr>\n",
              "      <th>433</th>\n",
              "      <td>1</td>\n",
              "      <td>Aplikasi ini bagus</td>\n",
              "    </tr>\n",
              "  </tbody>\n",
              "</table>\n",
              "<p>434 rows × 2 columns</p>\n",
              "</div>\n",
              "      <button class=\"colab-df-convert\" onclick=\"convertToInteractive('df-96fe4b09-3d96-443f-8a9f-47b17035c1df')\"\n",
              "              title=\"Convert this dataframe to an interactive table.\"\n",
              "              style=\"display:none;\">\n",
              "        \n",
              "  <svg xmlns=\"http://www.w3.org/2000/svg\" height=\"24px\"viewBox=\"0 0 24 24\"\n",
              "       width=\"24px\">\n",
              "    <path d=\"M0 0h24v24H0V0z\" fill=\"none\"/>\n",
              "    <path d=\"M18.56 5.44l.94 2.06.94-2.06 2.06-.94-2.06-.94-.94-2.06-.94 2.06-2.06.94zm-11 1L8.5 8.5l.94-2.06 2.06-.94-2.06-.94L8.5 2.5l-.94 2.06-2.06.94zm10 10l.94 2.06.94-2.06 2.06-.94-2.06-.94-.94-2.06-.94 2.06-2.06.94z\"/><path d=\"M17.41 7.96l-1.37-1.37c-.4-.4-.92-.59-1.43-.59-.52 0-1.04.2-1.43.59L10.3 9.45l-7.72 7.72c-.78.78-.78 2.05 0 2.83L4 21.41c.39.39.9.59 1.41.59.51 0 1.02-.2 1.41-.59l7.78-7.78 2.81-2.81c.8-.78.8-2.07 0-2.86zM5.41 20L4 18.59l7.72-7.72 1.47 1.35L5.41 20z\"/>\n",
              "  </svg>\n",
              "      </button>\n",
              "      \n",
              "  <style>\n",
              "    .colab-df-container {\n",
              "      display:flex;\n",
              "      flex-wrap:wrap;\n",
              "      gap: 12px;\n",
              "    }\n",
              "\n",
              "    .colab-df-convert {\n",
              "      background-color: #E8F0FE;\n",
              "      border: none;\n",
              "      border-radius: 50%;\n",
              "      cursor: pointer;\n",
              "      display: none;\n",
              "      fill: #1967D2;\n",
              "      height: 32px;\n",
              "      padding: 0 0 0 0;\n",
              "      width: 32px;\n",
              "    }\n",
              "\n",
              "    .colab-df-convert:hover {\n",
              "      background-color: #E2EBFA;\n",
              "      box-shadow: 0px 1px 2px rgba(60, 64, 67, 0.3), 0px 1px 3px 1px rgba(60, 64, 67, 0.15);\n",
              "      fill: #174EA6;\n",
              "    }\n",
              "\n",
              "    [theme=dark] .colab-df-convert {\n",
              "      background-color: #3B4455;\n",
              "      fill: #D2E3FC;\n",
              "    }\n",
              "\n",
              "    [theme=dark] .colab-df-convert:hover {\n",
              "      background-color: #434B5C;\n",
              "      box-shadow: 0px 1px 3px 1px rgba(0, 0, 0, 0.15);\n",
              "      filter: drop-shadow(0px 1px 2px rgba(0, 0, 0, 0.3));\n",
              "      fill: #FFFFFF;\n",
              "    }\n",
              "  </style>\n",
              "\n",
              "      <script>\n",
              "        const buttonEl =\n",
              "          document.querySelector('#df-96fe4b09-3d96-443f-8a9f-47b17035c1df button.colab-df-convert');\n",
              "        buttonEl.style.display =\n",
              "          google.colab.kernel.accessAllowed ? 'block' : 'none';\n",
              "\n",
              "        async function convertToInteractive(key) {\n",
              "          const element = document.querySelector('#df-96fe4b09-3d96-443f-8a9f-47b17035c1df');\n",
              "          const dataTable =\n",
              "            await google.colab.kernel.invokeFunction('convertToInteractive',\n",
              "                                                     [key], {});\n",
              "          if (!dataTable) return;\n",
              "\n",
              "          const docLinkHtml = 'Like what you see? Visit the ' +\n",
              "            '<a target=\"_blank\" href=https://colab.research.google.com/notebooks/data_table.ipynb>data table notebook</a>'\n",
              "            + ' to learn more about interactive tables.';\n",
              "          element.innerHTML = '';\n",
              "          dataTable['output_type'] = 'display_data';\n",
              "          await google.colab.output.renderOutput(dataTable, element);\n",
              "          const docLink = document.createElement('div');\n",
              "          docLink.innerHTML = docLinkHtml;\n",
              "          element.appendChild(docLink);\n",
              "        }\n",
              "      </script>\n",
              "    </div>\n",
              "  </div>\n",
              "  "
            ]
          },
          "metadata": {},
          "execution_count": 89
        }
      ]
    },
    {
      "cell_type": "code",
      "source": [
        "clean_text = df['ulasan'].apply(lambda x: finalpreprocess(x))\n",
        "\n",
        "label_column = df.pop('label')\n",
        "df.insert(1, 'label', label_column)\n",
        "\n",
        "df['ulasan'] = clean_text\n",
        "df"
      ],
      "metadata": {
        "colab": {
          "base_uri": "https://localhost:8080/",
          "height": 424
        },
        "id": "aCUKd1a03sh-",
        "outputId": "02bd0e14-4c69-4ec4-d5e9-66f95b4ce571"
      },
      "execution_count": 90,
      "outputs": [
        {
          "output_type": "execute_result",
          "data": {
            "text/plain": [
              "                                                ulasan  label\n",
              "0    keseluruhan menyukai aplikasi ini beberapa mas...      1\n",
              "1    sebenarnya aplikasi sangat bagus layak memberi...      1\n",
              "2    jujur luar biasa menganggap ini platform mediu...      1\n",
              "3    beri bintang versi pc memiliki fitur berpindah...      1\n",
              "4    autoscroll bawah tidak dinonaktifkan sangat me...      0\n",
              "..                                                 ...    ...\n",
              "429                               mengerti menyukainya      1\n",
              "430                            lihat hanyalah payudara      0\n",
              "431     asyiknya nge troll ngobrol sama teman sini bro      0\n",
              "432                                              bagus      1\n",
              "433                                 aplikasi ini bagus      1\n",
              "\n",
              "[434 rows x 2 columns]"
            ],
            "text/html": [
              "\n",
              "  <div id=\"df-3e3654b5-f671-49b5-960f-3fa1ff79d3fa\">\n",
              "    <div class=\"colab-df-container\">\n",
              "      <div>\n",
              "<style scoped>\n",
              "    .dataframe tbody tr th:only-of-type {\n",
              "        vertical-align: middle;\n",
              "    }\n",
              "\n",
              "    .dataframe tbody tr th {\n",
              "        vertical-align: top;\n",
              "    }\n",
              "\n",
              "    .dataframe thead th {\n",
              "        text-align: right;\n",
              "    }\n",
              "</style>\n",
              "<table border=\"1\" class=\"dataframe\">\n",
              "  <thead>\n",
              "    <tr style=\"text-align: right;\">\n",
              "      <th></th>\n",
              "      <th>ulasan</th>\n",
              "      <th>label</th>\n",
              "    </tr>\n",
              "  </thead>\n",
              "  <tbody>\n",
              "    <tr>\n",
              "      <th>0</th>\n",
              "      <td>keseluruhan menyukai aplikasi ini beberapa mas...</td>\n",
              "      <td>1</td>\n",
              "    </tr>\n",
              "    <tr>\n",
              "      <th>1</th>\n",
              "      <td>sebenarnya aplikasi sangat bagus layak memberi...</td>\n",
              "      <td>1</td>\n",
              "    </tr>\n",
              "    <tr>\n",
              "      <th>2</th>\n",
              "      <td>jujur luar biasa menganggap ini platform mediu...</td>\n",
              "      <td>1</td>\n",
              "    </tr>\n",
              "    <tr>\n",
              "      <th>3</th>\n",
              "      <td>beri bintang versi pc memiliki fitur berpindah...</td>\n",
              "      <td>1</td>\n",
              "    </tr>\n",
              "    <tr>\n",
              "      <th>4</th>\n",
              "      <td>autoscroll bawah tidak dinonaktifkan sangat me...</td>\n",
              "      <td>0</td>\n",
              "    </tr>\n",
              "    <tr>\n",
              "      <th>...</th>\n",
              "      <td>...</td>\n",
              "      <td>...</td>\n",
              "    </tr>\n",
              "    <tr>\n",
              "      <th>429</th>\n",
              "      <td>mengerti menyukainya</td>\n",
              "      <td>1</td>\n",
              "    </tr>\n",
              "    <tr>\n",
              "      <th>430</th>\n",
              "      <td>lihat hanyalah payudara</td>\n",
              "      <td>0</td>\n",
              "    </tr>\n",
              "    <tr>\n",
              "      <th>431</th>\n",
              "      <td>asyiknya nge troll ngobrol sama teman sini bro</td>\n",
              "      <td>0</td>\n",
              "    </tr>\n",
              "    <tr>\n",
              "      <th>432</th>\n",
              "      <td>bagus</td>\n",
              "      <td>1</td>\n",
              "    </tr>\n",
              "    <tr>\n",
              "      <th>433</th>\n",
              "      <td>aplikasi ini bagus</td>\n",
              "      <td>1</td>\n",
              "    </tr>\n",
              "  </tbody>\n",
              "</table>\n",
              "<p>434 rows × 2 columns</p>\n",
              "</div>\n",
              "      <button class=\"colab-df-convert\" onclick=\"convertToInteractive('df-3e3654b5-f671-49b5-960f-3fa1ff79d3fa')\"\n",
              "              title=\"Convert this dataframe to an interactive table.\"\n",
              "              style=\"display:none;\">\n",
              "        \n",
              "  <svg xmlns=\"http://www.w3.org/2000/svg\" height=\"24px\"viewBox=\"0 0 24 24\"\n",
              "       width=\"24px\">\n",
              "    <path d=\"M0 0h24v24H0V0z\" fill=\"none\"/>\n",
              "    <path d=\"M18.56 5.44l.94 2.06.94-2.06 2.06-.94-2.06-.94-.94-2.06-.94 2.06-2.06.94zm-11 1L8.5 8.5l.94-2.06 2.06-.94-2.06-.94L8.5 2.5l-.94 2.06-2.06.94zm10 10l.94 2.06.94-2.06 2.06-.94-2.06-.94-.94-2.06-.94 2.06-2.06.94z\"/><path d=\"M17.41 7.96l-1.37-1.37c-.4-.4-.92-.59-1.43-.59-.52 0-1.04.2-1.43.59L10.3 9.45l-7.72 7.72c-.78.78-.78 2.05 0 2.83L4 21.41c.39.39.9.59 1.41.59.51 0 1.02-.2 1.41-.59l7.78-7.78 2.81-2.81c.8-.78.8-2.07 0-2.86zM5.41 20L4 18.59l7.72-7.72 1.47 1.35L5.41 20z\"/>\n",
              "  </svg>\n",
              "      </button>\n",
              "      \n",
              "  <style>\n",
              "    .colab-df-container {\n",
              "      display:flex;\n",
              "      flex-wrap:wrap;\n",
              "      gap: 12px;\n",
              "    }\n",
              "\n",
              "    .colab-df-convert {\n",
              "      background-color: #E8F0FE;\n",
              "      border: none;\n",
              "      border-radius: 50%;\n",
              "      cursor: pointer;\n",
              "      display: none;\n",
              "      fill: #1967D2;\n",
              "      height: 32px;\n",
              "      padding: 0 0 0 0;\n",
              "      width: 32px;\n",
              "    }\n",
              "\n",
              "    .colab-df-convert:hover {\n",
              "      background-color: #E2EBFA;\n",
              "      box-shadow: 0px 1px 2px rgba(60, 64, 67, 0.3), 0px 1px 3px 1px rgba(60, 64, 67, 0.15);\n",
              "      fill: #174EA6;\n",
              "    }\n",
              "\n",
              "    [theme=dark] .colab-df-convert {\n",
              "      background-color: #3B4455;\n",
              "      fill: #D2E3FC;\n",
              "    }\n",
              "\n",
              "    [theme=dark] .colab-df-convert:hover {\n",
              "      background-color: #434B5C;\n",
              "      box-shadow: 0px 1px 3px 1px rgba(0, 0, 0, 0.15);\n",
              "      filter: drop-shadow(0px 1px 2px rgba(0, 0, 0, 0.3));\n",
              "      fill: #FFFFFF;\n",
              "    }\n",
              "  </style>\n",
              "\n",
              "      <script>\n",
              "        const buttonEl =\n",
              "          document.querySelector('#df-3e3654b5-f671-49b5-960f-3fa1ff79d3fa button.colab-df-convert');\n",
              "        buttonEl.style.display =\n",
              "          google.colab.kernel.accessAllowed ? 'block' : 'none';\n",
              "\n",
              "        async function convertToInteractive(key) {\n",
              "          const element = document.querySelector('#df-3e3654b5-f671-49b5-960f-3fa1ff79d3fa');\n",
              "          const dataTable =\n",
              "            await google.colab.kernel.invokeFunction('convertToInteractive',\n",
              "                                                     [key], {});\n",
              "          if (!dataTable) return;\n",
              "\n",
              "          const docLinkHtml = 'Like what you see? Visit the ' +\n",
              "            '<a target=\"_blank\" href=https://colab.research.google.com/notebooks/data_table.ipynb>data table notebook</a>'\n",
              "            + ' to learn more about interactive tables.';\n",
              "          element.innerHTML = '';\n",
              "          dataTable['output_type'] = 'display_data';\n",
              "          await google.colab.output.renderOutput(dataTable, element);\n",
              "          const docLink = document.createElement('div');\n",
              "          docLink.innerHTML = docLinkHtml;\n",
              "          element.appendChild(docLink);\n",
              "        }\n",
              "      </script>\n",
              "    </div>\n",
              "  </div>\n",
              "  "
            ]
          },
          "metadata": {},
          "execution_count": 90
        }
      ]
    },
    {
      "cell_type": "code",
      "source": [
        "label_count = df['label'].value_counts()\n",
        "\n",
        "for i in range(0,2):\n",
        "    print(f'Class {i} : {label_count[i]}')\n",
        "\n",
        "label_count.plot(kind='bar', title='Count label')\n",
        "plt.show()"
      ],
      "metadata": {
        "colab": {
          "base_uri": "https://localhost:8080/",
          "height": 313
        },
        "id": "ogSQCk4rshSe",
        "outputId": "fb0f4cd8-72d4-4af3-f580-86e7011b4ac0"
      },
      "execution_count": 91,
      "outputs": [
        {
          "output_type": "stream",
          "name": "stdout",
          "text": [
            "Class 0 : 215\n",
            "Class 1 : 219\n"
          ]
        },
        {
          "output_type": "display_data",
          "data": {
            "text/plain": [
              "<Figure size 432x288 with 1 Axes>"
            ],
            "image/png": "[encoded data removed]"
          },
          "metadata": {
            "needs_background": "light"
          }
        }
      ]
    },
    {
      "cell_type": "code",
      "source": [
        "df_class_0 = df[df['label'] == 0]\n",
        "df_class_1 = df[df['label'] == 1]\n",
        "\n",
        "df_class_1_over = df_class_1.sample(label_count[0], replace=True)\n",
        "\n",
        "df_over = pd.concat([\n",
        "                    df_class_0,\n",
        "                    df_class_1_over], axis=0)\n",
        "\n",
        "print('Random Over Sampling')\n",
        "print(df_over['label'].value_counts())\n",
        "df_over['label'].value_counts().plot(kind='bar', title='Count label')\n",
        "plt.show()"
      ],
      "metadata": {
        "colab": {
          "base_uri": "https://localhost:8080/",
          "height": 347
        },
        "id": "IAZSajBSszxI",
        "outputId": "47569fb7-8b05-439a-81ed-44a706da2e1c"
      },
      "execution_count": 92,
      "outputs": [
        {
          "output_type": "stream",
          "name": "stdout",
          "text": [
            "Random Over Sampling\n",
            "0    215\n",
            "1    215\n",
            "Name: label, dtype: int64\n"
          ]
        },
        {
          "output_type": "display_data",
          "data": {
            "text/plain": [
              "<Figure size 432x288 with 1 Axes>"
            ],
            "image/png": "[encoded data removed]"
          },
          "metadata": {
            "needs_background": "light"
          }
        }
      ]
    },
    {
      "cell_type": "code",
      "source": [
        "EMBEDDING_DIM = 64\n",
        "TRUNCATING = 'post'\n",
        "PADDING = 'post'\n",
        "OOV_TOKEN = '<OOV>'\n",
        "MAX_EXAMPLES = 16000\n",
        "TESTING_SPLIT = 0.2\n",
        "BATCH_SIZE = 64"
      ],
      "metadata": {
        "id": "iu1tZvNj1owF"
      },
      "execution_count": 93,
      "outputs": []
    },
    {
      "cell_type": "code",
      "source": [
        "x = df.ulasan.values\n",
        "y = df.label.values"
      ],
      "metadata": {
        "id": "sNOzxdX52mdx"
      },
      "execution_count": 94,
      "outputs": []
    },
    {
      "cell_type": "code",
      "source": [
        "MAXLEN = max([len(i) for i in x])\n",
        "MAXLEN"
      ],
      "metadata": {
        "colab": {
          "base_uri": "https://localhost:8080/"
        },
        "id": "2ZwUH9emEwug",
        "outputId": "98ab4ab2-6823-4ade-f11a-cde00bdbd5a0"
      },
      "execution_count": 95,
      "outputs": [
        {
          "output_type": "execute_result",
          "data": {
            "text/plain": [
              "309"
            ]
          },
          "metadata": {},
          "execution_count": 95
        }
      ]
    },
    {
      "cell_type": "code",
      "source": [
        "def tokenize(text, num_words, oov_token):\n",
        "  tokenizer = Tokenizer(num_words=num_words, oov_token=oov_token)\n",
        "  tokenizer.fit_on_texts(text)\n",
        "\n",
        "  sequences = tokenizer.texts_to_sequences(text)\n",
        "\n",
        "  return tokenizer"
      ],
      "metadata": {
        "id": "NJg-wFcT5vWE"
      },
      "execution_count": 96,
      "outputs": []
    },
    {
      "cell_type": "code",
      "source": [
        "def seq_pad_and_trunc(sentences, tokenizer, padding, truncating, maxlen):\n",
        "  sequences = tokenizer.texts_to_sequences(sentences)\n",
        "  pad_seqs = pad_sequences(\n",
        "      sequences, padding=padding, truncating=truncating, maxlen=maxlen)\n",
        "\n",
        "  return pad_seqs"
      ],
      "metadata": {
        "id": "bf3zdquX5_Ik"
      },
      "execution_count": 97,
      "outputs": []
    },
    {
      "cell_type": "code",
      "source": [
        "x_train, x_test, y_train, y_test = train_test_split(\n",
        "    x, y, test_size=TESTING_SPLIT, random_state=1)\n",
        "\n",
        "print(f'There are {len(x_train)} ulasan for training.')\n",
        "print(f'There are {len(y_train)} label for training.')\n",
        "print(f'There are {len(x_test)} ulasan for testing.')\n",
        "print(f'There are {len(y_test)} label for testing.')"
      ],
      "metadata": {
        "id": "6T43qtrX1s_W",
        "colab": {
          "base_uri": "https://localhost:8080/"
        },
        "outputId": "5b77671c-702b-4d01-c5b2-a8d8673d17ef"
      },
      "execution_count": 98,
      "outputs": [
        {
          "output_type": "stream",
          "name": "stdout",
          "text": [
            "There are 347 ulasan for training.\n",
            "There are 347 label for training.\n",
            "There are 87 ulasan for testing.\n",
            "There are 87 label for testing.\n"
          ]
        }
      ]
    },
    {
      "cell_type": "code",
      "source": [
        "tokenizer = tokenize(x_train, MAX_EXAMPLES, OOV_TOKEN)\n",
        "\n",
        "index_word = tokenizer.index_word\n",
        "VOCAB_SIZE = len(index_word)\n",
        "\n",
        "print(f'Vocabulary contains {VOCAB_SIZE} words')"
      ],
      "metadata": {
        "id": "0pUBalOT1eOJ",
        "colab": {
          "base_uri": "https://localhost:8080/"
        },
        "outputId": "fce9459b-d207-4732-ac27-8ebadd55159a"
      },
      "execution_count": 105,
      "outputs": [
        {
          "output_type": "stream",
          "name": "stdout",
          "text": [
            "Vocabulary contains 1388 words\n"
          ]
        }
      ]
    },
    {
      "cell_type": "code",
      "source": [
        "tokenizer_json_dir = '/content/drive/MyDrive/Company Case Bangkit/FeedbacksModel/vocab.json'\n",
        "\n",
        "tokenizer_json = tokenizer.to_json()\n",
        "with open(tokenizer_json_dir, 'w', encoding='utf-8') as f:\n",
        "    f.write(json.dumps(tokenizer_json, ensure_ascii=False))"
      ],
      "metadata": {
        "id": "z2J2Ciky-zxY"
      },
      "execution_count": 106,
      "outputs": []
    },
    {
      "cell_type": "code",
      "source": [
        "x_train_padded = seq_pad_and_trunc(x_train, tokenizer, PADDING, TRUNCATING, MAXLEN)\n",
        "x_test_padded = seq_pad_and_trunc(x_test, tokenizer, PADDING, TRUNCATING, MAXLEN)\n",
        "\n",
        "print(f'Padded and truncated training sequences have shape: {x_train_padded.shape}')\n",
        "print(f'Padded and truncated testing sequences have shape: {x_test_padded.shape}')"
      ],
      "metadata": {
        "colab": {
          "base_uri": "https://localhost:8080/"
        },
        "id": "pHb8NTsB8FWx",
        "outputId": "8632ef88-0850-4b22-abfb-63312ed2070c"
      },
      "execution_count": 107,
      "outputs": [
        {
          "output_type": "stream",
          "name": "stdout",
          "text": [
            "Padded and truncated training sequences have shape: (347, 309)\n",
            "Padded and truncated testing sequences have shape: (87, 309)\n"
          ]
        }
      ]
    },
    {
      "cell_type": "code",
      "source": [
        "def create_model(vocab_size, embedding_dim):\n",
        "  model = tf.keras.Sequential([ \n",
        "    tf.keras.layers.Embedding(vocab_size + 1, embedding_dim),\n",
        "    tf.keras.layers.Bidirectional(tf.keras.layers.LSTM(128)),\n",
        "    tf.keras.layers.Dense(128, activation='relu'),\n",
        "    tf.keras.layers.Dropout(0.5),\n",
        "    tf.keras.layers.Dense(64, activation='relu'),\n",
        "    tf.keras.layers.Dropout(0.3),\n",
        "    tf.keras.layers.Dense(1, activation='sigmoid'),\n",
        "  ])\n",
        "  \n",
        "  model.compile(loss='binary_crossentropy',\n",
        "                optimizer=tf.keras.optimizers.Adam(learning_rate=0.001),\n",
        "                metrics=['accuracy']) \n",
        "\n",
        "  model.summary()\n",
        "\n",
        "  return model"
      ],
      "metadata": {
        "id": "PDMpq3AjlHSt"
      },
      "execution_count": 108,
      "outputs": []
    },
    {
      "cell_type": "code",
      "source": [
        "model = create_model(VOCAB_SIZE, EMBEDDING_DIM)"
      ],
      "metadata": {
        "id": "XirV-6eylTOB",
        "colab": {
          "base_uri": "https://localhost:8080/"
        },
        "outputId": "13bdb00d-33a8-45fe-ccbd-ad9bc5f18bc0"
      },
      "execution_count": 109,
      "outputs": [
        {
          "output_type": "stream",
          "name": "stdout",
          "text": [
            "Model: \"sequential_2\"\n",
            "_________________________________________________________________\n",
            " Layer (type)                Output Shape              Param #   \n",
            "=================================================================\n",
            " embedding_2 (Embedding)     (None, None, 64)          88896     \n",
            "                                                                 \n",
            " bidirectional_2 (Bidirectio  (None, 256)              197632    \n",
            " nal)                                                            \n",
            "                                                                 \n",
            " dense_6 (Dense)             (None, 128)               32896     \n",
            "                                                                 \n",
            " dropout_4 (Dropout)         (None, 128)               0         \n",
            "                                                                 \n",
            " dense_7 (Dense)             (None, 64)                8256      \n",
            "                                                                 \n",
            " dropout_5 (Dropout)         (None, 64)                0         \n",
            "                                                                 \n",
            " dense_8 (Dense)             (None, 1)                 65        \n",
            "                                                                 \n",
            "=================================================================\n",
            "Total params: 327,745\n",
            "Trainable params: 327,745\n",
            "Non-trainable params: 0\n",
            "_________________________________________________________________\n"
          ]
        }
      ]
    },
    {
      "cell_type": "code",
      "source": [
        "model.fit(\n",
        "    x_train_padded, y_train, epochs=30, validation_data=(\n",
        "        x_test_padded, y_test),verbose=1)"
      ],
      "metadata": {
        "colab": {
          "base_uri": "https://localhost:8080/"
        },
        "id": "mCzZZ2sW06s-",
        "outputId": "5192a397-bc58-419f-a9d2-c80218eee6e7"
      },
      "execution_count": 110,
      "outputs": [
        {
          "output_type": "stream",
          "name": "stdout",
          "text": [
            "Epoch 1/30\n",
            "11/11 [==============================] - 11s 674ms/step - loss: 0.6949 - accuracy: 0.4582 - val_loss: 0.6927 - val_accuracy: 0.4368\n",
            "Epoch 2/30\n",
            "11/11 [==============================] - 6s 591ms/step - loss: 0.6924 - accuracy: 0.5043 - val_loss: 0.6919 - val_accuracy: 0.4598\n",
            "Epoch 3/30\n",
            "11/11 [==============================] - 7s 640ms/step - loss: 0.6880 - accuracy: 0.5850 - val_loss: 0.6769 - val_accuracy: 0.7356\n",
            "Epoch 4/30\n",
            "11/11 [==============================] - 6s 582ms/step - loss: 0.6627 - accuracy: 0.7032 - val_loss: 0.6202 - val_accuracy: 0.8736\n",
            "Epoch 5/30\n",
            "11/11 [==============================] - 6s 583ms/step - loss: 0.5621 - accuracy: 0.7896 - val_loss: 0.3977 - val_accuracy: 0.8621\n",
            "Epoch 6/30\n",
            "11/11 [==============================] - 6s 588ms/step - loss: 0.3231 - accuracy: 0.8991 - val_loss: 0.4371 - val_accuracy: 0.8736\n",
            "Epoch 7/30\n",
            "11/11 [==============================] - 6s 582ms/step - loss: 0.1737 - accuracy: 0.9625 - val_loss: 0.2596 - val_accuracy: 0.8966\n",
            "Epoch 8/30\n",
            "11/11 [==============================] - 6s 577ms/step - loss: 0.1173 - accuracy: 0.9568 - val_loss: 0.2792 - val_accuracy: 0.9310\n",
            "Epoch 9/30\n",
            "11/11 [==============================] - 6s 578ms/step - loss: 0.0945 - accuracy: 0.9683 - val_loss: 0.3206 - val_accuracy: 0.8966\n",
            "Epoch 10/30\n",
            "11/11 [==============================] - 6s 570ms/step - loss: 0.0648 - accuracy: 0.9769 - val_loss: 0.3747 - val_accuracy: 0.9195\n",
            "Epoch 11/30\n",
            "11/11 [==============================] - 7s 632ms/step - loss: 0.0798 - accuracy: 0.9683 - val_loss: 0.4303 - val_accuracy: 0.8966\n",
            "Epoch 12/30\n",
            "11/11 [==============================] - 6s 587ms/step - loss: 0.0745 - accuracy: 0.9683 - val_loss: 0.3839 - val_accuracy: 0.8851\n",
            "Epoch 13/30\n",
            "11/11 [==============================] - 6s 582ms/step - loss: 0.0687 - accuracy: 0.9712 - val_loss: 0.3932 - val_accuracy: 0.8966\n",
            "Epoch 14/30\n",
            "11/11 [==============================] - 6s 577ms/step - loss: 0.0668 - accuracy: 0.9712 - val_loss: 0.3644 - val_accuracy: 0.9195\n",
            "Epoch 15/30\n",
            "11/11 [==============================] - 6s 584ms/step - loss: 0.0491 - accuracy: 0.9769 - val_loss: 0.3937 - val_accuracy: 0.9080\n",
            "Epoch 16/30\n",
            "11/11 [==============================] - 6s 592ms/step - loss: 0.0669 - accuracy: 0.9769 - val_loss: 0.4430 - val_accuracy: 0.8851\n",
            "Epoch 17/30\n",
            "11/11 [==============================] - 6s 574ms/step - loss: 0.0622 - accuracy: 0.9654 - val_loss: 0.4058 - val_accuracy: 0.8966\n",
            "Epoch 18/30\n",
            "11/11 [==============================] - 7s 688ms/step - loss: 0.0550 - accuracy: 0.9769 - val_loss: 0.4133 - val_accuracy: 0.9080\n",
            "Epoch 19/30\n",
            "11/11 [==============================] - 6s 572ms/step - loss: 0.0499 - accuracy: 0.9798 - val_loss: 0.4332 - val_accuracy: 0.9080\n",
            "Epoch 20/30\n",
            "11/11 [==============================] - 6s 589ms/step - loss: 0.0479 - accuracy: 0.9741 - val_loss: 0.4663 - val_accuracy: 0.8966\n",
            "Epoch 21/30\n",
            "11/11 [==============================] - 6s 588ms/step - loss: 0.0633 - accuracy: 0.9683 - val_loss: 0.4392 - val_accuracy: 0.9080\n",
            "Epoch 22/30\n",
            "11/11 [==============================] - 6s 593ms/step - loss: 0.0559 - accuracy: 0.9683 - val_loss: 0.4379 - val_accuracy: 0.8966\n",
            "Epoch 23/30\n",
            "11/11 [==============================] - 9s 824ms/step - loss: 0.0588 - accuracy: 0.9654 - val_loss: 0.4188 - val_accuracy: 0.9080\n",
            "Epoch 24/30\n",
            "11/11 [==============================] - 14s 1s/step - loss: 0.0487 - accuracy: 0.9712 - val_loss: 0.4667 - val_accuracy: 0.9080\n",
            "Epoch 25/30\n",
            "11/11 [==============================] - 6s 584ms/step - loss: 0.0437 - accuracy: 0.9712 - val_loss: 0.4852 - val_accuracy: 0.8966\n",
            "Epoch 26/30\n",
            "11/11 [==============================] - 6s 583ms/step - loss: 0.0439 - accuracy: 0.9683 - val_loss: 0.4951 - val_accuracy: 0.8966\n",
            "Epoch 27/30\n",
            "11/11 [==============================] - 7s 611ms/step - loss: 0.0413 - accuracy: 0.9712 - val_loss: 0.5060 - val_accuracy: 0.9195\n",
            "Epoch 28/30\n",
            "11/11 [==============================] - 8s 749ms/step - loss: 0.0415 - accuracy: 0.9741 - val_loss: 0.5184 - val_accuracy: 0.8966\n",
            "Epoch 29/30\n",
            "11/11 [==============================] - 7s 600ms/step - loss: 0.0407 - accuracy: 0.9769 - val_loss: 0.5412 - val_accuracy: 0.8966\n",
            "Epoch 30/30\n",
            "11/11 [==============================] - 6s 588ms/step - loss: 0.0372 - accuracy: 0.9741 - val_loss: 0.5720 - val_accuracy: 0.9080\n"
          ]
        },
        {
          "output_type": "execute_result",
          "data": {
            "text/plain": [
              "<keras.callbacks.History at 0x7fb85be03ed0>"
            ]
          },
          "metadata": {},
          "execution_count": 110
        }
      ]
    },
    {
      "cell_type": "code",
      "source": [
        "export_dir = '/content/drive/MyDrive/Company Case Bangkit/FeedbacksModel/saved_model'\n",
        "\n",
        "if os.path.exists(export_dir):\n",
        "  shutil.rmtree(export_dir)\n",
        "\n",
        "model.save(export_dir)"
      ],
      "metadata": {
        "id": "IVhyhziywTcU",
        "colab": {
          "base_uri": "https://localhost:8080/"
        },
        "outputId": "80cfdd77-5660-432a-8c67-3f69c7f32023"
      },
      "execution_count": 111,
      "outputs": [
        {
          "output_type": "stream",
          "name": "stderr",
          "text": [
            "WARNING:absl:Found untraced functions such as lstm_cell_58_layer_call_fn, lstm_cell_58_layer_call_and_return_conditional_losses, lstm_cell_59_layer_call_fn, lstm_cell_59_layer_call_and_return_conditional_losses while saving (showing 4 of 4). These functions will not be directly callable after loading.\n"
          ]
        },
        {
          "output_type": "stream",
          "name": "stdout",
          "text": [
            "INFO:tensorflow:Assets written to: /content/drive/MyDrive/Company Case Bangkit/FeedbacksModel/saved_model/assets\n"
          ]
        },
        {
          "output_type": "stream",
          "name": "stderr",
          "text": [
            "INFO:tensorflow:Assets written to: /content/drive/MyDrive/Company Case Bangkit/FeedbacksModel/saved_model/assets\n",
            "WARNING:absl:<keras.layers.recurrent.LSTMCell object at 0x7fb857f914d0> has the same name 'LSTMCell' as a built-in Keras object. Consider renaming <class 'keras.layers.recurrent.LSTMCell'> to avoid naming conflicts when loading with `tf.keras.models.load_model`. If renaming is not possible, pass the object in the `custom_objects` parameter of the load function.\n",
            "WARNING:absl:<keras.layers.recurrent.LSTMCell object at 0x7fb85ca255d0> has the same name 'LSTMCell' as a built-in Keras object. Consider renaming <class 'keras.layers.recurrent.LSTMCell'> to avoid naming conflicts when loading with `tf.keras.models.load_model`. If renaming is not possible, pass the object in the `custom_objects` parameter of the load function.\n"
          ]
        }
      ]
    },
    {
      "cell_type": "code",
      "source": [
        "class FeedbackPredict:\n",
        "  def __init__(self, model_path, tokenier_json_path, maxlen=309):\n",
        "    self.model_path = model_path\n",
        "    self.tokenier_json_path = tokenier_json_path\n",
        "    self.padding = 'post'\n",
        "    self.truncating = 'post'\n",
        "    self.maxlen = maxlen\n",
        "\n",
        "    self._load_model()\n",
        "    self._load_tokenizer()\n",
        "\n",
        "  def _load_model(self):\n",
        "    self.model = tf.keras.models.load_model(self.model_path, compile=True)\n",
        "  \n",
        "  def _load_tokenizer(self):\n",
        "    with open(self.tokenier_json_path) as f:\n",
        "      data = json.load(f)\n",
        "      self.tokenizer = tokenizer_from_json(data)\n",
        "\n",
        "  def __call__(self, feedback):\n",
        "    sequences = self.tokenizer.texts_to_sequences([feedback])\n",
        "    pad_seqs = pad_sequences(sequences, \n",
        "                             padding=self.padding, \n",
        "                             truncating=self.truncating, \n",
        "                             maxlen=self.maxlen)\n",
        "    \n",
        "    prediction = self.model.predict(pad_seqs)[0][0]\n",
        "    return prediction"
      ],
      "metadata": {
        "id": "gYQJTs7wA8dy"
      },
      "execution_count": 114,
      "outputs": []
    },
    {
      "cell_type": "code",
      "source": [
        "exp_pos_text = \"aplikasi ini sangat bagus desainnya menarik, dan fungsionalitasnya dapat berjalan dengan baik\"\n",
        "exp_neg_text = \"jelek banget, chat nya tidak realtime, design nya juga tidak user friendly\"\n",
        "\n",
        "feedback_predict =  FeedbackPredict(export_dir, tokenizer_json_dir)\n",
        "y_predict = feedback_predict(exp_neg_text)\n",
        "\n",
        "print(y_predict)\n",
        "\n",
        "if y_predict >= 0.5:\n",
        "  print('Positive')\n",
        "else:\n",
        "  print('Negative')"
      ],
      "metadata": {
        "colab": {
          "base_uri": "https://localhost:8080/"
        },
        "id": "4WxhlgjTEf7c",
        "outputId": "098af42a-ffc7-47fd-c037-f6fc3c700c2a"
      },
      "execution_count": 115,
      "outputs": [
        {
          "output_type": "stream",
          "name": "stdout",
          "text": [
            "0.0011990964\n",
            "Negative\n"
          ]
        }
      ]
    }
  ]
}