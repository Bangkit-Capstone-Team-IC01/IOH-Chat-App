{
  "nbformat": 4,
  "nbformat_minor": 0,
  "metadata": {
    "colab": {
      "name": "model_review.ipynb",
      "provenance": [],
      "collapsed_sections": []
    },
    "kernelspec": {
      "name": "python3",
      "display_name": "Python 3"
    },
    "language_info": {
      "name": "python"
    }
  },
  "cells": [
    {
      "cell_type": "code",
      "source": [
        "import csv\n",
        "import matplotlib.pyplot as plt\n",
        "import random\n",
        "import numpy as np\n",
        "import pandas as pd\n",
        "import string, re\n",
        "import nltk\n",
        "import os\n",
        "import subprocess\n",
        "import shutil\n",
        "import tensorflow as tf\n",
        "\n",
        "from google.colab import drive\n",
        "from nltk.tokenize import word_tokenize\n",
        "from nltk.corpus import wordnet\n",
        "from nltk.stem import WordNetLemmatizer\n",
        "from sklearn.model_selection import train_test_split\n",
        "from tensorflow.keras.preprocessing.text import Tokenizer\n",
        "from tensorflow.keras.preprocessing.sequence import pad_sequences\n",
        "\n",
        "nltk.download('averaged_perceptron_tagger')\n",
        "nltk.download('wordnet')\n",
        "nltk.download('punkt')"
      ],
      "metadata": {
        "id": "EsU8eTWe2s-M",
        "colab": {
          "base_uri": "https://localhost:8080/"
        },
        "outputId": "134138a8-c8ce-433b-a8cd-5d2569488626"
      },
      "execution_count": 66,
      "outputs": [
        {
          "output_type": "stream",
          "name": "stdout",
          "text": [
            "[nltk_data] Downloading package averaged_perceptron_tagger to\n",
            "[nltk_data]     /root/nltk_data...\n",
            "[nltk_data]   Package averaged_perceptron_tagger is already up-to-\n",
            "[nltk_data]       date!\n",
            "[nltk_data] Downloading package wordnet to /root/nltk_data...\n",
            "[nltk_data]   Package wordnet is already up-to-date!\n",
            "[nltk_data] Downloading package punkt to /root/nltk_data...\n",
            "[nltk_data]   Package punkt is already up-to-date!\n"
          ]
        },
        {
          "output_type": "execute_result",
          "data": {
            "text/plain": [
              "True"
            ]
          },
          "metadata": {},
          "execution_count": 66
        }
      ]
    },
    {
      "cell_type": "code",
      "source": [
        "git_dir = '/content/IOH-Chat-App'\n",
        "git_url = 'https://github.com/bangkit-team/IOH-chat-app.git'\n",
        "\n",
        "if not os.path.exists(git_dir):\n",
        "  subprocess.call(['git', 'clone', git_url])"
      ],
      "metadata": {
        "id": "Q8sc7VUS0bla"
      },
      "execution_count": 42,
      "outputs": []
    },
    {
      "cell_type": "code",
      "source": [
        "drive.mount('/content/drive')"
      ],
      "metadata": {
        "colab": {
          "base_uri": "https://localhost:8080/"
        },
        "id": "nYdPSeMdwaiv",
        "outputId": "28f86a14-f4de-422d-eea8-90c4e42dced8"
      },
      "execution_count": 43,
      "outputs": [
        {
          "output_type": "stream",
          "name": "stdout",
          "text": [
            "Drive already mounted at /content/drive; to attempt to forcibly remount, call drive.mount(\"/content/drive\", force_remount=True).\n"
          ]
        }
      ]
    },
    {
      "cell_type": "code",
      "source": [
        "SENTIMENT_CSV = '/content/IOH-chat-app/MachineLearning/datasets/feedbacks/data_feedbacks.csv'"
      ],
      "metadata": {
        "id": "0OHAnj6apAsf"
      },
      "execution_count": 44,
      "outputs": []
    },
    {
      "cell_type": "code",
      "source": [
        "def remove_stopwords(ulasan):\n",
        "    stopwords = ['yang', 'untuk', 'pada', 'ke', 'para', 'namun', 'menurut', 'antara', 'dia', 'dua', 'ia', 'seperti', \n",
        "              'jika', 'sehingga', 'kembali', 'dan', 'karena', 'kepada', 'oleh', 'saat', 'harus', 'sementara', \n",
        "              'setelah', 'belum', 'kami', 'sekitar', 'bagi', 'serta', 'di', 'dari', 'telah', 'sebagai', 'masih', \n",
        "              'hal', 'ketika', 'adalah', 'itu', 'dalam', 'bisa', 'bahwa', 'atau', 'hanya', 'kita', 'dengan', 'akan', \n",
        "              'juga', 'ada', 'mereka', 'sudah', 'saya', 'terhadap', 'secara', 'agar', 'lain', 'anda', 'begitu', 'mengapa', \n",
        "              'kenapa', 'yaitu', 'yakni', 'daripada', 'itulah', 'lagi', 'maka', 'tentang', 'demi', 'dimana', 'kemana',\n",
        "              'pula', 'sambil', 'sebelum', 'sesudah', 'supaya', 'guna', 'kah', 'pun', 'sampai', 'sedangkan', 'selagi',\n",
        "              'sementara', 'tetapi', 'apakah', 'kecuali', 'sebab', 'selain', 'seolah', 'seterusnya', 'tanpa', 'agak',\n",
        "              'boleh', 'dapat', 'dsb', 'dst', 'dll', 'dahulu', 'dulunya', 'anu', 'demikian', 'tapi', 'ingin', 'juga',\n",
        "              'nggak', 'mari', 'nanti', 'melainkan', 'oh', 'ok', 'seharusnya', 'sebetulnya', 'setiap', 'setidaknya',\n",
        "              'sesuatu', 'pasti', 'saja', 'toh', 'walau', 'tolong', 'tentu', 'amat', 'apalagi', 'bagaimanapun',\n",
        "              'dengan', 'ia', 'bahwa', 'oleh']\n",
        "\n",
        "    ulasan = str(ulasan).lower()\n",
        "    \n",
        "    words = ulasan.split()\n",
        "    ulasan = []\n",
        "    for r in words:\n",
        "        if not r in stopwords:\n",
        "            ulasan.append(r)\n",
        "            \n",
        "    ulasan=' '.join(ulasan)\n",
        "    return ulasan"
      ],
      "metadata": {
        "id": "TQrToAkZ8tP8"
      },
      "execution_count": 45,
      "outputs": []
    },
    {
      "cell_type": "code",
      "source": [
        "def parse_data_from_file(filename):\n",
        "    ulasan = []\n",
        "    label = []\n",
        "    with open(filename, 'r') as csvfile:\n",
        "        skip = True\n",
        "        if skip:\n",
        "            skip = False\n",
        "            reader = csv.reader(csvfile, delimiter=',')\n",
        "            next(reader)\n",
        "\n",
        "            for row in reader:\n",
        "                row[0] = remove_stopwords(row[0])\n",
        "                row[1] = remove_stopwords(row[1])\n",
        "                label.append(row[0])\n",
        "                ulasan.append(row[1])\n",
        "            \n",
        "    return ulasan, label"
      ],
      "metadata": {
        "id": "yuztjVYs5F1b"
      },
      "execution_count": 46,
      "outputs": []
    },
    {
      "cell_type": "code",
      "source": [
        "ulasan, label = parse_data_from_file(SENTIMENT_CSV)\n",
        "\n",
        "print(f'Dataset contains {len(ulasan)} examples\\n')\n",
        "print(f'Example 1:\\nText: {ulasan[0]}\\nLabel :{label[0]}\\n')\n",
        "print(f'Example 2:\\nText: {ulasan[1]}\\nLabel :{label[1]}\\n')"
      ],
      "metadata": {
        "colab": {
          "base_uri": "https://localhost:8080/"
        },
        "id": "kGqKK8ss5Qr5",
        "outputId": "5e1ff0b9-f542-466f-d5c8-c00c7192bc62"
      },
      "execution_count": 47,
      "outputs": [
        {
          "output_type": "stream",
          "name": "stdout",
          "text": [
            "Dataset contains 434 examples\n",
            "\n",
            "Example 1:\n",
            "Text: keseluruhan menyukai aplikasi ini, beberapa masalah. beberapa antaranya memasang spoiler media, sebagian besar tidak berfungsi. lainnya (dan jujur, paling menjengkelkan) menggunakan obrolan suara, sering otomatis menutup sendiri beberapa waktu sedang bermain ... full review\n",
            "Label :1\n",
            "\n",
            "Example 2:\n",
            "Text: sebenarnya aplikasi sangat bagus layak. memberi peringkat 4/5 tidak mengirim catatan suara (alias vn). terkadang setengah bangun keyboard lag, tidak mengetik, berarti tidak membalas sms orang. catatan suara sebenarnya sangat berguna sebagian orang! tidak memiliki... ulasan lengkap\n",
            "Label :1\n",
            "\n"
          ]
        }
      ]
    },
    {
      "cell_type": "code",
      "source": [
        "def preprocess(ulasan):\n",
        "    ulasan = ulasan.lower() \n",
        "    ulasan = ulasan.strip()  \n",
        "    ulasan = re.compile('<.*?>').sub('', ulasan) \n",
        "    ulasan = re.compile('[%s]' % re.escape(string.punctuation)).sub(' ', ulasan)  \n",
        "    ulasan = re.sub('\\s+', ' ', ulasan)  \n",
        "    ulasan = re.sub(r'\\[*\\]',' ',ulasan) \n",
        "    ulasan = re.sub(r'[^\\w\\s]', '', str(ulasan).lower().strip())\n",
        "    ulasan = re.sub(r'\\d',' ',ulasan) \n",
        "    ulasan = re.sub(r'\\s+',' ',ulasan) \n",
        "    return ulasan"
      ],
      "metadata": {
        "id": "PYezrSbIzaD_"
      },
      "execution_count": 48,
      "outputs": []
    },
    {
      "cell_type": "code",
      "source": [
        "wl = WordNetLemmatizer()\n",
        " \n",
        "def get_wordnet_pos(tag):\n",
        "    if tag.startswith('J'):\n",
        "        return wordnet.ADJ\n",
        "    elif tag.startswith('V'):\n",
        "        return wordnet.VERB\n",
        "    elif tag.startswith('N'):\n",
        "        return wordnet.NOUN\n",
        "    elif tag.startswith('R'):\n",
        "        return wordnet.ADV\n",
        "    else:\n",
        "        return wordnet.NOUN\n",
        "\n",
        "def lemmatizer(ulasan):\n",
        "    word_pos_tags = nltk.pos_tag(word_tokenize(ulasan))\n",
        "    a=[wl.lemmatize(tag[0], get_wordnet_pos(tag[1])) for idx, tag in enumerate(word_pos_tags)]\n",
        "    return ' '.join(a)"
      ],
      "metadata": {
        "id": "mw-bJuDABnaT"
      },
      "execution_count": 49,
      "outputs": []
    },
    {
      "cell_type": "code",
      "source": [
        "def finalpreprocess(ulasan):\n",
        "    return lemmatizer(remove_stopwords(preprocess(ulasan)))"
      ],
      "metadata": {
        "id": "_z3Vf2WF08vi"
      },
      "execution_count": 50,
      "outputs": []
    },
    {
      "cell_type": "code",
      "source": [
        "df = pd.read_csv(SENTIMENT_CSV)\n",
        "df"
      ],
      "metadata": {
        "colab": {
          "base_uri": "https://localhost:8080/",
          "height": 424
        },
        "id": "bcNVwXY4rfqW",
        "outputId": "f7463e93-6c8d-45ab-b4cf-5879732a65ad"
      },
      "execution_count": 51,
      "outputs": [
        {
          "output_type": "execute_result",
          "data": {
            "text/plain": [
              "     label                                             ulasan\n",
              "0        1  Secara keseluruhan saya menyukai aplikasi ini,...\n",
              "1        1    sebenarnya adalah aplikasi yang sangat bagus...\n",
              "2        1  Jujur luar biasa. Saya menganggap ini platform...\n",
              "3        1  Saya beri 4 bintang karena versi PC memiliki f...\n",
              "4        0  1. Autoscroll ke bawah tidak dapat dinonaktifk...\n",
              "..     ...                                                ...\n",
              "429      1             Saya mengerti mengapa saya menyukainya\n",
              "430      0                  Yang saya lihat hanyalah payudara\n",
              "431      0  Asyiknya nge-troll dan ngobrol sama teman di s...\n",
              "432      1                                              Bagus\n",
              "433      1                                 Aplikasi ini bagus\n",
              "\n",
              "[434 rows x 2 columns]"
            ],
            "text/html": [
              "\n",
              "  <div id=\"df-e16656c3-fdbb-426c-a79f-7fa3b5d01219\">\n",
              "    <div class=\"colab-df-container\">\n",
              "      <div>\n",
              "<style scoped>\n",
              "    .dataframe tbody tr th:only-of-type {\n",
              "        vertical-align: middle;\n",
              "    }\n",
              "\n",
              "    .dataframe tbody tr th {\n",
              "        vertical-align: top;\n",
              "    }\n",
              "\n",
              "    .dataframe thead th {\n",
              "        text-align: right;\n",
              "    }\n",
              "</style>\n",
              "<table border=\"1\" class=\"dataframe\">\n",
              "  <thead>\n",
              "    <tr style=\"text-align: right;\">\n",
              "      <th></th>\n",
              "      <th>label</th>\n",
              "      <th>ulasan</th>\n",
              "    </tr>\n",
              "  </thead>\n",
              "  <tbody>\n",
              "    <tr>\n",
              "      <th>0</th>\n",
              "      <td>1</td>\n",
              "      <td>Secara keseluruhan saya menyukai aplikasi ini,...</td>\n",
              "    </tr>\n",
              "    <tr>\n",
              "      <th>1</th>\n",
              "      <td>1</td>\n",
              "      <td>sebenarnya adalah aplikasi yang sangat bagus...</td>\n",
              "    </tr>\n",
              "    <tr>\n",
              "      <th>2</th>\n",
              "      <td>1</td>\n",
              "      <td>Jujur luar biasa. Saya menganggap ini platform...</td>\n",
              "    </tr>\n",
              "    <tr>\n",
              "      <th>3</th>\n",
              "      <td>1</td>\n",
              "      <td>Saya beri 4 bintang karena versi PC memiliki f...</td>\n",
              "    </tr>\n",
              "    <tr>\n",
              "      <th>4</th>\n",
              "      <td>0</td>\n",
              "      <td>1. Autoscroll ke bawah tidak dapat dinonaktifk...</td>\n",
              "    </tr>\n",
              "    <tr>\n",
              "      <th>...</th>\n",
              "      <td>...</td>\n",
              "      <td>...</td>\n",
              "    </tr>\n",
              "    <tr>\n",
              "      <th>429</th>\n",
              "      <td>1</td>\n",
              "      <td>Saya mengerti mengapa saya menyukainya</td>\n",
              "    </tr>\n",
              "    <tr>\n",
              "      <th>430</th>\n",
              "      <td>0</td>\n",
              "      <td>Yang saya lihat hanyalah payudara</td>\n",
              "    </tr>\n",
              "    <tr>\n",
              "      <th>431</th>\n",
              "      <td>0</td>\n",
              "      <td>Asyiknya nge-troll dan ngobrol sama teman di s...</td>\n",
              "    </tr>\n",
              "    <tr>\n",
              "      <th>432</th>\n",
              "      <td>1</td>\n",
              "      <td>Bagus</td>\n",
              "    </tr>\n",
              "    <tr>\n",
              "      <th>433</th>\n",
              "      <td>1</td>\n",
              "      <td>Aplikasi ini bagus</td>\n",
              "    </tr>\n",
              "  </tbody>\n",
              "</table>\n",
              "<p>434 rows × 2 columns</p>\n",
              "</div>\n",
              "      <button class=\"colab-df-convert\" onclick=\"convertToInteractive('df-e16656c3-fdbb-426c-a79f-7fa3b5d01219')\"\n",
              "              title=\"Convert this dataframe to an interactive table.\"\n",
              "              style=\"display:none;\">\n",
              "        \n",
              "  <svg xmlns=\"http://www.w3.org/2000/svg\" height=\"24px\"viewBox=\"0 0 24 24\"\n",
              "       width=\"24px\">\n",
              "    <path d=\"M0 0h24v24H0V0z\" fill=\"none\"/>\n",
              "    <path d=\"M18.56 5.44l.94 2.06.94-2.06 2.06-.94-2.06-.94-.94-2.06-.94 2.06-2.06.94zm-11 1L8.5 8.5l.94-2.06 2.06-.94-2.06-.94L8.5 2.5l-.94 2.06-2.06.94zm10 10l.94 2.06.94-2.06 2.06-.94-2.06-.94-.94-2.06-.94 2.06-2.06.94z\"/><path d=\"M17.41 7.96l-1.37-1.37c-.4-.4-.92-.59-1.43-.59-.52 0-1.04.2-1.43.59L10.3 9.45l-7.72 7.72c-.78.78-.78 2.05 0 2.83L4 21.41c.39.39.9.59 1.41.59.51 0 1.02-.2 1.41-.59l7.78-7.78 2.81-2.81c.8-.78.8-2.07 0-2.86zM5.41 20L4 18.59l7.72-7.72 1.47 1.35L5.41 20z\"/>\n",
              "  </svg>\n",
              "      </button>\n",
              "      \n",
              "  <style>\n",
              "    .colab-df-container {\n",
              "      display:flex;\n",
              "      flex-wrap:wrap;\n",
              "      gap: 12px;\n",
              "    }\n",
              "\n",
              "    .colab-df-convert {\n",
              "      background-color: #E8F0FE;\n",
              "      border: none;\n",
              "      border-radius: 50%;\n",
              "      cursor: pointer;\n",
              "      display: none;\n",
              "      fill: #1967D2;\n",
              "      height: 32px;\n",
              "      padding: 0 0 0 0;\n",
              "      width: 32px;\n",
              "    }\n",
              "\n",
              "    .colab-df-convert:hover {\n",
              "      background-color: #E2EBFA;\n",
              "      box-shadow: 0px 1px 2px rgba(60, 64, 67, 0.3), 0px 1px 3px 1px rgba(60, 64, 67, 0.15);\n",
              "      fill: #174EA6;\n",
              "    }\n",
              "\n",
              "    [theme=dark] .colab-df-convert {\n",
              "      background-color: #3B4455;\n",
              "      fill: #D2E3FC;\n",
              "    }\n",
              "\n",
              "    [theme=dark] .colab-df-convert:hover {\n",
              "      background-color: #434B5C;\n",
              "      box-shadow: 0px 1px 3px 1px rgba(0, 0, 0, 0.15);\n",
              "      filter: drop-shadow(0px 1px 2px rgba(0, 0, 0, 0.3));\n",
              "      fill: #FFFFFF;\n",
              "    }\n",
              "  </style>\n",
              "\n",
              "      <script>\n",
              "        const buttonEl =\n",
              "          document.querySelector('#df-e16656c3-fdbb-426c-a79f-7fa3b5d01219 button.colab-df-convert');\n",
              "        buttonEl.style.display =\n",
              "          google.colab.kernel.accessAllowed ? 'block' : 'none';\n",
              "\n",
              "        async function convertToInteractive(key) {\n",
              "          const element = document.querySelector('#df-e16656c3-fdbb-426c-a79f-7fa3b5d01219');\n",
              "          const dataTable =\n",
              "            await google.colab.kernel.invokeFunction('convertToInteractive',\n",
              "                                                     [key], {});\n",
              "          if (!dataTable) return;\n",
              "\n",
              "          const docLinkHtml = 'Like what you see? Visit the ' +\n",
              "            '<a target=\"_blank\" href=https://colab.research.google.com/notebooks/data_table.ipynb>data table notebook</a>'\n",
              "            + ' to learn more about interactive tables.';\n",
              "          element.innerHTML = '';\n",
              "          dataTable['output_type'] = 'display_data';\n",
              "          await google.colab.output.renderOutput(dataTable, element);\n",
              "          const docLink = document.createElement('div');\n",
              "          docLink.innerHTML = docLinkHtml;\n",
              "          element.appendChild(docLink);\n",
              "        }\n",
              "      </script>\n",
              "    </div>\n",
              "  </div>\n",
              "  "
            ]
          },
          "metadata": {},
          "execution_count": 51
        }
      ]
    },
    {
      "cell_type": "code",
      "source": [
        "clean_text = df['ulasan'].apply(lambda x: finalpreprocess(x))\n",
        "\n",
        "label_column = df.pop('label')\n",
        "df.insert(1, 'label', label_column)\n",
        "\n",
        "df['ulasan'] = clean_text\n",
        "df"
      ],
      "metadata": {
        "colab": {
          "base_uri": "https://localhost:8080/",
          "height": 424
        },
        "id": "aCUKd1a03sh-",
        "outputId": "8a2f9492-dc35-47c1-b501-089241965838"
      },
      "execution_count": 52,
      "outputs": [
        {
          "output_type": "execute_result",
          "data": {
            "text/plain": [
              "                                                ulasan  label\n",
              "0    keseluruhan menyukai aplikasi ini beberapa mas...      1\n",
              "1    sebenarnya aplikasi sangat bagus layak memberi...      1\n",
              "2    jujur luar biasa menganggap ini platform mediu...      1\n",
              "3    beri bintang versi pc memiliki fitur berpindah...      1\n",
              "4    autoscroll bawah tidak dinonaktifkan sangat me...      0\n",
              "..                                                 ...    ...\n",
              "429                               mengerti menyukainya      1\n",
              "430                            lihat hanyalah payudara      0\n",
              "431     asyiknya nge troll ngobrol sama teman sini bro      0\n",
              "432                                              bagus      1\n",
              "433                                 aplikasi ini bagus      1\n",
              "\n",
              "[434 rows x 2 columns]"
            ],
            "text/html": [
              "\n",
              "  <div id=\"df-6305f1c8-d283-4a67-99c6-48bf828171b4\">\n",
              "    <div class=\"colab-df-container\">\n",
              "      <div>\n",
              "<style scoped>\n",
              "    .dataframe tbody tr th:only-of-type {\n",
              "        vertical-align: middle;\n",
              "    }\n",
              "\n",
              "    .dataframe tbody tr th {\n",
              "        vertical-align: top;\n",
              "    }\n",
              "\n",
              "    .dataframe thead th {\n",
              "        text-align: right;\n",
              "    }\n",
              "</style>\n",
              "<table border=\"1\" class=\"dataframe\">\n",
              "  <thead>\n",
              "    <tr style=\"text-align: right;\">\n",
              "      <th></th>\n",
              "      <th>ulasan</th>\n",
              "      <th>label</th>\n",
              "    </tr>\n",
              "  </thead>\n",
              "  <tbody>\n",
              "    <tr>\n",
              "      <th>0</th>\n",
              "      <td>keseluruhan menyukai aplikasi ini beberapa mas...</td>\n",
              "      <td>1</td>\n",
              "    </tr>\n",
              "    <tr>\n",
              "      <th>1</th>\n",
              "      <td>sebenarnya aplikasi sangat bagus layak memberi...</td>\n",
              "      <td>1</td>\n",
              "    </tr>\n",
              "    <tr>\n",
              "      <th>2</th>\n",
              "      <td>jujur luar biasa menganggap ini platform mediu...</td>\n",
              "      <td>1</td>\n",
              "    </tr>\n",
              "    <tr>\n",
              "      <th>3</th>\n",
              "      <td>beri bintang versi pc memiliki fitur berpindah...</td>\n",
              "      <td>1</td>\n",
              "    </tr>\n",
              "    <tr>\n",
              "      <th>4</th>\n",
              "      <td>autoscroll bawah tidak dinonaktifkan sangat me...</td>\n",
              "      <td>0</td>\n",
              "    </tr>\n",
              "    <tr>\n",
              "      <th>...</th>\n",
              "      <td>...</td>\n",
              "      <td>...</td>\n",
              "    </tr>\n",
              "    <tr>\n",
              "      <th>429</th>\n",
              "      <td>mengerti menyukainya</td>\n",
              "      <td>1</td>\n",
              "    </tr>\n",
              "    <tr>\n",
              "      <th>430</th>\n",
              "      <td>lihat hanyalah payudara</td>\n",
              "      <td>0</td>\n",
              "    </tr>\n",
              "    <tr>\n",
              "      <th>431</th>\n",
              "      <td>asyiknya nge troll ngobrol sama teman sini bro</td>\n",
              "      <td>0</td>\n",
              "    </tr>\n",
              "    <tr>\n",
              "      <th>432</th>\n",
              "      <td>bagus</td>\n",
              "      <td>1</td>\n",
              "    </tr>\n",
              "    <tr>\n",
              "      <th>433</th>\n",
              "      <td>aplikasi ini bagus</td>\n",
              "      <td>1</td>\n",
              "    </tr>\n",
              "  </tbody>\n",
              "</table>\n",
              "<p>434 rows × 2 columns</p>\n",
              "</div>\n",
              "      <button class=\"colab-df-convert\" onclick=\"convertToInteractive('df-6305f1c8-d283-4a67-99c6-48bf828171b4')\"\n",
              "              title=\"Convert this dataframe to an interactive table.\"\n",
              "              style=\"display:none;\">\n",
              "        \n",
              "  <svg xmlns=\"http://www.w3.org/2000/svg\" height=\"24px\"viewBox=\"0 0 24 24\"\n",
              "       width=\"24px\">\n",
              "    <path d=\"M0 0h24v24H0V0z\" fill=\"none\"/>\n",
              "    <path d=\"M18.56 5.44l.94 2.06.94-2.06 2.06-.94-2.06-.94-.94-2.06-.94 2.06-2.06.94zm-11 1L8.5 8.5l.94-2.06 2.06-.94-2.06-.94L8.5 2.5l-.94 2.06-2.06.94zm10 10l.94 2.06.94-2.06 2.06-.94-2.06-.94-.94-2.06-.94 2.06-2.06.94z\"/><path d=\"M17.41 7.96l-1.37-1.37c-.4-.4-.92-.59-1.43-.59-.52 0-1.04.2-1.43.59L10.3 9.45l-7.72 7.72c-.78.78-.78 2.05 0 2.83L4 21.41c.39.39.9.59 1.41.59.51 0 1.02-.2 1.41-.59l7.78-7.78 2.81-2.81c.8-.78.8-2.07 0-2.86zM5.41 20L4 18.59l7.72-7.72 1.47 1.35L5.41 20z\"/>\n",
              "  </svg>\n",
              "      </button>\n",
              "      \n",
              "  <style>\n",
              "    .colab-df-container {\n",
              "      display:flex;\n",
              "      flex-wrap:wrap;\n",
              "      gap: 12px;\n",
              "    }\n",
              "\n",
              "    .colab-df-convert {\n",
              "      background-color: #E8F0FE;\n",
              "      border: none;\n",
              "      border-radius: 50%;\n",
              "      cursor: pointer;\n",
              "      display: none;\n",
              "      fill: #1967D2;\n",
              "      height: 32px;\n",
              "      padding: 0 0 0 0;\n",
              "      width: 32px;\n",
              "    }\n",
              "\n",
              "    .colab-df-convert:hover {\n",
              "      background-color: #E2EBFA;\n",
              "      box-shadow: 0px 1px 2px rgba(60, 64, 67, 0.3), 0px 1px 3px 1px rgba(60, 64, 67, 0.15);\n",
              "      fill: #174EA6;\n",
              "    }\n",
              "\n",
              "    [theme=dark] .colab-df-convert {\n",
              "      background-color: #3B4455;\n",
              "      fill: #D2E3FC;\n",
              "    }\n",
              "\n",
              "    [theme=dark] .colab-df-convert:hover {\n",
              "      background-color: #434B5C;\n",
              "      box-shadow: 0px 1px 3px 1px rgba(0, 0, 0, 0.15);\n",
              "      filter: drop-shadow(0px 1px 2px rgba(0, 0, 0, 0.3));\n",
              "      fill: #FFFFFF;\n",
              "    }\n",
              "  </style>\n",
              "\n",
              "      <script>\n",
              "        const buttonEl =\n",
              "          document.querySelector('#df-6305f1c8-d283-4a67-99c6-48bf828171b4 button.colab-df-convert');\n",
              "        buttonEl.style.display =\n",
              "          google.colab.kernel.accessAllowed ? 'block' : 'none';\n",
              "\n",
              "        async function convertToInteractive(key) {\n",
              "          const element = document.querySelector('#df-6305f1c8-d283-4a67-99c6-48bf828171b4');\n",
              "          const dataTable =\n",
              "            await google.colab.kernel.invokeFunction('convertToInteractive',\n",
              "                                                     [key], {});\n",
              "          if (!dataTable) return;\n",
              "\n",
              "          const docLinkHtml = 'Like what you see? Visit the ' +\n",
              "            '<a target=\"_blank\" href=https://colab.research.google.com/notebooks/data_table.ipynb>data table notebook</a>'\n",
              "            + ' to learn more about interactive tables.';\n",
              "          element.innerHTML = '';\n",
              "          dataTable['output_type'] = 'display_data';\n",
              "          await google.colab.output.renderOutput(dataTable, element);\n",
              "          const docLink = document.createElement('div');\n",
              "          docLink.innerHTML = docLinkHtml;\n",
              "          element.appendChild(docLink);\n",
              "        }\n",
              "      </script>\n",
              "    </div>\n",
              "  </div>\n",
              "  "
            ]
          },
          "metadata": {},
          "execution_count": 52
        }
      ]
    },
    {
      "cell_type": "code",
      "source": [
        "label_count = df['label'].value_counts()\n",
        "\n",
        "for i in range(0,2):\n",
        "    print(f'Class {i} : {label_count[i]}')\n",
        "\n",
        "label_count.plot(kind='bar', title='Count label')\n",
        "plt.show()"
      ],
      "metadata": {
        "colab": {
          "base_uri": "https://localhost:8080/",
          "height": 313
        },
        "id": "ogSQCk4rshSe",
        "outputId": "5be19da8-81f2-4e38-9525-309b9218ff25"
      },
      "execution_count": 53,
      "outputs": [
        {
          "output_type": "stream",
          "name": "stdout",
          "text": [
            "Class 0 : 215\n",
            "Class 1 : 219\n"
          ]
        },
        {
          "output_type": "display_data",
          "data": {
            "text/plain": [
              "<Figure size 432x288 with 1 Axes>"
            ],
            "image/png": "[encoded data removed]"
          },
          "metadata": {
            "needs_background": "light"
          }
        }
      ]
    },
    {
      "cell_type": "code",
      "source": [
        "df_class_0 = df[df['label'] == 0]\n",
        "df_class_1 = df[df['label'] == 1]\n",
        "\n",
        "df_class_1_over = df_class_1.sample(label_count[0], replace=True)\n",
        "\n",
        "df_over = pd.concat([\n",
        "                    df_class_0,\n",
        "                    df_class_1_over], axis=0)\n",
        "\n",
        "print('Random Over Sampling')\n",
        "print(df_over['label'].value_counts())\n",
        "df_over['label'].value_counts().plot(kind='bar', title='Count label')\n",
        "plt.show()"
      ],
      "metadata": {
        "colab": {
          "base_uri": "https://localhost:8080/",
          "height": 347
        },
        "id": "IAZSajBSszxI",
        "outputId": "62828ce6-9afa-4ec0-a40c-ee9dc93e0c98"
      },
      "execution_count": 54,
      "outputs": [
        {
          "output_type": "stream",
          "name": "stdout",
          "text": [
            "Random Over Sampling\n",
            "0    215\n",
            "1    215\n",
            "Name: label, dtype: int64\n"
          ]
        },
        {
          "output_type": "display_data",
          "data": {
            "text/plain": [
              "<Figure size 432x288 with 1 Axes>"
            ],
            "image/png": "[encoded data removed]"
          },
          "metadata": {
            "needs_background": "light"
          }
        }
      ]
    },
    {
      "cell_type": "code",
      "source": [
        "EMBEDDING_DIM = 64\n",
        "TRUNCATING = 'post'\n",
        "PADDING = 'post'\n",
        "OOV_TOKEN = '<OOV>'\n",
        "MAX_EXAMPLES = 16000\n",
        "TESTING_SPLIT = 0.2\n",
        "BATCH_SIZE = 64"
      ],
      "metadata": {
        "id": "iu1tZvNj1owF"
      },
      "execution_count": 55,
      "outputs": []
    },
    {
      "cell_type": "code",
      "source": [
        "x = df.ulasan.values\n",
        "y = df.label.values"
      ],
      "metadata": {
        "id": "sNOzxdX52mdx"
      },
      "execution_count": 56,
      "outputs": []
    },
    {
      "cell_type": "code",
      "source": [
        "MAXLEN = max([len(i) for i in x])"
      ],
      "metadata": {
        "id": "2ZwUH9emEwug"
      },
      "execution_count": 57,
      "outputs": []
    },
    {
      "cell_type": "code",
      "source": [
        "def tokenize(text, num_words, oov_token):\n",
        "  tokenizer = Tokenizer(num_words=num_words, oov_token=oov_token)\n",
        "  tokenizer.fit_on_texts(text)\n",
        "\n",
        "  sequences = tokenizer.texts_to_sequences(text)\n",
        "\n",
        "  return tokenizer"
      ],
      "metadata": {
        "id": "NJg-wFcT5vWE"
      },
      "execution_count": 58,
      "outputs": []
    },
    {
      "cell_type": "code",
      "source": [
        "def seq_pad_and_trunc(sentences, tokenizer, padding, truncating, maxlen):\n",
        "  sequences = tokenizer.texts_to_sequences(sentences)\n",
        "  pad_seqs = pad_sequences(\n",
        "      sequences, padding=padding, truncating=truncating, maxlen=maxlen)\n",
        "\n",
        "  return pad_seqs"
      ],
      "metadata": {
        "id": "bf3zdquX5_Ik"
      },
      "execution_count": 59,
      "outputs": []
    },
    {
      "cell_type": "code",
      "source": [
        "x_train, x_test, y_train, y_test = train_test_split(\n",
        "    x, y, test_size=TESTING_SPLIT, random_state=1)\n",
        "\n",
        "print(f'There are {len(x_train)} ulasan for training.')\n",
        "print(f'There are {len(y_train)} label for training.')\n",
        "print(f'There are {len(x_test)} ulasan for testing.')\n",
        "print(f'There are {len(y_test)} label for testing.')"
      ],
      "metadata": {
        "id": "6T43qtrX1s_W",
        "colab": {
          "base_uri": "https://localhost:8080/"
        },
        "outputId": "294cf7a7-5d74-4877-cbce-b9c2b3e1f60a"
      },
      "execution_count": 60,
      "outputs": [
        {
          "output_type": "stream",
          "name": "stdout",
          "text": [
            "There are 347 ulasan for training.\n",
            "There are 347 label for training.\n",
            "There are 87 ulasan for testing.\n",
            "There are 87 label for testing.\n"
          ]
        }
      ]
    },
    {
      "cell_type": "code",
      "source": [
        "tokenizer = tokenize(x_train, MAX_EXAMPLES, OOV_TOKEN)\n",
        "\n",
        "word_index = tokenizer.word_index\n",
        "VOCAB_SIZE = len(word_index)\n",
        "\n",
        "print(f'Vocabulary contains {VOCAB_SIZE} words')"
      ],
      "metadata": {
        "id": "0pUBalOT1eOJ",
        "colab": {
          "base_uri": "https://localhost:8080/"
        },
        "outputId": "307b6bd4-79d9-408c-fbb3-b68400c3ca2f"
      },
      "execution_count": 61,
      "outputs": [
        {
          "output_type": "stream",
          "name": "stdout",
          "text": [
            "Vocabulary contains 1388 words\n"
          ]
        }
      ]
    },
    {
      "cell_type": "code",
      "source": [
        "x_train_padded = seq_pad_and_trunc(x_train, tokenizer, PADDING, TRUNCATING, MAXLEN)\n",
        "x_test_padded = seq_pad_and_trunc(x_test, tokenizer, PADDING, TRUNCATING, MAXLEN)\n",
        "\n",
        "print(f'Padded and truncated training sequences have shape: {x_train_padded.shape}')\n",
        "print(f'Padded and truncated testing sequences have shape: {x_test_padded.shape}')"
      ],
      "metadata": {
        "colab": {
          "base_uri": "https://localhost:8080/"
        },
        "id": "pHb8NTsB8FWx",
        "outputId": "c4a53bf4-875a-42d9-dc75-6d96a0ef9d6d"
      },
      "execution_count": 62,
      "outputs": [
        {
          "output_type": "stream",
          "name": "stdout",
          "text": [
            "Padded and truncated training sequences have shape: (347, 309)\n",
            "Padded and truncated testing sequences have shape: (87, 309)\n"
          ]
        }
      ]
    },
    {
      "cell_type": "code",
      "source": [
        "def create_model(vocab_size, embedding_dim):\n",
        "  model = tf.keras.Sequential([ \n",
        "    tf.keras.layers.Embedding(vocab_size + 1, embedding_dim),\n",
        "    tf.keras.layers.Bidirectional(tf.keras.layers.LSTM(128)),\n",
        "    tf.keras.layers.Dense(128, activation='relu'),\n",
        "    tf.keras.layers.Dropout(0.5),\n",
        "    tf.keras.layers.Dense(64, activation='relu'),\n",
        "    tf.keras.layers.Dropout(0.3),\n",
        "    tf.keras.layers.Dense(1, activation='sigmoid'),\n",
        "  ])\n",
        "  \n",
        "  model.compile(loss='binary_crossentropy',\n",
        "                optimizer=tf.keras.optimizers.Adam(learning_rate=0.001),\n",
        "                metrics=['accuracy']) \n",
        "\n",
        "  model.summary()\n",
        "\n",
        "  return model"
      ],
      "metadata": {
        "id": "PDMpq3AjlHSt"
      },
      "execution_count": 91,
      "outputs": []
    },
    {
      "cell_type": "code",
      "source": [
        "model = create_model(VOCAB_SIZE, EMBEDDING_DIM)"
      ],
      "metadata": {
        "id": "XirV-6eylTOB",
        "colab": {
          "base_uri": "https://localhost:8080/"
        },
        "outputId": "934e18b4-263b-44b0-ba32-04bf4e87b17c"
      },
      "execution_count": 92,
      "outputs": [
        {
          "output_type": "stream",
          "name": "stdout",
          "text": [
            "Model: \"sequential_16\"\n",
            "_________________________________________________________________\n",
            " Layer (type)                Output Shape              Param #   \n",
            "=================================================================\n",
            " embedding_16 (Embedding)    (None, None, 64)          88896     \n",
            "                                                                 \n",
            " bidirectional_11 (Bidirecti  (None, 256)              197632    \n",
            " onal)                                                           \n",
            "                                                                 \n",
            " dense_47 (Dense)            (None, 128)               32896     \n",
            "                                                                 \n",
            " dropout_32 (Dropout)        (None, 128)               0         \n",
            "                                                                 \n",
            " dense_48 (Dense)            (None, 64)                8256      \n",
            "                                                                 \n",
            " dropout_33 (Dropout)        (None, 64)                0         \n",
            "                                                                 \n",
            " dense_49 (Dense)            (None, 1)                 65        \n",
            "                                                                 \n",
            "=================================================================\n",
            "Total params: 327,745\n",
            "Trainable params: 327,745\n",
            "Non-trainable params: 0\n",
            "_________________________________________________________________\n"
          ]
        }
      ]
    },
    {
      "cell_type": "code",
      "source": [
        "model.fit(\n",
        "    x_train_padded, y_train, epochs=30, validation_data=(\n",
        "        x_test_padded, y_test),verbose=1)"
      ],
      "metadata": {
        "colab": {
          "base_uri": "https://localhost:8080/"
        },
        "id": "mCzZZ2sW06s-",
        "outputId": "3fa8d5f0-6404-4b75-e4f3-989506f3e0c8"
      },
      "execution_count": 93,
      "outputs": [
        {
          "output_type": "stream",
          "name": "stdout",
          "text": [
            "Epoch 1/30\n",
            "11/11 [==============================] - 12s 750ms/step - loss: 0.6940 - accuracy: 0.4841 - val_loss: 0.6922 - val_accuracy: 0.4598\n",
            "Epoch 2/30\n",
            "11/11 [==============================] - 7s 598ms/step - loss: 0.6914 - accuracy: 0.5101 - val_loss: 0.6872 - val_accuracy: 0.4828\n",
            "Epoch 3/30\n",
            "11/11 [==============================] - 7s 599ms/step - loss: 0.6788 - accuracy: 0.6369 - val_loss: 0.6656 - val_accuracy: 0.4943\n",
            "Epoch 4/30\n",
            "11/11 [==============================] - 7s 604ms/step - loss: 0.6051 - accuracy: 0.7378 - val_loss: 0.5114 - val_accuracy: 0.8046\n",
            "Epoch 5/30\n",
            "11/11 [==============================] - 7s 605ms/step - loss: 0.3902 - accuracy: 0.8674 - val_loss: 0.3524 - val_accuracy: 0.8851\n",
            "Epoch 6/30\n",
            "11/11 [==============================] - 7s 597ms/step - loss: 0.2363 - accuracy: 0.9222 - val_loss: 0.3416 - val_accuracy: 0.8736\n",
            "Epoch 7/30\n",
            "11/11 [==============================] - 7s 605ms/step - loss: 0.1521 - accuracy: 0.9539 - val_loss: 0.3792 - val_accuracy: 0.8621\n",
            "Epoch 8/30\n",
            "11/11 [==============================] - 7s 601ms/step - loss: 0.1199 - accuracy: 0.9683 - val_loss: 0.2836 - val_accuracy: 0.9195\n",
            "Epoch 9/30\n",
            "11/11 [==============================] - 6s 592ms/step - loss: 0.0956 - accuracy: 0.9769 - val_loss: 0.4951 - val_accuracy: 0.8736\n",
            "Epoch 10/30\n",
            "11/11 [==============================] - 7s 600ms/step - loss: 0.0851 - accuracy: 0.9683 - val_loss: 0.3652 - val_accuracy: 0.8966\n",
            "Epoch 11/30\n",
            "11/11 [==============================] - 7s 602ms/step - loss: 0.0763 - accuracy: 0.9712 - val_loss: 0.4251 - val_accuracy: 0.8391\n",
            "Epoch 12/30\n",
            "11/11 [==============================] - 7s 595ms/step - loss: 0.0859 - accuracy: 0.9741 - val_loss: 0.3901 - val_accuracy: 0.8851\n",
            "Epoch 13/30\n",
            "11/11 [==============================] - 7s 602ms/step - loss: 0.0657 - accuracy: 0.9741 - val_loss: 0.3765 - val_accuracy: 0.8851\n",
            "Epoch 14/30\n",
            "11/11 [==============================] - 7s 603ms/step - loss: 0.0726 - accuracy: 0.9741 - val_loss: 0.4196 - val_accuracy: 0.8851\n",
            "Epoch 15/30\n",
            "11/11 [==============================] - 7s 674ms/step - loss: 0.0579 - accuracy: 0.9798 - val_loss: 0.4763 - val_accuracy: 0.8966\n",
            "Epoch 16/30\n",
            "11/11 [==============================] - 7s 596ms/step - loss: 0.0512 - accuracy: 0.9712 - val_loss: 0.4708 - val_accuracy: 0.8851\n",
            "Epoch 17/30\n",
            "11/11 [==============================] - 7s 598ms/step - loss: 0.0596 - accuracy: 0.9741 - val_loss: 0.4689 - val_accuracy: 0.9080\n",
            "Epoch 18/30\n",
            "11/11 [==============================] - 7s 669ms/step - loss: 0.0524 - accuracy: 0.9798 - val_loss: 0.4264 - val_accuracy: 0.9080\n",
            "Epoch 19/30\n",
            "11/11 [==============================] - 7s 594ms/step - loss: 0.0725 - accuracy: 0.9741 - val_loss: 0.4211 - val_accuracy: 0.9080\n",
            "Epoch 20/30\n",
            "11/11 [==============================] - 7s 598ms/step - loss: 0.0568 - accuracy: 0.9741 - val_loss: 0.4383 - val_accuracy: 0.8966\n",
            "Epoch 21/30\n",
            "11/11 [==============================] - 7s 598ms/step - loss: 0.0658 - accuracy: 0.9712 - val_loss: 0.4134 - val_accuracy: 0.8851\n",
            "Epoch 22/30\n",
            "11/11 [==============================] - 7s 597ms/step - loss: 0.0542 - accuracy: 0.9683 - val_loss: 0.4286 - val_accuracy: 0.8966\n",
            "Epoch 23/30\n",
            "11/11 [==============================] - 6s 592ms/step - loss: 0.0529 - accuracy: 0.9654 - val_loss: 0.4336 - val_accuracy: 0.8851\n",
            "Epoch 24/30\n",
            "11/11 [==============================] - 6s 588ms/step - loss: 0.0521 - accuracy: 0.9712 - val_loss: 0.4776 - val_accuracy: 0.8851\n",
            "Epoch 25/30\n",
            "11/11 [==============================] - 7s 600ms/step - loss: 0.0446 - accuracy: 0.9769 - val_loss: 0.4955 - val_accuracy: 0.8966\n",
            "Epoch 26/30\n",
            "11/11 [==============================] - 7s 598ms/step - loss: 0.0449 - accuracy: 0.9769 - val_loss: 0.5185 - val_accuracy: 0.8966\n",
            "Epoch 27/30\n",
            "11/11 [==============================] - 7s 596ms/step - loss: 0.0437 - accuracy: 0.9769 - val_loss: 0.5232 - val_accuracy: 0.9080\n",
            "Epoch 28/30\n",
            "11/11 [==============================] - 7s 598ms/step - loss: 0.0445 - accuracy: 0.9798 - val_loss: 0.5315 - val_accuracy: 0.9080\n",
            "Epoch 29/30\n",
            "11/11 [==============================] - 6s 588ms/step - loss: 0.0414 - accuracy: 0.9741 - val_loss: 0.5549 - val_accuracy: 0.8851\n",
            "Epoch 30/30\n",
            "11/11 [==============================] - 6s 592ms/step - loss: 0.0458 - accuracy: 0.9712 - val_loss: 0.5287 - val_accuracy: 0.9080\n"
          ]
        },
        {
          "output_type": "execute_result",
          "data": {
            "text/plain": [
              "<keras.callbacks.History at 0x7fa2d99d1e10>"
            ]
          },
          "metadata": {},
          "execution_count": 93
        }
      ]
    },
    {
      "cell_type": "code",
      "source": [
        "export_dir = '/content/drive/MyDrive/Company Case Bangkit/FeedbacksModel'\n",
        "\n",
        "if os.path.exists(export_dir):\n",
        "  shutil.rmtree(export_dir)\n",
        "  \n",
        "model.save(export_dir)"
      ],
      "metadata": {
        "id": "IVhyhziywTcU",
        "colab": {
          "base_uri": "https://localhost:8080/"
        },
        "outputId": "bb9c9e6d-ba15-4300-f61c-0a7b0ba3f537"
      },
      "execution_count": 94,
      "outputs": [
        {
          "output_type": "stream",
          "name": "stderr",
          "text": [
            "WARNING:absl:Found untraced functions such as lstm_cell_38_layer_call_fn, lstm_cell_38_layer_call_and_return_conditional_losses, lstm_cell_39_layer_call_fn, lstm_cell_39_layer_call_and_return_conditional_losses while saving (showing 4 of 4). These functions will not be directly callable after loading.\n"
          ]
        },
        {
          "output_type": "stream",
          "name": "stdout",
          "text": [
            "INFO:tensorflow:Assets written to: /content/drive/MyDrive/Company Case Bangkit/FeedbacksModel/assets\n"
          ]
        },
        {
          "output_type": "stream",
          "name": "stderr",
          "text": [
            "INFO:tensorflow:Assets written to: /content/drive/MyDrive/Company Case Bangkit/FeedbacksModel/assets\n",
            "WARNING:absl:<keras.layers.recurrent.LSTMCell object at 0x7fa2d9bd4510> has the same name 'LSTMCell' as a built-in Keras object. Consider renaming <class 'keras.layers.recurrent.LSTMCell'> to avoid naming conflicts when loading with `tf.keras.models.load_model`. If renaming is not possible, pass the object in the `custom_objects` parameter of the load function.\n",
            "WARNING:absl:<keras.layers.recurrent.LSTMCell object at 0x7fa2d9bcef10> has the same name 'LSTMCell' as a built-in Keras object. Consider renaming <class 'keras.layers.recurrent.LSTMCell'> to avoid naming conflicts when loading with `tf.keras.models.load_model`. If renaming is not possible, pass the object in the `custom_objects` parameter of the load function.\n"
          ]
        }
      ]
    },
    {
      "cell_type": "code",
      "source": [
        "exp_pos_text = \"aplikasi ini sangat bagus desainnya menarik, dan fungsionalitasnya dapat berjalan dengan baik\"\n",
        "exp_neg_text = \"jelek banget, chat nya tidak realtime, design nya juga tidak user friendly\"\n",
        "\n",
        "sequence = tokenizer.texts_to_sequences([exp_pos_text])\n",
        "pad_sequence = pad_sequences(sequence, padding=PADDING, truncating=TRUNCATING, maxlen=MAXLEN)\n",
        "y_predict = model.predict(pad_sequence)[0][0]\n",
        "\n",
        "if y_predict > 0.5:\n",
        "  print('Positive')\n",
        "else:\n",
        "  print('Negative')"
      ],
      "metadata": {
        "id": "ZXwQQyHFel2G",
        "colab": {
          "base_uri": "https://localhost:8080/"
        },
        "outputId": "509c5597-45e9-4772-c576-2ccec5d44f24"
      },
      "execution_count": 102,
      "outputs": [
        {
          "output_type": "stream",
          "name": "stdout",
          "text": [
            "Positive\n"
          ]
        }
      ]
    }
  ]
}