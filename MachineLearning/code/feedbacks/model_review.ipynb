{
  "nbformat": 4,
  "nbformat_minor": 0,
  "metadata": {
    "colab": {
      "name": "model_review.ipynb",
      "provenance": [],
      "collapsed_sections": []
    },
    "kernelspec": {
      "name": "python3",
      "display_name": "Python 3"
    },
    "language_info": {
      "name": "python"
    }
  },
  "cells": [
    {
      "cell_type": "code",
      "source": [
        "#@title Load Imports\n",
        "import csv\n",
        "import matplotlib.pyplot as plt\n",
        "import seaborn as sns\n",
        "import random\n",
        "import numpy as np\n",
        "import pandas as pd\n",
        "import string, re\n",
        "import nltk\n",
        "import os\n",
        "import subprocess\n",
        "import shutil\n",
        "import json\n",
        "import tensorflow as tf\n",
        "import keras\n",
        "\n",
        "from google.colab import drive\n",
        "from nltk.tokenize import word_tokenize\n",
        "from nltk.corpus import wordnet\n",
        "from nltk.stem import WordNetLemmatizer\n",
        "from sklearn.model_selection import train_test_split\n",
        "from keras_preprocessing.text import tokenizer_from_json\n",
        "from keras.preprocessing.text import Tokenizer\n",
        "from keras.preprocessing.sequence import pad_sequences\n",
        "\n",
        "nltk.download('averaged_perceptron_tagger')\n",
        "nltk.download('wordnet')\n",
        "nltk.download('punkt')"
      ],
      "metadata": {
        "id": "EsU8eTWe2s-M",
        "colab": {
          "base_uri": "https://localhost:8080/"
        },
        "outputId": "f4a6e0ce-1f23-41e2-e6ce-6ed64bd0af1d",
        "cellView": "form"
      },
      "execution_count": 26,
      "outputs": [
        {
          "output_type": "stream",
          "name": "stdout",
          "text": [
            "[nltk_data] Downloading package averaged_perceptron_tagger to\n",
            "[nltk_data]     /root/nltk_data...\n",
            "[nltk_data]   Package averaged_perceptron_tagger is already up-to-\n",
            "[nltk_data]       date!\n",
            "[nltk_data] Downloading package wordnet to /root/nltk_data...\n",
            "[nltk_data]   Package wordnet is already up-to-date!\n",
            "[nltk_data] Downloading package punkt to /root/nltk_data...\n",
            "[nltk_data]   Package punkt is already up-to-date!\n"
          ]
        },
        {
          "output_type": "execute_result",
          "data": {
            "text/plain": [
              "True"
            ]
          },
          "metadata": {},
          "execution_count": 26
        }
      ]
    },
    {
      "cell_type": "code",
      "source": [
        "#@title Clone Git\n",
        "\n",
        "git_dir = '/content/IOH-Chat-App'\n",
        "git_url = 'https://github.com/bangkit-team/IOH-chat-app.git'\n",
        "\n",
        "if not os.path.exists(git_dir):\n",
        "  subprocess.call(['git', 'clone', git_url])"
      ],
      "metadata": {
        "id": "Q8sc7VUS0bla",
        "cellView": "form"
      },
      "execution_count": 27,
      "outputs": []
    },
    {
      "cell_type": "code",
      "source": [
        "#@title Connect with Google Drive\n",
        "drive.mount('/content/drive')"
      ],
      "metadata": {
        "colab": {
          "base_uri": "https://localhost:8080/"
        },
        "id": "nYdPSeMdwaiv",
        "outputId": "072600db-a3b4-4201-8181-bfbdf53efc10",
        "cellView": "form"
      },
      "execution_count": 28,
      "outputs": [
        {
          "output_type": "stream",
          "name": "stdout",
          "text": [
            "Drive already mounted at /content/drive; to attempt to forcibly remount, call drive.mount(\"/content/drive\", force_remount=True).\n"
          ]
        }
      ]
    },
    {
      "cell_type": "code",
      "source": [
        "SENTIMENT_CSV = '/content/IOH-chat-app/MachineLearning/datasets/feedbacks/data_feedbacks.csv'"
      ],
      "metadata": {
        "id": "0OHAnj6apAsf"
      },
      "execution_count": 4,
      "outputs": []
    },
    {
      "cell_type": "code",
      "source": [
        "def remove_stopwords(ulasan):\n",
        "    stopwords = ['yang', 'untuk', 'pada', 'ke', 'para', 'namun', 'menurut', 'antara', 'dia', 'dua', 'ia', 'seperti', \n",
        "              'jika', 'sehingga', 'kembali', 'dan', 'karena', 'kepada', 'oleh', 'saat', 'harus', 'sementara', \n",
        "              'setelah', 'belum', 'kami', 'sekitar', 'bagi', 'serta', 'di', 'dari', 'telah', 'sebagai', 'masih', \n",
        "              'hal', 'ketika', 'adalah', 'itu', 'dalam', 'bisa', 'bahwa', 'atau', 'hanya', 'kita', 'dengan', 'akan', \n",
        "              'juga', 'ada', 'mereka', 'sudah', 'saya', 'terhadap', 'secara', 'agar', 'lain', 'anda', 'begitu', 'mengapa', \n",
        "              'kenapa', 'yaitu', 'yakni', 'daripada', 'itulah', 'lagi', 'maka', 'tentang', 'demi', 'dimana', 'kemana',\n",
        "              'pula', 'sambil', 'sebelum', 'sesudah', 'supaya', 'guna', 'kah', 'pun', 'sampai', 'sedangkan', 'selagi',\n",
        "              'sementara', 'tetapi', 'apakah', 'kecuali', 'sebab', 'selain', 'seolah', 'seterusnya', 'tanpa', 'agak',\n",
        "              'boleh', 'dapat', 'dsb', 'dst', 'dll', 'dahulu', 'dulunya', 'anu', 'demikian', 'tapi', 'ingin', 'juga',\n",
        "              'nggak', 'mari', 'nanti', 'melainkan', 'oh', 'ok', 'seharusnya', 'sebetulnya', 'setiap', 'setidaknya',\n",
        "              'sesuatu', 'pasti', 'saja', 'toh', 'walau', 'tolong', 'tentu', 'amat', 'apalagi', 'bagaimanapun',\n",
        "              'dengan', 'ia', 'bahwa', 'oleh']\n",
        "\n",
        "    ulasan = str(ulasan).lower()\n",
        "    \n",
        "    words = ulasan.split()\n",
        "    ulasan = []\n",
        "    for r in words:\n",
        "        if not r in stopwords:\n",
        "            ulasan.append(r)\n",
        "            \n",
        "    ulasan=' '.join(ulasan)\n",
        "    return ulasan"
      ],
      "metadata": {
        "id": "TQrToAkZ8tP8"
      },
      "execution_count": 5,
      "outputs": []
    },
    {
      "cell_type": "code",
      "source": [
        "def parse_data_from_file(filename):\n",
        "    ulasan = []\n",
        "    label = []\n",
        "    with open(filename, 'r') as csvfile:\n",
        "        skip = True\n",
        "        if skip:\n",
        "            skip = False\n",
        "            reader = csv.reader(csvfile, delimiter=',')\n",
        "            next(reader)\n",
        "\n",
        "            for row in reader:\n",
        "                row[0] = remove_stopwords(row[0])\n",
        "                row[1] = remove_stopwords(row[1])\n",
        "                label.append(row[0])\n",
        "                ulasan.append(row[1])\n",
        "            \n",
        "    return ulasan, label"
      ],
      "metadata": {
        "id": "yuztjVYs5F1b"
      },
      "execution_count": 6,
      "outputs": []
    },
    {
      "cell_type": "code",
      "source": [
        "ulasan, label = parse_data_from_file(SENTIMENT_CSV)\n",
        "\n",
        "print(f'Dataset contains {len(ulasan)} examples\\n')\n",
        "print(f'Example 1:\\nText: {ulasan[0]}\\nLabel :{label[0]}\\n')\n",
        "print(f'Example 2:\\nText: {ulasan[1]}\\nLabel :{label[1]}\\n')"
      ],
      "metadata": {
        "colab": {
          "base_uri": "https://localhost:8080/"
        },
        "id": "kGqKK8ss5Qr5",
        "outputId": "e432eb75-e27c-484b-c5c9-8f5b70187d71"
      },
      "execution_count": 7,
      "outputs": [
        {
          "output_type": "stream",
          "name": "stdout",
          "text": [
            "Dataset contains 434 examples\n",
            "\n",
            "Example 1:\n",
            "Text: keseluruhan menyukai aplikasi ini, beberapa masalah. beberapa antaranya memasang spoiler media, sebagian besar tidak berfungsi. lainnya (dan jujur, paling menjengkelkan) menggunakan obrolan suara, sering otomatis menutup sendiri beberapa waktu sedang bermain ... full review\n",
            "Label :1\n",
            "\n",
            "Example 2:\n",
            "Text: sebenarnya aplikasi sangat bagus layak. memberi peringkat 4/5 tidak mengirim catatan suara (alias vn). terkadang setengah bangun keyboard lag, tidak mengetik, berarti tidak membalas sms orang. catatan suara sebenarnya sangat berguna sebagian orang! tidak memiliki... ulasan lengkap\n",
            "Label :1\n",
            "\n"
          ]
        }
      ]
    },
    {
      "cell_type": "code",
      "source": [
        "def preprocess(ulasan):\n",
        "    ulasan = ulasan.lower() \n",
        "    ulasan = ulasan.strip()  \n",
        "    ulasan = re.compile('<.*?>').sub('', ulasan) \n",
        "    ulasan = re.compile('[%s]' % re.escape(string.punctuation)).sub(' ', ulasan)  \n",
        "    ulasan = re.sub('\\s+', ' ', ulasan)  \n",
        "    ulasan = re.sub(r'\\[*\\]',' ',ulasan) \n",
        "    ulasan = re.sub(r'[^\\w\\s]', '', str(ulasan).lower().strip())\n",
        "    ulasan = re.sub(r'\\d',' ',ulasan) \n",
        "    ulasan = re.sub(r'\\s+',' ',ulasan) \n",
        "    return ulasan"
      ],
      "metadata": {
        "id": "PYezrSbIzaD_"
      },
      "execution_count": 8,
      "outputs": []
    },
    {
      "cell_type": "code",
      "source": [
        "wl = WordNetLemmatizer()\n",
        " \n",
        "def get_wordnet_pos(tag):\n",
        "    if tag.startswith('J'):\n",
        "        return wordnet.ADJ\n",
        "    elif tag.startswith('V'):\n",
        "        return wordnet.VERB\n",
        "    elif tag.startswith('N'):\n",
        "        return wordnet.NOUN\n",
        "    elif tag.startswith('R'):\n",
        "        return wordnet.ADV\n",
        "    else:\n",
        "        return wordnet.NOUN\n",
        "\n",
        "def lemmatizer(ulasan):\n",
        "    word_pos_tags = nltk.pos_tag(word_tokenize(ulasan))\n",
        "    a=[wl.lemmatize(tag[0], get_wordnet_pos(tag[1])) for idx, tag in enumerate(word_pos_tags)]\n",
        "    return ' '.join(a)"
      ],
      "metadata": {
        "id": "mw-bJuDABnaT"
      },
      "execution_count": 9,
      "outputs": []
    },
    {
      "cell_type": "code",
      "source": [
        "def finalpreprocess(ulasan):\n",
        "    return lemmatizer(remove_stopwords(preprocess(ulasan)))"
      ],
      "metadata": {
        "id": "_z3Vf2WF08vi"
      },
      "execution_count": 10,
      "outputs": []
    },
    {
      "cell_type": "code",
      "source": [
        "df = pd.read_csv(SENTIMENT_CSV)\n",
        "df"
      ],
      "metadata": {
        "colab": {
          "base_uri": "https://localhost:8080/",
          "height": 424
        },
        "id": "bcNVwXY4rfqW",
        "outputId": "6a28e4a5-cc98-49ae-bfc0-f23580626dd6"
      },
      "execution_count": 11,
      "outputs": [
        {
          "output_type": "execute_result",
          "data": {
            "text/plain": [
              "     label                                             ulasan\n",
              "0        1  Secara keseluruhan saya menyukai aplikasi ini,...\n",
              "1        1    sebenarnya adalah aplikasi yang sangat bagus...\n",
              "2        1  Jujur luar biasa. Saya menganggap ini platform...\n",
              "3        1  Saya beri 4 bintang karena versi PC memiliki f...\n",
              "4        0  1. Autoscroll ke bawah tidak dapat dinonaktifk...\n",
              "..     ...                                                ...\n",
              "429      1             Saya mengerti mengapa saya menyukainya\n",
              "430      0                  Yang saya lihat hanyalah payudara\n",
              "431      0  Asyiknya nge-troll dan ngobrol sama teman di s...\n",
              "432      1                                              Bagus\n",
              "433      1                                 Aplikasi ini bagus\n",
              "\n",
              "[434 rows x 2 columns]"
            ],
            "text/html": [
              "\n",
              "  <div id=\"df-b99a94cf-c1c2-440a-b87f-d47f4949ab5b\">\n",
              "    <div class=\"colab-df-container\">\n",
              "      <div>\n",
              "<style scoped>\n",
              "    .dataframe tbody tr th:only-of-type {\n",
              "        vertical-align: middle;\n",
              "    }\n",
              "\n",
              "    .dataframe tbody tr th {\n",
              "        vertical-align: top;\n",
              "    }\n",
              "\n",
              "    .dataframe thead th {\n",
              "        text-align: right;\n",
              "    }\n",
              "</style>\n",
              "<table border=\"1\" class=\"dataframe\">\n",
              "  <thead>\n",
              "    <tr style=\"text-align: right;\">\n",
              "      <th></th>\n",
              "      <th>label</th>\n",
              "      <th>ulasan</th>\n",
              "    </tr>\n",
              "  </thead>\n",
              "  <tbody>\n",
              "    <tr>\n",
              "      <th>0</th>\n",
              "      <td>1</td>\n",
              "      <td>Secara keseluruhan saya menyukai aplikasi ini,...</td>\n",
              "    </tr>\n",
              "    <tr>\n",
              "      <th>1</th>\n",
              "      <td>1</td>\n",
              "      <td>sebenarnya adalah aplikasi yang sangat bagus...</td>\n",
              "    </tr>\n",
              "    <tr>\n",
              "      <th>2</th>\n",
              "      <td>1</td>\n",
              "      <td>Jujur luar biasa. Saya menganggap ini platform...</td>\n",
              "    </tr>\n",
              "    <tr>\n",
              "      <th>3</th>\n",
              "      <td>1</td>\n",
              "      <td>Saya beri 4 bintang karena versi PC memiliki f...</td>\n",
              "    </tr>\n",
              "    <tr>\n",
              "      <th>4</th>\n",
              "      <td>0</td>\n",
              "      <td>1. Autoscroll ke bawah tidak dapat dinonaktifk...</td>\n",
              "    </tr>\n",
              "    <tr>\n",
              "      <th>...</th>\n",
              "      <td>...</td>\n",
              "      <td>...</td>\n",
              "    </tr>\n",
              "    <tr>\n",
              "      <th>429</th>\n",
              "      <td>1</td>\n",
              "      <td>Saya mengerti mengapa saya menyukainya</td>\n",
              "    </tr>\n",
              "    <tr>\n",
              "      <th>430</th>\n",
              "      <td>0</td>\n",
              "      <td>Yang saya lihat hanyalah payudara</td>\n",
              "    </tr>\n",
              "    <tr>\n",
              "      <th>431</th>\n",
              "      <td>0</td>\n",
              "      <td>Asyiknya nge-troll dan ngobrol sama teman di s...</td>\n",
              "    </tr>\n",
              "    <tr>\n",
              "      <th>432</th>\n",
              "      <td>1</td>\n",
              "      <td>Bagus</td>\n",
              "    </tr>\n",
              "    <tr>\n",
              "      <th>433</th>\n",
              "      <td>1</td>\n",
              "      <td>Aplikasi ini bagus</td>\n",
              "    </tr>\n",
              "  </tbody>\n",
              "</table>\n",
              "<p>434 rows × 2 columns</p>\n",
              "</div>\n",
              "      <button class=\"colab-df-convert\" onclick=\"convertToInteractive('df-b99a94cf-c1c2-440a-b87f-d47f4949ab5b')\"\n",
              "              title=\"Convert this dataframe to an interactive table.\"\n",
              "              style=\"display:none;\">\n",
              "        \n",
              "  <svg xmlns=\"http://www.w3.org/2000/svg\" height=\"24px\"viewBox=\"0 0 24 24\"\n",
              "       width=\"24px\">\n",
              "    <path d=\"M0 0h24v24H0V0z\" fill=\"none\"/>\n",
              "    <path d=\"M18.56 5.44l.94 2.06.94-2.06 2.06-.94-2.06-.94-.94-2.06-.94 2.06-2.06.94zm-11 1L8.5 8.5l.94-2.06 2.06-.94-2.06-.94L8.5 2.5l-.94 2.06-2.06.94zm10 10l.94 2.06.94-2.06 2.06-.94-2.06-.94-.94-2.06-.94 2.06-2.06.94z\"/><path d=\"M17.41 7.96l-1.37-1.37c-.4-.4-.92-.59-1.43-.59-.52 0-1.04.2-1.43.59L10.3 9.45l-7.72 7.72c-.78.78-.78 2.05 0 2.83L4 21.41c.39.39.9.59 1.41.59.51 0 1.02-.2 1.41-.59l7.78-7.78 2.81-2.81c.8-.78.8-2.07 0-2.86zM5.41 20L4 18.59l7.72-7.72 1.47 1.35L5.41 20z\"/>\n",
              "  </svg>\n",
              "      </button>\n",
              "      \n",
              "  <style>\n",
              "    .colab-df-container {\n",
              "      display:flex;\n",
              "      flex-wrap:wrap;\n",
              "      gap: 12px;\n",
              "    }\n",
              "\n",
              "    .colab-df-convert {\n",
              "      background-color: #E8F0FE;\n",
              "      border: none;\n",
              "      border-radius: 50%;\n",
              "      cursor: pointer;\n",
              "      display: none;\n",
              "      fill: #1967D2;\n",
              "      height: 32px;\n",
              "      padding: 0 0 0 0;\n",
              "      width: 32px;\n",
              "    }\n",
              "\n",
              "    .colab-df-convert:hover {\n",
              "      background-color: #E2EBFA;\n",
              "      box-shadow: 0px 1px 2px rgba(60, 64, 67, 0.3), 0px 1px 3px 1px rgba(60, 64, 67, 0.15);\n",
              "      fill: #174EA6;\n",
              "    }\n",
              "\n",
              "    [theme=dark] .colab-df-convert {\n",
              "      background-color: #3B4455;\n",
              "      fill: #D2E3FC;\n",
              "    }\n",
              "\n",
              "    [theme=dark] .colab-df-convert:hover {\n",
              "      background-color: #434B5C;\n",
              "      box-shadow: 0px 1px 3px 1px rgba(0, 0, 0, 0.15);\n",
              "      filter: drop-shadow(0px 1px 2px rgba(0, 0, 0, 0.3));\n",
              "      fill: #FFFFFF;\n",
              "    }\n",
              "  </style>\n",
              "\n",
              "      <script>\n",
              "        const buttonEl =\n",
              "          document.querySelector('#df-b99a94cf-c1c2-440a-b87f-d47f4949ab5b button.colab-df-convert');\n",
              "        buttonEl.style.display =\n",
              "          google.colab.kernel.accessAllowed ? 'block' : 'none';\n",
              "\n",
              "        async function convertToInteractive(key) {\n",
              "          const element = document.querySelector('#df-b99a94cf-c1c2-440a-b87f-d47f4949ab5b');\n",
              "          const dataTable =\n",
              "            await google.colab.kernel.invokeFunction('convertToInteractive',\n",
              "                                                     [key], {});\n",
              "          if (!dataTable) return;\n",
              "\n",
              "          const docLinkHtml = 'Like what you see? Visit the ' +\n",
              "            '<a target=\"_blank\" href=https://colab.research.google.com/notebooks/data_table.ipynb>data table notebook</a>'\n",
              "            + ' to learn more about interactive tables.';\n",
              "          element.innerHTML = '';\n",
              "          dataTable['output_type'] = 'display_data';\n",
              "          await google.colab.output.renderOutput(dataTable, element);\n",
              "          const docLink = document.createElement('div');\n",
              "          docLink.innerHTML = docLinkHtml;\n",
              "          element.appendChild(docLink);\n",
              "        }\n",
              "      </script>\n",
              "    </div>\n",
              "  </div>\n",
              "  "
            ]
          },
          "metadata": {},
          "execution_count": 11
        }
      ]
    },
    {
      "cell_type": "code",
      "source": [
        "clean_text = df['ulasan'].apply(lambda x: finalpreprocess(x))\n",
        "\n",
        "label_column = df.pop('label')\n",
        "df.insert(1, 'label', label_column)\n",
        "\n",
        "df['ulasan'] = clean_text\n",
        "df"
      ],
      "metadata": {
        "colab": {
          "base_uri": "https://localhost:8080/",
          "height": 424
        },
        "id": "aCUKd1a03sh-",
        "outputId": "7a7fe4ae-37d1-469c-955b-282a7704c27c"
      },
      "execution_count": 12,
      "outputs": [
        {
          "output_type": "execute_result",
          "data": {
            "text/plain": [
              "                                                ulasan  label\n",
              "0    keseluruhan menyukai aplikasi ini beberapa mas...      1\n",
              "1    sebenarnya aplikasi sangat bagus layak memberi...      1\n",
              "2    jujur luar biasa menganggap ini platform mediu...      1\n",
              "3    beri bintang versi pc memiliki fitur berpindah...      1\n",
              "4    autoscroll bawah tidak dinonaktifkan sangat me...      0\n",
              "..                                                 ...    ...\n",
              "429                               mengerti menyukainya      1\n",
              "430                            lihat hanyalah payudara      0\n",
              "431     asyiknya nge troll ngobrol sama teman sini bro      0\n",
              "432                                              bagus      1\n",
              "433                                 aplikasi ini bagus      1\n",
              "\n",
              "[434 rows x 2 columns]"
            ],
            "text/html": [
              "\n",
              "  <div id=\"df-806a2baf-059f-4f34-a786-88c21cc9d9ba\">\n",
              "    <div class=\"colab-df-container\">\n",
              "      <div>\n",
              "<style scoped>\n",
              "    .dataframe tbody tr th:only-of-type {\n",
              "        vertical-align: middle;\n",
              "    }\n",
              "\n",
              "    .dataframe tbody tr th {\n",
              "        vertical-align: top;\n",
              "    }\n",
              "\n",
              "    .dataframe thead th {\n",
              "        text-align: right;\n",
              "    }\n",
              "</style>\n",
              "<table border=\"1\" class=\"dataframe\">\n",
              "  <thead>\n",
              "    <tr style=\"text-align: right;\">\n",
              "      <th></th>\n",
              "      <th>ulasan</th>\n",
              "      <th>label</th>\n",
              "    </tr>\n",
              "  </thead>\n",
              "  <tbody>\n",
              "    <tr>\n",
              "      <th>0</th>\n",
              "      <td>keseluruhan menyukai aplikasi ini beberapa mas...</td>\n",
              "      <td>1</td>\n",
              "    </tr>\n",
              "    <tr>\n",
              "      <th>1</th>\n",
              "      <td>sebenarnya aplikasi sangat bagus layak memberi...</td>\n",
              "      <td>1</td>\n",
              "    </tr>\n",
              "    <tr>\n",
              "      <th>2</th>\n",
              "      <td>jujur luar biasa menganggap ini platform mediu...</td>\n",
              "      <td>1</td>\n",
              "    </tr>\n",
              "    <tr>\n",
              "      <th>3</th>\n",
              "      <td>beri bintang versi pc memiliki fitur berpindah...</td>\n",
              "      <td>1</td>\n",
              "    </tr>\n",
              "    <tr>\n",
              "      <th>4</th>\n",
              "      <td>autoscroll bawah tidak dinonaktifkan sangat me...</td>\n",
              "      <td>0</td>\n",
              "    </tr>\n",
              "    <tr>\n",
              "      <th>...</th>\n",
              "      <td>...</td>\n",
              "      <td>...</td>\n",
              "    </tr>\n",
              "    <tr>\n",
              "      <th>429</th>\n",
              "      <td>mengerti menyukainya</td>\n",
              "      <td>1</td>\n",
              "    </tr>\n",
              "    <tr>\n",
              "      <th>430</th>\n",
              "      <td>lihat hanyalah payudara</td>\n",
              "      <td>0</td>\n",
              "    </tr>\n",
              "    <tr>\n",
              "      <th>431</th>\n",
              "      <td>asyiknya nge troll ngobrol sama teman sini bro</td>\n",
              "      <td>0</td>\n",
              "    </tr>\n",
              "    <tr>\n",
              "      <th>432</th>\n",
              "      <td>bagus</td>\n",
              "      <td>1</td>\n",
              "    </tr>\n",
              "    <tr>\n",
              "      <th>433</th>\n",
              "      <td>aplikasi ini bagus</td>\n",
              "      <td>1</td>\n",
              "    </tr>\n",
              "  </tbody>\n",
              "</table>\n",
              "<p>434 rows × 2 columns</p>\n",
              "</div>\n",
              "      <button class=\"colab-df-convert\" onclick=\"convertToInteractive('df-806a2baf-059f-4f34-a786-88c21cc9d9ba')\"\n",
              "              title=\"Convert this dataframe to an interactive table.\"\n",
              "              style=\"display:none;\">\n",
              "        \n",
              "  <svg xmlns=\"http://www.w3.org/2000/svg\" height=\"24px\"viewBox=\"0 0 24 24\"\n",
              "       width=\"24px\">\n",
              "    <path d=\"M0 0h24v24H0V0z\" fill=\"none\"/>\n",
              "    <path d=\"M18.56 5.44l.94 2.06.94-2.06 2.06-.94-2.06-.94-.94-2.06-.94 2.06-2.06.94zm-11 1L8.5 8.5l.94-2.06 2.06-.94-2.06-.94L8.5 2.5l-.94 2.06-2.06.94zm10 10l.94 2.06.94-2.06 2.06-.94-2.06-.94-.94-2.06-.94 2.06-2.06.94z\"/><path d=\"M17.41 7.96l-1.37-1.37c-.4-.4-.92-.59-1.43-.59-.52 0-1.04.2-1.43.59L10.3 9.45l-7.72 7.72c-.78.78-.78 2.05 0 2.83L4 21.41c.39.39.9.59 1.41.59.51 0 1.02-.2 1.41-.59l7.78-7.78 2.81-2.81c.8-.78.8-2.07 0-2.86zM5.41 20L4 18.59l7.72-7.72 1.47 1.35L5.41 20z\"/>\n",
              "  </svg>\n",
              "      </button>\n",
              "      \n",
              "  <style>\n",
              "    .colab-df-container {\n",
              "      display:flex;\n",
              "      flex-wrap:wrap;\n",
              "      gap: 12px;\n",
              "    }\n",
              "\n",
              "    .colab-df-convert {\n",
              "      background-color: #E8F0FE;\n",
              "      border: none;\n",
              "      border-radius: 50%;\n",
              "      cursor: pointer;\n",
              "      display: none;\n",
              "      fill: #1967D2;\n",
              "      height: 32px;\n",
              "      padding: 0 0 0 0;\n",
              "      width: 32px;\n",
              "    }\n",
              "\n",
              "    .colab-df-convert:hover {\n",
              "      background-color: #E2EBFA;\n",
              "      box-shadow: 0px 1px 2px rgba(60, 64, 67, 0.3), 0px 1px 3px 1px rgba(60, 64, 67, 0.15);\n",
              "      fill: #174EA6;\n",
              "    }\n",
              "\n",
              "    [theme=dark] .colab-df-convert {\n",
              "      background-color: #3B4455;\n",
              "      fill: #D2E3FC;\n",
              "    }\n",
              "\n",
              "    [theme=dark] .colab-df-convert:hover {\n",
              "      background-color: #434B5C;\n",
              "      box-shadow: 0px 1px 3px 1px rgba(0, 0, 0, 0.15);\n",
              "      filter: drop-shadow(0px 1px 2px rgba(0, 0, 0, 0.3));\n",
              "      fill: #FFFFFF;\n",
              "    }\n",
              "  </style>\n",
              "\n",
              "      <script>\n",
              "        const buttonEl =\n",
              "          document.querySelector('#df-806a2baf-059f-4f34-a786-88c21cc9d9ba button.colab-df-convert');\n",
              "        buttonEl.style.display =\n",
              "          google.colab.kernel.accessAllowed ? 'block' : 'none';\n",
              "\n",
              "        async function convertToInteractive(key) {\n",
              "          const element = document.querySelector('#df-806a2baf-059f-4f34-a786-88c21cc9d9ba');\n",
              "          const dataTable =\n",
              "            await google.colab.kernel.invokeFunction('convertToInteractive',\n",
              "                                                     [key], {});\n",
              "          if (!dataTable) return;\n",
              "\n",
              "          const docLinkHtml = 'Like what you see? Visit the ' +\n",
              "            '<a target=\"_blank\" href=https://colab.research.google.com/notebooks/data_table.ipynb>data table notebook</a>'\n",
              "            + ' to learn more about interactive tables.';\n",
              "          element.innerHTML = '';\n",
              "          dataTable['output_type'] = 'display_data';\n",
              "          await google.colab.output.renderOutput(dataTable, element);\n",
              "          const docLink = document.createElement('div');\n",
              "          docLink.innerHTML = docLinkHtml;\n",
              "          element.appendChild(docLink);\n",
              "        }\n",
              "      </script>\n",
              "    </div>\n",
              "  </div>\n",
              "  "
            ]
          },
          "metadata": {},
          "execution_count": 12
        }
      ]
    },
    {
      "cell_type": "code",
      "source": [
        "label_count = df['label'].value_counts()\n",
        "\n",
        "for i in range(0,2):\n",
        "    print(f'Class {i} : {label_count[i]}')\n",
        "\n",
        "label_count.plot(kind='bar', title='Count label')\n",
        "plt.show()"
      ],
      "metadata": {
        "colab": {
          "base_uri": "https://localhost:8080/",
          "height": 313
        },
        "id": "ogSQCk4rshSe",
        "outputId": "cc13a9b0-36ae-4357-d48b-1afff42e9006"
      },
      "execution_count": 13,
      "outputs": [
        {
          "output_type": "stream",
          "name": "stdout",
          "text": [
            "Class 0 : 215\n",
            "Class 1 : 219\n"
          ]
        },
        {
          "output_type": "display_data",
          "data": {
            "text/plain": [
              "<Figure size 432x288 with 1 Axes>"
            ],
            "image/png": "[encoded data removed]"
          },
          "metadata": {
            "needs_background": "light"
          }
        }
      ]
    },
    {
      "cell_type": "code",
      "source": [
        "df_class_0 = df[df['label'] == 0]\n",
        "df_class_1 = df[df['label'] == 1]\n",
        "\n",
        "df_class_1_over = df_class_1.sample(label_count[0], replace=True)\n",
        "\n",
        "df_over = pd.concat([\n",
        "                    df_class_0,\n",
        "                    df_class_1_over], axis=0)\n",
        "\n",
        "print('Random Over Sampling')\n",
        "print(df_over['label'].value_counts())\n",
        "df_over['label'].value_counts().plot(kind='bar', title='Count label')\n",
        "plt.show()"
      ],
      "metadata": {
        "colab": {
          "base_uri": "https://localhost:8080/",
          "height": 347
        },
        "id": "IAZSajBSszxI",
        "outputId": "6a031808-4920-411e-ade1-507a5cabbc62"
      },
      "execution_count": 14,
      "outputs": [
        {
          "output_type": "stream",
          "name": "stdout",
          "text": [
            "Random Over Sampling\n",
            "0    215\n",
            "1    215\n",
            "Name: label, dtype: int64\n"
          ]
        },
        {
          "output_type": "display_data",
          "data": {
            "text/plain": [
              "<Figure size 432x288 with 1 Axes>"
            ],
            "image/png": "[encoded data removed]"
          },
          "metadata": {
            "needs_background": "light"
          }
        }
      ]
    },
    {
      "cell_type": "code",
      "source": [
        "EMBEDDING_DIM = 64\n",
        "TRUNCATING = 'post'\n",
        "PADDING = 'post'\n",
        "OOV_TOKEN = '<OOV>'\n",
        "MAX_EXAMPLES = 16000\n",
        "TESTING_SPLIT = 0.2\n",
        "BATCH_SIZE = 64"
      ],
      "metadata": {
        "id": "iu1tZvNj1owF"
      },
      "execution_count": 15,
      "outputs": []
    },
    {
      "cell_type": "code",
      "source": [
        "x = df.ulasan.values\n",
        "y = df.label.values"
      ],
      "metadata": {
        "id": "sNOzxdX52mdx"
      },
      "execution_count": 16,
      "outputs": []
    },
    {
      "cell_type": "code",
      "source": [
        "MAXLEN = max([len(i) for i in x])\n",
        "MAXLEN"
      ],
      "metadata": {
        "colab": {
          "base_uri": "https://localhost:8080/"
        },
        "id": "2ZwUH9emEwug",
        "outputId": "aca40ed5-ab0f-4429-a2b7-568cddf42262"
      },
      "execution_count": 17,
      "outputs": [
        {
          "output_type": "execute_result",
          "data": {
            "text/plain": [
              "309"
            ]
          },
          "metadata": {},
          "execution_count": 17
        }
      ]
    },
    {
      "cell_type": "code",
      "source": [
        "def tokenize(text, num_words, oov_token):\n",
        "  tokenizer = Tokenizer(num_words=num_words, oov_token=oov_token)\n",
        "  tokenizer.fit_on_texts(text)\n",
        "\n",
        "  sequences = tokenizer.texts_to_sequences(text)\n",
        "\n",
        "  return tokenizer"
      ],
      "metadata": {
        "id": "NJg-wFcT5vWE"
      },
      "execution_count": 18,
      "outputs": []
    },
    {
      "cell_type": "code",
      "source": [
        "def seq_pad_and_trunc(sentences, tokenizer, padding, truncating, maxlen):\n",
        "  sequences = tokenizer.texts_to_sequences(sentences)\n",
        "  pad_seqs = pad_sequences(\n",
        "      sequences, padding=padding, truncating=truncating, maxlen=maxlen)\n",
        "\n",
        "  return pad_seqs"
      ],
      "metadata": {
        "id": "bf3zdquX5_Ik"
      },
      "execution_count": 19,
      "outputs": []
    },
    {
      "cell_type": "code",
      "source": [
        "x_train, x_test, y_train, y_test = train_test_split(\n",
        "    x, y, test_size=TESTING_SPLIT, random_state=1)\n",
        "\n",
        "print(f'There are {len(x_train)} ulasan for training.')\n",
        "print(f'There are {len(y_train)} label for training.')\n",
        "print(f'There are {len(x_test)} ulasan for testing.')\n",
        "print(f'There are {len(y_test)} label for testing.')"
      ],
      "metadata": {
        "id": "6T43qtrX1s_W",
        "colab": {
          "base_uri": "https://localhost:8080/"
        },
        "outputId": "e4eb042f-5385-43a9-a89e-5ff6b9b5c2f7"
      },
      "execution_count": 20,
      "outputs": [
        {
          "output_type": "stream",
          "name": "stdout",
          "text": [
            "There are 347 ulasan for training.\n",
            "There are 347 label for training.\n",
            "There are 87 ulasan for testing.\n",
            "There are 87 label for testing.\n"
          ]
        }
      ]
    },
    {
      "cell_type": "code",
      "source": [
        "tokenizer = tokenize(x_train, MAX_EXAMPLES, OOV_TOKEN)\n",
        "\n",
        "index_word = tokenizer.index_word\n",
        "VOCAB_SIZE = len(index_word)\n",
        "\n",
        "print(f'Vocabulary contains {VOCAB_SIZE} words')"
      ],
      "metadata": {
        "id": "0pUBalOT1eOJ",
        "colab": {
          "base_uri": "https://localhost:8080/"
        },
        "outputId": "01600e0f-e310-4371-8e84-0946f2eb31f9"
      },
      "execution_count": 21,
      "outputs": [
        {
          "output_type": "stream",
          "name": "stdout",
          "text": [
            "Vocabulary contains 1388 words\n"
          ]
        }
      ]
    },
    {
      "cell_type": "code",
      "source": [
        "tokenizer_json_dir = '/content/drive/MyDrive/Company Case Bangkit/FeedbacksModel/vocab.json'\n",
        "\n",
        "tokenizer_json = tokenizer.to_json()\n",
        "with open(tokenizer_json_dir, 'w', encoding='utf-8') as f:\n",
        "    f.write(json.dumps(tokenizer_json, ensure_ascii=False))"
      ],
      "metadata": {
        "id": "z2J2Ciky-zxY"
      },
      "execution_count": 22,
      "outputs": []
    },
    {
      "cell_type": "code",
      "source": [
        "x_train_padded = seq_pad_and_trunc(x_train, tokenizer, PADDING, TRUNCATING, MAXLEN)\n",
        "x_test_padded = seq_pad_and_trunc(x_test, tokenizer, PADDING, TRUNCATING, MAXLEN)\n",
        "\n",
        "print(f'Padded and truncated training sequences have shape: {x_train_padded.shape}')\n",
        "print(f'Padded and truncated testing sequences have shape: {x_test_padded.shape}')"
      ],
      "metadata": {
        "colab": {
          "base_uri": "https://localhost:8080/"
        },
        "id": "pHb8NTsB8FWx",
        "outputId": "e30d4d05-8350-467a-b259-726986d738a8"
      },
      "execution_count": 23,
      "outputs": [
        {
          "output_type": "stream",
          "name": "stdout",
          "text": [
            "Padded and truncated training sequences have shape: (347, 309)\n",
            "Padded and truncated testing sequences have shape: (87, 309)\n"
          ]
        }
      ]
    },
    {
      "cell_type": "code",
      "source": [
        "def create_model(vocab_size, embedding_dim, metrics):\n",
        "  model = tf.keras.Sequential([ \n",
        "    tf.keras.layers.Embedding(vocab_size + 1, embedding_dim),\n",
        "    tf.keras.layers.Bidirectional(tf.keras.layers.LSTM(128)),\n",
        "    tf.keras.layers.Dense(128, activation='relu'),\n",
        "    tf.keras.layers.Dropout(0.5),\n",
        "    tf.keras.layers.Dense(64, activation='relu'),\n",
        "    tf.keras.layers.Dropout(0.3),\n",
        "    tf.keras.layers.Dense(1, activation='sigmoid'),\n",
        "  ])\n",
        "  \n",
        "  model.compile(loss=tf.keras.losses.BinaryCrossentropy(),\n",
        "                optimizer=tf.keras.optimizers.Adam(learning_rate=0.001),\n",
        "                metrics=metrics) \n",
        "\n",
        "  model.summary()\n",
        "\n",
        "  return model"
      ],
      "metadata": {
        "id": "PDMpq3AjlHSt"
      },
      "execution_count": 29,
      "outputs": []
    },
    {
      "cell_type": "code",
      "source": [
        "threshold = 0.35\n",
        "\n",
        "METRICS = [\n",
        "    tf.keras.metrics.BinaryAccuracy(threshold=threshold),\n",
        "    tf.keras.metrics.Precision(thresholds=threshold),\n",
        "    tf.keras.metrics.Recall(thresholds=threshold),\n",
        "]\n",
        "\n",
        "model = create_model(VOCAB_SIZE, EMBEDDING_DIM, METRICS)"
      ],
      "metadata": {
        "id": "XirV-6eylTOB",
        "colab": {
          "base_uri": "https://localhost:8080/"
        },
        "outputId": "7436ef16-765a-42ed-f8b5-d4b476ca57df"
      },
      "execution_count": 45,
      "outputs": [
        {
          "output_type": "stream",
          "name": "stdout",
          "text": [
            "Model: \"sequential_2\"\n",
            "_________________________________________________________________\n",
            " Layer (type)                Output Shape              Param #   \n",
            "=================================================================\n",
            " embedding_2 (Embedding)     (None, None, 64)          88896     \n",
            "                                                                 \n",
            " bidirectional_2 (Bidirectio  (None, 256)              197632    \n",
            " nal)                                                            \n",
            "                                                                 \n",
            " dense_6 (Dense)             (None, 128)               32896     \n",
            "                                                                 \n",
            " dropout_4 (Dropout)         (None, 128)               0         \n",
            "                                                                 \n",
            " dense_7 (Dense)             (None, 64)                8256      \n",
            "                                                                 \n",
            " dropout_5 (Dropout)         (None, 64)                0         \n",
            "                                                                 \n",
            " dense_8 (Dense)             (None, 1)                 65        \n",
            "                                                                 \n",
            "=================================================================\n",
            "Total params: 327,745\n",
            "Trainable params: 327,745\n",
            "Non-trainable params: 0\n",
            "_________________________________________________________________\n"
          ]
        }
      ]
    },
    {
      "cell_type": "code",
      "source": [
        "model.fit(\n",
        "    x_train_padded, y_train, epochs=15, validation_data=(\n",
        "        x_test_padded, y_test),verbose=1)"
      ],
      "metadata": {
        "colab": {
          "base_uri": "https://localhost:8080/"
        },
        "id": "mCzZZ2sW06s-",
        "outputId": "bce57f44-75b2-49a6-e180-0ad62eb349a3"
      },
      "execution_count": 47,
      "outputs": [
        {
          "output_type": "stream",
          "name": "stdout",
          "text": [
            "Epoch 1/15\n",
            "11/11 [==============================] - 14s 1s/step - loss: 0.0456 - binary_accuracy: 0.9769 - precision_3: 0.9659 - recall_3: 0.9884 - val_loss: 1.0727 - val_binary_accuracy: 0.8506 - val_precision_3: 0.8864 - val_recall_3: 0.8298\n",
            "Epoch 2/15\n",
            "11/11 [==============================] - 11s 1s/step - loss: 0.0473 - binary_accuracy: 0.9741 - precision_3: 0.9553 - recall_3: 0.9942 - val_loss: 1.2418 - val_binary_accuracy: 0.8391 - val_precision_3: 0.9231 - val_recall_3: 0.7660\n",
            "Epoch 3/15\n",
            "11/11 [==============================] - 7s 650ms/step - loss: 0.0474 - binary_accuracy: 0.9769 - precision_3: 0.9767 - recall_3: 0.9767 - val_loss: 1.0084 - val_binary_accuracy: 0.8621 - val_precision_3: 0.9268 - val_recall_3: 0.8085\n",
            "Epoch 4/15\n",
            "11/11 [==============================] - 10s 940ms/step - loss: 0.0463 - binary_accuracy: 0.9712 - precision_3: 0.9551 - recall_3: 0.9884 - val_loss: 0.9124 - val_binary_accuracy: 0.8506 - val_precision_3: 0.8864 - val_recall_3: 0.8298\n",
            "Epoch 5/15\n",
            "11/11 [==============================] - 8s 664ms/step - loss: 0.0490 - binary_accuracy: 0.9712 - precision_3: 0.9602 - recall_3: 0.9826 - val_loss: 1.7070 - val_binary_accuracy: 0.8391 - val_precision_3: 0.9231 - val_recall_3: 0.7660\n",
            "Epoch 6/15\n",
            "11/11 [==============================] - 7s 633ms/step - loss: 0.0425 - binary_accuracy: 0.9741 - precision_3: 0.9553 - recall_3: 0.9942 - val_loss: 1.7488 - val_binary_accuracy: 0.8391 - val_precision_3: 0.9231 - val_recall_3: 0.7660\n",
            "Epoch 7/15\n",
            "11/11 [==============================] - 7s 633ms/step - loss: 0.0454 - binary_accuracy: 0.9712 - precision_3: 0.9602 - recall_3: 0.9826 - val_loss: 1.8614 - val_binary_accuracy: 0.8161 - val_precision_3: 0.8974 - val_recall_3: 0.7447\n",
            "Epoch 8/15\n",
            "11/11 [==============================] - 7s 630ms/step - loss: 0.0443 - binary_accuracy: 0.9769 - precision_3: 0.9607 - recall_3: 0.9942 - val_loss: 0.5458 - val_binary_accuracy: 0.8966 - val_precision_3: 0.8654 - val_recall_3: 0.9574\n",
            "Epoch 9/15\n",
            "11/11 [==============================] - 7s 635ms/step - loss: 0.0416 - binary_accuracy: 0.9741 - precision_3: 0.9503 - recall_3: 1.0000 - val_loss: 1.6765 - val_binary_accuracy: 0.8161 - val_precision_3: 0.8780 - val_recall_3: 0.7660\n",
            "Epoch 10/15\n",
            "11/11 [==============================] - 7s 633ms/step - loss: 0.1049 - binary_accuracy: 0.9539 - precision_3: 0.9194 - recall_3: 0.9942 - val_loss: 0.3987 - val_binary_accuracy: 0.8851 - val_precision_3: 0.8491 - val_recall_3: 0.9574\n",
            "Epoch 11/15\n",
            "11/11 [==============================] - 7s 634ms/step - loss: 0.1250 - binary_accuracy: 0.9366 - precision_3: 0.9032 - recall_3: 0.9767 - val_loss: 0.3782 - val_binary_accuracy: 0.8966 - val_precision_3: 0.9130 - val_recall_3: 0.8936\n",
            "Epoch 12/15\n",
            "11/11 [==============================] - 7s 637ms/step - loss: 0.1483 - binary_accuracy: 0.9568 - precision_3: 0.9591 - recall_3: 0.9535 - val_loss: 0.3614 - val_binary_accuracy: 0.8966 - val_precision_3: 0.8958 - val_recall_3: 0.9149\n",
            "Epoch 13/15\n",
            "11/11 [==============================] - 7s 678ms/step - loss: 0.1052 - binary_accuracy: 0.9597 - precision_3: 0.9389 - recall_3: 0.9826 - val_loss: 0.3780 - val_binary_accuracy: 0.8966 - val_precision_3: 0.9130 - val_recall_3: 0.8936\n",
            "Epoch 14/15\n",
            "11/11 [==============================] - 8s 778ms/step - loss: 0.0637 - binary_accuracy: 0.9741 - precision_3: 0.9605 - recall_3: 0.9884 - val_loss: 0.3870 - val_binary_accuracy: 0.8966 - val_precision_3: 0.8958 - val_recall_3: 0.9149\n",
            "Epoch 15/15\n",
            "11/11 [==============================] - 8s 658ms/step - loss: 0.0556 - binary_accuracy: 0.9741 - precision_3: 0.9553 - recall_3: 0.9942 - val_loss: 0.4187 - val_binary_accuracy: 0.8851 - val_precision_3: 0.9111 - val_recall_3: 0.8723\n"
          ]
        },
        {
          "output_type": "execute_result",
          "data": {
            "text/plain": [
              "<keras.callbacks.History at 0x7f5b24523ad0>"
            ]
          },
          "metadata": {},
          "execution_count": 47
        }
      ]
    },
    {
      "cell_type": "code",
      "source": [
        "export_dir = '/content/drive/MyDrive/Company Case Bangkit/FeedbacksModel/saved_model'\n",
        "\n",
        "if os.path.exists(export_dir):\n",
        "  shutil.rmtree(export_dir)\n",
        "\n",
        "model.save(export_dir)"
      ],
      "metadata": {
        "id": "IVhyhziywTcU",
        "colab": {
          "base_uri": "https://localhost:8080/"
        },
        "outputId": "b3a0c6b8-e496-4383-bb0a-bb6205c98661"
      },
      "execution_count": 48,
      "outputs": [
        {
          "output_type": "stream",
          "name": "stderr",
          "text": [
            "WARNING:absl:Found untraced functions such as lstm_cell_28_layer_call_fn, lstm_cell_28_layer_call_and_return_conditional_losses, lstm_cell_29_layer_call_fn, lstm_cell_29_layer_call_and_return_conditional_losses while saving (showing 4 of 4). These functions will not be directly callable after loading.\n"
          ]
        },
        {
          "output_type": "stream",
          "name": "stdout",
          "text": [
            "INFO:tensorflow:Assets written to: /content/drive/MyDrive/Company Case Bangkit/FeedbacksModel/saved_model/assets\n"
          ]
        },
        {
          "output_type": "stream",
          "name": "stderr",
          "text": [
            "INFO:tensorflow:Assets written to: /content/drive/MyDrive/Company Case Bangkit/FeedbacksModel/saved_model/assets\n",
            "WARNING:absl:<keras.layers.recurrent.LSTMCell object at 0x7f5b25afd950> has the same name 'LSTMCell' as a built-in Keras object. Consider renaming <class 'keras.layers.recurrent.LSTMCell'> to avoid naming conflicts when loading with `tf.keras.models.load_model`. If renaming is not possible, pass the object in the `custom_objects` parameter of the load function.\n",
            "WARNING:absl:<keras.layers.recurrent.LSTMCell object at 0x7f5b22124f10> has the same name 'LSTMCell' as a built-in Keras object. Consider renaming <class 'keras.layers.recurrent.LSTMCell'> to avoid naming conflicts when loading with `tf.keras.models.load_model`. If renaming is not possible, pass the object in the `custom_objects` parameter of the load function.\n"
          ]
        }
      ]
    },
    {
      "cell_type": "code",
      "source": [
        "class FeedbackPredict:\n",
        "  def __init__(self, model_path, tokenier_json_path, maxlen=309):\n",
        "    self.model_path = model_path\n",
        "    self.tokenier_json_path = tokenier_json_path\n",
        "    self.padding = 'post'\n",
        "    self.truncating = 'post'\n",
        "    self.maxlen = maxlen\n",
        "\n",
        "    self._load_model()\n",
        "    self._load_tokenizer()\n",
        "\n",
        "  def _load_model(self):\n",
        "    self.model = tf.keras.models.load_model(self.model_path, compile=True)\n",
        "  \n",
        "  def _load_tokenizer(self):\n",
        "    with open(self.tokenier_json_path) as f:\n",
        "      data = json.load(f)\n",
        "      self.tokenizer = tokenizer_from_json(data)\n",
        "\n",
        "  def __call__(self, feedback):\n",
        "    sequences = self.tokenizer.texts_to_sequences([feedback])\n",
        "    pad_seqs = pad_sequences(sequences, \n",
        "                             padding=self.padding, \n",
        "                             truncating=self.truncating, \n",
        "                             maxlen=self.maxlen)\n",
        "    \n",
        "    prediction = self.model.predict(pad_seqs)[0][0]\n",
        "    return prediction"
      ],
      "metadata": {
        "id": "gYQJTs7wA8dy"
      },
      "execution_count": 49,
      "outputs": []
    },
    {
      "cell_type": "code",
      "source": [
        "exp_pos_text = \"aplikasi ini sangat bagus desainnya menarik, dan fungsionalitasnya dapat berjalan dengan baik\"\n",
        "exp_neg_text = \"jelek banget, chat nya tidak realtime, design nya juga tidak user friendly\"\n",
        "\n",
        "feedback_predict =  FeedbackPredict(export_dir, tokenizer_json_dir)\n",
        "y_predict = feedback_predict(exp_neg_text)\n",
        "\n",
        "print(y_predict)\n",
        "\n",
        "if y_predict >= threshold:\n",
        "  print('Positive')\n",
        "else:\n",
        "  print('Negative')"
      ],
      "metadata": {
        "colab": {
          "base_uri": "https://localhost:8080/"
        },
        "id": "4WxhlgjTEf7c",
        "outputId": "52be31e7-bf00-47db-fea8-1c17ac5bc6a2"
      },
      "execution_count": 53,
      "outputs": [
        {
          "output_type": "stream",
          "name": "stdout",
          "text": [
            "0.014118195\n",
            "Negative\n"
          ]
        }
      ]
    }
  ]
}