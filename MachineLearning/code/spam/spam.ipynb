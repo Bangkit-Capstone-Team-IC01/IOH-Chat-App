{
  "cells": [
    {
      "cell_type": "code",
      "execution_count": null,
      "metadata": {
        "id": "LgITdlB0wd5T"
      },
      "outputs": [],
      "source": [
        "!pip install tensorflow_text"
      ]
    },
    {
      "cell_type": "code",
      "execution_count": null,
      "metadata": {
        "colab": {
          "base_uri": "https://localhost:8080/"
        },
        "id": "ihxwy88yw8Ja",
        "outputId": "db3ab3db-4b8a-4cac-874d-b007a419378b"
      },
      "outputs": [],
      "source": [
        "import tensorflow as tf\n",
        "import tensorflow_hub as hub\n",
        "import tensorflow_text as text\n",
        "\n",
        "import pandas as pd\n",
        "import csv\n",
        "\n",
        "from google.colab import drive\n",
        "drive.mount(\"/content/drive\")"
      ]
    },
    {
      "cell_type": "code",
      "execution_count": null,
      "metadata": {
        "id": "eVfsIRhrPGhr"
      },
      "outputs": [],
      "source": [
        "def tf_lower_and_split_punct(text):\n",
        "  text = tf.strings.lower(text)\n",
        "  # Keep space, a to z, and select punctuation.\n",
        "  text = tf.strings.regex_replace(text, '[^ a-z.?!,]', '')\n",
        "  # Add spaces around punctuation.\n",
        "  text = tf.strings.regex_replace(text, '[.?!,]', r' \\0 ')\n",
        "  # Strip whitespace.\n",
        "  text = tf.strings.strip(text)\n",
        "  return text"
      ]
    },
    {
      "cell_type": "code",
      "execution_count": null,
      "metadata": {
        "id": "PLpQ7_LjyBxi"
      },
      "outputs": [],
      "source": [
        "def create_model():\n",
        "  text_input = tf.keras.layers.Input(shape=(), dtype=tf.string, name=\"sentences\")\n",
        "  preprocessor = hub.KerasLayer(\"https://tfhub.dev/tensorflow/bert_en_uncased_preprocess/3\", name=\"preprosesing\")(text_input)\n",
        "  encoder = hub.KerasLayer(\"https://tfhub.dev/tensorflow/bert_en_uncased_L-12_H-768_A-12/4\",trainable=False, name=\"embedding\")(preprocessor)\n",
        "  # pooled_output = outputs[\"pooled_output\"]# [batch_size, 768].\n",
        "  # sequence_output = outputs[\"sequence_output\"]# [batch_size, seq_length, 768].\n",
        "  x1 = tf.keras.layers.Dense(1024, activation=\"relu\")(encoder[\"pooled_output\"])\n",
        "  x2 = tf.keras.layers.Dropout(0.1)(x1)\n",
        "  x3 = tf.keras.layers.Dense(1, activation =\"sigmoid\", name=\"output_layer\")(x2)\n",
        "\n",
        "  model = tf.keras.Model(inputs=[text_input], outputs=[x3], name=\"Binary_Classification_Model\")\n",
        "\n",
        "  model.compile(\n",
        "      optimizer=\"adam\",\n",
        "      loss = tf.keras.losses.BinaryCrossentropy(),\n",
        "      metrics=[\"accuracy\"]\n",
        "  )\n",
        "\n",
        "  model.summary()\n",
        "  return model\n",
        "\n",
        "with open(\"/content/drive/MyDrive/IOH/spam_or_not/data/emails.csv\") as f:\n",
        "  csvreader = csv.reader(f, delimiter=\",\")\n",
        "  next(csvreader)\n",
        "  masukan = []\n",
        "  keluaran = []\n",
        "  for a, i in enumerate(csvreader):\n",
        "      inp1 = tf_lower_and_split_punct(i[0]).numpy().decode()\n",
        "      inp2 = tf_lower_and_split_punct(i[2]).numpy().decode()\n",
        "      tar = int(i[1])\n",
        "      masukan.append(inp1)\n",
        "      masukan.append(inp2)\n",
        "      keluaran.append(int(tar))\n",
        "      keluaran.append(int(tar))\n",
        "\n",
        "BUFFER_SIZE = len(masukan)\n",
        "BATCH_SIZE = 64\n",
        "\n",
        "dataset = tf.data.Dataset.from_tensor_slices((masukan, keluaran)).shuffle(BUFFER_SIZE)\n",
        "train = dataset.take(int(0.7*len(masukan)))\n",
        "remaining = dataset.skip(int(0.7*len(masukan)))\n",
        "validation = remaining.take(int(0.15*len(masukan)))\n",
        "test = remaining.skip(int(0.15*len(masukan)))\n",
        "\n",
        "train = train.batch(BATCH_SIZE)\n",
        "validation = validation.batch(BATCH_SIZE)"
      ]
    },
    {
      "cell_type": "code",
      "execution_count": null,
      "metadata": {
        "colab": {
          "base_uri": "https://localhost:8080/"
        },
        "id": "48jOlfwq0sH0",
        "outputId": "5c589a64-e767-437c-9d50-1e5731b68f9c"
      },
      "outputs": [],
      "source": [
        "for example_input_batch, example_target_batch in train.take(1):\n",
        "  print(example_input_batch[:5])\n",
        "  print()\n",
        "  print(example_target_batch[:5])\n",
        "  break"
      ]
    },
    {
      "cell_type": "code",
      "execution_count": null,
      "metadata": {
        "colab": {
          "base_uri": "https://localhost:8080/"
        },
        "id": "wMJ7MdZw1c0a",
        "outputId": "66e694d2-a3b4-4a8f-b4be-e20919de0937"
      },
      "outputs": [],
      "source": [
        "model = create_model()\n",
        "ckpt_path = \"/content/drive/MyDrive/IOH/spam_or_not/checkpoint/model.{epoch:02d}-{val_loss:.4f}.h5\"\n",
        "ckpt = tf.keras.callbacks.ModelCheckpoint(\n",
        "    filepath=ckpt_path, \n",
        "    save_weights_only=True,\n",
        "    save_best_only=True,\n",
        "    verbose=1, \n",
        ")"
      ]
    },
    {
      "cell_type": "code",
      "execution_count": null,
      "metadata": {
        "colab": {
          "base_uri": "https://localhost:8080/"
        },
        "id": "p4WHN7Wi1eFz",
        "outputId": "1a54edf4-e869-4bb8-d7f2-0212a1cfaa43"
      },
      "outputs": [],
      "source": [
        "model.fit(train, validation_data=validation, epochs=15, callbacks=[ckpt])"
      ]
    },
    {
      "cell_type": "code",
      "execution_count": null,
      "metadata": {
        "colab": {
          "base_uri": "https://localhost:8080/"
        },
        "id": "2eLNr8y3XwMk",
        "outputId": "9d2e83c9-d7f8-4a93-ba35-1693aebd759f"
      },
      "outputs": [],
      "source": [
        "teks_spam = \"DISNAKERJA and others share their thoughts on LinkedIn\"\n",
        "model.predict([teks_spam])"
      ]
    },
    {
      "cell_type": "code",
      "execution_count": null,
      "metadata": {
        "colab": {
          "base_uri": "https://localhost:8080/"
        },
        "id": "Ull7aB2Ibh36",
        "outputId": "1f9b80c2-6336-48e5-baf8-477e86a70779"
      },
      "outputs": [],
      "source": [
        "teks = [\n",
        "        \"Bangkit Academy led by Google, Tokopedia, Gojek, & Traveloka and others share their thoughts on LinkedIn\",\n",
        "        \"Kanao, welcome to Samsung\",\n",
        "        \"[educba.com] Angular JS Certification Training Course (9 Courses, 5+ Projects)\",\n",
        "        \"PTEB UTS 07111940000001\",\n",
        "        \"Lomba Desain IG : itsmeeeaow\",\n",
        "        \"Photo from Vanny Ezha\",\n",
        "        \"SPCS1_tugas03_07111940000001\",\n",
        "        \"Pendaftaran Akun Kampus Merdeka\",\n",
        "]\n",
        "model.predict(teks)"
      ]
    },
    {
      "cell_type": "code",
      "execution_count": null,
      "metadata": {
        "colab": {
          "base_uri": "https://localhost:8080/"
        },
        "id": "Jcp4XTtQ8HQu",
        "outputId": "9acc8410-af86-4aa5-b94b-f689e036413b"
      },
      "outputs": [],
      "source": [
        "benar = []\n",
        "for tes,lab in test.take(100):\n",
        "  # print(tes.numpy().decode())\n",
        "  if sum(model.predict([tes.numpy().decode()])) >= 0.5 and lab.numpy() == 1:\n",
        "    benar.append(1)\n",
        "  elif sum(model.predict([tes.numpy().decode()])) <= 0.5 and lab.numpy() == 1:\n",
        "    pass\n",
        "  elif sum(model.predict([tes.numpy().decode()])) >= 0.5 and lab.numpy() == 0:\n",
        "    # print(False)\n",
        "    pass\n",
        "  elif sum(model.predict([tes.numpy().decode()])) <= 0.5 and lab.numpy() == 0:\n",
        "    # print(True)\n",
        "    benar.append(1)\n",
        "\n",
        "sum(benar)\n",
        "  # print(model.predict([tes.numpy().decode()]))\n",
        "  # print(lab.numpy())"
      ]
    },
    {
      "cell_type": "code",
      "execution_count": null,
      "metadata": {
        "colab": {
          "base_uri": "https://localhost:8080/"
        },
        "id": "BQl1FDc39D_p",
        "outputId": "af8bc198-5259-4b55-edee-dae46d9e61fb"
      },
      "outputs": [],
      "source": [
        "model.save(\"/content/drive/MyDrive/IOH/spam_or_not/saved_model\")"
      ]
    },
    {
      "cell_type": "code",
      "execution_count": null,
      "metadata": {
        "colab": {
          "base_uri": "https://localhost:8080/"
        },
        "id": "3N7Sei05a5lr",
        "outputId": "dd7ff71c-bf20-4111-b120-e399e35b6b48"
      },
      "outputs": [],
      "source": [
        "import pickle\n",
        "\n",
        "with open(\"/content/drive/MyDrive/IOH/spam_or_not/pickle/model_spam.pkl\",\"wb\") as f:\n",
        "  pickle.dump(model, f)"
      ]
    },
    {
      "cell_type": "markdown",
      "metadata": {
        "id": "Py-ILMEIc5J9"
      },
      "source": [
        "## Keterangan : lebih dari 0.5 berpotensi spam, kurang dari tersebut tidak berpotensi spam"
      ]
    },
    {
      "cell_type": "code",
      "execution_count": null,
      "metadata": {
        "id": "5PDfBMV1c3ey"
      },
      "outputs": [],
      "source": [
        "model = tf.keras.models.load_model(\"/content/drive/MyDrive/IOH/spam_or_not/saved_model/\")"
      ]
    },
    {
      "cell_type": "code",
      "execution_count": null,
      "metadata": {
        "colab": {
          "base_uri": "https://localhost:8080/"
        },
        "id": "UmSj6u0ydVHr",
        "outputId": "d1909fce-64ad-4a79-96cb-a1cf716d27b3"
      },
      "outputs": [],
      "source": [
        "teks = [\n",
        "        \"Bangkit Academy led by Google, Tokopedia, Gojek, & Traveloka and others share their thoughts on LinkedIn\",\n",
        "        \"Kanao, welcome to Samsung\",\n",
        "        \"[educba.com] Angular JS Certification Training Course (9 Courses, 5+ Projects)\",\n",
        "        \"PTEB UTS 07111940000001\",\n",
        "        \"Lomba Desain IG : itsmeeeaow\",\n",
        "        \"Photo from Vanny Ezha\",\n",
        "        \"SPCS1_tugas03_07111940000001\",\n",
        "        \"Pendaftaran Akun Kampus Merdeka\",\n",
        "]\n",
        "\n",
        "model(tf.constant(teks))"
      ]
    }
  ],
  "metadata": {
    "accelerator": "GPU",
    "colab": {
      "collapsed_sections": [],
      "name": "Bert Model.ipynb",
      "provenance": []
    },
    "kernelspec": {
      "display_name": "Python 3",
      "name": "python3"
    },
    "language_info": {
      "name": "python"
    }
  },
  "nbformat": 4,
  "nbformat_minor": 0
}
