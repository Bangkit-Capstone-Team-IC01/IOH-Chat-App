{
  "cells": [
    {
      "cell_type": "code",
      "execution_count": null,
      "metadata": {
        "id": "diq8TM-70-aR"
      },
      "outputs": [],
      "source": [
        "# !pip install datasets\n",
        "# !pip install librosa"
      ]
    },
    {
      "cell_type": "code",
      "execution_count": null,
      "metadata": {
        "id": "xoIdJCioHsOy"
      },
      "outputs": [],
      "source": [
        "import IPython.display as pds\n",
        "import numpy as np\n",
        "import pandas as pd\n",
        "import warnings\n",
        "import random\n",
        "import zipfile\n",
        "import librosa\n",
        "import os\n",
        "import re\n",
        "import json\n",
        "import tensorflow as tf\n",
        "warnings.filterwarnings(\"ignore\")\n",
        "\n",
        "from tensorflow.keras import layers\n",
        "from sklearn.model_selection import train_test_split\n",
        "from scipy import signal"
      ]
    },
    {
      "cell_type": "code",
      "execution_count": null,
      "metadata": {
        "colab": {
          "base_uri": "https://localhost:8080/"
        },
        "id": "ZsbpCP8w1qpy",
        "outputId": "68ff727a-2b50-434f-d388-cc45c7642fc8"
      },
      "outputs": [],
      "source": [
        "!git clone https://github.com/Bangkit-Capstone-Team/IOH-Chat-App.git"
      ]
    },
    {
      "cell_type": "code",
      "execution_count": null,
      "metadata": {
        "id": "XNb75eUX13GO"
      },
      "outputs": [],
      "source": [
        "SPEECH_DATA_DIR = \"/content/IOH-Chat-App/Machine Learning/datasets/speech/audio.zip\"\n",
        "\n",
        "zf = zipfile.ZipFile(SPEECH_DATA_DIR)\n",
        "zf.extractall(\"/tmp\")\n",
        "zf.close()"
      ]
    },
    {
      "cell_type": "code",
      "execution_count": null,
      "metadata": {
        "id": "_cvR8rlt2TYj"
      },
      "outputs": [],
      "source": [
        "DATASET_PATH = \"/tmp/audio/\""
      ]
    },
    {
      "cell_type": "code",
      "execution_count": null,
      "metadata": {
        "id": "WvlHtVWDHy-j"
      },
      "outputs": [],
      "source": [
        "def decode_audio(audio_path):\n",
        "  audio, _ = librosa.load(audio_path)\n",
        "  return audio\n",
        "\n",
        "def get_label(file_path):\n",
        "  string_split = os.path.split(file_path)\n",
        "  result = re.findall(r\"^\\w*\", string_split[-1])[0]\n",
        "  return result\n",
        "\n",
        "def audio_signal_and_label(file_path):\n",
        "  label = get_label(file_path)\n",
        "  feature = decode_audio(file_path)\n",
        "  return feature, label\n",
        "\n",
        "def prepare_dataset(dataset_path):\n",
        "  json_data = {\n",
        "      \"labels\": list(),\n",
        "      \"features\": list(),\n",
        "      \"one_hot_labels\": list(),\n",
        "  }\n",
        "\n",
        "  filenames = os.listdir(dataset_path)\n",
        "  audio_path = [os.path.join(dataset_path, filename) for filename in filenames]\n",
        "\n",
        "  for i, path in enumerate(audio_path):\n",
        "    if os.path.getsize(path) != 0:\n",
        "      features, labels = audio_signal_and_label(path)\n",
        "\n",
        "      json_data[\"labels\"].append(labels)\n",
        "      json_data[\"features\"].append(features)\n",
        "      json_data[\"one_hot_labels\"].append(i)\n",
        "\n",
        "      i =+ 1\n",
        "\n",
        "  return json_data"
      ]
    },
    {
      "cell_type": "code",
      "execution_count": null,
      "metadata": {
        "id": "gvejV3ZoJ6cT"
      },
      "outputs": [],
      "source": [
        "dataset = prepare_dataset(DATASET_PATH)"
      ]
    },
    {
      "cell_type": "code",
      "execution_count": null,
      "metadata": {
        "colab": {
          "base_uri": "https://localhost:8080/",
          "height": 206
        },
        "id": "hOad3d3eYPZR",
        "outputId": "f65acfc2-6537-415b-db42-83fd12e6429e"
      },
      "outputs": [],
      "source": [
        "df = pd.DataFrame(dataset)\n",
        "df.head()"
      ]
    },
    {
      "cell_type": "code",
      "execution_count": null,
      "metadata": {
        "colab": {
          "base_uri": "https://localhost:8080/"
        },
        "id": "n775IRt9Vy9C",
        "outputId": "dfa1b954-5c87-4809-9875-a4ef6802fe66"
      },
      "outputs": [],
      "source": [
        "features = np.array(df.features)\n",
        "labels = np.array(df.labels)\n",
        "\n",
        "x_train, y_train, x_test, y_test = train_test_split(features, labels, test_size=0.2, random_state=1)\n",
        "\n",
        "x_train = np.expand_dims(x_train, axis=1)\n",
        "x_test = np.expand_dims(x_test, axis=1)\n",
        "\n",
        "input_shape = (x_train.shape[0], x_train.shape[1], 1)"
      ]
    },
    {
      "cell_type": "code",
      "execution_count": null,
      "metadata": {
        "id": "gVgpZjnyeenI"
      },
      "outputs": [],
      "source": [
        "def getModel(n_class, input_shape):\n",
        "  model = tf.keras.Sequential()\n",
        "\n",
        "  model.add(layers.Input(shape=input_shape))\n",
        "  model.add(layers.Resizing(32, 32))\n",
        "  \n",
        "  model.add(layers.Conv2D(32, (3, 3), activation='relu', padding=\"same\"))\n",
        "  model.add(layers.MaxPooling2D(pool_size=(2, 2), padding=\"same\"))\n",
        "\n",
        "  model.add(layers.Conv2D(64, (3, 3), activation='relu', padding=\"same\"))\n",
        "  model.add(layers.MaxPooling2D(pool_size=(2, 2), padding=\"same\"))\n",
        "  \n",
        "  model.add(layers.Conv2D(128, (3, 3), activation='relu', padding=\"same\"))\n",
        "  model.add(layers.MaxPooling2D(pool_size=(2, 2), padding=\"same\"))\n",
        "  \n",
        "  model.add(layers.Flatten())\n",
        "\n",
        "  model.add(layers.Dense(128, activation='relu'))\n",
        "  model.add(layers.Dropout(0.5))\n",
        "\n",
        "  model.add(layers.Dense(64, activation='relu'))\n",
        "  model.add(layers.Dropout(0.5))\n",
        "\n",
        "  model.add(layers.Dense(n_class, activation='softmax'))\n",
        "\n",
        "  return model"
      ]
    },
    {
      "cell_type": "code",
      "execution_count": null,
      "metadata": {
        "colab": {
          "base_uri": "https://localhost:8080/"
        },
        "id": "LPSo3xr0fRyI",
        "outputId": "593721e2-641c-4e18-b8a3-2c4801ba3b4b"
      },
      "outputs": [],
      "source": [
        "LR = 1e-4\n",
        "OPTIMIZER = tf.keras.optimizers.Adam(learning_rate=LR)\n",
        "LOSS = tf.keras.losses.sparse_categorical_crossentropy\n",
        "\n",
        "model = getModel(len(y_train), input_shape)\n",
        "\n",
        "model.compile(optimizer=OPTIMIZER,\n",
        "              loss=LOSS,\n",
        "              metrics=[\"accuracy\"])\n",
        "\n",
        "model.summary()"
      ]
    },
    {
      "cell_type": "code",
      "execution_count": null,
      "metadata": {
        "colab": {
          "base_uri": "https://localhost:8080/",
          "height": 345
        },
        "id": "u5V7F7megJqE",
        "outputId": "596cf7bb-4fa3-4f4e-9ece-2d34eb0a8a3b"
      },
      "outputs": [],
      "source": [
        "EPOCHS = 15\n",
        "\n",
        "model.fit(x_train, \n",
        "          y_train, \n",
        "          epochs=EPOCHS, \n",
        "          validation_data=(x_test, y_test), \n",
        "          batch_size=128)"
      ]
    }
  ],
  "metadata": {
    "colab": {
      "name": "speech_to_text.ipynb",
      "provenance": []
    },
    "interpreter": {
      "hash": "765233bfe060b87a8be23ec8f17030d468ac6435ae34b0ad14370b4cb734ac81"
    },
    "kernelspec": {
      "display_name": "Python 3.9.7 ('base')",
      "language": "python",
      "name": "python3"
    },
    "language_info": {
      "codemirror_mode": {
        "name": "ipython",
        "version": 3
      },
      "file_extension": ".py",
      "mimetype": "text/x-python",
      "name": "python",
      "nbconvert_exporter": "python",
      "pygments_lexer": "ipython3",
      "version": "3.9.7"
    },
    "orig_nbformat": 4
  },
  "nbformat": 4,
  "nbformat_minor": 0
}
