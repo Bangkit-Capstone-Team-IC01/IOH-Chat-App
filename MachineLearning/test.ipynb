{
 "cells": [
  {
   "cell_type": "code",
   "execution_count": 17,
   "metadata": {},
   "outputs": [],
   "source": [
    "import tensorflow as tf\n",
    "from tensorflow.keras import layers\n",
    "import numpy as np"
   ]
  },
  {
   "cell_type": "code",
   "execution_count": 2,
   "metadata": {},
   "outputs": [
    {
     "name": "stderr",
     "output_type": "stream",
     "text": [
      "2022-06-06 14:08:57.660390: W tensorflow/stream_executor/platform/default/dso_loader.cc:64] Could not load dynamic library 'libcuda.so.1'; dlerror: libcuda.so.1: cannot open shared object file: No such file or directory\n",
      "2022-06-06 14:08:57.660445: W tensorflow/stream_executor/cuda/cuda_driver.cc:269] failed call to cuInit: UNKNOWN ERROR (303)\n",
      "2022-06-06 14:08:57.660495: I tensorflow/stream_executor/cuda/cuda_diagnostics.cc:156] kernel driver does not appear to be running on this host (uwu): /proc/driver/nvidia/version does not exist\n",
      "2022-06-06 14:08:57.713422: I tensorflow/core/platform/cpu_feature_guard.cc:193] This TensorFlow binary is optimized with oneAPI Deep Neural Network Library (oneDNN) to use the following CPU instructions in performance-critical operations:  AVX2 FMA\n",
      "To enable them in other operations, rebuild TensorFlow with the appropriate compiler flags.\n"
     ]
    },
    {
     "name": "stdout",
     "output_type": "stream",
     "text": [
      "Model: \"sequential\"\n",
      "_________________________________________________________________\n",
      " Layer (type)                Output Shape              Param #   \n",
      "=================================================================\n",
      " embedding (Embedding)       (None, 32, 64)            64000     \n",
      "                                                                 \n",
      " flatten (Flatten)           (None, 2048)              0         \n",
      "                                                                 \n",
      " dense (Dense)               (None, 64)                131136    \n",
      "                                                                 \n",
      " dense_1 (Dense)             (None, 64)                4160      \n",
      "                                                                 \n",
      " dense_2 (Dense)             (None, 32)                2080      \n",
      "                                                                 \n",
      " dense_3 (Dense)             (None, 1)                 33        \n",
      "                                                                 \n",
      "=================================================================\n",
      "Total params: 201,409\n",
      "Trainable params: 201,409\n",
      "Non-trainable params: 0\n",
      "_________________________________________________________________\n"
     ]
    }
   ],
   "source": [
    "model = tf.keras.Sequential()\n",
    "\n",
    "# model.add(tfa.layers.EmbeddingBag(input_dim=1000, output_dim=64, input_shape=[32]))\n",
    "model.add(layers.Embedding(input_dim=1000, output_dim=64, input_shape=[32]))\n",
    "model.add(layers.Flatten())\n",
    "\n",
    "model.add(layers.Dense(64, activation=\"tanh\"))\n",
    "                      #  kernel_regularizer=regularizers.L1L2(l1=1e-5, l2=1e-4),\n",
    "                      # bias_regularizer=regularizers.L2(1e-4),\n",
    "                      # activity_regularizer=regularizers.L2(1e-5)))\n",
    "model.add(layers.Dense(64,activation=\"tanh\"))\n",
    "                      #  kernel_regularizer=regularizers.L1L2(l1=1e-5, l2=1e-4),\n",
    "                      # bias_regularizer=regularizers.L2(1e-4),\n",
    "                      # activity_regularizer=regularizers.L2(1e-5)))\n",
    "model.add(layers.Dense(32,activation=\"tanh\"))\n",
    "                      #  kernel_regularizer=regularizers.L1L2(l1=1e-5, l2=1e-4),\n",
    "                      # bias_regularizer=regularizers.L2(1e-4),\n",
    "                      # activity_regularizer=regularizers.L2(1e-5)))\n",
    "\n",
    "model.add(layers.Dense(1, activation=\"sigmoid\"))\n",
    "\n",
    "model.compile(\n",
    "    loss = \"binary_crossentropy\",\n",
    "    optimizer = \"RMSprop\",\n",
    "    metrics = [\"accuracy\"]\n",
    ")\n",
    "\n",
    "model.summary()"
   ]
  },
  {
   "cell_type": "code",
   "execution_count": 10,
   "metadata": {},
   "outputs": [
    {
     "ename": "ValueError",
     "evalue": "Could not open '/home/vannyezha/project/IOH-chat-app/MachineLearning/code/binary_language_classification/model.tflite'.",
     "output_type": "error",
     "traceback": [
      "\u001b[0;31m---------------------------------------------------------------------------\u001b[0m",
      "\u001b[0;31mValueError\u001b[0m                                Traceback (most recent call last)",
      "\u001b[1;32m/home/vannyezha/project/IOH-chat-app/MachineLearning/test.ipynb Cell 3'\u001b[0m in \u001b[0;36m<cell line: 9>\u001b[0;34m()\u001b[0m\n\u001b[1;32m      <a href='vscode-notebook-cell:/home/vannyezha/project/IOH-chat-app/MachineLearning/test.ipynb#ch0000002?line=0'>1</a>\u001b[0m teks \u001b[39m=\u001b[39m tf\u001b[39m.\u001b[39mconstant([\u001b[39m\"\u001b[39m\u001b[39mi love you\u001b[39m\u001b[39m\"\u001b[39m,\n\u001b[1;32m      <a href='vscode-notebook-cell:/home/vannyezha/project/IOH-chat-app/MachineLearning/test.ipynb#ch0000002?line=1'>2</a>\u001b[0m                \u001b[39m\"\u001b[39m\u001b[39mWhen using this layer as the first layer in a model, provide an input_shape argument (tuple of integers or None, e.g. (10, 128) for sequences of 10 vectors of 128-dimensional vectors, or (None, 128) for variable-length sequences of 128-dimensional vectors.\u001b[39m\u001b[39m\"\u001b[39m,\n\u001b[1;32m      <a href='vscode-notebook-cell:/home/vannyezha/project/IOH-chat-app/MachineLearning/test.ipynb#ch0000002?line=2'>3</a>\u001b[0m                \u001b[39m\"\u001b[39m\u001b[39mIndonesia, dengan nama resmi Republik Indonesia atau lengkapnya Negara Kesatuan Republik Indonesia, adalah sebuah negara kepulauan di Asia Tenggara yang dilintasi garis khatulistiwa dan berada di antara daratan benua Asia dan Oseania, serta antara Samudra Pasifik dan Samudra Hindia\u001b[39m\u001b[39m\"\u001b[39m,\n\u001b[0;32m   (...)\u001b[0m\n\u001b[1;32m      <a href='vscode-notebook-cell:/home/vannyezha/project/IOH-chat-app/MachineLearning/test.ipynb#ch0000002?line=5'>6</a>\u001b[0m                \u001b[39m\"\u001b[39m\u001b[39mmantab pak eko\u001b[39m\u001b[39m\"\u001b[39m,\n\u001b[1;32m      <a href='vscode-notebook-cell:/home/vannyezha/project/IOH-chat-app/MachineLearning/test.ipynb#ch0000002?line=6'>7</a>\u001b[0m                \u001b[39m\"\u001b[39m\u001b[39mlu cakep juga yak\u001b[39m\u001b[39m\"\u001b[39m])\n\u001b[0;32m----> <a href='vscode-notebook-cell:/home/vannyezha/project/IOH-chat-app/MachineLearning/test.ipynb#ch0000002?line=8'>9</a>\u001b[0m interpreter \u001b[39m=\u001b[39m tf\u001b[39m.\u001b[39;49mlite\u001b[39m.\u001b[39;49mInterpreter(model_path\u001b[39m=\u001b[39;49m\u001b[39m\"\u001b[39;49m\u001b[39m/home/vannyezha/project/IOH-chat-app/MachineLearning/code/binary_language_classification/model.tflite\u001b[39;49m\u001b[39m\"\u001b[39;49m)\n\u001b[1;32m     <a href='vscode-notebook-cell:/home/vannyezha/project/IOH-chat-app/MachineLearning/test.ipynb#ch0000002?line=9'>10</a>\u001b[0m interpreter\u001b[39m.\u001b[39mallocate_tensors()\n\u001b[1;32m     <a href='vscode-notebook-cell:/home/vannyezha/project/IOH-chat-app/MachineLearning/test.ipynb#ch0000002?line=11'>12</a>\u001b[0m input_details \u001b[39m=\u001b[39m interpreter\u001b[39m.\u001b[39mget_input_details()\n",
      "File \u001b[0;32m~/anaconda3/envs/IOH/lib/python3.9/site-packages/tensorflow/lite/python/interpreter.py:455\u001b[0m, in \u001b[0;36mInterpreter.__init__\u001b[0;34m(self, model_path, model_content, experimental_delegates, num_threads, experimental_op_resolver_type, experimental_preserve_all_tensors)\u001b[0m\n\u001b[1;32m    <a href='file:///home/vannyezha/anaconda3/envs/IOH/lib/python3.9/site-packages/tensorflow/lite/python/interpreter.py?line=447'>448</a>\u001b[0m custom_op_registerers_by_name \u001b[39m=\u001b[39m [\n\u001b[1;32m    <a href='file:///home/vannyezha/anaconda3/envs/IOH/lib/python3.9/site-packages/tensorflow/lite/python/interpreter.py?line=448'>449</a>\u001b[0m     x \u001b[39mfor\u001b[39;00m x \u001b[39min\u001b[39;00m \u001b[39mself\u001b[39m\u001b[39m.\u001b[39m_custom_op_registerers \u001b[39mif\u001b[39;00m \u001b[39misinstance\u001b[39m(x, \u001b[39mstr\u001b[39m)\n\u001b[1;32m    <a href='file:///home/vannyezha/anaconda3/envs/IOH/lib/python3.9/site-packages/tensorflow/lite/python/interpreter.py?line=449'>450</a>\u001b[0m ]\n\u001b[1;32m    <a href='file:///home/vannyezha/anaconda3/envs/IOH/lib/python3.9/site-packages/tensorflow/lite/python/interpreter.py?line=450'>451</a>\u001b[0m custom_op_registerers_by_func \u001b[39m=\u001b[39m [\n\u001b[1;32m    <a href='file:///home/vannyezha/anaconda3/envs/IOH/lib/python3.9/site-packages/tensorflow/lite/python/interpreter.py?line=451'>452</a>\u001b[0m     x \u001b[39mfor\u001b[39;00m x \u001b[39min\u001b[39;00m \u001b[39mself\u001b[39m\u001b[39m.\u001b[39m_custom_op_registerers \u001b[39mif\u001b[39;00m \u001b[39mnot\u001b[39;00m \u001b[39misinstance\u001b[39m(x, \u001b[39mstr\u001b[39m)\n\u001b[1;32m    <a href='file:///home/vannyezha/anaconda3/envs/IOH/lib/python3.9/site-packages/tensorflow/lite/python/interpreter.py?line=452'>453</a>\u001b[0m ]\n\u001b[1;32m    <a href='file:///home/vannyezha/anaconda3/envs/IOH/lib/python3.9/site-packages/tensorflow/lite/python/interpreter.py?line=453'>454</a>\u001b[0m \u001b[39mself\u001b[39m\u001b[39m.\u001b[39m_interpreter \u001b[39m=\u001b[39m (\n\u001b[0;32m--> <a href='file:///home/vannyezha/anaconda3/envs/IOH/lib/python3.9/site-packages/tensorflow/lite/python/interpreter.py?line=454'>455</a>\u001b[0m     _interpreter_wrapper\u001b[39m.\u001b[39;49mCreateWrapperFromFile(\n\u001b[1;32m    <a href='file:///home/vannyezha/anaconda3/envs/IOH/lib/python3.9/site-packages/tensorflow/lite/python/interpreter.py?line=455'>456</a>\u001b[0m         model_path, op_resolver_id, custom_op_registerers_by_name,\n\u001b[1;32m    <a href='file:///home/vannyezha/anaconda3/envs/IOH/lib/python3.9/site-packages/tensorflow/lite/python/interpreter.py?line=456'>457</a>\u001b[0m         custom_op_registerers_by_func, experimental_preserve_all_tensors))\n\u001b[1;32m    <a href='file:///home/vannyezha/anaconda3/envs/IOH/lib/python3.9/site-packages/tensorflow/lite/python/interpreter.py?line=457'>458</a>\u001b[0m \u001b[39mif\u001b[39;00m \u001b[39mnot\u001b[39;00m \u001b[39mself\u001b[39m\u001b[39m.\u001b[39m_interpreter:\n\u001b[1;32m    <a href='file:///home/vannyezha/anaconda3/envs/IOH/lib/python3.9/site-packages/tensorflow/lite/python/interpreter.py?line=458'>459</a>\u001b[0m   \u001b[39mraise\u001b[39;00m \u001b[39mValueError\u001b[39;00m(\u001b[39m'\u001b[39m\u001b[39mFailed to open \u001b[39m\u001b[39m{}\u001b[39;00m\u001b[39m'\u001b[39m\u001b[39m.\u001b[39mformat(model_path))\n",
      "\u001b[0;31mValueError\u001b[0m: Could not open '/home/vannyezha/project/IOH-chat-app/MachineLearning/code/binary_language_classification/model.tflite'."
     ]
    }
   ],
   "source": [
    "teks = tf.constant([\"i love you\",\n",
    "               \"When using this layer as the first layer in a model, provide an input_shape argument (tuple of integers or None, e.g. (10, 128) for sequences of 10 vectors of 128-dimensional vectors, or (None, 128) for variable-length sequences of 128-dimensional vectors.\",\n",
    "               \"Indonesia, dengan nama resmi Republik Indonesia atau lengkapnya Negara Kesatuan Republik Indonesia, adalah sebuah negara kepulauan di Asia Tenggara yang dilintasi garis khatulistiwa dan berada di antara daratan benua Asia dan Oseania, serta antara Samudra Pasifik dan Samudra Hindia\",\n",
    "               \"hi kami dari red team\",\n",
    "               \"hi we are from red team\",\n",
    "               \"mantab pak eko\",\n",
    "               \"lu cakep juga yak\"])\n",
    "\n",
    "interpreter = tf.lite.Interpreter(model_path=\"/home/vannyezha/project/IOH-chat-app/MachineLearning/code/binary_language_classification/model.tflite\")\n",
    "interpreter.allocate_tensors()\n",
    "\n",
    "input_details = interpreter.get_input_details()\n",
    "output_details = interpreter.get_output_details()\n",
    "\n",
    "# print(input_details)\n",
    "# print(output_details)\n",
    "\n",
    "# must have 2 dimension and float32 dtype\n"
   ]
  },
  {
   "cell_type": "code",
   "execution_count": 15,
   "metadata": {},
   "outputs": [],
   "source": [
    "import json\n",
    "\n",
    "with open(\"/home/vannyezha/project/IOH-chat-app/MachineLearning/code/binary_language_classification/model/word_index.json\") as f:\n",
    "  kamus = json.load(f)\n",
    "\n",
    "teks = tf.constant([\"i love you\",\n",
    "               \"When using this layer as the first layer in a model, provide an input_shape argument (tuple of integers or None, e.g. (10, 128) for sequences of 10 vectors of 128-dimensional vectors, or (None, 128) for variable-length sequences of 128-dimensional vectors.\",\n",
    "               \"Indonesia, dengan nama resmi Republik Indonesia atau lengkapnya Negara Kesatuan Republik Indonesia, adalah sebuah negara kepulauan di Asia Tenggara yang dilintasi garis khatulistiwa dan berada di antara daratan benua Asia dan Oseania, serta antara Samudra Pasifik dan Samudra Hindia\",\n",
    "               \"hi kami dari red team\",\n",
    "               \"hi we are from red team\",\n",
    "               \"mantab pak eko\",\n",
    "               \"lu cakep juga yak\"])\n",
    "\n",
    "def tf_lower_and_split_punct(text):\n",
    "  text = tf.strings.lower(text)\n",
    "  text = tf.strings.regex_replace(text, \"[!\\\"#$%&'()*+,-./:;<=>?@[\\]^_`{|}~]\", '')\n",
    "\n",
    "  text = tf.strings.strip(text)\n",
    "  text = tf.strings.split(text)\n",
    "  return text\n",
    "\n",
    "def sequenize(teks):\n",
    "  hasil = list()\n",
    "  counter = 32\n",
    "  for i in teks:\n",
    "    if i.numpy().decode() in kamus.keys():\n",
    "      hasil.append(kamus[i.numpy().decode()])\n",
    "      counter -= 1\n",
    "      if counter == 0:\n",
    "        return np.array([hasil], dtype=np.float32)\n",
    "    else:\n",
    "      hasil.append(1)\n",
    "      counter -= 1\n",
    "      if counter == 0:\n",
    "        return np.array([hasil], dtype=np.float32)\n",
    "\n",
    "  for i in range(counter):\n",
    "    hasil.append(0)\n",
    "\n",
    "  return tf.constant([hasil])"
   ]
  },
  {
   "cell_type": "code",
   "execution_count": 18,
   "metadata": {},
   "outputs": [
    {
     "ename": "ValueError",
     "evalue": "Mmap of '119' at offset '0' failed with error '19'.",
     "output_type": "error",
     "traceback": [
      "\u001b[0;31m---------------------------------------------------------------------------\u001b[0m",
      "\u001b[0;31mValueError\u001b[0m                                Traceback (most recent call last)",
      "\u001b[1;32m/home/vannyezha/project/IOH-chat-app/MachineLearning/test.ipynb Cell 5'\u001b[0m in \u001b[0;36m<cell line: 1>\u001b[0;34m()\u001b[0m\n\u001b[0;32m----> <a href='vscode-notebook-cell:/home/vannyezha/project/IOH-chat-app/MachineLearning/test.ipynb#ch0000004?line=0'>1</a>\u001b[0m interpreter \u001b[39m=\u001b[39m tf\u001b[39m.\u001b[39;49mlite\u001b[39m.\u001b[39;49mInterpreter(model_path\u001b[39m=\u001b[39;49m\u001b[39m\"\u001b[39;49m\u001b[39m/home/vannyezha/project/IOH-chat-app/MachineLearning/code/binary_language_classification/model\u001b[39;49m\u001b[39m\"\u001b[39;49m)\n\u001b[1;32m      <a href='vscode-notebook-cell:/home/vannyezha/project/IOH-chat-app/MachineLearning/test.ipynb#ch0000004?line=1'>2</a>\u001b[0m interpreter\u001b[39m.\u001b[39mallocate_tensors()\n\u001b[1;32m      <a href='vscode-notebook-cell:/home/vannyezha/project/IOH-chat-app/MachineLearning/test.ipynb#ch0000004?line=3'>4</a>\u001b[0m input_details \u001b[39m=\u001b[39m interpreter\u001b[39m.\u001b[39mget_input_details()\n",
      "File \u001b[0;32m~/anaconda3/envs/IOH/lib/python3.9/site-packages/tensorflow/lite/python/interpreter.py:455\u001b[0m, in \u001b[0;36mInterpreter.__init__\u001b[0;34m(self, model_path, model_content, experimental_delegates, num_threads, experimental_op_resolver_type, experimental_preserve_all_tensors)\u001b[0m\n\u001b[1;32m    <a href='file:///home/vannyezha/anaconda3/envs/IOH/lib/python3.9/site-packages/tensorflow/lite/python/interpreter.py?line=447'>448</a>\u001b[0m custom_op_registerers_by_name \u001b[39m=\u001b[39m [\n\u001b[1;32m    <a href='file:///home/vannyezha/anaconda3/envs/IOH/lib/python3.9/site-packages/tensorflow/lite/python/interpreter.py?line=448'>449</a>\u001b[0m     x \u001b[39mfor\u001b[39;00m x \u001b[39min\u001b[39;00m \u001b[39mself\u001b[39m\u001b[39m.\u001b[39m_custom_op_registerers \u001b[39mif\u001b[39;00m \u001b[39misinstance\u001b[39m(x, \u001b[39mstr\u001b[39m)\n\u001b[1;32m    <a href='file:///home/vannyezha/anaconda3/envs/IOH/lib/python3.9/site-packages/tensorflow/lite/python/interpreter.py?line=449'>450</a>\u001b[0m ]\n\u001b[1;32m    <a href='file:///home/vannyezha/anaconda3/envs/IOH/lib/python3.9/site-packages/tensorflow/lite/python/interpreter.py?line=450'>451</a>\u001b[0m custom_op_registerers_by_func \u001b[39m=\u001b[39m [\n\u001b[1;32m    <a href='file:///home/vannyezha/anaconda3/envs/IOH/lib/python3.9/site-packages/tensorflow/lite/python/interpreter.py?line=451'>452</a>\u001b[0m     x \u001b[39mfor\u001b[39;00m x \u001b[39min\u001b[39;00m \u001b[39mself\u001b[39m\u001b[39m.\u001b[39m_custom_op_registerers \u001b[39mif\u001b[39;00m \u001b[39mnot\u001b[39;00m \u001b[39misinstance\u001b[39m(x, \u001b[39mstr\u001b[39m)\n\u001b[1;32m    <a href='file:///home/vannyezha/anaconda3/envs/IOH/lib/python3.9/site-packages/tensorflow/lite/python/interpreter.py?line=452'>453</a>\u001b[0m ]\n\u001b[1;32m    <a href='file:///home/vannyezha/anaconda3/envs/IOH/lib/python3.9/site-packages/tensorflow/lite/python/interpreter.py?line=453'>454</a>\u001b[0m \u001b[39mself\u001b[39m\u001b[39m.\u001b[39m_interpreter \u001b[39m=\u001b[39m (\n\u001b[0;32m--> <a href='file:///home/vannyezha/anaconda3/envs/IOH/lib/python3.9/site-packages/tensorflow/lite/python/interpreter.py?line=454'>455</a>\u001b[0m     _interpreter_wrapper\u001b[39m.\u001b[39;49mCreateWrapperFromFile(\n\u001b[1;32m    <a href='file:///home/vannyezha/anaconda3/envs/IOH/lib/python3.9/site-packages/tensorflow/lite/python/interpreter.py?line=455'>456</a>\u001b[0m         model_path, op_resolver_id, custom_op_registerers_by_name,\n\u001b[1;32m    <a href='file:///home/vannyezha/anaconda3/envs/IOH/lib/python3.9/site-packages/tensorflow/lite/python/interpreter.py?line=456'>457</a>\u001b[0m         custom_op_registerers_by_func, experimental_preserve_all_tensors))\n\u001b[1;32m    <a href='file:///home/vannyezha/anaconda3/envs/IOH/lib/python3.9/site-packages/tensorflow/lite/python/interpreter.py?line=457'>458</a>\u001b[0m \u001b[39mif\u001b[39;00m \u001b[39mnot\u001b[39;00m \u001b[39mself\u001b[39m\u001b[39m.\u001b[39m_interpreter:\n\u001b[1;32m    <a href='file:///home/vannyezha/anaconda3/envs/IOH/lib/python3.9/site-packages/tensorflow/lite/python/interpreter.py?line=458'>459</a>\u001b[0m   \u001b[39mraise\u001b[39;00m \u001b[39mValueError\u001b[39;00m(\u001b[39m'\u001b[39m\u001b[39mFailed to open \u001b[39m\u001b[39m{}\u001b[39;00m\u001b[39m'\u001b[39m\u001b[39m.\u001b[39mformat(model_path))\n",
      "\u001b[0;31mValueError\u001b[0m: Mmap of '119' at offset '0' failed with error '19'."
     ]
    }
   ],
   "source": [
    "interpreter = tf.lite.Interpreter(model_path=\"/home/vannyezha/project/IOH-chat-app/MachineLearning/code/binary_language_classification/model\")\n",
    "interpreter.allocate_tensors()\n",
    "\n",
    "input_details = interpreter.get_input_details()\n",
    "output_details = interpreter.get_output_details()\n",
    "\n",
    "\n",
    "# must have 2 dimension and float32 dtype\n",
    "for i in teks:\n",
    "  input_data = np.array(sequenize(tf_lower_and_split_punct(i)), dtype=np.float32)\n",
    "  interpreter.set_tensor(input_details[0]['index'], input_data)\n",
    "  interpreter.invoke()\n",
    "\n",
    "  predictions = interpreter.get_tensor(output_details[0]['index'])\n",
    "\n",
    "  print(i.numpy().decode())\n",
    "  print(predictions)"
   ]
  }
 ],
 "metadata": {
  "interpreter": {
   "hash": "abb9a89533fcec7c1bae0824d885558ba74714a27f3f7366a4a8dd13ec966f69"
  },
  "kernelspec": {
   "display_name": "Python 3.9.12 ('IOH')",
   "language": "python",
   "name": "python3"
  },
  "language_info": {
   "codemirror_mode": {
    "name": "ipython",
    "version": 3
   },
   "file_extension": ".py",
   "mimetype": "text/x-python",
   "name": "python",
   "nbconvert_exporter": "python",
   "pygments_lexer": "ipython3",
   "version": "3.9.12"
  },
  "orig_nbformat": 4
 },
 "nbformat": 4,
 "nbformat_minor": 2
}
